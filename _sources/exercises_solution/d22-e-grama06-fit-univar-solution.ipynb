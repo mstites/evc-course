{
 "cells": [
  {
   "cell_type": "markdown",
   "id": "eb463d1e",
   "metadata": {},
   "source": [
    "# Fitting Univariate Distributions\n",
    "\n",
    "*Purpose*: \n"
   ]
  },
  {
   "cell_type": "markdown",
   "id": "6b707d77",
   "metadata": {},
   "source": [
    "## Setup\n"
   ]
  },
  {
   "cell_type": "code",
   "execution_count": 1,
   "id": "85f4f94f",
   "metadata": {
    "collapsed": false
   },
   "outputs": [],
   "source": [
    "import grama as gr\n",
    "DF = gr.Intention()\n",
    "%matplotlib inline"
   ]
  },
  {
   "cell_type": "markdown",
   "id": "8532ae97",
   "metadata": {},
   "source": [
    "For this exercise, we'll study a dataset of observations on die cast aluminum parts.\n"
   ]
  },
  {
   "cell_type": "code",
   "execution_count": 2,
   "id": "7e8ef1f4",
   "metadata": {
    "collapsed": false
   },
   "outputs": [],
   "source": [
    "from grama.data import df_shewhart\n"
   ]
  },
  {
   "cell_type": "markdown",
   "id": "54cd4e2c",
   "metadata": {},
   "source": [
    "# The steps to fitting\n",
    "\n",
    "1. Check for *statistical control*\n",
    "2. Select candidate distributions\n",
    "3. Fit and assess\n"
   ]
  },
  {
   "cell_type": "markdown",
   "id": "dcfa2f2d",
   "metadata": {},
   "source": [
    "# Check for *statistical control*\n",
    "\n"
   ]
  },
  {
   "cell_type": "markdown",
   "id": "6d4d9957",
   "metadata": {},
   "source": [
    "### __qX__ Make a histogram of the `tensile_strength`\n"
   ]
  },
  {
   "cell_type": "code",
   "execution_count": 15,
   "id": "3c23ec2b",
   "metadata": {
    "collapsed": false
   },
   "outputs": [
    {
     "data": {
      "image/png": "[encoded data removed]",
      "text/plain": [
       "<Figure size 640x480 with 1 Axes>"
      ]
     },
     "metadata": {},
     "output_type": "display_data"
    },
    {
     "data": {
      "text/plain": [
       "<ggplot: (8786499661692)>"
      ]
     },
     "execution_count": 15,
     "metadata": {},
     "output_type": "execute_result"
    }
   ],
   "source": [
    "## TASK:\n",
    "(\n",
    "    df_shewhart\n",
    "    >> gr.ggplot(gr.aes(\"tensile_strength\"))\n",
    "    + gr.geom_histogram(bins=15)\n",
    ")\n",
    "# solution-end"
   ]
  },
  {
   "cell_type": "markdown",
   "id": "7008da9f",
   "metadata": {},
   "source": [
    "*Observations*\n",
    "\n"
   ]
  },
  {
   "cell_type": "markdown",
   "id": "51a76300",
   "metadata": {},
   "source": [
    "*Note*: To help with the next task, it will be helpful to know about the *integer division* operator `//`. This divides by a desired value, but rounds down to the nearest integer.\n"
   ]
  },
  {
   "cell_type": "code",
   "execution_count": 3,
   "id": "d5ba7d6f",
   "metadata": {
    "collapsed": false
   },
   "outputs": [
    {
     "name": "stdout",
     "output_type": "stream",
     "text": [
      "1 // 4 = 0\n",
      "2 // 4 = 0\n",
      "3 // 4 = 0\n",
      "4 // 4 = 1\n",
      "5 // 4 = 1\n"
     ]
    }
   ],
   "source": [
    "print(\"1 // 4 = {}\".format(1 // 4))\n",
    "print(\"2 // 4 = {}\".format(2 // 4))\n",
    "print(\"3 // 4 = {}\".format(3 // 4))\n",
    "print(\"4 // 4 = {}\".format(4 // 4))\n",
    "print(\"5 // 4 = {}\".format(5 // 4))"
   ]
  },
  {
   "cell_type": "markdown",
   "id": "8a57d607",
   "metadata": {},
   "source": [
    "## Control charts\n",
    "\n",
    "TODO\n",
    "\n",
    "- By taking *batch means*, we can use the central limit theorem to make quantitative, statistical statements about the observations.\n",
    "- By taking *small* batches, we can attribute strange patterns to a small number of observations. This gives us somewhere to look if we detect strange behavior.\n",
    "\n",
    "The following is an example of a control chart: The points are batch means, the solid horizontal line is the mean of all observations, and the dashed lines are the *control limits* (discussed below). With this chart, we can look for various kinds of patterns:\n"
   ]
  },
  {
   "cell_type": "markdown",
   "id": "02af9583",
   "metadata": {},
   "source": [
    "![Example control chart demonstrating two kinds of patters: a batch mean that exceeds the control limits, and a \"run\" of batch means that lies to one side of the grand mean.](images/control-chart.png)\n"
   ]
  },
  {
   "cell_type": "markdown",
   "id": "cc37c528",
   "metadata": {},
   "source": [
    "Some patterns illustrated above:\n",
    "\n",
    "- Outliers: The control limits (dashed lines) are constructed such that about one batch mean in a thousand should lie outside the limits. Batch means that exceed the limits are therefore suspicious, and worth investigating further.\n",
    "- Off-center runs: Batch means should be distributed roughly equally above and below the grand mean (solid line). A sequence (a \"run\") of batch means that lie all above (or all below) the grand mean are therefore suspicious, and worth investigating further.\n"
   ]
  },
  {
   "cell_type": "markdown",
   "id": "cabb80b9",
   "metadata": {},
   "source": [
    "If you detect suspicious patterns using a control chart, then there is evidence that the process being studied is *not* under statistical control. The batches associated with suspicious behavior should then be investigated in further detail, in order to hunt down and eliminate any assignable cause(s) of variability.\n",
    "\n",
    "If you *do not* detect suspicious patterns, then you can *provisionally* state that the process is under statistical control. A quantity under statistical control can be treated as random, which will endorse modeling that quantity with a distribution.\n"
   ]
  },
  {
   "cell_type": "markdown",
   "id": "b7e883c8",
   "metadata": {},
   "source": [
    "### __qX__ Add a group identifier\n",
    "\n",
    "Create a group identifier column `id_group` that assigns observations to consecutive groups of four. Make sure the first group identifier is `0`, and use sequential integers.\n"
   ]
  },
  {
   "cell_type": "code",
   "execution_count": 4,
   "id": "df53bc07",
   "metadata": {
    "collapsed": false
   },
   "outputs": [],
   "source": [
    "## TODO: Create a group identifier column to make\n",
    "# batches of 4 consecutive values\n",
    "n_grp = 4\n",
    "\n",
    "df_rolling = (\n",
    "    df_shewhart\n",
    "\n",
    "    >> gr.tf_mutate(id_group=DF.index // n_grp)\n",
    ")\n",
    "\n",
    "## NOTE: Don't edit the following; use this to check your work\n",
    "assert \\\n",
    "    \"id_group\" in df_rolling.columns, \\\n",
    "    \"df_rolling missing the id_group column\"\n",
    "\n",
    "assert \\\n",
    "    all(df_rolling.id_group[:8] == [0]*4 + [1]*4), \\\n",
    "    \"The id_group column is incorrect; \" + \\\n",
    "    \"the first 8 values should be 0, 0, 0, 0, 1, 1, 1, 1\"\n"
   ]
  },
  {
   "cell_type": "markdown",
   "id": "9c2028ca",
   "metadata": {},
   "source": [
    "### __qX__ Compute the batch means\n",
    "\n",
    "Compute the mean within each consecutive \"batch\" of observations.\n"
   ]
  },
  {
   "cell_type": "code",
   "execution_count": 5,
   "id": "afbc6e48",
   "metadata": {
    "collapsed": false
   },
   "outputs": [
    {
     "data": {
      "image/png": "[encoded data removed]",
      "text/plain": [
       "<Figure size 640x480 with 1 Axes>"
      ]
     },
     "metadata": {},
     "output_type": "display_data"
    },
    {
     "data": {
      "text/plain": [
       "<ggplot: (8786500782388)>"
      ]
     },
     "execution_count": 5,
     "metadata": {},
     "output_type": "execute_result"
    }
   ],
   "source": [
    "## TASK: Compute the `batch_mean` within \n",
    "# each group of observations\n",
    "df_batches = (\n",
    "    df_rolling\n",
    "\n",
    "    >> gr.tf_group_by(DF.id_group)\n",
    "    >> gr.tf_summarize(\n",
    "        batch_mean=gr.mean(DF.tensile_strength)\n",
    "    )\n",
    ")\n",
    "\n",
    "## NOTE: Don't edit the following; use this to check your work\n",
    "assert \\\n",
    "    df_batches.shape[0] == (df_shewhart.shape[0] / n_grp), \\\n",
    "    \"Size of df_batches is incorrect; \" + \\\n",
    "    \"make sure you grouped properly.\"\n",
    "\n",
    "(\n",
    "    df_batches\n",
    "    >> gr.ggplot(gr.aes(\"id_group\", \"batch_mean\"))\n",
    "    + gr.geom_point()\n",
    ")"
   ]
  },
  {
   "cell_type": "markdown",
   "id": "252c1b57",
   "metadata": {},
   "source": [
    "## Control limits\n",
    "\n",
    "Remember from the Monte Carlo exercise that a confidence interval for the mean can be approximated using the central limit theorem via\n",
    "\n",
    "$$[\\hat{\\mu} - q \\hat{\\sigma} / \\sqrt{n}, \\hat{\\mu} + q \\hat{\\sigma} / \\sqrt{n}],$$\n",
    "\n",
    "where $\\hat{\\mu}$ is the sample mean, $\\hat{\\sigma}$ is the sample standard deviation, and $n$ is the number of samples used to compute $\\hat{\\mu}$.\n"
   ]
  },
  {
   "cell_type": "code",
   "execution_count": 6,
   "id": "a317ab21",
   "metadata": {
    "collapsed": false
   },
   "outputs": [
    {
     "data": {
      "text/plain": [
       "0.0026997960632601866"
      ]
     },
     "execution_count": 6,
     "metadata": {},
     "output_type": "execute_result"
    }
   ],
   "source": [
    "# NOTE: No need to edit; this computes the probability of\n",
    "# finding a batch mean outside the control limits\n",
    "mg_norm = gr.marg_mom(\"norm\", mean=0, sd=1)\n",
    "mg_norm.p(-3) * 2\n"
   ]
  },
  {
   "cell_type": "code",
   "execution_count": 7,
   "id": "ebbe78dd",
   "metadata": {
    "collapsed": false
   },
   "outputs": [
    {
     "data": {
      "text/html": [
       "<div>\n",
       "<style scoped>\n",
       "    .dataframe tbody tr th:only-of-type {\n",
       "        vertical-align: middle;\n",
       "    }\n",
       "\n",
       "    .dataframe tbody tr th {\n",
       "        vertical-align: top;\n",
       "    }\n",
       "\n",
       "    .dataframe thead th {\n",
       "        text-align: right;\n",
       "    }\n",
       "</style>\n",
       "<table border=\"1\" class=\"dataframe\">\n",
       "  <thead>\n",
       "    <tr style=\"text-align: right;\">\n",
       "      <th></th>\n",
       "      <th>tys_mean</th>\n",
       "      <th>tys_sd</th>\n",
       "      <th>n</th>\n",
       "    </tr>\n",
       "  </thead>\n",
       "  <tbody>\n",
       "    <tr>\n",
       "      <th>0</th>\n",
       "      <td>31869.366667</td>\n",
       "      <td>3996.380795</td>\n",
       "      <td>60</td>\n",
       "    </tr>\n",
       "  </tbody>\n",
       "</table>\n",
       "</div>"
      ],
      "text/plain": [
       "       tys_mean       tys_sd   n\n",
       "0  31869.366667  3996.380795  60"
      ]
     },
     "execution_count": 7,
     "metadata": {},
     "output_type": "execute_result"
    }
   ],
   "source": [
    "# NOTE: No need to edit\n",
    "df_stats = (\n",
    "    df_shewhart\n",
    "    >> gr.tf_summarize(\n",
    "        tys_mean=gr.mean(DF.tensile_strength),\n",
    "        tys_sd=gr.sd(DF.tensile_strength),\n",
    "        n=gr.n(DF.tensile_strength),\n",
    "    )\n",
    ")\n",
    "df_stats\n"
   ]
  },
  {
   "cell_type": "markdown",
   "id": "142e2fd1",
   "metadata": {},
   "source": [
    "### __qX__ Compute the control limits\n",
    "\n",
    "Compute the control limits for the batch means. Use a multiplier of $q = 3$. Answer the questions under *observations* below.\n"
   ]
  },
  {
   "cell_type": "code",
   "execution_count": 8,
   "id": "c374aa72",
   "metadata": {
    "collapsed": false
   },
   "outputs": [
    {
     "name": "stdout",
     "output_type": "stream",
     "text": [
      "0    37863.937859\n",
      "Name: tys_hi, dtype: float64\n"
     ]
    },
    {
     "data": {
      "image/png": "[encoded data removed]",
      "text/plain": [
       "<Figure size 640x480 with 1 Axes>"
      ]
     },
     "metadata": {},
     "output_type": "display_data"
    },
    {
     "data": {
      "text/plain": [
       "<ggplot: (8786500490671)>"
      ]
     },
     "execution_count": 8,
     "metadata": {},
     "output_type": "execute_result"
    }
   ],
   "source": [
    "df_limits = (\n",
    "    df_stats\n",
    "    >> gr.tf_mutate(\n",
    "        tys_lo=DF.tys_mean - 3 * DF.tys_sd / gr.sqrt(n_grp),\n",
    "        tys_hi=DF.tys_mean + 3 * DF.tys_sd / gr.sqrt(n_grp),\n",
    "    )\n",
    ")\n",
    "\n",
    "## NOTE: Don't edit the following; use this to check your work\n",
    "print(df_limits.tys_hi)\n",
    "assert \\\n",
    "    all(abs(df_limits.tys_lo - 25874.795475) < 1e-2), \\\n",
    "    \"Lower control limit is incorrect; \" + \\\n",
    "    \"did you use the same sample size used to compute \" + \\\n",
    "    \"the batch means?\"\n",
    "assert \\\n",
    "    all(abs(df_limits.tys_hi - 37863.937859) < 1e-2), \\\n",
    "    \"Upper control limit is incorrect; \" + \\\n",
    "    \"did you use the same sample size used to compute \" + \\\n",
    "    \"the batch means?\"\n",
    "\n",
    "(\n",
    "    df_batches\n",
    "    >> gr.ggplot(gr.aes(\"id_group\", \"batch_mean\"))\n",
    "    + gr.geom_hline(\n",
    "        data=df_limits,\n",
    "        mapping=gr.aes(yintercept=\"tys_lo\"),\n",
    "        linetype=\"dashed\",\n",
    "    )\n",
    "    + gr.geom_hline(\n",
    "        data=df_limits,\n",
    "        mapping=gr.aes(yintercept=\"tys_hi\"),\n",
    "        linetype=\"dashed\",\n",
    "    )\n",
    "    + gr.geom_hline(\n",
    "        data=df_limits,\n",
    "        mapping=gr.aes(yintercept=\"tys_mean\"),\n",
    "    )\n",
    "    + gr.geom_point()\n",
    ")"
   ]
  },
  {
   "cell_type": "markdown",
   "id": "dcc15c7c",
   "metadata": {},
   "source": [
    "*Observations*\n",
    "\n"
   ]
  },
  {
   "cell_type": "markdown",
   "id": "87560f9b",
   "metadata": {},
   "source": [
    "## Vary the batch size\n",
    "\n",
    "As with adjusting the bin size of a histogram, it is also important to test different batch sizes with a control chart. The following re-constructs the control chart, but with a slightly smaller batch size:\n"
   ]
  },
  {
   "cell_type": "code",
   "execution_count": 9,
   "id": "94a32cbf",
   "metadata": {
    "collapsed": false
   },
   "outputs": [
    {
     "data": {
      "image/png": "[encoded data removed]",
      "text/plain": [
       "<Figure size 640x480 with 1 Axes>"
      ]
     },
     "metadata": {},
     "output_type": "display_data"
    },
    {
     "data": {
      "text/plain": [
       "<ggplot: (8786500294575)>"
      ]
     },
     "execution_count": 9,
     "metadata": {},
     "output_type": "execute_result"
    }
   ],
   "source": [
    "# NOTE: No need to edit this\n",
    "n_temp = 3\n",
    "\n",
    "(\n",
    "    df_shewhart\n",
    "    >> gr.tf_mutate(id_group=DF.index // n_temp)\n",
    "    >> gr.tf_group_by(DF.id_group)\n",
    "    >> gr.tf_summarize(batch_mean=gr.mean(DF.tensile_strength))\n",
    "    \n",
    "    >> gr.ggplot(gr.aes(\"id_group\", \"batch_mean\"))\n",
    "    + gr.geom_hline(\n",
    "        df_stats\n",
    "        >> gr.tf_mutate(\n",
    "            y=DF.tys_mean - 3 * DF.tys_sd / gr.sqrt(n_temp)\n",
    "        ),\n",
    "        gr.aes(yintercept=\"y\"),\n",
    "        linetype=\"dashed\",\n",
    "    )\n",
    "    + gr.geom_hline(\n",
    "        df_stats\n",
    "        >> gr.tf_mutate(\n",
    "            y=DF.tys_mean + 3 * DF.tys_sd / gr.sqrt(n_temp)\n",
    "        ),\n",
    "        gr.aes(yintercept=\"y\"),\n",
    "        linetype=\"dashed\",\n",
    "    )\n",
    "    + gr.geom_hline(\n",
    "        data=df_stats,\n",
    "        mapping=gr.aes(yintercept=\"tys_mean\"),\n",
    "    )\n",
    "    + gr.geom_point()\n",
    ")"
   ]
  },
  {
   "cell_type": "markdown",
   "id": "eb489131",
   "metadata": {},
   "source": [
    "Here we see reasonably similar behavior with no violations of the control limits and no suspicious patterns. The data from this process appear to be under statistical control. Thus, we can proceed with modeling the `tensile_strengh` as a random quantity.\n"
   ]
  },
  {
   "cell_type": "markdown",
   "id": "1c8becac",
   "metadata": {},
   "source": [
    "# Select candidate distributions\n"
   ]
  },
  {
   "cell_type": "markdown",
   "id": "232fe472",
   "metadata": {},
   "source": [
    "## (Short) list of distributions\n",
    "\n",
    "| Distribution | Name | Description |\n",
    "|---|---|---|\n",
    "| Normal (Gaussian) | `\"norm\"` | Symmetric; infinite extent |\n",
    "| Lognormal | `\"lognormal\"` | Asymmetric; positive |\n",
    "| Uniform | `\"uniform\"` | Bounded, flat |\n",
    "| Beta | `\"beta\"` | Bounded, flexible shape |\n",
    "| Weibull | `\"weibull_min\"` | Asymmetric; positive |\n"
   ]
  },
  {
   "cell_type": "markdown",
   "id": "61ce53c3",
   "metadata": {},
   "source": [
    "### __qX__ Select reasonable distributions\n"
   ]
  },
  {
   "cell_type": "markdown",
   "id": "1823001d",
   "metadata": {},
   "source": [
    "# Fit and assess\n"
   ]
  },
  {
   "cell_type": "markdown",
   "id": "f44ed459",
   "metadata": {},
   "source": [
    "## QQ plots\n"
   ]
  },
  {
   "cell_type": "markdown",
   "id": "bbbe6364",
   "metadata": {},
   "source": [
    "### __qX__ Inspect this QQ plot\n",
    "\n",
    "TODO\n"
   ]
  },
  {
   "cell_type": "code",
   "execution_count": 10,
   "id": "1f14820e",
   "metadata": {
    "collapsed": false
   },
   "outputs": [
    {
     "data": {
      "image/png": "[encoded data removed]",
      "text/plain": [
       "<Figure size 640x480 with 1 Axes>"
      ]
     },
     "metadata": {},
     "output_type": "display_data"
    },
    {
     "data": {
      "text/plain": [
       "<ggplot: (8786500813403)>"
      ]
     },
     "execution_count": 10,
     "metadata": {},
     "output_type": "execute_result"
    }
   ],
   "source": [
    "## NOTE: No need to edit; run and inspect\n",
    "# Define a standard normal distribution\n",
    "mg_norm = gr.marg_mom(\"norm\", mean=0, sd=1)\n",
    "\n",
    "(\n",
    "    # Draw some random values\n",
    "    gr.df_make(z=mg_norm.r(100))\n",
    "    # Compute theoretical quantiles based on fitted normal\n",
    "    >> gr.tf_mutate(q=gr.qqvals(DF.z, \"norm\"))\n",
    "    \n",
    "    # Visualize\n",
    "    >> gr.ggplot(gr.aes(\"q\", \"z\"))\n",
    "    # Add a guideline\n",
    "    + gr.geom_abline(intercept=0, slope=1, linetype=\"dashed\")\n",
    "    \n",
    "    + gr.geom_point()\n",
    "    + gr.labs(x=\"Reference Quantiles\", y=\"Observed Quantiles\")\n",
    ")"
   ]
  },
  {
   "cell_type": "markdown",
   "id": "2f16f17e",
   "metadata": {},
   "source": [
    "*Observations*\n",
    "\n"
   ]
  },
  {
   "cell_type": "markdown",
   "id": "801290dc",
   "metadata": {},
   "source": [
    "### __qX__ Fit a distribution for the `tensile_strength`\n",
    "\n",
    "TODO\n"
   ]
  },
  {
   "cell_type": "code",
   "execution_count": 11,
   "id": "163a3a76",
   "metadata": {
    "collapsed": false
   },
   "outputs": [
    {
     "name": "stderr",
     "output_type": "stream",
     "text": [
      "Warning: \n",
      "A value is trying to be set on a copy of a slice from a DataFrame\n",
      "\n",
      "See the caveats in the documentation: https://pandas.pydata.org/pandas-docs/stable/user_guide/indexing.html#returning-a-view-versus-a-copy\n"
     ]
    },
    {
     "data": {
      "image/png": "[encoded data removed]",
      "text/plain": [
       "<Figure size 640x480 with 1 Axes>"
      ]
     },
     "metadata": {},
     "output_type": "display_data"
    },
    {
     "data": {
      "text/plain": [
       "<ggplot: (8786500068452)>"
      ]
     },
     "execution_count": 11,
     "metadata": {},
     "output_type": "execute_result"
    }
   ],
   "source": [
    "# TASK: Fit a distribution for the tensile_strength;\n",
    "# assign it to mg_user below\n",
    "\n",
    "mg_user = gr.marg_fit(\n",
    "    \"lognorm\", \n",
    "    df_shewhart.tensile_strength,\n",
    "    floc=0,\n",
    ")\n",
    "# NOTE: Don't edit this; use to check your results\n",
    "mg_base = gr.marg_fit(\n",
    "    \"gengamma\",\n",
    "    df_shewhart.tensile_strength,\n",
    "    floc=0,\n",
    ")\n",
    "\n",
    "(\n",
    "    df_shewhart\n",
    "    >> gr.tf_mutate(\n",
    "        q_base=gr.qqvals(DF.tensile_strength, marg=mg_base),\n",
    "        q_user=gr.qqvals(DF.tensile_strength, marg=mg_user),\n",
    "    )\n",
    "    >> gr.tf_pivot_longer(\n",
    "        columns=[\"q_base\", \"q_user\"],\n",
    "        names_to=[\".value\", \"dist\"],\n",
    "        names_sep=\"_\",\n",
    "    )\n",
    "    \n",
    "    >> gr.ggplot(gr.aes(\"q\", \"tensile_strength\", color=\"dist\"))\n",
    "    + gr.geom_abline(intercept=0, slope=1, linetype=\"dashed\")\n",
    "    + gr.geom_point()\n",
    "    + gr.labs(x=\"Reference Quantiles\", y=\"Observed Quantiles\")\n",
    ")"
   ]
  },
  {
   "cell_type": "markdown",
   "id": "5ec564f7",
   "metadata": {},
   "source": [
    "*Observations*\n",
    "\n",
    "- What distribution did you choose to fit?\n",
    "  - I fit a lognormal `\"lognorm\"` distribution.\n",
    "- How does your distribution (`user`) compare with the generalized gamma distribution (`base`)?\n",
    "  - The lognormal fits a fair bit better than the generalized gamma; both the middle of the distribution and the right tail lie closer to the identity line.\n",
    "<!-- solution-end -->"
   ]
  },
  {
   "cell_type": "markdown",
   "id": "a52f9b48",
   "metadata": {},
   "source": [
    "# Use the model\n",
    "\n",
    "TODO\n",
    "\n",
    "$$g_{\\text{tension}} = S - F/A$$\n"
   ]
  },
  {
   "cell_type": "code",
   "execution_count": 12,
   "id": "cc235c3e",
   "metadata": {
    "collapsed": false
   },
   "outputs": [
    {
     "data": {
      "text/plain": [
       "model: Uniaxial tension member\n",
       "\n",
       "  inputs:\n",
       "    var_det:\n",
       "      A: [1.0, 5.0]\n",
       "\n",
       "    var_rand:\n",
       "      S: (+0) lognorm, {'mean': '3.187e+04', 's.d.': '4.019e+03', 'COV': 0.13, 'skew.': 0.38, 'kurt.': 3.26}\n",
       "      F: (+0) lognorm, {'mean': '8.000e+04', 's.d.': '8.000e+03', 'COV': 0.1, 'skew.': 0.3, 'kurt.': 3.16}\n",
       "\n",
       "    copula:\n",
       "      Independence copula\n",
       "\n",
       "  functions:\n",
       "      f0: ['S', 'F', 'A'] -> ['g_tension']"
      ]
     },
     "execution_count": 12,
     "metadata": {},
     "output_type": "execute_result"
    }
   ],
   "source": [
    "## NOTE: No need to edit\n",
    "md_structure = (\n",
    "    gr.Model(\"Uniaxial tension member\")\n",
    "    >> gr.cp_vec_function(\n",
    "        fun=lambda df: gr.df_make(\n",
    "            g_tension=df.S - df.F / df.A,\n",
    "        ),\n",
    "        var=[\"S\", \"F\", \"A\"],\n",
    "        out=[\"g_tension\"],\n",
    "    )\n",
    "    >> gr.cp_bounds(A=(1.0, 5.0))\n",
    "    >> gr.cp_marginals(\n",
    "        S=mg_user,\n",
    "        F=gr.marg_mom(\"lognorm\", mean=8e4, cov=0.1, floc=0),\n",
    "    )\n",
    "    >> gr.cp_copula_independence()\n",
    ")\n",
    "md_structure"
   ]
  },
  {
   "cell_type": "markdown",
   "id": "f10f7c70",
   "metadata": {},
   "source": []
  },
  {
   "cell_type": "code",
   "execution_count": 13,
   "id": "ceb37387",
   "metadata": {
    "collapsed": false
   },
   "outputs": [
    {
     "name": "stdout",
     "output_type": "stream",
     "text": [
      "eval_sample() is rounding n...\n"
     ]
    },
    {
     "data": {
      "text/html": [
       "<div>\n",
       "<style scoped>\n",
       "    .dataframe tbody tr th:only-of-type {\n",
       "        vertical-align: middle;\n",
       "    }\n",
       "\n",
       "    .dataframe tbody tr th {\n",
       "        vertical-align: top;\n",
       "    }\n",
       "\n",
       "    .dataframe thead th {\n",
       "        text-align: right;\n",
       "    }\n",
       "</style>\n",
       "<table border=\"1\" class=\"dataframe\">\n",
       "  <thead>\n",
       "    <tr style=\"text-align: right;\">\n",
       "      <th></th>\n",
       "      <th>A</th>\n",
       "      <th>pof_lo</th>\n",
       "      <th>pof_mu</th>\n",
       "      <th>pof_up</th>\n",
       "    </tr>\n",
       "  </thead>\n",
       "  <tbody>\n",
       "    <tr>\n",
       "      <th>0</th>\n",
       "      <td>2</td>\n",
       "      <td>0.920463</td>\n",
       "      <td>0.921</td>\n",
       "      <td>0.921533</td>\n",
       "    </tr>\n",
       "    <tr>\n",
       "      <th>1</th>\n",
       "      <td>3</td>\n",
       "      <td>0.131330</td>\n",
       "      <td>0.132</td>\n",
       "      <td>0.132673</td>\n",
       "    </tr>\n",
       "    <tr>\n",
       "      <th>2</th>\n",
       "      <td>4</td>\n",
       "      <td>0.001913</td>\n",
       "      <td>0.002</td>\n",
       "      <td>0.002091</td>\n",
       "    </tr>\n",
       "  </tbody>\n",
       "</table>\n",
       "</div>"
      ],
      "text/plain": [
       "   A    pof_lo  pof_mu    pof_up\n",
       "0  2  0.920463   0.921  0.921533\n",
       "1  3  0.131330   0.132  0.132673\n",
       "2  4  0.001913   0.002  0.002091"
      ]
     },
     "execution_count": 13,
     "metadata": {},
     "output_type": "execute_result"
    }
   ],
   "source": [
    "(\n",
    "    md_structure\n",
    "    >> gr.ev_sample(n=1e3, df_det=gr.df_make(A=[2, 3, 4]))\n",
    "    >> gr.tf_group_by(DF.A)\n",
    "    >> gr.tf_summarize(\n",
    "        pof_lo=gr.binomial_ci(DF.g_tension <= 0, alpha=0.95, side=\"lo\"),\n",
    "        pof_mu=gr.mean(DF.g_tension <= 0),\n",
    "        pof_up=gr.binomial_ci(DF.g_tension <= 0, alpha=0.95, side=\"up\"),\n",
    "    )\n",
    ")"
   ]
  }
 ],
 "metadata": {
  "kernelspec": {
   "display_name": "Python 3 (ipykernel)",
   "language": "python",
   "name": "python3"
  },
  "language_info": {
   "codemirror_mode": {
    "name": "ipython",
    "version": 3
   },
   "file_extension": ".py",
   "mimetype": "text/x-python",
   "name": "python",
   "nbconvert_exporter": "python",
   "pygments_lexer": "ipython3",
   "version": "3.9.7"
  }
 },
 "nbformat": 4,
 "nbformat_minor": 5
}
