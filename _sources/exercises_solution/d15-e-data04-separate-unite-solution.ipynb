{
 "cells": [
  {
   "cell_type": "markdown",
   "id": "4fb23059",
   "metadata": {},
   "source": [
    "# Data: Separating and Uniting Columns\n",
    "\n",
    "*Purpose*: Data is easiest to use when it is *tidy*. In fact, grama is specifically designed to use tidy data. Last time we learned how to pivot data, but data can be untidy in other ways. Pivoting helped us when data were locked up in the *column headers*: This time, we'll learn how to use *separate* and *unite* to deal with *cell values* that are untidy.\n"
   ]
  },
  {
   "cell_type": "markdown",
   "id": "f347cd47",
   "metadata": {},
   "source": [
    "## Setup\n"
   ]
  },
  {
   "cell_type": "code",
   "execution_count": 1,
   "id": "c9a1809c",
   "metadata": {
    "collapsed": false
   },
   "outputs": [],
   "source": [
    "import grama as gr\n",
    "DF = gr.Intention()\n",
    "%matplotlib inline\n",
    "\n",
    "# For assertion\n",
    "from pandas.api.types import is_integer_dtype"
   ]
  },
  {
   "cell_type": "markdown",
   "id": "9dda5856",
   "metadata": {},
   "source": [
    "# Separate and Unite\n"
   ]
  },
  {
   "cell_type": "markdown",
   "id": "4c75798b",
   "metadata": {},
   "source": [
    "Sometimes data are presented in a *wide* format in order to fit many values on a page. You'll often see this form of data when looking at large datasets that have been prepared for a report (say, a UN population survey). For example, the following dataset is clearly not tidy:\n"
   ]
  },
  {
   "cell_type": "code",
   "execution_count": 2,
   "id": "5e8f676c",
   "metadata": {
    "collapsed": false
   },
   "outputs": [
    {
     "data": {
      "text/html": [
       "<div>\n",
       "<style scoped>\n",
       "    .dataframe tbody tr th:only-of-type {\n",
       "        vertical-align: middle;\n",
       "    }\n",
       "\n",
       "    .dataframe tbody tr th {\n",
       "        vertical-align: top;\n",
       "    }\n",
       "\n",
       "    .dataframe thead th {\n",
       "        text-align: right;\n",
       "    }\n",
       "</style>\n",
       "<table border=\"1\" class=\"dataframe\">\n",
       "  <thead>\n",
       "    <tr style=\"text-align: right;\">\n",
       "      <th></th>\n",
       "      <th>country</th>\n",
       "      <th>population_1995</th>\n",
       "      <th>population_1996</th>\n",
       "    </tr>\n",
       "  </thead>\n",
       "  <tbody>\n",
       "    <tr>\n",
       "      <th>0</th>\n",
       "      <td>Afghanistan</td>\n",
       "      <td>17586073</td>\n",
       "      <td>18415307</td>\n",
       "    </tr>\n",
       "    <tr>\n",
       "      <th>1</th>\n",
       "      <td>Albania</td>\n",
       "      <td>3357858</td>\n",
       "      <td>3341043</td>\n",
       "    </tr>\n",
       "    <tr>\n",
       "      <th>2</th>\n",
       "      <td>Algeria</td>\n",
       "      <td>29315463</td>\n",
       "      <td>29845208</td>\n",
       "    </tr>\n",
       "  </tbody>\n",
       "</table>\n",
       "</div>"
      ],
      "text/plain": [
       "       country  population_1995  population_1996\n",
       "0  Afghanistan         17586073         18415307\n",
       "1      Albania          3357858          3341043\n",
       "2      Algeria         29315463         29845208"
      ]
     },
     "execution_count": 2,
     "metadata": {},
     "output_type": "execute_result"
    }
   ],
   "source": [
    "## NOTE: No need to edit\n",
    "gr.df_make(\n",
    "    country=[\"Afghanistan\", \"Albania\", \"Algeria\"],\n",
    "    population_1995=[17586073, 3357858, 29315463],\n",
    "    population_1996=[18415307, 3341043, 29845208],\n",
    ")"
   ]
  },
  {
   "cell_type": "markdown",
   "id": "120a394d",
   "metadata": {},
   "source": [
    "The year of each population measurement is \"locked up\" in the column names. However, pivoting this dataset only gets us so far:\n"
   ]
  },
  {
   "cell_type": "code",
   "execution_count": 3,
   "id": "b859446a",
   "metadata": {
    "collapsed": false
   },
   "outputs": [
    {
     "data": {
      "text/html": [
       "<div>\n",
       "<style scoped>\n",
       "    .dataframe tbody tr th:only-of-type {\n",
       "        vertical-align: middle;\n",
       "    }\n",
       "\n",
       "    .dataframe tbody tr th {\n",
       "        vertical-align: top;\n",
       "    }\n",
       "\n",
       "    .dataframe thead th {\n",
       "        text-align: right;\n",
       "    }\n",
       "</style>\n",
       "<table border=\"1\" class=\"dataframe\">\n",
       "  <thead>\n",
       "    <tr style=\"text-align: right;\">\n",
       "      <th></th>\n",
       "      <th>country</th>\n",
       "      <th>name</th>\n",
       "      <th>value</th>\n",
       "    </tr>\n",
       "  </thead>\n",
       "  <tbody>\n",
       "    <tr>\n",
       "      <th>0</th>\n",
       "      <td>Afghanistan</td>\n",
       "      <td>population_1995</td>\n",
       "      <td>17586073</td>\n",
       "    </tr>\n",
       "    <tr>\n",
       "      <th>1</th>\n",
       "      <td>Albania</td>\n",
       "      <td>population_1995</td>\n",
       "      <td>3357858</td>\n",
       "    </tr>\n",
       "    <tr>\n",
       "      <th>2</th>\n",
       "      <td>Algeria</td>\n",
       "      <td>population_1995</td>\n",
       "      <td>29315463</td>\n",
       "    </tr>\n",
       "    <tr>\n",
       "      <th>3</th>\n",
       "      <td>Afghanistan</td>\n",
       "      <td>population_1996</td>\n",
       "      <td>18415307</td>\n",
       "    </tr>\n",
       "    <tr>\n",
       "      <th>4</th>\n",
       "      <td>Albania</td>\n",
       "      <td>population_1996</td>\n",
       "      <td>3341043</td>\n",
       "    </tr>\n",
       "    <tr>\n",
       "      <th>5</th>\n",
       "      <td>Algeria</td>\n",
       "      <td>population_1996</td>\n",
       "      <td>29845208</td>\n",
       "    </tr>\n",
       "  </tbody>\n",
       "</table>\n",
       "</div>"
      ],
      "text/plain": [
       "       country             name     value\n",
       "0  Afghanistan  population_1995  17586073\n",
       "1      Albania  population_1995   3357858\n",
       "2      Algeria  population_1995  29315463\n",
       "3  Afghanistan  population_1996  18415307\n",
       "4      Albania  population_1996   3341043\n",
       "5      Algeria  population_1996  29845208"
      ]
     },
     "execution_count": 3,
     "metadata": {},
     "output_type": "execute_result"
    }
   ],
   "source": [
    "## NOTE: No need to edit\n",
    "(\n",
    "    gr.df_make(\n",
    "        country=[\"Afghanistan\", \"Albania\", \"Algeria\"],\n",
    "        population_1995=[17586073, 3357858, 29315463],\n",
    "        population_1996=[18415307, 3341043, 29845208],\n",
    "    )\n",
    "    >> gr.tf_pivot_longer(\n",
    "        columns=[\"population_1995\", \"population_1996\"],\n",
    "        names_to=\"name\",\n",
    "        values_to=\"value\",\n",
    "    )\n",
    ")\n"
   ]
  },
  {
   "cell_type": "markdown",
   "id": "58236b4a",
   "metadata": {},
   "source": [
    "The column names are not simply cell values; they're a combination of both column names and cell values. To fully tidy this datset, we need to *separate* the names from the data.\n"
   ]
  },
  {
   "cell_type": "markdown",
   "id": "f82e0144",
   "metadata": {},
   "source": [
    "## The `gr.tf_separate()` verb\n",
    "\n",
    "The `gr.tf_separate()` verb allows us to separate *string-valued* columns on a target character. As a simple example, consider the following (silly) dataset:\n"
   ]
  },
  {
   "cell_type": "code",
   "execution_count": 4,
   "id": "58883169",
   "metadata": {
    "collapsed": false
   },
   "outputs": [
    {
     "data": {
      "text/html": [
       "<div>\n",
       "<style scoped>\n",
       "    .dataframe tbody tr th:only-of-type {\n",
       "        vertical-align: middle;\n",
       "    }\n",
       "\n",
       "    .dataframe tbody tr th {\n",
       "        vertical-align: top;\n",
       "    }\n",
       "\n",
       "    .dataframe thead th {\n",
       "        text-align: right;\n",
       "    }\n",
       "</style>\n",
       "<table border=\"1\" class=\"dataframe\">\n",
       "  <thead>\n",
       "    <tr style=\"text-align: right;\">\n",
       "      <th></th>\n",
       "      <th>s</th>\n",
       "    </tr>\n",
       "  </thead>\n",
       "  <tbody>\n",
       "    <tr>\n",
       "      <th>0</th>\n",
       "      <td>A-123</td>\n",
       "    </tr>\n",
       "    <tr>\n",
       "      <th>1</th>\n",
       "      <td>B-456</td>\n",
       "    </tr>\n",
       "    <tr>\n",
       "      <th>2</th>\n",
       "      <td>C-789</td>\n",
       "    </tr>\n",
       "  </tbody>\n",
       "</table>\n",
       "</div>"
      ],
      "text/plain": [
       "       s\n",
       "0  A-123\n",
       "1  B-456\n",
       "2  C-789"
      ]
     },
     "execution_count": 4,
     "metadata": {},
     "output_type": "execute_result"
    }
   ],
   "source": [
    "## NOTE: No need to edit\n",
    "(\n",
    "    gr.df_make(s=[\"A-123\", \"B-456\", \"C-789\"])\n",
    ")"
   ]
  },
  {
   "cell_type": "markdown",
   "id": "7fea74ad",
   "metadata": {},
   "source": [
    "If we wanted to separate the column `s` into two columns on the `-` character, we could do that with `gr.tf_separate()`.\n"
   ]
  },
  {
   "cell_type": "code",
   "execution_count": 5,
   "id": "eaa82a6a",
   "metadata": {
    "collapsed": false
   },
   "outputs": [
    {
     "data": {
      "text/html": [
       "<div>\n",
       "<style scoped>\n",
       "    .dataframe tbody tr th:only-of-type {\n",
       "        vertical-align: middle;\n",
       "    }\n",
       "\n",
       "    .dataframe tbody tr th {\n",
       "        vertical-align: top;\n",
       "    }\n",
       "\n",
       "    .dataframe thead th {\n",
       "        text-align: right;\n",
       "    }\n",
       "</style>\n",
       "<table border=\"1\" class=\"dataframe\">\n",
       "  <thead>\n",
       "    <tr style=\"text-align: right;\">\n",
       "      <th></th>\n",
       "      <th>letter</th>\n",
       "      <th>numbers</th>\n",
       "    </tr>\n",
       "  </thead>\n",
       "  <tbody>\n",
       "    <tr>\n",
       "      <th>0</th>\n",
       "      <td>A</td>\n",
       "      <td>123</td>\n",
       "    </tr>\n",
       "    <tr>\n",
       "      <th>1</th>\n",
       "      <td>B</td>\n",
       "      <td>456</td>\n",
       "    </tr>\n",
       "    <tr>\n",
       "      <th>2</th>\n",
       "      <td>C</td>\n",
       "      <td>789</td>\n",
       "    </tr>\n",
       "  </tbody>\n",
       "</table>\n",
       "</div>"
      ],
      "text/plain": [
       "  letter numbers\n",
       "0      A     123\n",
       "1      B     456\n",
       "2      C     789"
      ]
     },
     "execution_count": 5,
     "metadata": {},
     "output_type": "execute_result"
    }
   ],
   "source": [
    "## NOTE: No need to edit\n",
    "(\n",
    "    gr.df_make(s=[\"A-123\", \"B-456\", \"C-789\"])\n",
    "    >> gr.tf_separate(\n",
    "        column=\"s\",\n",
    "        sep=\"-\",\n",
    "        into=[\"letter\", \"numbers\"],\n",
    "    )\n",
    ")"
   ]
  },
  {
   "cell_type": "markdown",
   "id": "b374e326",
   "metadata": {},
   "source": [
    "Note that we have two new columns with the separated values. We can use this approach to help tidy datasets.\n"
   ]
  },
  {
   "cell_type": "markdown",
   "id": "781e8ad4",
   "metadata": {},
   "source": [
    "### __q1__ Separate the `population` and `year`\n",
    "\n",
    "Use `gr.tf_separate()` to separate the `population` and `year` values into their own columns.\n"
   ]
  },
  {
   "cell_type": "code",
   "execution_count": 6,
   "id": "2bc2b4ef",
   "metadata": {
    "collapsed": false
   },
   "outputs": [
    {
     "name": "stdout",
     "output_type": "stream",
     "text": [
      "       country     value  population  year\n",
      "0  Afghanistan  17586073  population  1995\n",
      "1      Albania   3357858  population  1995\n",
      "2      Algeria  29315463  population  1995\n",
      "3  Afghanistan  18415307  population  1996\n",
      "4      Albania   3341043  population  1996\n",
      "5      Algeria  29845208  population  1996\n"
     ]
    }
   ],
   "source": [
    "## TASK: Separate the population and year columns\n",
    "df_pop = (\n",
    "    gr.df_make(\n",
    "        country=[\"Afghanistan\", \"Albania\", \"Algeria\"],\n",
    "        population_1995=[17586073, 3357858, 29315463],\n",
    "        population_1996=[18415307, 3341043, 29845208],\n",
    "    )\n",
    "    >> gr.tf_pivot_longer(\n",
    "        columns=[\"population_1995\", \"population_1996\"],\n",
    "        names_to=\"pop_year\",\n",
    "        values_to=\"value\",\n",
    "    )\n",
    "    >> gr.tf_separate(\n",
    "        column=\"pop_year\",\n",
    "        sep=\"_\",\n",
    "        into=[\"population\", \"year\"],\n",
    "    )\n",
    ")\n",
    "\n",
    "## NOTE: No need to edit; use this to check your work\n",
    "print(df_pop)\n",
    "\n",
    "assert \\\n",
    "    \"population\" in df_pop.columns, \\\n",
    "    \"df_pop does not have a `population` column\"\n",
    "assert \\\n",
    "    \"year\" in df_pop.columns, \\\n",
    "    \"df_pop does not have a `year` column\"\n",
    "assert \\\n",
    "    df_pop.shape == (6, 4), \\\n",
    "    \"df_pop is the wrong shape\"\n"
   ]
  },
  {
   "cell_type": "markdown",
   "id": "dffe0ee9",
   "metadata": {},
   "source": [
    "## The `gr.tf_unite()` verb\n",
    "\n",
    "The `gr.tf_unite()` verb performs the inverse of `gr.tf_separate()`; `gr.tf_unite()` allows us to combine multiple string columns into a single column. For example, we can undo the separation you performed above:\n"
   ]
  },
  {
   "cell_type": "code",
   "execution_count": 7,
   "id": "fd7123ac",
   "metadata": {
    "collapsed": false
   },
   "outputs": [
    {
     "data": {
      "text/html": [
       "<div>\n",
       "<style scoped>\n",
       "    .dataframe tbody tr th:only-of-type {\n",
       "        vertical-align: middle;\n",
       "    }\n",
       "\n",
       "    .dataframe tbody tr th {\n",
       "        vertical-align: top;\n",
       "    }\n",
       "\n",
       "    .dataframe thead th {\n",
       "        text-align: right;\n",
       "    }\n",
       "</style>\n",
       "<table border=\"1\" class=\"dataframe\">\n",
       "  <thead>\n",
       "    <tr style=\"text-align: right;\">\n",
       "      <th></th>\n",
       "      <th>country</th>\n",
       "      <th>value</th>\n",
       "      <th>population-year</th>\n",
       "    </tr>\n",
       "  </thead>\n",
       "  <tbody>\n",
       "    <tr>\n",
       "      <th>0</th>\n",
       "      <td>Afghanistan</td>\n",
       "      <td>17586073</td>\n",
       "      <td>population-1995</td>\n",
       "    </tr>\n",
       "    <tr>\n",
       "      <th>1</th>\n",
       "      <td>Albania</td>\n",
       "      <td>3357858</td>\n",
       "      <td>population-1995</td>\n",
       "    </tr>\n",
       "    <tr>\n",
       "      <th>2</th>\n",
       "      <td>Algeria</td>\n",
       "      <td>29315463</td>\n",
       "      <td>population-1995</td>\n",
       "    </tr>\n",
       "    <tr>\n",
       "      <th>3</th>\n",
       "      <td>Afghanistan</td>\n",
       "      <td>18415307</td>\n",
       "      <td>population-1996</td>\n",
       "    </tr>\n",
       "    <tr>\n",
       "      <th>4</th>\n",
       "      <td>Albania</td>\n",
       "      <td>3341043</td>\n",
       "      <td>population-1996</td>\n",
       "    </tr>\n",
       "    <tr>\n",
       "      <th>5</th>\n",
       "      <td>Algeria</td>\n",
       "      <td>29845208</td>\n",
       "      <td>population-1996</td>\n",
       "    </tr>\n",
       "  </tbody>\n",
       "</table>\n",
       "</div>"
      ],
      "text/plain": [
       "       country     value  population-year\n",
       "0  Afghanistan  17586073  population-1995\n",
       "1      Albania   3357858  population-1995\n",
       "2      Algeria  29315463  population-1995\n",
       "3  Afghanistan  18415307  population-1996\n",
       "4      Albania   3341043  population-1996\n",
       "5      Algeria  29845208  population-1996"
      ]
     },
     "execution_count": 7,
     "metadata": {},
     "output_type": "execute_result"
    }
   ],
   "source": [
    "## NOTE: No need to edit\n",
    "(\n",
    "    df_pop\n",
    "    >> gr.tf_unite(\n",
    "        \"population-year\",\n",
    "        DF.population,\n",
    "        DF.year,\n",
    "        sep=\"-\",\n",
    "    )\n",
    ")"
   ]
  },
  {
   "cell_type": "markdown",
   "id": "0e627cc9",
   "metadata": {},
   "source": [
    "Note that we have to choose what to name the new united column, the set of columns to combine, and a separator character with the `sep` argument. While the example above is not terribly practical, there are many cases where we'll have many strings that we might like to join.\n"
   ]
  },
  {
   "cell_type": "markdown",
   "id": "4bed91f4",
   "metadata": {},
   "source": [
    "### __q2__ Unite the digits\n",
    "\n",
    "Add the `area` code to the *front* of each `localnumber` to complete the following phone numbers. Provide the full number as the column `number`. Make sure to use the separator character `-`.\n"
   ]
  },
  {
   "cell_type": "code",
   "execution_count": 8,
   "id": "0ac9886f",
   "metadata": {
    "collapsed": false
   },
   "outputs": [
    {
     "name": "stdout",
     "output_type": "stream",
     "text": [
      "         number\n",
      "0  212-255-2112\n",
      "1  650-255-4200\n",
      "2  814-867-5309\n"
     ]
    }
   ],
   "source": [
    "## TASK:\n",
    "df_numbers = (\n",
    "    gr.df_make(\n",
    "        localnumber=[\"255-2112\", \"255-4200\", \"867-5309\"],\n",
    "        area=[\"212\", \"650\", \"814\"],\n",
    "    )\n",
    "    >> gr.tf_unite(\n",
    "        \"number\",\n",
    "        DF.area,\n",
    "        DF.localnumber,\n",
    "        sep=\"-\"\n",
    "    )\n",
    ")\n",
    "\n",
    "## NOTE: Use this to check your work\n",
    "print(df_numbers)\n",
    "\n",
    "assert \\\n",
    "    \"number\" in df_numbers.columns, \\\n",
    "    \"df_numbers does not have a `number` column\"\n",
    "assert \\\n",
    "    (df_numbers >> gr.tf_filter(gr.str_detect(DF.number, \"_\"))).shape[0] == 0, \\\n",
    "    \"Separator `_` detected; make sure to use `-` as your separator\"\n",
    "assert \\\n",
    "    (df_numbers >> gr.tf_filter(gr.str_detect(DF.number, \"^212|^650|^814\"))).shape[0] == 3, \\\n",
    "    \"The area codes are not at the *front* of the numbers\"\n"
   ]
  },
  {
   "cell_type": "markdown",
   "id": "40253727",
   "metadata": {},
   "source": [
    "# Case Study: Tidying an Alloy Dataset\n",
    "\n",
    "Now let's make use of `gr.tf_separate()` in tidying a more engineering-focused dataset. The following is a small dataset of measured aluminum alloy material properties.\n"
   ]
  },
  {
   "cell_type": "code",
   "execution_count": 9,
   "id": "d82a26c0",
   "metadata": {
    "collapsed": false
   },
   "outputs": [
    {
     "data": {
      "text/html": [
       "<div>\n",
       "<style scoped>\n",
       "    .dataframe tbody tr th:only-of-type {\n",
       "        vertical-align: middle;\n",
       "    }\n",
       "\n",
       "    .dataframe tbody tr th {\n",
       "        vertical-align: top;\n",
       "    }\n",
       "\n",
       "    .dataframe thead th {\n",
       "        text-align: right;\n",
       "    }\n",
       "</style>\n",
       "<table border=\"1\" class=\"dataframe\">\n",
       "  <thead>\n",
       "    <tr style=\"text-align: right;\">\n",
       "      <th></th>\n",
       "      <th>thick</th>\n",
       "      <th>E_00</th>\n",
       "      <th>mu_00</th>\n",
       "      <th>E_45</th>\n",
       "      <th>mu_45</th>\n",
       "    </tr>\n",
       "  </thead>\n",
       "  <tbody>\n",
       "    <tr>\n",
       "      <th>0</th>\n",
       "      <td>0.022</td>\n",
       "      <td>10600</td>\n",
       "      <td>0.321</td>\n",
       "      <td>10700</td>\n",
       "      <td>0.329</td>\n",
       "    </tr>\n",
       "    <tr>\n",
       "      <th>1</th>\n",
       "      <td>0.022</td>\n",
       "      <td>10600</td>\n",
       "      <td>0.323</td>\n",
       "      <td>10500</td>\n",
       "      <td>0.331</td>\n",
       "    </tr>\n",
       "    <tr>\n",
       "      <th>2</th>\n",
       "      <td>0.032</td>\n",
       "      <td>10400</td>\n",
       "      <td>0.329</td>\n",
       "      <td>10400</td>\n",
       "      <td>0.318</td>\n",
       "    </tr>\n",
       "    <tr>\n",
       "      <th>3</th>\n",
       "      <td>0.032</td>\n",
       "      <td>10300</td>\n",
       "      <td>0.319</td>\n",
       "      <td>10500</td>\n",
       "      <td>0.326</td>\n",
       "    </tr>\n",
       "  </tbody>\n",
       "</table>\n",
       "</div>"
      ],
      "text/plain": [
       "   thick   E_00  mu_00   E_45  mu_45\n",
       "0  0.022  10600  0.321  10700  0.329\n",
       "1  0.022  10600  0.323  10500  0.331\n",
       "2  0.032  10400  0.329  10400  0.318\n",
       "3  0.032  10300  0.319  10500  0.326"
      ]
     },
     "execution_count": 9,
     "metadata": {},
     "output_type": "execute_result"
    }
   ],
   "source": [
    "## NOTE: No need to edit\n",
    "df_alloys = gr.df_make(\n",
    "    thick=[0.022]*2 + [0.032]*2,\n",
    "    E_00=[10600, 10600, 10400, 10300],\n",
    "    mu_00=[0.321, 0.323, 0.329, 0.319],\n",
    "    E_45=[10700, 10500, 10400, 10500],\n",
    "    mu_45=[0.329, 0.331, 0.318, 0.326],\n",
    ")\n",
    "\n",
    "df_alloys"
   ]
  },
  {
   "cell_type": "markdown",
   "id": "b661869b",
   "metadata": {},
   "source": [
    "Note that this dataset is not tidy: The digits in the column names are the angles at which the alloys were tested. In order to tidy this dataset, we'll have to go through a few steps:\n"
   ]
  },
  {
   "cell_type": "markdown",
   "id": "1c82a029",
   "metadata": {},
   "source": [
    "### __q3__ Add a unique observation identifier\n",
    "\n",
    "Later, when we attempt a `gr.tf_pivot_wider()` down the line, we'll need a unique identifier for each row in the original dataset. Create a new column `id_obs` that uniquely identifies each row.\n",
    "\n",
    "*Hint*: You could just use the DataFrame's `index` column to do this....\n"
   ]
  },
  {
   "cell_type": "code",
   "execution_count": 10,
   "id": "69fd7b59",
   "metadata": {
    "collapsed": false
   },
   "outputs": [
    {
     "name": "stdout",
     "output_type": "stream",
     "text": [
      "   thick   E_00  mu_00   E_45  mu_45  id_obs\n",
      "0  0.022  10600  0.321  10700  0.329       0\n",
      "1  0.022  10600  0.323  10500  0.331       1\n",
      "2  0.032  10400  0.329  10400  0.318       2\n",
      "3  0.032  10300  0.319  10500  0.326       3\n"
     ]
    }
   ],
   "source": [
    "## TASK: Add a unique identifier (UID) to each row\n",
    "df_alloys_id = (\n",
    "    df_alloys\n",
    "\n",
    "    >> gr.tf_mutate(id_obs=DF.index)\n",
    ")\n",
    "\n",
    "## NOTE: Use this to check your work\n",
    "print(df_alloys_id)\n",
    "\n",
    "assert \\\n",
    "    \"id_obs\" in df_alloys_id.columns, \\\n",
    "    \"df_alloys_id has no `id_obs` column\"\n",
    "\n",
    "assert \\\n",
    "    len(set(df_alloys_id.id_obs)) == len(df_alloys_id.id_obs), \\\n",
    "    \"The values in df_alloys_id.id_obs are not unique\""
   ]
  },
  {
   "cell_type": "markdown",
   "id": "9fb57b6b",
   "metadata": {},
   "source": [
    "### __q4__ Separate the `variable` and `angle` data\n",
    "\n",
    "The following code pivots the data longer; use `gr.tf_separate()` to separate the `variable` and `angle` data.\n"
   ]
  },
  {
   "cell_type": "code",
   "execution_count": 11,
   "id": "4fed68d4",
   "metadata": {
    "collapsed": false
   },
   "outputs": [
    {
     "name": "stdout",
     "output_type": "stream",
     "text": [
      "    thick  id_obs      value variable angle\n",
      "0   0.022       0  10600.000        E    00\n",
      "1   0.022       1  10600.000        E    00\n",
      "2   0.032       2  10400.000        E    00\n",
      "3   0.032       3  10300.000        E    00\n",
      "4   0.022       0  10700.000        E    45\n",
      "5   0.022       1  10500.000        E    45\n",
      "6   0.032       2  10400.000        E    45\n",
      "7   0.032       3  10500.000        E    45\n",
      "8   0.022       0      0.321       mu    00\n",
      "9   0.022       1      0.323       mu    00\n",
      "10  0.032       2      0.329       mu    00\n",
      "11  0.032       3      0.319       mu    00\n",
      "12  0.022       0      0.329       mu    45\n",
      "13  0.022       1      0.331       mu    45\n",
      "14  0.032       2      0.318       mu    45\n",
      "15  0.032       3      0.326       mu    45\n"
     ]
    }
   ],
   "source": [
    "## TASK: Separate the `variable` and `angle` data\n",
    "df_alloys_separated = (\n",
    "    df_alloys_id\n",
    "    >> gr.tf_pivot_longer(\n",
    "        columns=[\"E_00\", \"E_45\", \"mu_00\", \"mu_45\"],\n",
    "        names_to=\"variable_angle\",\n",
    "        values_to=\"value\"\n",
    "    )\n",
    "    >> gr.tf_separate(\n",
    "        column=\"variable_angle\",\n",
    "        sep=\"_\",\n",
    "        into=[\"variable\", \"angle\"],\n",
    "    )\n",
    ")\n",
    "\n",
    "## NOTE: use this to check your work\n",
    "print(df_alloys_separated)\n",
    "\n",
    "assert \\\n",
    "    \"variable\" in df_alloys_separated.columns, \\\n",
    "    \"df_alloys_separated has no `variable` column\"\n",
    "\n",
    "assert \\\n",
    "    \"angle\" in df_alloys_separated.columns, \\\n",
    "    \"df_alloys_separated has no `angle` column\"\n"
   ]
  },
  {
   "cell_type": "markdown",
   "id": "d003473f",
   "metadata": {},
   "source": [
    "### __q5__ Finish tidying the data\n",
    "\n",
    "Finish tidying the data: Use a pivot to move the `variable` names back to being column names, and make sure the `angle` values are integers.\n"
   ]
  },
  {
   "cell_type": "code",
   "execution_count": 12,
   "id": "ca2e12c1",
   "metadata": {
    "collapsed": false
   },
   "outputs": [
    {
     "name": "stdout",
     "output_type": "stream",
     "text": [
      "   thick  id_obs  angle        E     mu\n",
      "0  0.022       0      0  10600.0  0.321\n",
      "1  0.022       0     45  10700.0  0.329\n",
      "2  0.022       1      0  10600.0  0.323\n",
      "3  0.022       1     45  10500.0  0.331\n",
      "4  0.032       2      0  10400.0  0.329\n",
      "5  0.032       2     45  10400.0  0.318\n",
      "6  0.032       3      0  10300.0  0.319\n",
      "7  0.032       3     45  10500.0  0.326\n"
     ]
    }
   ],
   "source": [
    "## TASK: Finish tidying the data\n",
    "df_alloys_tidy = (\n",
    "    df_alloys_separated\n",
    "    >> gr.tf_pivot_wider(\n",
    "        names_from=\"variable\",\n",
    "        values_from=\"value\",\n",
    "    )\n",
    "    >> gr.tf_mutate(angle=gr.as_int(DF.angle))\n",
    ")\n",
    "\n",
    "## NOTE: Use this to check your work\n",
    "print(df_alloys_tidy)\n",
    "\n",
    "assert \\\n",
    "    \"E\" in df_alloys_tidy.columns, \\\n",
    "    \"df_alloys_tidy does not have an `E` column\"\n",
    "assert \\\n",
    "    \"mu\" in df_alloys_tidy.columns, \\\n",
    "    \"df_alloys_tidy does not have an `mu` column\"\n",
    "assert \\\n",
    "    is_integer_dtype(df_alloys_tidy.angle), \\\n",
    "    \"df_alloys_tidy.angle is not an integer column\"\n"
   ]
  },
  {
   "cell_type": "markdown",
   "id": "383ae18c",
   "metadata": {},
   "source": [
    "## Aside: What happens without the unique id?\n",
    "\n",
    "Above, I made a fuss about adding a unique id column to the dataset before we start pivoting. What happens if we don't do that?\n"
   ]
  },
  {
   "cell_type": "code",
   "execution_count": 13,
   "id": "9012d34d",
   "metadata": {
    "collapsed": false,
    "tags": [
     "raises-exception"
    ]
   },
   "outputs": [
    {
     "ename": "ValueError",
     "evalue": "Index contains duplicate entries, cannot reshape",
     "output_type": "error",
     "traceback": [
      "\u001b[0;31m---------------------------------------------------------------------------\u001b[0m",
      "\u001b[0;31mValueError\u001b[0m                                Traceback (most recent call last)",
      "Input \u001b[0;32mIn [13]\u001b[0m, in \u001b[0;36m<cell line: 3>\u001b[0;34m()\u001b[0m\n\u001b[1;32m      1\u001b[0m \u001b[38;5;66;03m# NOTE: Run this cell to see the error\u001b[39;00m\n\u001b[1;32m      2\u001b[0m (\n\u001b[0;32m----> 3\u001b[0m     df_alloys\n\u001b[1;32m      4\u001b[0m     \u001b[38;5;66;03m# NOTE: I didn't add a UID here; let's see what happens....\u001b[39;00m\n\u001b[1;32m      5\u001b[0m     \n\u001b[1;32m      6\u001b[0m     \u001b[38;5;241m>>\u001b[39m gr\u001b[38;5;241m.\u001b[39mtf_pivot_longer(\n\u001b[1;32m      7\u001b[0m         columns\u001b[38;5;241m=\u001b[39m[\u001b[38;5;124m\"\u001b[39m\u001b[38;5;124mE_00\u001b[39m\u001b[38;5;124m\"\u001b[39m, \u001b[38;5;124m\"\u001b[39m\u001b[38;5;124mE_45\u001b[39m\u001b[38;5;124m\"\u001b[39m, \u001b[38;5;124m\"\u001b[39m\u001b[38;5;124mmu_00\u001b[39m\u001b[38;5;124m\"\u001b[39m, \u001b[38;5;124m\"\u001b[39m\u001b[38;5;124mmu_45\u001b[39m\u001b[38;5;124m\"\u001b[39m],\n\u001b[1;32m      8\u001b[0m         names_to\u001b[38;5;241m=\u001b[39m\u001b[38;5;124m\"\u001b[39m\u001b[38;5;124mvarang\u001b[39m\u001b[38;5;124m\"\u001b[39m,\n\u001b[1;32m      9\u001b[0m         values_to\u001b[38;5;241m=\u001b[39m\u001b[38;5;124m\"\u001b[39m\u001b[38;5;124mvalue\u001b[39m\u001b[38;5;124m\"\u001b[39m\n\u001b[1;32m     10\u001b[0m     )\n\u001b[1;32m     11\u001b[0m     \u001b[38;5;241m>>\u001b[39m gr\u001b[38;5;241m.\u001b[39mtf_separate(\n\u001b[1;32m     12\u001b[0m         column\u001b[38;5;241m=\u001b[39m\u001b[38;5;124m\"\u001b[39m\u001b[38;5;124mvarang\u001b[39m\u001b[38;5;124m\"\u001b[39m,\n\u001b[1;32m     13\u001b[0m         sep\u001b[38;5;241m=\u001b[39m\u001b[38;5;124m\"\u001b[39m\u001b[38;5;124m_\u001b[39m\u001b[38;5;124m\"\u001b[39m,\n\u001b[1;32m     14\u001b[0m         into\u001b[38;5;241m=\u001b[39m[\u001b[38;5;124m\"\u001b[39m\u001b[38;5;124mvar\u001b[39m\u001b[38;5;124m\"\u001b[39m, \u001b[38;5;124m\"\u001b[39m\u001b[38;5;124mang\u001b[39m\u001b[38;5;124m\"\u001b[39m],\n\u001b[1;32m     15\u001b[0m     )\n\u001b[1;32m     16\u001b[0m     \u001b[38;5;241m>>\u001b[39m gr\u001b[38;5;241m.\u001b[39mtf_pivot_wider(\n\u001b[1;32m     17\u001b[0m         names_from\u001b[38;5;241m=\u001b[39m\u001b[38;5;124m\"\u001b[39m\u001b[38;5;124mvar\u001b[39m\u001b[38;5;124m\"\u001b[39m,\n\u001b[1;32m     18\u001b[0m         values_from\u001b[38;5;241m=\u001b[39m\u001b[38;5;124m\"\u001b[39m\u001b[38;5;124mvalue\u001b[39m\u001b[38;5;124m\"\u001b[39m,\n\u001b[1;32m     19\u001b[0m     )\n\u001b[1;32m     20\u001b[0m )\n",
      "File \u001b[0;32m~/Git/py_grama/grama/tools.py:293\u001b[0m, in \u001b[0;36mpipe.__rrshift__\u001b[0;34m(self, other)\u001b[0m\n\u001b[1;32m    290\u001b[0m     \u001b[38;5;28;01mif\u001b[39;00m \u001b[38;5;28misinstance\u001b[39m(other, DataFrame):\n\u001b[1;32m    291\u001b[0m         other_copy \u001b[38;5;241m=\u001b[39m copy_meta(other, other_copy)\n\u001b[0;32m--> 293\u001b[0m result \u001b[38;5;241m=\u001b[39m \u001b[38;5;28;43mself\u001b[39;49m\u001b[38;5;241;43m.\u001b[39;49m\u001b[43mfunction\u001b[49m\u001b[43m(\u001b[49m\u001b[43mother_copy\u001b[49m\u001b[43m)\u001b[49m\n\u001b[1;32m    295\u001b[0m \u001b[38;5;28;01mfor\u001b[39;00m p \u001b[38;5;129;01min\u001b[39;00m \u001b[38;5;28mself\u001b[39m\u001b[38;5;241m.\u001b[39mchained_pipes:\n\u001b[1;32m    296\u001b[0m     result \u001b[38;5;241m=\u001b[39m p\u001b[38;5;241m.\u001b[39m\u001b[38;5;21m__rrshift__\u001b[39m(result)\n",
      "File \u001b[0;32m~/Git/py_grama/grama/tools.py:308\u001b[0m, in \u001b[0;36mpipe.__call__.<locals>.<lambda>\u001b[0;34m(x)\u001b[0m\n\u001b[1;32m    307\u001b[0m \u001b[38;5;28;01mdef\u001b[39;00m \u001b[38;5;21m__call__\u001b[39m(\u001b[38;5;28mself\u001b[39m, \u001b[38;5;241m*\u001b[39margs, \u001b[38;5;241m*\u001b[39m\u001b[38;5;241m*\u001b[39mkwargs):\n\u001b[0;32m--> 308\u001b[0m     \u001b[38;5;28;01mreturn\u001b[39;00m pipe(\u001b[38;5;28;01mlambda\u001b[39;00m x: \u001b[38;5;28;43mself\u001b[39;49m\u001b[38;5;241;43m.\u001b[39;49m\u001b[43mfunction\u001b[49m\u001b[43m(\u001b[49m\u001b[43mx\u001b[49m\u001b[43m,\u001b[49m\u001b[43m \u001b[49m\u001b[38;5;241;43m*\u001b[39;49m\u001b[43margs\u001b[49m\u001b[43m,\u001b[49m\u001b[43m \u001b[49m\u001b[38;5;241;43m*\u001b[39;49m\u001b[38;5;241;43m*\u001b[39;49m\u001b[43mkwargs\u001b[49m\u001b[43m)\u001b[49m)\n",
      "File \u001b[0;32m~/Git/py_grama/grama/tran_pivot.py:356\u001b[0m, in \u001b[0;36mtran_pivot_wider\u001b[0;34m(df, names_from, indexes_from, values_from)\u001b[0m\n\u001b[1;32m    352\u001b[0m     data_index_clean \u001b[38;5;241m=\u001b[39m \u001b[38;5;28;01mNone\u001b[39;00m\n\u001b[1;32m    354\u001b[0m \u001b[38;5;66;03m### try pivot, if no repeats exist in data_index_clean values continue,\u001b[39;00m\n\u001b[1;32m    355\u001b[0m \u001b[38;5;66;03m### else use pivot_table to handle repreated values\u001b[39;00m\n\u001b[0;32m--> 356\u001b[0m wider \u001b[38;5;241m=\u001b[39m \u001b[43mpivot\u001b[49m\u001b[43m(\u001b[49m\n\u001b[1;32m    357\u001b[0m \u001b[43m    \u001b[49m\u001b[43mdf\u001b[49m\u001b[43m,\u001b[49m\n\u001b[1;32m    358\u001b[0m \u001b[43m    \u001b[49m\u001b[43mindex\u001b[49m\u001b[38;5;241;43m=\u001b[39;49m\u001b[43mdata_index_clean\u001b[49m\u001b[43m,\u001b[49m\n\u001b[1;32m    359\u001b[0m \u001b[43m    \u001b[49m\u001b[43mcolumns\u001b[49m\u001b[38;5;241;43m=\u001b[39;49m\u001b[43mnames_from\u001b[49m\u001b[43m,\u001b[49m\n\u001b[1;32m    360\u001b[0m \u001b[43m    \u001b[49m\u001b[43mvalues\u001b[49m\u001b[38;5;241;43m=\u001b[39;49m\u001b[43mvalues_from\u001b[49m\n\u001b[1;32m    361\u001b[0m \u001b[43m\u001b[49m\u001b[43m)\u001b[49m\n\u001b[1;32m    362\u001b[0m \u001b[38;5;66;03m### Post cleaning of leftover column and index names\u001b[39;00m\n\u001b[1;32m    363\u001b[0m wider\u001b[38;5;241m.\u001b[39mcolumns\u001b[38;5;241m.\u001b[39mname \u001b[38;5;241m=\u001b[39m \u001b[38;5;28;01mNone\u001b[39;00m\n",
      "File \u001b[0;32m~/opt/anaconda3/envs/evc/lib/python3.9/site-packages/pandas/core/reshape/pivot.py:520\u001b[0m, in \u001b[0;36mpivot\u001b[0;34m(data, index, columns, values)\u001b[0m\n\u001b[1;32m    518\u001b[0m     \u001b[38;5;28;01melse\u001b[39;00m:\n\u001b[1;32m    519\u001b[0m         indexed \u001b[38;5;241m=\u001b[39m data\u001b[38;5;241m.\u001b[39m_constructor_sliced(data[values]\u001b[38;5;241m.\u001b[39m_values, index\u001b[38;5;241m=\u001b[39mmultiindex)\n\u001b[0;32m--> 520\u001b[0m \u001b[38;5;28;01mreturn\u001b[39;00m \u001b[43mindexed\u001b[49m\u001b[38;5;241;43m.\u001b[39;49m\u001b[43munstack\u001b[49m\u001b[43m(\u001b[49m\u001b[43mcolumns_listlike\u001b[49m\u001b[43m)\u001b[49m\n",
      "File \u001b[0;32m~/opt/anaconda3/envs/evc/lib/python3.9/site-packages/pandas/core/series.py:4157\u001b[0m, in \u001b[0;36mSeries.unstack\u001b[0;34m(self, level, fill_value)\u001b[0m\n\u001b[1;32m   4114\u001b[0m \u001b[38;5;124;03m\"\"\"\u001b[39;00m\n\u001b[1;32m   4115\u001b[0m \u001b[38;5;124;03mUnstack, also known as pivot, Series with MultiIndex to produce DataFrame.\u001b[39;00m\n\u001b[1;32m   4116\u001b[0m \n\u001b[0;32m   (...)\u001b[0m\n\u001b[1;32m   4153\u001b[0m \u001b[38;5;124;03mb    2    4\u001b[39;00m\n\u001b[1;32m   4154\u001b[0m \u001b[38;5;124;03m\"\"\"\u001b[39;00m\n\u001b[1;32m   4155\u001b[0m \u001b[38;5;28;01mfrom\u001b[39;00m \u001b[38;5;21;01mpandas\u001b[39;00m\u001b[38;5;21;01m.\u001b[39;00m\u001b[38;5;21;01mcore\u001b[39;00m\u001b[38;5;21;01m.\u001b[39;00m\u001b[38;5;21;01mreshape\u001b[39;00m\u001b[38;5;21;01m.\u001b[39;00m\u001b[38;5;21;01mreshape\u001b[39;00m \u001b[38;5;28;01mimport\u001b[39;00m unstack\n\u001b[0;32m-> 4157\u001b[0m \u001b[38;5;28;01mreturn\u001b[39;00m \u001b[43munstack\u001b[49m\u001b[43m(\u001b[49m\u001b[38;5;28;43mself\u001b[39;49m\u001b[43m,\u001b[49m\u001b[43m \u001b[49m\u001b[43mlevel\u001b[49m\u001b[43m,\u001b[49m\u001b[43m \u001b[49m\u001b[43mfill_value\u001b[49m\u001b[43m)\u001b[49m\n",
      "File \u001b[0;32m~/opt/anaconda3/envs/evc/lib/python3.9/site-packages/pandas/core/reshape/reshape.py:491\u001b[0m, in \u001b[0;36munstack\u001b[0;34m(obj, level, fill_value)\u001b[0m\n\u001b[1;32m    489\u001b[0m \u001b[38;5;28;01mif\u001b[39;00m is_1d_only_ea_dtype(obj\u001b[38;5;241m.\u001b[39mdtype):\n\u001b[1;32m    490\u001b[0m     \u001b[38;5;28;01mreturn\u001b[39;00m _unstack_extension_series(obj, level, fill_value)\n\u001b[0;32m--> 491\u001b[0m unstacker \u001b[38;5;241m=\u001b[39m \u001b[43m_Unstacker\u001b[49m\u001b[43m(\u001b[49m\n\u001b[1;32m    492\u001b[0m \u001b[43m    \u001b[49m\u001b[43mobj\u001b[49m\u001b[38;5;241;43m.\u001b[39;49m\u001b[43mindex\u001b[49m\u001b[43m,\u001b[49m\u001b[43m \u001b[49m\u001b[43mlevel\u001b[49m\u001b[38;5;241;43m=\u001b[39;49m\u001b[43mlevel\u001b[49m\u001b[43m,\u001b[49m\u001b[43m \u001b[49m\u001b[43mconstructor\u001b[49m\u001b[38;5;241;43m=\u001b[39;49m\u001b[43mobj\u001b[49m\u001b[38;5;241;43m.\u001b[39;49m\u001b[43m_constructor_expanddim\u001b[49m\n\u001b[1;32m    493\u001b[0m \u001b[43m\u001b[49m\u001b[43m)\u001b[49m\n\u001b[1;32m    494\u001b[0m \u001b[38;5;28;01mreturn\u001b[39;00m unstacker\u001b[38;5;241m.\u001b[39mget_result(\n\u001b[1;32m    495\u001b[0m     obj\u001b[38;5;241m.\u001b[39m_values, value_columns\u001b[38;5;241m=\u001b[39m\u001b[38;5;28;01mNone\u001b[39;00m, fill_value\u001b[38;5;241m=\u001b[39mfill_value\n\u001b[1;32m    496\u001b[0m )\n",
      "File \u001b[0;32m~/opt/anaconda3/envs/evc/lib/python3.9/site-packages/pandas/core/reshape/reshape.py:140\u001b[0m, in \u001b[0;36m_Unstacker.__init__\u001b[0;34m(self, index, level, constructor)\u001b[0m\n\u001b[1;32m    133\u001b[0m \u001b[38;5;28;01mif\u001b[39;00m num_cells \u001b[38;5;241m>\u001b[39m np\u001b[38;5;241m.\u001b[39miinfo(np\u001b[38;5;241m.\u001b[39mint32)\u001b[38;5;241m.\u001b[39mmax:\n\u001b[1;32m    134\u001b[0m     warnings\u001b[38;5;241m.\u001b[39mwarn(\n\u001b[1;32m    135\u001b[0m         \u001b[38;5;124mf\u001b[39m\u001b[38;5;124m\"\u001b[39m\u001b[38;5;124mThe following operation may generate \u001b[39m\u001b[38;5;132;01m{\u001b[39;00mnum_cells\u001b[38;5;132;01m}\u001b[39;00m\u001b[38;5;124m cells \u001b[39m\u001b[38;5;124m\"\u001b[39m\n\u001b[1;32m    136\u001b[0m         \u001b[38;5;124mf\u001b[39m\u001b[38;5;124m\"\u001b[39m\u001b[38;5;124min the resulting pandas object.\u001b[39m\u001b[38;5;124m\"\u001b[39m,\n\u001b[1;32m    137\u001b[0m         PerformanceWarning,\n\u001b[1;32m    138\u001b[0m     )\n\u001b[0;32m--> 140\u001b[0m \u001b[38;5;28;43mself\u001b[39;49m\u001b[38;5;241;43m.\u001b[39;49m\u001b[43m_make_selectors\u001b[49m\u001b[43m(\u001b[49m\u001b[43m)\u001b[49m\n",
      "File \u001b[0;32m~/opt/anaconda3/envs/evc/lib/python3.9/site-packages/pandas/core/reshape/reshape.py:192\u001b[0m, in \u001b[0;36m_Unstacker._make_selectors\u001b[0;34m(self)\u001b[0m\n\u001b[1;32m    189\u001b[0m mask\u001b[38;5;241m.\u001b[39mput(selector, \u001b[38;5;28;01mTrue\u001b[39;00m)\n\u001b[1;32m    191\u001b[0m \u001b[38;5;28;01mif\u001b[39;00m mask\u001b[38;5;241m.\u001b[39msum() \u001b[38;5;241m<\u001b[39m \u001b[38;5;28mlen\u001b[39m(\u001b[38;5;28mself\u001b[39m\u001b[38;5;241m.\u001b[39mindex):\n\u001b[0;32m--> 192\u001b[0m     \u001b[38;5;28;01mraise\u001b[39;00m \u001b[38;5;167;01mValueError\u001b[39;00m(\u001b[38;5;124m\"\u001b[39m\u001b[38;5;124mIndex contains duplicate entries, cannot reshape\u001b[39m\u001b[38;5;124m\"\u001b[39m)\n\u001b[1;32m    194\u001b[0m \u001b[38;5;28mself\u001b[39m\u001b[38;5;241m.\u001b[39mgroup_index \u001b[38;5;241m=\u001b[39m comp_index\n\u001b[1;32m    195\u001b[0m \u001b[38;5;28mself\u001b[39m\u001b[38;5;241m.\u001b[39mmask \u001b[38;5;241m=\u001b[39m mask\n",
      "\u001b[0;31mValueError\u001b[0m: Index contains duplicate entries, cannot reshape"
     ]
    }
   ],
   "source": [
    "# NOTE: Run this cell to see the error\n",
    "(\n",
    "    df_alloys\n",
    "    # NOTE: I didn't add a UID here; let's see what happens....\n",
    "    \n",
    "    >> gr.tf_pivot_longer(\n",
    "        columns=[\"E_00\", \"E_45\", \"mu_00\", \"mu_45\"],\n",
    "        names_to=\"varang\",\n",
    "        values_to=\"value\"\n",
    "    )\n",
    "    >> gr.tf_separate(\n",
    "        column=\"varang\",\n",
    "        sep=\"_\",\n",
    "        into=[\"var\", \"ang\"],\n",
    "    )\n",
    "    >> gr.tf_pivot_wider(\n",
    "        names_from=\"var\",\n",
    "        values_from=\"value\",\n",
    "    )\n",
    ")"
   ]
  },
  {
   "cell_type": "markdown",
   "id": "86496a07",
   "metadata": {},
   "source": [
    "We had to do a *lot* of work to tidy this dataset. Perhaps there's a better way?\n"
   ]
  },
  {
   "cell_type": "markdown",
   "id": "0527b715",
   "metadata": {},
   "source": [
    "## A *magic* option: `\".value\"`\n",
    "\n",
    "To help minimize some of the work necessary for tidying, `gr.tf_pivot_longer()` provides some special functionality. To illustrate this, let's take a look at a full tidying effort on a dataset similar to the alloy one:\n"
   ]
  },
  {
   "cell_type": "code",
   "execution_count": 14,
   "id": "31cba47b",
   "metadata": {
    "collapsed": false
   },
   "outputs": [
    {
     "data": {
      "text/html": [
       "<div>\n",
       "<style scoped>\n",
       "    .dataframe tbody tr th:only-of-type {\n",
       "        vertical-align: middle;\n",
       "    }\n",
       "\n",
       "    .dataframe tbody tr th {\n",
       "        vertical-align: top;\n",
       "    }\n",
       "\n",
       "    .dataframe thead th {\n",
       "        text-align: right;\n",
       "    }\n",
       "</style>\n",
       "<table border=\"1\" class=\"dataframe\">\n",
       "  <thead>\n",
       "    <tr style=\"text-align: right;\">\n",
       "      <th></th>\n",
       "      <th>uid</th>\n",
       "      <th>idx</th>\n",
       "      <th>A</th>\n",
       "      <th>B</th>\n",
       "    </tr>\n",
       "  </thead>\n",
       "  <tbody>\n",
       "    <tr>\n",
       "      <th>0</th>\n",
       "      <td>0</td>\n",
       "      <td>01</td>\n",
       "      <td>1.0</td>\n",
       "      <td>1.0</td>\n",
       "    </tr>\n",
       "    <tr>\n",
       "      <th>1</th>\n",
       "      <td>0</td>\n",
       "      <td>02</td>\n",
       "      <td>5.0</td>\n",
       "      <td>NaN</td>\n",
       "    </tr>\n",
       "    <tr>\n",
       "      <th>2</th>\n",
       "      <td>1</td>\n",
       "      <td>01</td>\n",
       "      <td>2.0</td>\n",
       "      <td>3.0</td>\n",
       "    </tr>\n",
       "    <tr>\n",
       "      <th>3</th>\n",
       "      <td>1</td>\n",
       "      <td>02</td>\n",
       "      <td>6.0</td>\n",
       "      <td>NaN</td>\n",
       "    </tr>\n",
       "    <tr>\n",
       "      <th>4</th>\n",
       "      <td>2</td>\n",
       "      <td>01</td>\n",
       "      <td>3.0</td>\n",
       "      <td>5.0</td>\n",
       "    </tr>\n",
       "    <tr>\n",
       "      <th>5</th>\n",
       "      <td>2</td>\n",
       "      <td>02</td>\n",
       "      <td>7.0</td>\n",
       "      <td>NaN</td>\n",
       "    </tr>\n",
       "    <tr>\n",
       "      <th>6</th>\n",
       "      <td>3</td>\n",
       "      <td>01</td>\n",
       "      <td>4.0</td>\n",
       "      <td>7.0</td>\n",
       "    </tr>\n",
       "    <tr>\n",
       "      <th>7</th>\n",
       "      <td>3</td>\n",
       "      <td>02</td>\n",
       "      <td>8.0</td>\n",
       "      <td>NaN</td>\n",
       "    </tr>\n",
       "  </tbody>\n",
       "</table>\n",
       "</div>"
      ],
      "text/plain": [
       "   uid idx    A    B\n",
       "0    0  01  1.0  1.0\n",
       "1    0  02  5.0  NaN\n",
       "2    1  01  2.0  3.0\n",
       "3    1  02  6.0  NaN\n",
       "4    2  01  3.0  5.0\n",
       "5    2  02  7.0  NaN\n",
       "6    3  01  4.0  7.0\n",
       "7    3  02  8.0  NaN"
      ]
     },
     "execution_count": 14,
     "metadata": {},
     "output_type": "execute_result"
    }
   ],
   "source": [
    "## NOTE: No need to edit, this demonstrates the manual approach we've already seen\n",
    "(\n",
    "    gr.df_make(\n",
    "        A_01=[1,2,3,4],\n",
    "        A_02=[5,6,7,8],\n",
    "        B_01=[1,3,5,7],\n",
    "    )\n",
    "    # Generate a unique observation id\n",
    "    >> gr.tf_mutate(uid=DF.index)\n",
    "    # Pivot longer to turn column names into cell values\n",
    "    >> gr.tf_pivot_longer(\n",
    "        columns=[\"A_01\", \"A_02\", \"B_01\"],\n",
    "        names_to=\"varidx\",\n",
    "        values_to=\"value\",\n",
    "    )\n",
    "    # Separate the \"true\" column names from the cell entries\n",
    "    >> gr.tf_separate(\n",
    "        column=\"varidx\",\n",
    "        sep=\"_\",\n",
    "        into=[\"var\", \"idx\"],\n",
    "    )\n",
    "    # Pivot wider to place correct column names in header\n",
    "    >> gr.tf_pivot_wider(\n",
    "        names_from=\"var\",\n",
    "        values_from=\"value\",\n",
    "    )\n",
    ")"
   ]
  },
  {
   "cell_type": "markdown",
   "id": "588927c7",
   "metadata": {},
   "source": [
    "This gets the job done. However, there is a much more succinct way to tidy this dataset using just one call to `gr.tf_pivot_longer()` with the `\".value\"` argument.\n"
   ]
  },
  {
   "cell_type": "code",
   "execution_count": 15,
   "id": "5533ed28",
   "metadata": {
    "collapsed": false
   },
   "outputs": [
    {
     "data": {
      "text/html": [
       "<div>\n",
       "<style scoped>\n",
       "    .dataframe tbody tr th:only-of-type {\n",
       "        vertical-align: middle;\n",
       "    }\n",
       "\n",
       "    .dataframe tbody tr th {\n",
       "        vertical-align: top;\n",
       "    }\n",
       "\n",
       "    .dataframe thead th {\n",
       "        text-align: right;\n",
       "    }\n",
       "</style>\n",
       "<table border=\"1\" class=\"dataframe\">\n",
       "  <thead>\n",
       "    <tr style=\"text-align: right;\">\n",
       "      <th></th>\n",
       "      <th>idx</th>\n",
       "      <th>A</th>\n",
       "      <th>B</th>\n",
       "    </tr>\n",
       "  </thead>\n",
       "  <tbody>\n",
       "    <tr>\n",
       "      <th>0</th>\n",
       "      <td>01</td>\n",
       "      <td>1.0</td>\n",
       "      <td>1.0</td>\n",
       "    </tr>\n",
       "    <tr>\n",
       "      <th>1</th>\n",
       "      <td>02</td>\n",
       "      <td>5.0</td>\n",
       "      <td>NaN</td>\n",
       "    </tr>\n",
       "    <tr>\n",
       "      <th>2</th>\n",
       "      <td>01</td>\n",
       "      <td>2.0</td>\n",
       "      <td>3.0</td>\n",
       "    </tr>\n",
       "    <tr>\n",
       "      <th>3</th>\n",
       "      <td>02</td>\n",
       "      <td>6.0</td>\n",
       "      <td>NaN</td>\n",
       "    </tr>\n",
       "    <tr>\n",
       "      <th>4</th>\n",
       "      <td>01</td>\n",
       "      <td>3.0</td>\n",
       "      <td>5.0</td>\n",
       "    </tr>\n",
       "    <tr>\n",
       "      <th>5</th>\n",
       "      <td>02</td>\n",
       "      <td>7.0</td>\n",
       "      <td>NaN</td>\n",
       "    </tr>\n",
       "    <tr>\n",
       "      <th>6</th>\n",
       "      <td>01</td>\n",
       "      <td>4.0</td>\n",
       "      <td>7.0</td>\n",
       "    </tr>\n",
       "    <tr>\n",
       "      <th>7</th>\n",
       "      <td>02</td>\n",
       "      <td>8.0</td>\n",
       "      <td>NaN</td>\n",
       "    </tr>\n",
       "  </tbody>\n",
       "</table>\n",
       "</div>"
      ],
      "text/plain": [
       "  idx    A    B\n",
       "0  01  1.0  1.0\n",
       "1  02  5.0  NaN\n",
       "2  01  2.0  3.0\n",
       "3  02  6.0  NaN\n",
       "4  01  3.0  5.0\n",
       "5  02  7.0  NaN\n",
       "6  01  4.0  7.0\n",
       "7  02  8.0  NaN"
      ]
     },
     "execution_count": 15,
     "metadata": {},
     "output_type": "execute_result"
    }
   ],
   "source": [
    "## NOTE: No need to edit, this demonstrates the \".value\" approach\n",
    "(\n",
    "    gr.df_make(\n",
    "        A_01=[1,2,3,4],\n",
    "        A_02=[5,6,7,8],\n",
    "        B_01=[1,3,5,7],\n",
    "    )\n",
    "    \n",
    ">> gr.tf_pivot_longer(\n",
    "        columns=[\"A_01\", \"A_02\", \"B_01\"],\n",
    "        names_to=[\".value\", \"idx\"],\n",
    "        names_sep=\"_\",\n",
    "    )\n",
    ")"
   ]
  },
  {
   "cell_type": "markdown",
   "id": "d1ea2c32",
   "metadata": {},
   "source": [
    "This style of calling `gr.tf_pivot_longer()` with the `names_sep` argument effectively *embeds* a call to `gr.tf_separate()` within the pivot. The verb then automates the tedious steps of creating a unique ID and pivoting wider.\n",
    "\n",
    "In order to use this special functionality, we have to target the final column names using the special `\".value\"` argument. Note that this shows up in the `names_to` set of arguments; where we would have specified the name of the column that we would eventually pivot wider:\n",
    "\n",
    "```python\n",
    "    names_to=[\"var\", \"idx\"],\n",
    "    names_sep=\"_\",\n",
    "```\n",
    "\n",
    "we instead flag this column as the target to pivot wider with the special argument\n",
    "\n",
    "```python\n",
    "    names_to=[\".value\", \"idx\"],\n",
    "    names_sep=\"_\",\n",
    "```\n"
   ]
  },
  {
   "cell_type": "markdown",
   "id": "9401e4ee",
   "metadata": {},
   "source": [
    "### __q6__ Use the `\".value\"` approach\n",
    "\n",
    "Use the `\".value\"` approach to tidy the alloy dataset in one pivot.\n"
   ]
  },
  {
   "cell_type": "code",
   "execution_count": 16,
   "id": "b8788a03",
   "metadata": {
    "collapsed": false
   },
   "outputs": [
    {
     "name": "stderr",
     "output_type": "stream",
     "text": [
      "/Users/zach/Git/py_grama/grama/tran_pivot.py:471: SettingWithCopyWarning: \n",
      "A value is trying to be set on a copy of a slice from a DataFrame\n",
      "\n",
      "See the caveats in the documentation: https://pandas.pydata.org/pandas-docs/stable/user_guide/indexing.html#returning-a-view-versus-a-copy\n"
     ]
    },
    {
     "data": {
      "text/html": [
       "<div>\n",
       "<style scoped>\n",
       "    .dataframe tbody tr th:only-of-type {\n",
       "        vertical-align: middle;\n",
       "    }\n",
       "\n",
       "    .dataframe tbody tr th {\n",
       "        vertical-align: top;\n",
       "    }\n",
       "\n",
       "    .dataframe thead th {\n",
       "        text-align: right;\n",
       "    }\n",
       "</style>\n",
       "<table border=\"1\" class=\"dataframe\">\n",
       "  <thead>\n",
       "    <tr style=\"text-align: right;\">\n",
       "      <th></th>\n",
       "      <th>thick</th>\n",
       "      <th>angle</th>\n",
       "      <th>E</th>\n",
       "      <th>mu</th>\n",
       "    </tr>\n",
       "  </thead>\n",
       "  <tbody>\n",
       "    <tr>\n",
       "      <th>0</th>\n",
       "      <td>0.022</td>\n",
       "      <td>00</td>\n",
       "      <td>10600.0</td>\n",
       "      <td>0.321</td>\n",
       "    </tr>\n",
       "    <tr>\n",
       "      <th>1</th>\n",
       "      <td>0.022</td>\n",
       "      <td>45</td>\n",
       "      <td>10700.0</td>\n",
       "      <td>0.329</td>\n",
       "    </tr>\n",
       "    <tr>\n",
       "      <th>2</th>\n",
       "      <td>0.022</td>\n",
       "      <td>00</td>\n",
       "      <td>10600.0</td>\n",
       "      <td>0.323</td>\n",
       "    </tr>\n",
       "    <tr>\n",
       "      <th>3</th>\n",
       "      <td>0.022</td>\n",
       "      <td>45</td>\n",
       "      <td>10500.0</td>\n",
       "      <td>0.331</td>\n",
       "    </tr>\n",
       "    <tr>\n",
       "      <th>4</th>\n",
       "      <td>0.032</td>\n",
       "      <td>00</td>\n",
       "      <td>10400.0</td>\n",
       "      <td>0.329</td>\n",
       "    </tr>\n",
       "    <tr>\n",
       "      <th>5</th>\n",
       "      <td>0.032</td>\n",
       "      <td>45</td>\n",
       "      <td>10400.0</td>\n",
       "      <td>0.318</td>\n",
       "    </tr>\n",
       "    <tr>\n",
       "      <th>6</th>\n",
       "      <td>0.032</td>\n",
       "      <td>00</td>\n",
       "      <td>10300.0</td>\n",
       "      <td>0.319</td>\n",
       "    </tr>\n",
       "    <tr>\n",
       "      <th>7</th>\n",
       "      <td>0.032</td>\n",
       "      <td>45</td>\n",
       "      <td>10500.0</td>\n",
       "      <td>0.326</td>\n",
       "    </tr>\n",
       "  </tbody>\n",
       "</table>\n",
       "</div>"
      ],
      "text/plain": [
       "   thick angle        E     mu\n",
       "0  0.022    00  10600.0  0.321\n",
       "1  0.022    45  10700.0  0.329\n",
       "2  0.022    00  10600.0  0.323\n",
       "3  0.022    45  10500.0  0.331\n",
       "4  0.032    00  10400.0  0.329\n",
       "5  0.032    45  10400.0  0.318\n",
       "6  0.032    00  10300.0  0.319\n",
       "7  0.032    45  10500.0  0.326"
      ]
     },
     "execution_count": 16,
     "metadata": {},
     "output_type": "execute_result"
    }
   ],
   "source": [
    "## TASK: Use the \".value\" approach to tidy the alloy dataset in one pivot\n",
    "(\n",
    "    gr.df_make(\n",
    "        thick=[0.022]*2 + [0.032]*2,\n",
    "        E_00=[10600, 10600, 10400, 10300],\n",
    "        mu_00=[0.321, 0.323, 0.329, 0.319],\n",
    "        E_45=[10700, 10500, 10400, 10500],\n",
    "        mu_45=[0.329, 0.331, 0.318, 0.326],\n",
    "    )\n",
    "    >> gr.tf_pivot_longer(\n",
    "        columns=[\"E_00\", \"mu_00\", \"E_45\", \"mu_45\"],\n",
    "        names_to=[\".value\", \"angle\"],\n",
    "        names_sep=\"_\",\n",
    "    )\n",
    ")\n"
   ]
  }
 ],
 "metadata": {
  "kernelspec": {
   "display_name": "Python 3 (ipykernel)",
   "language": "python",
   "name": "python3"
  },
  "language_info": {
   "codemirror_mode": {
    "name": "ipython",
    "version": 3
   },
   "file_extension": ".py",
   "mimetype": "text/x-python",
   "name": "python",
   "nbconvert_exporter": "python",
   "pygments_lexer": "ipython3",
   "version": "3.9.7"
  }
 },
 "nbformat": 4,
 "nbformat_minor": 5
}
