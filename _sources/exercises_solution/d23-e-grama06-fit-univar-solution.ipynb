{
 "cells": [
  {
   "cell_type": "markdown",
   "id": "2a53fcd9",
   "metadata": {},
   "source": [
    "# Fitting Univariate Distributions\n",
    "\n",
    "*Purpose*: \n"
   ]
  },
  {
   "cell_type": "markdown",
   "id": "a30f9e45",
   "metadata": {},
   "source": [
    "## Setup\n"
   ]
  },
  {
   "cell_type": "code",
   "execution_count": 1,
   "id": "6fca6435",
   "metadata": {
    "collapsed": false
   },
   "outputs": [],
   "source": [
    "import grama as gr\n",
    "DF = gr.Intention()\n",
    "%matplotlib inline"
   ]
  },
  {
   "cell_type": "markdown",
   "id": "f62f7cee",
   "metadata": {},
   "source": [
    "For this exercise, we'll study a dataset of observations on die cast aluminum parts.\n"
   ]
  },
  {
   "cell_type": "code",
   "execution_count": 2,
   "id": "ee47d95e",
   "metadata": {
    "collapsed": false
   },
   "outputs": [],
   "source": [
    "from grama.data import df_shewhart\n"
   ]
  },
  {
   "cell_type": "markdown",
   "id": "a2734588",
   "metadata": {},
   "source": [
    "# Why fit a distribution?\n",
    "\n",
    "(We fit a distribution to model variability)\n"
   ]
  },
  {
   "cell_type": "code",
   "execution_count": 3,
   "id": "1951fc5e",
   "metadata": {
    "collapsed": false
   },
   "outputs": [
    {
     "data": {
      "image/png": "[encoded data removed]",
      "text/plain": [
       "<Figure size 640x480 with 1 Axes>"
      ]
     },
     "metadata": {},
     "output_type": "display_data"
    },
    {
     "data": {
      "text/plain": [
       "<ggplot: (8762646263754)>"
      ]
     },
     "execution_count": 3,
     "metadata": {},
     "output_type": "execute_result"
    }
   ],
   "source": [
    "# NOTE: No need to edit; run and inspect\n",
    "(\n",
    "    df_shewhart\n",
    "    >> gr.ggplot(gr.aes(\"tensile_strength\"))\n",
    "    + gr.geom_histogram(bins=20)\n",
    ")"
   ]
  },
  {
   "cell_type": "markdown",
   "id": "c26cb724",
   "metadata": {},
   "source": [
    "## Dangers of assuming the mean\n",
    "\n",
    "Why don't we just take the mean of `tensile_strength` and use that for design? It turns out this approach is *very dangerous* when safety is a consideration. Let's take a look at the tensile strength of an aluminum alloy.\n"
   ]
  },
  {
   "cell_type": "code",
   "execution_count": 4,
   "id": "4db48835",
   "metadata": {
    "collapsed": false
   },
   "outputs": [
    {
     "data": {
      "image/png": "[encoded data removed]",
      "text/plain": [
       "<Figure size 640x480 with 1 Axes>"
      ]
     },
     "metadata": {},
     "output_type": "display_data"
    },
    {
     "data": {
      "text/plain": [
       "<ggplot: (8762646512460)>"
      ]
     },
     "execution_count": 4,
     "metadata": {},
     "output_type": "execute_result"
    }
   ],
   "source": [
    "# NOTE: No need to edit; run and inspect\n",
    "(\n",
    "    df_shewhart\n",
    "    >> gr.ggplot(gr.aes(\"tensile_strength\"))\n",
    "    + gr.geom_histogram(bins=20)\n",
    "    + gr.geom_vline(\n",
    "        data=df_shewhart\n",
    "        >> gr.tf_summarize(tensile_strength=gr.mean(DF.tensile_strength)),\n",
    "        mapping=gr.aes(xintercept=\"tensile_strength\"),\n",
    "        linetype=\"dashed\",\n",
    "    )\n",
    ")"
   ]
  },
  {
   "cell_type": "markdown",
   "id": "640e3b9e",
   "metadata": {},
   "source": [
    "Clearly, values of `tensile_strength` tend to land both above and below the mean. But what ramifications does this have for engineering design?\n"
   ]
  },
  {
   "cell_type": "markdown",
   "id": "b7a1c56b",
   "metadata": {},
   "source": [
    "### __qX__ What fraction of `tensile_strength` is below the mean?\n",
    "\n",
    "Compute the fraction of observations in `df_shewhart` where `tensile_strength < mean(tensile_strength)`. Answer the questions under *observations* below.\n"
   ]
  },
  {
   "cell_type": "code",
   "execution_count": 5,
   "id": "2776fbae",
   "metadata": {
    "collapsed": false
   },
   "outputs": [
    {
     "data": {
      "text/html": [
       "<div>\n",
       "<style scoped>\n",
       "    .dataframe tbody tr th:only-of-type {\n",
       "        vertical-align: middle;\n",
       "    }\n",
       "\n",
       "    .dataframe tbody tr th {\n",
       "        vertical-align: top;\n",
       "    }\n",
       "\n",
       "    .dataframe thead th {\n",
       "        text-align: right;\n",
       "    }\n",
       "</style>\n",
       "<table border=\"1\" class=\"dataframe\">\n",
       "  <thead>\n",
       "    <tr style=\"text-align: right;\">\n",
       "      <th></th>\n",
       "      <th>frac</th>\n",
       "    </tr>\n",
       "  </thead>\n",
       "  <tbody>\n",
       "    <tr>\n",
       "      <th>0</th>\n",
       "      <td>0.5</td>\n",
       "    </tr>\n",
       "  </tbody>\n",
       "</table>\n",
       "</div>"
      ],
      "text/plain": [
       "   frac\n",
       "0   0.5"
      ]
     },
     "execution_count": 5,
     "metadata": {},
     "output_type": "execute_result"
    }
   ],
   "source": [
    "(\n",
    "    df_shewhart\n",
    "    >> gr.tf_summarize(\n",
    "        frac=gr.pr(DF.tensile_strength < gr.mean(DF.tensile_strength))\n",
    "    )\n",
    ")"
   ]
  },
  {
   "cell_type": "markdown",
   "id": "528da469",
   "metadata": {},
   "source": [
    "*Observations*\n",
    "\n",
    "For these questions, assume the variability in `tensile_strength` is real; that is, the variability is not simply due to measurement error.\n",
    "\n",
    "- What fraction of observations have `tensile_strength < mean(tensile_strength)`?\n",
    "  - I find that `frac == 0.5` (i.e. 50%)\n",
    "- Suppose a design assumed `mean(tensile_strength)` as the design stress; that is, every part would be subject to a stress equal to `mean(tensile_strength)`. The fraction you computed above would be the fraction of parts that would fail. Would this failure rate be acceptable for any engineering system involving human safety?\n",
    "  - Absolutely not; a failure rate of 50% would be completely unacceptable for any application involving human safety.\n"
   ]
  },
  {
   "cell_type": "markdown",
   "id": "01c52710",
   "metadata": {},
   "source": [
    "## Random variables\n",
    "\n",
    "Clearly `tensile_strength` does not take a single value; therefore, we should think of `tensile_strength` as a *random variable*. A random variable is a mathematical object that we can use to model an uncertain quantity. Unlike a *deterministic variable* that has one fixed value (say $x = 1$), a random variable can take a different value each time we *observe* it. For instance, if $X$ were a random variable, and we used $X_i$ to denote the value that occurs on the $i$-th observation, then we might see a sequence like\n",
    "\n",
    "$$X_1 = 1, X_2 = -3, X_3 = 1, X_4 = 5, \\dots$$\n",
    "\n",
    "What counts as an *observation* depends on what we are using the random variable to model. Essentially, an observation is an occurrence that gives us the potential to \"see\" a new value. \n",
    "\n",
    "Let's take a look at the `tensile_strength` example to get a better sense of these ideas.\n"
   ]
  },
  {
   "cell_type": "markdown",
   "id": "bcd80adf",
   "metadata": {},
   "source": [
    "For the `tensile_strength`, we saw a sequence of different values:"
   ]
  },
  {
   "cell_type": "code",
   "execution_count": 6,
   "id": "d11f09fc",
   "metadata": {
    "collapsed": false
   },
   "outputs": [
    {
     "data": {
      "text/html": [
       "<div>\n",
       "<style scoped>\n",
       "    .dataframe tbody tr th:only-of-type {\n",
       "        vertical-align: middle;\n",
       "    }\n",
       "\n",
       "    .dataframe tbody tr th {\n",
       "        vertical-align: top;\n",
       "    }\n",
       "\n",
       "    .dataframe thead th {\n",
       "        text-align: right;\n",
       "    }\n",
       "</style>\n",
       "<table border=\"1\" class=\"dataframe\">\n",
       "  <thead>\n",
       "    <tr style=\"text-align: right;\">\n",
       "      <th></th>\n",
       "      <th>specimen</th>\n",
       "      <th>tensile_strength</th>\n",
       "      <th>hardness</th>\n",
       "      <th>density</th>\n",
       "    </tr>\n",
       "  </thead>\n",
       "  <tbody>\n",
       "    <tr>\n",
       "      <th>0</th>\n",
       "      <td>1</td>\n",
       "      <td>29314</td>\n",
       "      <td>53.0</td>\n",
       "      <td>2.666</td>\n",
       "    </tr>\n",
       "    <tr>\n",
       "      <th>1</th>\n",
       "      <td>2</td>\n",
       "      <td>34860</td>\n",
       "      <td>70.2</td>\n",
       "      <td>2.708</td>\n",
       "    </tr>\n",
       "    <tr>\n",
       "      <th>2</th>\n",
       "      <td>3</td>\n",
       "      <td>36818</td>\n",
       "      <td>84.3</td>\n",
       "      <td>2.865</td>\n",
       "    </tr>\n",
       "    <tr>\n",
       "      <th>3</th>\n",
       "      <td>4</td>\n",
       "      <td>30120</td>\n",
       "      <td>55.3</td>\n",
       "      <td>2.627</td>\n",
       "    </tr>\n",
       "  </tbody>\n",
       "</table>\n",
       "</div>"
      ],
      "text/plain": [
       "   specimen  tensile_strength  hardness  density\n",
       "0         1             29314      53.0    2.666\n",
       "1         2             34860      70.2    2.708\n",
       "2         3             36818      84.3    2.865\n",
       "3         4             30120      55.3    2.627"
      ]
     },
     "execution_count": 6,
     "metadata": {},
     "output_type": "execute_result"
    }
   ],
   "source": [
    "(\n",
    "    df_shewhart\n",
    "    >> gr.tf_head(4)\n",
    ")"
   ]
  },
  {
   "cell_type": "markdown",
   "id": "8ba01919",
   "metadata": {},
   "source": [
    "Every time we manufacture a new part, we perform a sequence of manufacturing steps that work together to \"lock in\" a particular value of `tensile_strength`. Those individual steps tend to go slightly differently each time we make a part (e.g. an operator calls in sick one day, we get a slightly more dense batch of raw material, it's a particularly hot summer day, etc.), so we end up with different properties in each part.\n",
    "\n",
    "Given the complicated realities of manfacturing, it makes sense to think of an *observation* as being one complete run of the manufacturing process that generates a particular part with its own `tensile_strength`. This is what the `specimen` column in `df_shewhart` refers to; a unique identifier tracking individual runs of the complete manufacturing process, resulting in a unique part.\n"
   ]
  },
  {
   "cell_type": "markdown",
   "id": "c27e0df2",
   "metadata": {},
   "source": [
    "```{admonition} Nomenclature: A *realization* is like a single roll of a die\n",
    "Some nomenclature: When we talk about random quantities, we use the term *realization* (or *observation*) to refer to a single event that yields a random value, according to a particular distribution. For instance, a single manufactured part will have a realized strength value. If we take multiple realizations, we will tend to see different values. For instance, we saw a large amount of variability among the realized `tensile_strength` values above.\n",
    "\n",
    "A single realization tells us very little about how the distribution tends to behave, but a set of realizations (a *sample*) will give us a sense of how the random values tend to behave *collectively*. A distribution is a way to model that collective behavior.\n",
    "```"
   ]
  },
  {
   "cell_type": "markdown",
   "id": "3fc94348",
   "metadata": {},
   "source": [
    "## A distribution defines a random variable\n",
    "\n",
    "As we saw in `e-stat04-distributions`, we can use distributions to quantitatively describe an uncertain quantity. **A distribution defines a random variable**. We say that a random variable $X$ is *distributed according to* a particular density $\\rho$, and we express the same statement mathematically as\n",
    "\n",
    "$$X \\sim \\rho.$$\n",
    "\n",
    "We learned how to compute useful quantities using distributions in `e-stat04-distributions`; in the rest of this exercise, we'll learn how to *fit* a distribution in order use information from a dataset to model observations from the physical world.\n"
   ]
  },
  {
   "cell_type": "markdown",
   "id": "202f813b",
   "metadata": {},
   "source": [
    "# The steps to fitting\n",
    "\n",
    "1. Check for *statistical control*\n",
    "2. Select candidate distributions\n",
    "3. Fit and assess\n"
   ]
  },
  {
   "cell_type": "markdown",
   "id": "02d292ea",
   "metadata": {},
   "source": [
    "# Check for *statistical control*\n",
    "\n"
   ]
  },
  {
   "cell_type": "markdown",
   "id": "390afe55",
   "metadata": {},
   "source": [
    "### __qX__ Make a histogram of the `tensile_strength`\n"
   ]
  },
  {
   "cell_type": "code",
   "execution_count": 7,
   "id": "60a0bb20",
   "metadata": {
    "collapsed": false
   },
   "outputs": [
    {
     "data": {
      "image/png": "[encoded data removed]",
      "text/plain": [
       "<Figure size 640x480 with 1 Axes>"
      ]
     },
     "metadata": {},
     "output_type": "display_data"
    },
    {
     "data": {
      "text/plain": [
       "<ggplot: (8762646489266)>"
      ]
     },
     "execution_count": 7,
     "metadata": {},
     "output_type": "execute_result"
    }
   ],
   "source": [
    "## TASK:\n",
    "(\n",
    "    df_shewhart\n",
    "    >> gr.ggplot(gr.aes(\"tensile_strength\"))\n",
    "    + gr.geom_histogram(bins=15)\n",
    ")\n",
    "# solution-end"
   ]
  },
  {
   "cell_type": "markdown",
   "id": "6dca1b99",
   "metadata": {},
   "source": [
    "*Observations*\n",
    "\n"
   ]
  },
  {
   "cell_type": "markdown",
   "id": "960435a9",
   "metadata": {},
   "source": [
    "*Note*: To help with the next task, it will be helpful to know about the *integer division* operator `//`. This divides by a desired value, but rounds down to the nearest integer.\n"
   ]
  },
  {
   "cell_type": "code",
   "execution_count": 8,
   "id": "cb6fe299",
   "metadata": {
    "collapsed": false
   },
   "outputs": [
    {
     "name": "stdout",
     "output_type": "stream",
     "text": [
      "1 // 4 = 0\n",
      "2 // 4 = 0\n",
      "3 // 4 = 0\n",
      "4 // 4 = 1\n",
      "5 // 4 = 1\n"
     ]
    }
   ],
   "source": [
    "print(\"1 // 4 = {}\".format(1 // 4))\n",
    "print(\"2 // 4 = {}\".format(2 // 4))\n",
    "print(\"3 // 4 = {}\".format(3 // 4))\n",
    "print(\"4 // 4 = {}\".format(4 // 4))\n",
    "print(\"5 // 4 = {}\".format(5 // 4))"
   ]
  },
  {
   "cell_type": "markdown",
   "id": "91d73ed4",
   "metadata": {},
   "source": [
    "## Control charts\n",
    "\n",
    "TODO\n",
    "\n",
    "- By taking *batch means*, we can use the central limit theorem to make quantitative, statistical statements about the observations.\n",
    "- By taking *small* batches, we can attribute strange patterns to a small number of observations. This gives us somewhere to look if we detect strange behavior.\n",
    "\n",
    "The following is an example of a control chart: The points are batch means, the solid horizontal line is the mean of all observations, and the dashed lines are the *control limits* (discussed below). With this chart, we can look for various kinds of patterns:\n"
   ]
  },
  {
   "cell_type": "markdown",
   "id": "353dcaac",
   "metadata": {},
   "source": [
    "![Example control chart demonstrating two kinds of patters: a batch mean that exceeds the control limits, and a \"run\" of batch means that lies to one side of the grand mean.](images/control-chart.png)\n"
   ]
  },
  {
   "cell_type": "markdown",
   "id": "f6fe706d",
   "metadata": {},
   "source": [
    "Some patterns illustrated above:\n",
    "\n",
    "- Outliers: The control limits (dashed lines) are constructed such that about one batch mean in a thousand should lie outside the limits. Batch means that exceed the limits are therefore suspicious, and worth investigating further.\n",
    "- Off-center runs: Batch means should be distributed roughly equally above and below the grand mean (solid line). A sequence (a \"run\") of batch means that lie all above (or all below) the grand mean are therefore suspicious, and worth investigating further.\n"
   ]
  },
  {
   "cell_type": "markdown",
   "id": "df25a101",
   "metadata": {},
   "source": [
    "If you detect suspicious patterns using a control chart, then there is evidence that the process being studied is *not* under statistical control. The batches associated with suspicious behavior should then be investigated in further detail, in order to hunt down and eliminate any assignable cause(s) of variability.\n",
    "\n",
    "If you *do not* detect suspicious patterns, then you can *provisionally* state that the process is under statistical control. A quantity under statistical control can be treated as random, which will endorse modeling that quantity with a distribution.\n"
   ]
  },
  {
   "cell_type": "markdown",
   "id": "51a07be3",
   "metadata": {},
   "source": [
    "### __qX__ Add a group identifier\n",
    "\n",
    "Create a group identifier column `id_group` that assigns observations to consecutive groups of four. Make sure the first group identifier is `0`, and use sequential integers.\n"
   ]
  },
  {
   "cell_type": "code",
   "execution_count": 9,
   "id": "5ef2890f",
   "metadata": {
    "collapsed": false
   },
   "outputs": [],
   "source": [
    "## TODO: Create a group identifier column to make\n",
    "# batches of 4 consecutive values\n",
    "n_grp = 4\n",
    "\n",
    "df_rolling = (\n",
    "    df_shewhart\n",
    "\n",
    "    >> gr.tf_mutate(id_group=DF.index // n_grp)\n",
    ")\n",
    "\n",
    "## NOTE: Don't edit the following; use this to check your work\n",
    "assert \\\n",
    "    \"id_group\" in df_rolling.columns, \\\n",
    "    \"df_rolling missing the id_group column\"\n",
    "\n",
    "assert \\\n",
    "    all(df_rolling.id_group[:8] == [0]*4 + [1]*4), \\\n",
    "    \"The id_group column is incorrect; \" + \\\n",
    "    \"the first 8 values should be 0, 0, 0, 0, 1, 1, 1, 1\"\n"
   ]
  },
  {
   "cell_type": "markdown",
   "id": "377ab586",
   "metadata": {},
   "source": [
    "### __qX__ Compute the batch means\n",
    "\n",
    "Compute the mean within each consecutive \"batch\" of observations.\n"
   ]
  },
  {
   "cell_type": "code",
   "execution_count": 10,
   "id": "2ea20d18",
   "metadata": {
    "collapsed": false
   },
   "outputs": [
    {
     "data": {
      "image/png": "[encoded data removed]",
      "text/plain": [
       "<Figure size 640x480 with 1 Axes>"
      ]
     },
     "metadata": {},
     "output_type": "display_data"
    },
    {
     "data": {
      "text/plain": [
       "<ggplot: (8762646969314)>"
      ]
     },
     "execution_count": 10,
     "metadata": {},
     "output_type": "execute_result"
    }
   ],
   "source": [
    "## TASK: Compute the `batch_mean` within \n",
    "# each group of observations\n",
    "df_batches = (\n",
    "    df_rolling\n",
    "\n",
    "    >> gr.tf_group_by(DF.id_group)\n",
    "    >> gr.tf_summarize(\n",
    "        batch_mean=gr.mean(DF.tensile_strength)\n",
    "    )\n",
    ")\n",
    "\n",
    "## NOTE: Don't edit the following; use this to check your work\n",
    "assert \\\n",
    "    df_batches.shape[0] == (df_shewhart.shape[0] / n_grp), \\\n",
    "    \"Size of df_batches is incorrect; \" + \\\n",
    "    \"make sure you grouped properly.\"\n",
    "\n",
    "(\n",
    "    df_batches\n",
    "    >> gr.ggplot(gr.aes(\"id_group\", \"batch_mean\"))\n",
    "    + gr.geom_point()\n",
    ")"
   ]
  },
  {
   "cell_type": "markdown",
   "id": "db7bb280",
   "metadata": {},
   "source": [
    "## Control limits\n",
    "\n",
    "Remember from the Monte Carlo exercise that a confidence interval for the mean can be approximated using the central limit theorem via\n",
    "\n",
    "$$[\\hat{\\mu} - q \\hat{\\sigma} / \\sqrt{n}, \\hat{\\mu} + q \\hat{\\sigma} / \\sqrt{n}],$$\n",
    "\n",
    "where $\\hat{\\mu}$ is the sample mean, $\\hat{\\sigma}$ is the sample standard deviation, and $n$ is the number of samples used to compute $\\hat{\\mu}$.\n"
   ]
  },
  {
   "cell_type": "code",
   "execution_count": 11,
   "id": "c512b5b3",
   "metadata": {
    "collapsed": false
   },
   "outputs": [
    {
     "data": {
      "text/plain": [
       "0.0026997960632601866"
      ]
     },
     "execution_count": 11,
     "metadata": {},
     "output_type": "execute_result"
    }
   ],
   "source": [
    "# NOTE: No need to edit; this computes the probability of\n",
    "# finding a batch mean outside the control limits\n",
    "mg_norm = gr.marg_mom(\"norm\", mean=0, sd=1)\n",
    "mg_norm.p(-3) * 2\n"
   ]
  },
  {
   "cell_type": "code",
   "execution_count": 12,
   "id": "be1e81f1",
   "metadata": {
    "collapsed": false
   },
   "outputs": [
    {
     "data": {
      "text/html": [
       "<div>\n",
       "<style scoped>\n",
       "    .dataframe tbody tr th:only-of-type {\n",
       "        vertical-align: middle;\n",
       "    }\n",
       "\n",
       "    .dataframe tbody tr th {\n",
       "        vertical-align: top;\n",
       "    }\n",
       "\n",
       "    .dataframe thead th {\n",
       "        text-align: right;\n",
       "    }\n",
       "</style>\n",
       "<table border=\"1\" class=\"dataframe\">\n",
       "  <thead>\n",
       "    <tr style=\"text-align: right;\">\n",
       "      <th></th>\n",
       "      <th>tys_mean</th>\n",
       "      <th>tys_sd</th>\n",
       "      <th>n</th>\n",
       "    </tr>\n",
       "  </thead>\n",
       "  <tbody>\n",
       "    <tr>\n",
       "      <th>0</th>\n",
       "      <td>31869.366667</td>\n",
       "      <td>3996.380795</td>\n",
       "      <td>60</td>\n",
       "    </tr>\n",
       "  </tbody>\n",
       "</table>\n",
       "</div>"
      ],
      "text/plain": [
       "       tys_mean       tys_sd   n\n",
       "0  31869.366667  3996.380795  60"
      ]
     },
     "execution_count": 12,
     "metadata": {},
     "output_type": "execute_result"
    }
   ],
   "source": [
    "# NOTE: No need to edit\n",
    "df_stats = (\n",
    "    df_shewhart\n",
    "    >> gr.tf_summarize(\n",
    "        tys_mean=gr.mean(DF.tensile_strength),\n",
    "        tys_sd=gr.sd(DF.tensile_strength),\n",
    "        n=gr.n(DF.tensile_strength),\n",
    "    )\n",
    ")\n",
    "df_stats\n"
   ]
  },
  {
   "cell_type": "markdown",
   "id": "c4c454f2",
   "metadata": {},
   "source": [
    "### __qX__ Compute the control limits\n",
    "\n",
    "Compute the control limits for the batch means. Use a multiplier of $q = 3$. Answer the questions under *observations* below.\n"
   ]
  },
  {
   "cell_type": "code",
   "execution_count": 13,
   "id": "e82bd1b4",
   "metadata": {
    "collapsed": false
   },
   "outputs": [
    {
     "name": "stdout",
     "output_type": "stream",
     "text": [
      "0    37863.937859\n",
      "Name: tys_hi, dtype: float64\n"
     ]
    },
    {
     "data": {
      "image/png": "[encoded data removed]",
      "text/plain": [
       "<Figure size 640x480 with 1 Axes>"
      ]
     },
     "metadata": {},
     "output_type": "display_data"
    },
    {
     "data": {
      "text/plain": [
       "<ggplot: (8762646972895)>"
      ]
     },
     "execution_count": 13,
     "metadata": {},
     "output_type": "execute_result"
    }
   ],
   "source": [
    "df_limits = (\n",
    "    df_stats\n",
    "    >> gr.tf_mutate(\n",
    "        tys_lo=DF.tys_mean - 3 * DF.tys_sd / gr.sqrt(n_grp),\n",
    "        tys_hi=DF.tys_mean + 3 * DF.tys_sd / gr.sqrt(n_grp),\n",
    "    )\n",
    ")\n",
    "\n",
    "## NOTE: Don't edit the following; use this to check your work\n",
    "print(df_limits.tys_hi)\n",
    "assert \\\n",
    "    all(abs(df_limits.tys_lo - 25874.795475) < 1e-2), \\\n",
    "    \"Lower control limit is incorrect; \" + \\\n",
    "    \"did you use the same sample size used to compute \" + \\\n",
    "    \"the batch means?\"\n",
    "assert \\\n",
    "    all(abs(df_limits.tys_hi - 37863.937859) < 1e-2), \\\n",
    "    \"Upper control limit is incorrect; \" + \\\n",
    "    \"did you use the same sample size used to compute \" + \\\n",
    "    \"the batch means?\"\n",
    "\n",
    "(\n",
    "    df_batches\n",
    "    >> gr.ggplot(gr.aes(\"id_group\", \"batch_mean\"))\n",
    "    + gr.geom_hline(\n",
    "        data=df_limits,\n",
    "        mapping=gr.aes(yintercept=\"tys_lo\"),\n",
    "        linetype=\"dashed\",\n",
    "    )\n",
    "    + gr.geom_hline(\n",
    "        data=df_limits,\n",
    "        mapping=gr.aes(yintercept=\"tys_hi\"),\n",
    "        linetype=\"dashed\",\n",
    "    )\n",
    "    + gr.geom_hline(\n",
    "        data=df_limits,\n",
    "        mapping=gr.aes(yintercept=\"tys_mean\"),\n",
    "    )\n",
    "    + gr.geom_point()\n",
    ")"
   ]
  },
  {
   "cell_type": "markdown",
   "id": "6c59c09d",
   "metadata": {},
   "source": [
    "*Observations*\n",
    "\n"
   ]
  },
  {
   "cell_type": "markdown",
   "id": "ed2564ec",
   "metadata": {},
   "source": [
    "## Vary the batch size\n",
    "\n",
    "As with adjusting the bin size of a histogram, it is also important to test different batch sizes with a control chart. The following re-constructs the control chart, but with a slightly smaller batch size:\n"
   ]
  },
  {
   "cell_type": "code",
   "execution_count": 14,
   "id": "c641d0a9",
   "metadata": {
    "collapsed": false
   },
   "outputs": [
    {
     "data": {
      "image/png": "[encoded data removed]",
      "text/plain": [
       "<Figure size 640x480 with 1 Axes>"
      ]
     },
     "metadata": {},
     "output_type": "display_data"
    },
    {
     "data": {
      "text/plain": [
       "<ggplot: (8762646205471)>"
      ]
     },
     "execution_count": 14,
     "metadata": {},
     "output_type": "execute_result"
    }
   ],
   "source": [
    "# NOTE: No need to edit this\n",
    "n_temp = 3\n",
    "\n",
    "(\n",
    "    df_shewhart\n",
    "    >> gr.tf_mutate(id_group=DF.index // n_temp)\n",
    "    >> gr.tf_group_by(DF.id_group)\n",
    "    >> gr.tf_summarize(batch_mean=gr.mean(DF.tensile_strength))\n",
    "    \n",
    "    >> gr.ggplot(gr.aes(\"id_group\", \"batch_mean\"))\n",
    "    + gr.geom_hline(\n",
    "        df_stats\n",
    "        >> gr.tf_mutate(\n",
    "            y=DF.tys_mean - 3 * DF.tys_sd / gr.sqrt(n_temp)\n",
    "        ),\n",
    "        gr.aes(yintercept=\"y\"),\n",
    "        linetype=\"dashed\",\n",
    "    )\n",
    "    + gr.geom_hline(\n",
    "        df_stats\n",
    "        >> gr.tf_mutate(\n",
    "            y=DF.tys_mean + 3 * DF.tys_sd / gr.sqrt(n_temp)\n",
    "        ),\n",
    "        gr.aes(yintercept=\"y\"),\n",
    "        linetype=\"dashed\",\n",
    "    )\n",
    "    + gr.geom_hline(\n",
    "        data=df_stats,\n",
    "        mapping=gr.aes(yintercept=\"tys_mean\"),\n",
    "    )\n",
    "    + gr.geom_point()\n",
    ")"
   ]
  },
  {
   "cell_type": "markdown",
   "id": "948e4320",
   "metadata": {},
   "source": [
    "Here we see reasonably similar behavior with no violations of the control limits and no suspicious patterns. The data from this process appear to be under statistical control. Thus, we can proceed with modeling the `tensile_strengh` as a random quantity.\n"
   ]
  },
  {
   "cell_type": "markdown",
   "id": "62842c5c",
   "metadata": {},
   "source": [
    "# Select candidate distributions\n"
   ]
  },
  {
   "cell_type": "markdown",
   "id": "83070b3d",
   "metadata": {},
   "source": [
    "## (Short) list of distributions\n",
    "\n",
    "| Distribution | Name | Description |\n",
    "|---|---|---|\n",
    "| Normal (Gaussian) | `\"norm\"` | Symmetric; infinite extent |\n",
    "| Lognormal | `\"lognormal\"` | Asymmetric; positive |\n",
    "| Uniform | `\"uniform\"` | Bounded, flat |\n",
    "| Beta | `\"beta\"` | Bounded, flexible shape |\n",
    "| Weibull | `\"weibull_min\"` | Asymmetric; positive |\n",
    "\n",
    "For a longer list of supported distributions, see the [scipy documentation](https://docs.scipy.org/doc/scipy/reference/stats.html) for continuous distributions.\n"
   ]
  },
  {
   "cell_type": "markdown",
   "id": "801e010f",
   "metadata": {},
   "source": [
    "### __qX__ Select reasonable distributions for `tensile_strength`\n",
    "\n",
    "TODO - conceptual question\n"
   ]
  },
  {
   "cell_type": "markdown",
   "id": "9af12c2f",
   "metadata": {},
   "source": [
    "# Fit and assess\n"
   ]
  },
  {
   "cell_type": "markdown",
   "id": "fec66e31",
   "metadata": {},
   "source": [
    "## Grama tools for fitting\n",
    "\n",
    "TODO\n",
    "\n",
    "| Verb | Purpose |\n",
    "|------|---------|\n",
    "| `gr.marg_mom()` | Fit a distribution based on a handful of statistics, e.g. mean and variance |\n",
    "| `gr.marg_fit()` | Fit a distribution using multiple observations, e.g. `df_shewhart.tensile_strength` |\n"
   ]
  },
  {
   "cell_type": "markdown",
   "id": "bac32b1c",
   "metadata": {},
   "source": [
    "### __qX__ Fit a normal distribution\n",
    "\n",
    "Complete the arguments for both `gr.marg_mom()` and `gr.marg_fit()` below to fit a normal distribution for the `tensile_strength`.\n",
    "\n",
    "*Hint 1*: Remember the table above that lists the string names for a set of distributions.\n",
    "\n",
    "*Hint 2*: Remember to use the documentation to learn how to call a new function!\n"
   ]
  },
  {
   "cell_type": "code",
   "execution_count": 15,
   "id": "961c7b3d",
   "metadata": {
    "collapsed": false
   },
   "outputs": [
    {
     "name": "stdout",
     "output_type": "stream",
     "text": [
      "(+0) norm, {'mean': '3.187e+04', 's.d.': '3.996e+03', 'COV': 0.13, 'skew.': 0.0, 'kurt.': 3.0}\n",
      "(+0) norm, {'mean': '3.187e+04', 's.d.': '3.963e+03', 'COV': 0.12, 'skew.': 0.0, 'kurt.': 3.0}\n"
     ]
    }
   ],
   "source": [
    "## TASK: Complete the arguments for the two functions below\n",
    "mg_mom = gr.marg_mom(\n",
    "\n",
    "    \"norm\", \n",
    "    mean=df_shewhart.tensile_strength.mean(),\n",
    "    var=df_shewhart.tensile_strength.var(),\n",
    ")\n",
    "\n",
    "mg_fit = gr.marg_fit(\n",
    "\n",
    "    \"norm\",\n",
    "    df_shewhart.tensile_strength,\n",
    ")\n",
    "\n",
    "## NOTE: No need to edit; this will run when you complete the task\n",
    "print(mg_mom)\n",
    "print(mg_fit)"
   ]
  },
  {
   "cell_type": "markdown",
   "id": "f0491d81",
   "metadata": {},
   "source": [
    "## QQ plots\n",
    "\n",
    "TODO\n"
   ]
  },
  {
   "cell_type": "markdown",
   "id": "113fe9b3",
   "metadata": {},
   "source": [
    "### __qX__ Inspect this QQ plot\n",
    "\n",
    "TODO\n"
   ]
  },
  {
   "cell_type": "code",
   "execution_count": 16,
   "id": "7cc0c338",
   "metadata": {
    "collapsed": false
   },
   "outputs": [
    {
     "data": {
      "image/png": "[encoded data removed]",
      "text/plain": [
       "<Figure size 640x480 with 1 Axes>"
      ]
     },
     "metadata": {},
     "output_type": "display_data"
    },
    {
     "data": {
      "text/plain": [
       "<ggplot: (8762646346650)>"
      ]
     },
     "execution_count": 16,
     "metadata": {},
     "output_type": "execute_result"
    }
   ],
   "source": [
    "## NOTE: No need to edit; run and inspect\n",
    "# Define a standard normal distribution\n",
    "mg_norm = gr.marg_mom(\"norm\", mean=0, sd=1)\n",
    "\n",
    "(\n",
    "    # Draw some random values\n",
    "    gr.df_make(z=mg_norm.r(100))\n",
    "    # Compute theoretical quantiles based on fitted normal\n",
    "    >> gr.tf_mutate(q=gr.qqvals(DF.z, \"norm\"))\n",
    "    \n",
    "    # Visualize\n",
    "    >> gr.ggplot(gr.aes(\"q\", \"z\"))\n",
    "    # Add a guideline\n",
    "    + gr.geom_abline(intercept=0, slope=1, linetype=\"dashed\")\n",
    "    \n",
    "    + gr.geom_point()\n",
    "    + gr.labs(x=\"Reference Quantiles\", y=\"Observed Quantiles\")\n",
    ")"
   ]
  },
  {
   "cell_type": "markdown",
   "id": "120508ed",
   "metadata": {},
   "source": [
    "*Observations*\n",
    "\n"
   ]
  },
  {
   "cell_type": "markdown",
   "id": "c5c6ba99",
   "metadata": {},
   "source": [
    "### __qX__ Fit a distribution for the `tensile_strength`\n",
    "\n",
    "Pick a distribution from the list of \"reasonable\" distributions you generated in `__qX__ Select reasonable distributions`, and fit a distribution for `df_shewhart.tensile_strength`. Answer the questions under *observations* below.\n",
    "\n",
    "*Hint*: If you choose to fit a `\"lognorm\"` or `\"weibull_min\"`, you may find it helpful to set the keyword argument `floc=0` to use the 2-parameter version of the distribution. Anecdotally, I find the 2-parameter version to be more stable for small datasets.\n"
   ]
  },
  {
   "cell_type": "code",
   "execution_count": 17,
   "id": "dddebb62",
   "metadata": {
    "collapsed": false
   },
   "outputs": [
    {
     "data": {
      "image/png": "[encoded data removed]",
      "text/plain": [
       "<Figure size 640x480 with 1 Axes>"
      ]
     },
     "metadata": {},
     "output_type": "display_data"
    },
    {
     "data": {
      "text/plain": [
       "<ggplot: (8762646392314)>"
      ]
     },
     "execution_count": 17,
     "metadata": {},
     "output_type": "execute_result"
    }
   ],
   "source": [
    "# TASK: Fit a distribution for the tensile_strength;\n",
    "# assign it to mg_user below\n",
    "\n",
    "mg_user = gr.marg_fit(\n",
    "    \"lognorm\", \n",
    "    df_shewhart.tensile_strength,\n",
    "    floc=0,\n",
    ")\n",
    "# NOTE: Don't edit this; use to check your results\n",
    "mg_base = gr.marg_fit(\n",
    "    \"gengamma\",\n",
    "    df_shewhart.tensile_strength,\n",
    "    floc=0,\n",
    ")\n",
    "\n",
    "(\n",
    "    df_shewhart\n",
    "    >> gr.tf_mutate(\n",
    "        q_base=gr.qqvals(DF.tensile_strength, marg=mg_base),\n",
    "        q_user=gr.qqvals(DF.tensile_strength, marg=mg_user),\n",
    "    )\n",
    "    >> gr.tf_pivot_longer(\n",
    "        columns=[\"q_base\", \"q_user\"],\n",
    "        names_to=[\".value\", \"dist\"],\n",
    "        names_sep=\"_\",\n",
    "    )\n",
    "    \n",
    "    >> gr.ggplot(gr.aes(\"q\", \"tensile_strength\", color=\"dist\"))\n",
    "    + gr.geom_abline(intercept=0, slope=1, linetype=\"dashed\")\n",
    "    + gr.geom_point()\n",
    "    + gr.labs(x=\"Reference Quantiles\", y=\"Observed Quantiles\")\n",
    ")"
   ]
  },
  {
   "cell_type": "markdown",
   "id": "2d226f97",
   "metadata": {},
   "source": [
    "*Observations*\n",
    "\n",
    "- What distribution did you choose to fit?\n",
    "  - I fit a lognormal `\"lognorm\"` distribution, but there are multiple reasonable choices for this question.\n",
    "- How does your distribution (`user`) compare with the generalized gamma distribution (`base`)?\n",
    "  - The lognormal fits a fair bit better than the generalized gamma; both the middle of the distribution and the right tail lie closer to the identity line.\n",
    "<!-- solution-end -->"
   ]
  },
  {
   "cell_type": "markdown",
   "id": "dc1e4577",
   "metadata": {},
   "source": [
    "# Use the model"
   ]
  },
  {
   "cell_type": "markdown",
   "id": "fae6fca4",
   "metadata": {},
   "source": [
    "## Beyond assuming the mean\n",
    "\n",
    "Above, we saw that simply using the mean of `tensile_strength` for design was dangerous for safety-critical applications. Let's talk about a more principled way to address the variability in `tensile_strength`.\n"
   ]
  },
  {
   "cell_type": "markdown",
   "id": "322ec2d8",
   "metadata": {},
   "source": [
    "TODO\n",
    "\n",
    "$$g_{\\text{tension}} = S - F/A$$"
   ]
  },
  {
   "cell_type": "code",
   "execution_count": 18,
   "id": "763bfaaf",
   "metadata": {
    "collapsed": false
   },
   "outputs": [
    {
     "data": {
      "text/plain": [
       "model: Uniaxial tension member\n",
       "\n",
       "  inputs:\n",
       "    var_det:\n",
       "      A: [1.0, 5.0]\n",
       "\n",
       "    var_rand:\n",
       "      S: (+0) lognorm, {'mean': '3.187e+04', 's.d.': '4.019e+03', 'COV': 0.13, 'skew.': 0.38, 'kurt.': 3.26}\n",
       "      F: (+0) lognorm, {'mean': '8.000e+04', 's.d.': '8.000e+03', 'COV': 0.1, 'skew.': 0.3, 'kurt.': 3.16}\n",
       "\n",
       "    copula:\n",
       "      Independence copula\n",
       "\n",
       "  functions:\n",
       "      f0: ['S', 'F', 'A'] -> ['g_tension']"
      ]
     },
     "execution_count": 18,
     "metadata": {},
     "output_type": "execute_result"
    }
   ],
   "source": [
    "## NOTE: No need to edit\n",
    "md_structure = (\n",
    "    gr.Model(\"Uniaxial tension member\")\n",
    "    >> gr.cp_vec_function(\n",
    "        fun=lambda df: gr.df_make(\n",
    "            g_tension=df.S - df.F / df.A,\n",
    "        ),\n",
    "        var=[\"S\", \"F\", \"A\"],\n",
    "        out=[\"g_tension\"],\n",
    "    )\n",
    "    >> gr.cp_bounds(A=(1.0, 5.0))\n",
    "    >> gr.cp_marginals(\n",
    "        S=mg_user,\n",
    "        F=gr.marg_mom(\"lognorm\", mean=8e4, cov=0.1, floc=0),\n",
    "    )\n",
    "    >> gr.cp_copula_independence()\n",
    ")\n",
    "md_structure"
   ]
  },
  {
   "cell_type": "markdown",
   "id": "868059f0",
   "metadata": {},
   "source": [
    "### __qX__ TODO\n",
    "\n"
   ]
  },
  {
   "cell_type": "code",
   "execution_count": 19,
   "id": "b254b862",
   "metadata": {
    "collapsed": false
   },
   "outputs": [
    {
     "name": "stdout",
     "output_type": "stream",
     "text": [
      "eval_sample() is rounding n...\n"
     ]
    },
    {
     "data": {
      "text/html": [
       "<div>\n",
       "<style scoped>\n",
       "    .dataframe tbody tr th:only-of-type {\n",
       "        vertical-align: middle;\n",
       "    }\n",
       "\n",
       "    .dataframe tbody tr th {\n",
       "        vertical-align: top;\n",
       "    }\n",
       "\n",
       "    .dataframe thead th {\n",
       "        text-align: right;\n",
       "    }\n",
       "</style>\n",
       "<table border=\"1\" class=\"dataframe\">\n",
       "  <thead>\n",
       "    <tr style=\"text-align: right;\">\n",
       "      <th></th>\n",
       "      <th>A</th>\n",
       "      <th>pof_lo</th>\n",
       "      <th>pof_mu</th>\n",
       "      <th>pof_up</th>\n",
       "    </tr>\n",
       "  </thead>\n",
       "  <tbody>\n",
       "    <tr>\n",
       "      <th>0</th>\n",
       "      <td>2</td>\n",
       "      <td>0.928489</td>\n",
       "      <td>0.929</td>\n",
       "      <td>0.929508</td>\n",
       "    </tr>\n",
       "    <tr>\n",
       "      <th>1</th>\n",
       "      <td>3</td>\n",
       "      <td>0.145301</td>\n",
       "      <td>0.146</td>\n",
       "      <td>0.146702</td>\n",
       "    </tr>\n",
       "    <tr>\n",
       "      <th>2</th>\n",
       "      <td>4</td>\n",
       "      <td>0.000000</td>\n",
       "      <td>0.000</td>\n",
       "      <td>0.000004</td>\n",
       "    </tr>\n",
       "  </tbody>\n",
       "</table>\n",
       "</div>"
      ],
      "text/plain": [
       "   A    pof_lo  pof_mu    pof_up\n",
       "0  2  0.928489   0.929  0.929508\n",
       "1  3  0.145301   0.146  0.146702\n",
       "2  4  0.000000   0.000  0.000004"
      ]
     },
     "execution_count": 19,
     "metadata": {},
     "output_type": "execute_result"
    }
   ],
   "source": [
    "(\n",
    "    md_structure\n",
    "    >> gr.ev_sample(n=1e3, df_det=gr.df_make(A=[2, 3, 4]))\n",
    "    >> gr.tf_group_by(DF.A)\n",
    "    >> gr.tf_summarize(\n",
    "        pof_lo=gr.binomial_ci(DF.g_tension <= 0, alpha=0.95, side=\"lo\"),\n",
    "        pof_mu=gr.mean(DF.g_tension <= 0),\n",
    "        pof_up=gr.binomial_ci(DF.g_tension <= 0, alpha=0.95, side=\"up\"),\n",
    "    )\n",
    ")"
   ]
  }
 ],
 "metadata": {
  "kernelspec": {
   "display_name": "Python 3 (ipykernel)",
   "language": "python",
   "name": "python3"
  },
  "language_info": {
   "codemirror_mode": {
    "name": "ipython",
    "version": 3
   },
   "file_extension": ".py",
   "mimetype": "text/x-python",
   "name": "python",
   "nbconvert_exporter": "python",
   "pygments_lexer": "ipython3",
   "version": "3.8.8"
  }
 },
 "nbformat": 4,
 "nbformat_minor": 5
}
