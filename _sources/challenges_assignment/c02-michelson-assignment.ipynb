{
 "cells": [
  {
   "cell_type": "markdown",
   "id": "dbc2243c",
   "metadata": {},
   "source": [
    "# c02-michelson\n",
    "\n",
    "*Purpose*: When studying physical problems, there is an important distinction between *error* and *uncertainty*. The primary purpose of this challenge is to dip our toes into these factors by analyzing a real dataset.\n",
    "\n",
    "*Reading*: [Experimental Determination of the Velocity of Light](https://play.google.com/books/reader?id=343nAAAAMAAJ&hl=en&pg=GBS.PA115) (Optional)\n"
   ]
  },
  {
   "cell_type": "markdown",
   "id": "c652975e",
   "metadata": {},
   "source": [
    "## Setup"
   ]
  },
  {
   "cell_type": "code",
   "execution_count": null,
   "id": "a5ae976d",
   "metadata": {},
   "outputs": [],
   "source": [
    "import grama as gr\n",
    "import pandas as pd\n",
    "DF = gr.Intention()\n",
    "%matplotlib inline\n",
    "\n",
    "# For downloading data\n",
    "import os\n",
    "import requests"
   ]
  },
  {
   "cell_type": "markdown",
   "id": "777c5a0e",
   "metadata": {},
   "source": [
    "The following code downloads the data from a public Google sheet.\n",
    "\n",
    "*Note*: Feel free to adapt this code for your own projects!\n"
   ]
  },
  {
   "cell_type": "code",
   "execution_count": null,
   "id": "c28f012b",
   "metadata": {},
   "outputs": [],
   "source": [
    "# Filename for local data\n",
    "filename_data = \"data/michelson.csv\"\n",
    "\n",
    "# The following code downloads the data, or (after downloaded)\n",
    "# loads the data from a cached CSV on your machine\n",
    "if not os.path.exists(filename_data):\n",
    "    # Make request for data\n",
    "    url_data = \"https://docs.google.com/spreadsheets/d/1av_SXn4j0-4Rk0mQFik3LLr-uf0YdA06i3ugE6n-Zdo/export?format=csv\"\n",
    "    r = requests.get(url_data, allow_redirects=True)\n",
    "    open(filename_data, 'wb').write(r.content)\n",
    "    print(\"   Data downloaded from public Google sheet\")\n",
    "else:\n",
    "    # Note data already exists\n",
    "    print(\"   Data loaded locally\")\n",
    "    \n",
    "# Read the data into memory\n",
    "df_michelson = pd.read_csv(filename_data)"
   ]
  },
  {
   "cell_type": "markdown",
   "id": "a61b0ef3",
   "metadata": {},
   "source": [
    "## Background\n",
    "\n",
    "In 1879 Albert Michelson led an experimental campaign to measure the speed of light. His approach was a development upon the method of Foucault[3], and resulted in a new estimate of $v_0 = 299944 \\pm 51$ kilometers per second (in a vacuum). This is very close to the modern *exact* value of `r LIGHTSPEED_VACUUM`. In this challenge, you will analyze Michelson's original data, and explore some of the factors associated with his experiment.\n",
    "\n",
    "I've already copied Michelson's data from his 1880 publication; the code chunk below will load these data from a public googlesheet.\n",
    "\n",
    "*Aside*: The speed of light is *exact* (there is **zero error** in the value `LIGHTSPEED_VACUUM`) because the meter is actually [*defined*](https://en.wikipedia.org/wiki/Metre#Speed_of_light_definition) in terms of the speed of light!\n"
   ]
  },
  {
   "cell_type": "code",
   "execution_count": null,
   "id": "ade86705",
   "metadata": {},
   "outputs": [],
   "source": [
    "## NOTE: Don't edit; these are constants used in the challenge\n",
    "LIGHTSPEED_VACUUM    = 299792.458 # Exact speed of light in a vacuum (km / s)\n",
    "LIGHTSPEED_MICHELSON = 299944.00  # Michelson's speed estimate (km / s)\n",
    "LIGHTSPEED_PM        = 51         # Michelson error estimate (km / s)\n"
   ]
  },
  {
   "cell_type": "markdown",
   "id": "df255509",
   "metadata": {},
   "source": [
    "## Data dictionary\n",
    "\n",
    "- `Date`: Date of measurement\n",
    "- `Distinctness`: Distinctness of measured images: 3 = good, 2 = fair, 1 = poor\n",
    "- `Temp`: Ambient temperature (Fahrenheit)\n",
    "- `Velocity`: Measured speed of light (km / s)\n"
   ]
  },
  {
   "cell_type": "markdown",
   "id": "1e96660c",
   "metadata": {},
   "source": [
    "### __q1__ Recreate this table\n",
    "\n",
    "Re-create the following table (from Michelson (1880), pg. 139) using `df_michelson` and `grama`. Note that your values *will not* match those of Michelson *exactly*; why might this be?\n",
    "\n",
    "| Distinctness | n  | MeanVelocity |\n",
    "|--------------|----|----------|\n",
    "|            3 | 46 |   299860 |\n",
    "|            2 | 39 |   299860 |\n",
    "|            1 | 15 |   299810 |\n",
    "\n",
    "*Hint*: The helper `gr.n()` may be helpful in this task.\n"
   ]
  },
  {
   "cell_type": "code",
   "execution_count": null,
   "id": "f87e4564",
   "metadata": {},
   "outputs": [],
   "source": [
    "## TASK: Re-create the table above using df_michelson\n",
    "df_q1 = (\n",
    "    df_michelson\n",
    "\n",
    ")\n",
    "\n",
    "## NOTE: No need to edit below here\n",
    "(\n",
    "    df_q1\n",
    "    >> gr.tf_arrange(gr.desc(DF.Distinctness))\n",
    ")"
   ]
  },
  {
   "cell_type": "markdown",
   "id": "77b3e276",
   "metadata": {},
   "source": [
    "*Observations*\n",
    "\n",
    "- Write your observations here!\n",
    "  - (Your response here)\n",
    "- Why might your table differ from Michelson's?\n",
    "  - (Your response here)\n"
   ]
  },
  {
   "cell_type": "markdown",
   "id": "475eda3c",
   "metadata": {},
   "source": [
    "The `Velocity` values in the dataset are the speed of light *in air*; Michelson introduced a couple of adjustments to estimate the speed of light in a vacuum. In total, he added $+92$ km/s to his mean estimate for `VelocityVacuum` (from Michelson (1880), pg. 141). While the following isn't fully rigorous ($+92$ km/s is based on the mean temperature), we'll simply apply this correction to all the observations in the dataset.\n"
   ]
  }
 ],
 "metadata": {
  "kernelspec": {
   "display_name": "Python 3 (ipykernel)",
   "language": "python",
   "name": "python3"
  },
  "language_info": {
   "codemirror_mode": {
    "name": "ipython",
    "version": 3
   },
   "file_extension": ".py",
   "mimetype": "text/x-python",
   "name": "python",
   "nbconvert_exporter": "python",
   "pygments_lexer": "ipython3",
   "version": "3.9.7"
  }
 },
 "nbformat": 4,
 "nbformat_minor": 5
}
