{
 "cells": [
  {
   "cell_type": "markdown",
   "id": "05699a7c",
   "metadata": {},
   "source": [
    "# c04-boats\n",
    "\n",
    "*Purpose*: TODO\n"
   ]
  },
  {
   "cell_type": "code",
   "execution_count": null,
   "id": "f5ccf9d9",
   "metadata": {},
   "outputs": [],
   "source": [
    "import grama as gr\n",
    "import pandas as pd\n",
    "import time\n",
    "DF = gr.Intention()\n",
    "%matplotlib inline\n",
    "\n",
    "# Boat analysis code\n",
    "import boat_utils as boat\n"
   ]
  },
  {
   "cell_type": "markdown",
   "id": "77dd73a4",
   "metadata": {},
   "source": [
    "# Context\n"
   ]
  },
  {
   "cell_type": "markdown",
   "id": "5a390cf3",
   "metadata": {},
   "source": [
    "## Basics of Boat Hull Design"
   ]
  },
  {
   "cell_type": "markdown",
   "id": "32d37a66",
   "metadata": {},
   "source": [
    "### TODO Boat schematic\n"
   ]
  },
  {
   "cell_type": "markdown",
   "id": "605c7b92",
   "metadata": {},
   "source": [
    "### Statical Stability\n",
    "\n",
    "(TODO exposition)"
   ]
  },
  {
   "cell_type": "code",
   "execution_count": null,
   "id": "68230dce",
   "metadata": {},
   "outputs": [],
   "source": [
    "# NOTE: No need to edit; this will analyze an example boat\n",
    "t0 = time.time()\n",
    "v_design = [1.5, 3.0, 2.0, 0.50, 0.35]\n",
    "df_example = boat.fun_moment(v_design)\n",
    "avs_example = boat.fun_avs(v_design)\n",
    "t1 = time.time()\n",
    "print(\"Execution time: {0:4.3f} sec\".format(t1 - t0))\n",
    "\n",
    "(\n",
    "    # Visualize the moment curve\n",
    "    df_example\n",
    "    >> gr.ggplot(gr.aes(\"angle * 180/3.14\", \"M_net\"))\n",
    "    + gr.geom_hline(yintercept=0, linetype=\"dashed\")\n",
    "    + gr.geom_line()\n",
    "    + gr.geom_point(\n",
    "        data=gr.df_make(angle=avs_example, M_net=0, label=\"AVS\"),\n",
    "        mapping=gr.aes(color=\"label\"),\n",
    "        size=4,\n",
    "    )\n",
    "    \n",
    "    + gr.scale_color_discrete(name=None)\n",
    "    + gr.theme_minimal()\n",
    "    + gr.labs(\n",
    "        x=\"Boat Angle (Degrees)\",\n",
    "        y=\"Net Moment (lbf * in)\",\n",
    "    )\n",
    ")"
   ]
  },
  {
   "cell_type": "markdown",
   "id": "080837d1",
   "metadata": {},
   "source": [
    "Some things worth noting about this example:\n",
    "\n",
    "- The Boat Angle is the angle to which the boat hull is rotated (along its long axis).\n",
    "- When the net moment is negative, a restoring torque acts to turn the boat back to upright.\n",
    "- When the net moment is positive, an anti-restoring torque is applied.\n",
    "- The point where the moment curve passes through the axis `M_net == 0` with positive slope is called the *angle of vanishing stability* (AVS). Rotating the boat beyond this point will cause it to settle upside-down.\n",
    "- The boat analysis takes a non-trivial amount of time to run! Analyzing a large number of boat designs will take a fair amount of simulation time.\n"
   ]
  },
  {
   "cell_type": "markdown",
   "id": "4797fabd",
   "metadata": {},
   "source": [
    "Note that not all boats have a well-defined AVS. For instance, the following boat is *universally stable*. The boat will always rotate back to upright, regardless of the angle to which it is rolled.\n"
   ]
  },
  {
   "cell_type": "code",
   "execution_count": null,
   "id": "aa826688",
   "metadata": {},
   "outputs": [],
   "source": [
    "# NOTE: No need to edit; this will analyze an example boat\n",
    "t0 = time.time()\n",
    "v_design2 = [1.5, 3.0, 2.0, 0.50, 0.15]\n",
    "df_example2 = boat.fun_moment(v_design2)\n",
    "t1 = time.time()\n",
    "print(\"Execution time: {0:4.3f} sec\".format(t1 - t0))\n",
    "\n",
    "(\n",
    "    # Visualize the moment curve\n",
    "    df_example2\n",
    "    >> gr.ggplot(gr.aes(\"angle * 180/3.14\", \"M_net\"))\n",
    "    + gr.geom_hline(yintercept=0, linetype=\"dashed\")\n",
    "    + gr.geom_line()\n",
    "    \n",
    "    + gr.theme_minimal()\n",
    "    + gr.labs(\n",
    "        x=\"Boat Angle (Degrees)\",\n",
    "        y=\"Net Moment (lbf * in)\",\n",
    "    )\n",
    ")"
   ]
  },
  {
   "cell_type": "markdown",
   "id": "05eaa084",
   "metadata": {},
   "source": [
    "## Archival Data\n"
   ]
  },
  {
   "cell_type": "code",
   "execution_count": null,
   "id": "a213d73c",
   "metadata": {},
   "outputs": [],
   "source": [
    "filename_archival = \"./data/doe-wide.csv\"\n",
    "df_archival = pd.read_csv(filename_archival)\n",
    "df_archival.head()"
   ]
  },
  {
   "cell_type": "markdown",
   "id": "265734ac",
   "metadata": {},
   "source": [
    "### Data Dictionary\n",
    "\n",
    "| Column | I/O | Meaning |\n",
    "|---|---|---|\n",
    "| `d` | Input | Displacement ratio (-) |\n",
    "| `n` | Input | Shape factor (-) |\n",
    "| `f_com` | Input | Height of COM from boat bottom (-) |\n",
    "| `H` | Input | Height of boat (in) |\n",
    "| `W` | Input | Width of boat (in) |\n",
    "|---|---|---|\n",
    "| `M_max` | Output | Max righting moment (`lbf*in`) |\n",
    "| `M_min` | Output | Min righting moment (`lbf*in`) |\n",
    "| `mass` | Output | Boat mass (lb) |\n",
    "| `dMdtheta_avs` | Output | Slope of moment curve at AVS (`lbf in/rad`) |\n",
    "| `dMdtheta_0` | Output | Slope of moment curve at upright (`lbf*in/rad`) |\n",
    "| `int_M_stable` | Output | Integral of moment curve, up to the AVS (`lbf*in*rad`) |\n",
    "| `BM` | Output | Metacentric radius (in) |\n",
    "| `GM` | Output | Metacentric height (in) |\n",
    "| `angle` | Output | Angle of vanishing stability (rad) |\n"
   ]
  },
  {
   "cell_type": "code",
   "execution_count": null,
   "id": "424cef93",
   "metadata": {},
   "outputs": [],
   "source": [
    "var = [\"d\", \"n\", \"f_com\", \"H\", \"W\"]\n",
    "out = [\n",
    "    \"M_max\", \n",
    "    \"M_min\", \n",
    "    \"mass\", \n",
    "    \"dMdtheta_avs\", \n",
    "    \"dMdtheta_0\", \n",
    "    \"BM\", \n",
    "    \"GM\",\n",
    "    \"angle\",\n",
    "    \"int_M_stable\",\n",
    "]"
   ]
  },
  {
   "cell_type": "markdown",
   "id": "456e8b7f",
   "metadata": {},
   "source": [
    "# EDA of Archival Data\n"
   ]
  },
  {
   "cell_type": "markdown",
   "id": "fffb783c",
   "metadata": {},
   "source": [
    "### __qX__ First look\n",
    "\n",
    "Use simple EDA techniques to answer the questions under *observations* below.\n"
   ]
  },
  {
   "cell_type": "code",
   "execution_count": null,
   "id": "a5e88a46",
   "metadata": {},
   "outputs": [],
   "source": [
    "# TASK: Perform simple EDA, answer the questions below\n",
    "(\n",
    "    df_archival\n",
    "\n",
    ")"
   ]
  },
  {
   "cell_type": "markdown",
   "id": "fab153ae",
   "metadata": {},
   "source": [
    "*Observations*\n",
    "\n",
    "- How many observations (distinct boat hulls) are there in-total?\n",
    "  - (Your response here)\n",
    "- What are rough bounds for each of the input variables? (You'll use these in a later task....)\n",
    "  - (Your response here)\n"
   ]
  },
  {
   "cell_type": "markdown",
   "id": "752b88a7",
   "metadata": {},
   "source": [
    "### __qX__ How many designs are upright-stable?\n",
    "\n",
    "Remember that \"upright-stable\" means the slope of the moment curve at an upright position is negative.\n"
   ]
  },
  {
   "cell_type": "code",
   "execution_count": null,
   "id": "6d08c514",
   "metadata": {},
   "outputs": [],
   "source": [
    "(\n",
    "    df_archival\n",
    "\n",
    ")"
   ]
  },
  {
   "cell_type": "markdown",
   "id": "1501ca32",
   "metadata": {},
   "source": [
    "*Observations*\n",
    "\n",
    "- How many boat designs in the dataset are upright-stable?\n",
    "  - (Your response here)\n",
    "- How *fraction* of boat designs in the dataset are upright-stable?\n",
    "  - (Your response here)\n",
    "- How many boat designs in the dataset are upright-stable?\n",
    "  - There are `670` upright-stable boats.\n",
    "- How *fraction* of boat designs in the dataset are upright-stable?\n",
    "  - This is `67%` percent of the dataset.\n"
   ]
  },
  {
   "cell_type": "markdown",
   "id": "e896263e",
   "metadata": {
    "tags": []
   },
   "source": [
    "### __qX__ Assess AVS\n",
    "\n",
    "Visualize the distribution of the AVS (`angle`), and use an aesthetic to differentiate the upright-stable and upright-unstable boats.\n"
   ]
  },
  {
   "cell_type": "code",
   "execution_count": null,
   "id": "05d67b3d",
   "metadata": {},
   "outputs": [],
   "source": [
    "(\n",
    "    df_archival\n",
    "\n",
    ")"
   ]
  },
  {
   "cell_type": "markdown",
   "id": "1dc6d409",
   "metadata": {},
   "source": [
    "*Observations*\n",
    "\n",
    "- Describe the distribution of the `AVS`.\n",
    "  - (Your response here)\n",
    "- How many designs have a well-defined `AVS`? Does this seem high or low?\n",
    "  - *Hint*: `ggplot` should throw a helpful `Warning` related to this....\n",
    "  - (Your response here)\n"
   ]
  },
  {
   "cell_type": "markdown",
   "id": "038ee198",
   "metadata": {},
   "source": [
    "### __qX__ Understand what the `angle` column means\n",
    "\n",
    "Count the number of cases where `angle` is finite and the design is upright-stable. Answer the questions under *observations* below.\n",
    "\n",
    "*Hint*: The grama helper `gr.not_nan()` will help with this task.\n"
   ]
  },
  {
   "cell_type": "code",
   "execution_count": null,
   "id": "ff3472ab",
   "metadata": {},
   "outputs": [],
   "source": [
    "(\n",
    "    df_archival\n",
    "    >> gr.tf_count(\n",
    "\n",
    "    )\n",
    ")"
   ]
  },
  {
   "cell_type": "markdown",
   "id": "b1d90e8c",
   "metadata": {},
   "source": [
    "*Observations*\n",
    "\n",
    "- Are there any boats that are upright-**un**stable with a well-defined AVS? Why might this be?\n",
    "  - (Your response here)\n",
    "- Are there any boats that are upright-**stable** that do *not* have a well-defined AVS? Why might this be?\n",
    "  - (Your response here)\n"
   ]
  },
  {
   "cell_type": "markdown",
   "id": "0b62d8fd",
   "metadata": {},
   "source": [
    "### __qX__ Re-code the `angle`\n"
   ]
  },
  {
   "cell_type": "code",
   "execution_count": null,
   "id": "4b0b0e14",
   "metadata": {},
   "outputs": [],
   "source": [
    "df_recoded = (\n",
    "    df_archival\n",
    "\n",
    ")"
   ]
  },
  {
   "cell_type": "markdown",
   "id": "ab5ff29c",
   "metadata": {},
   "source": [
    "# Model Setup\n"
   ]
  },
  {
   "cell_type": "markdown",
   "id": "8b9068a1",
   "metadata": {},
   "source": [
    "# EMA of Boat Performance\n"
   ]
  }
 ],
 "metadata": {
  "kernelspec": {
   "display_name": "Python 3 (ipykernel)",
   "language": "python",
   "name": "python3"
  },
  "language_info": {
   "codemirror_mode": {
    "name": "ipython",
    "version": 3
   },
   "file_extension": ".py",
   "mimetype": "text/x-python",
   "name": "python",
   "nbconvert_exporter": "python",
   "pygments_lexer": "ipython3",
   "version": "3.9.7"
  }
 },
 "nbformat": 4,
 "nbformat_minor": 5
}
