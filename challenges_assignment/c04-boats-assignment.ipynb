{
 "cells": [
  {
   "cell_type": "markdown",
   "id": "e7414b9d",
   "metadata": {},
   "source": [
    "# c04-boats\n",
    "\n",
    "*Purpose*: TODO\n"
   ]
  },
  {
   "cell_type": "code",
   "execution_count": null,
   "id": "7f060f50",
   "metadata": {},
   "outputs": [],
   "source": [
    "import grama as gr\n",
    "import pandas as pd\n",
    "import time\n",
    "DF = gr.Intention()\n",
    "%matplotlib inline\n",
    "\n",
    "# Boat analysis code\n",
    "import boat_utils as boat\n"
   ]
  },
  {
   "cell_type": "markdown",
   "id": "dc763c5a",
   "metadata": {},
   "source": [
    "# Context\n"
   ]
  },
  {
   "cell_type": "markdown",
   "id": "0c3c6577",
   "metadata": {},
   "source": [
    "## Basics of Boat Hull Design"
   ]
  },
  {
   "cell_type": "markdown",
   "id": "444b089d",
   "metadata": {},
   "source": [
    "### TODO Boat schematic\n"
   ]
  },
  {
   "cell_type": "markdown",
   "id": "d4b7043e",
   "metadata": {},
   "source": [
    "### Statical Stability\n",
    "\n",
    "(TODO exposition)"
   ]
  },
  {
   "cell_type": "code",
   "execution_count": null,
   "id": "6229755b",
   "metadata": {},
   "outputs": [],
   "source": [
    "# NOTE: No need to edit; this will analyze an example boat\n",
    "t0 = time.time()\n",
    "v_design = [2.5, 3.0, 2.0, 0.30, 0.35]\n",
    "df_example = boat.fun_moment(v_design)\n",
    "t1 = time.time()\n",
    "print(\"Execution time: {0:4.3f} sec\".format(t1 - t0))\n",
    "\n",
    "(\n",
    "    # Visualize the moment curve\n",
    "    df_example\n",
    "    >> gr.ggplot(gr.aes(\"angle * 180/3.14\", \"M_net\"))\n",
    "    + gr.geom_hline(yintercept=0, linetype=\"dashed\")\n",
    "    + gr.geom_line()\n",
    "    \n",
    "    + gr.scale_color_discrete(name=None)\n",
    "    + gr.theme_minimal()\n",
    "    + gr.labs(\n",
    "        x=\"Boat Angle (Degrees)\",\n",
    "        y=\"Net Moment (lbf * in)\",\n",
    "    )\n",
    ")"
   ]
  },
  {
   "cell_type": "markdown",
   "id": "98235c0c",
   "metadata": {},
   "source": [
    "Some things worth noting about this example:\n",
    "\n",
    "- The Boat Angle is the angle to which the boat hull is rotated (along its long axis).\n",
    "- When the net moment is negative, a restoring torque acts to turn the boat back to upright.\n",
    "- When the net moment is positive, an anti-restoring torque is applied.\n",
    "<!-- - The point where the moment curve passes through the axis `M_net == 0` with positive slope is called the *angle of vanishing stability* (AVS). Rotating the boat beyond this point will cause it to settle upside-down. -->\n",
    "- The boat analysis takes a non-trivial amount of time to run! Analyzing a large number of boat designs will take a fair amount of simulation time.\n"
   ]
  },
  {
   "cell_type": "markdown",
   "id": "014b0771",
   "metadata": {},
   "source": [
    "Note that upright stability is *not* guaranteed, even for a boat of identical geometry. The following boat has identical hull geometry but is lighter (smaller `d`) and has a higher center of mass (larger `f_com`).\n"
   ]
  },
  {
   "cell_type": "code",
   "execution_count": null,
   "id": "eb3eef98",
   "metadata": {},
   "outputs": [],
   "source": [
    "# NOTE: No need to edit; this will analyze an example boat\n",
    "t0 = time.time()\n",
    "v_light = [2.5, 3.0, 2.0, 0.20, 0.40]\n",
    "df_light = boat.fun_moment(v_light)\n",
    "t1 = time.time()\n",
    "print(\"Execution time: {0:4.3f} sec\".format(t1 - t0))\n",
    "\n",
    "(\n",
    "    # Visualize the moment curve\n",
    "    df_light\n",
    "    >> gr.tf_mutate(source=\"Light loading\")\n",
    "    >> gr.tf_bind_rows(\n",
    "        df_example\n",
    "        >> gr.tf_mutate(source=\"Baseline\")\n",
    "    )\n",
    "    >> gr.ggplot(gr.aes(\"angle * 180/3.14\", \"M_net\", color=\"source\"))\n",
    "    + gr.geom_hline(yintercept=0, linetype=\"dashed\")\n",
    "    + gr.geom_line()\n",
    "    \n",
    "    + gr.scale_color_discrete(name=None)\n",
    "    + gr.theme_minimal()\n",
    "    + gr.labs(\n",
    "        x=\"Boat Angle (Degrees)\",\n",
    "        y=\"Net Moment (lbf * in)\",\n",
    "    )\n",
    ")"
   ]
  },
  {
   "cell_type": "markdown",
   "id": "3a5a8b15",
   "metadata": {},
   "source": [
    "Note that the loading conditions of the boat have destabilized it at upright; the slope of the moment curve at $0^{\\circ}$ is now positive.\n",
    "\n",
    "This phenomenon is dangerous for vessels that must operate in both heavily-loaded and lightly-loaded conditions: Imagine a large transport ship that has just unloaded cargo and is in-harbor in an unloaded configuration. The destabilizing phenomenon we see here would put the crew and dockworkers in considerable danger.\n"
   ]
  },
  {
   "cell_type": "markdown",
   "id": "78966e09",
   "metadata": {},
   "source": [
    "## Archival Data\n"
   ]
  },
  {
   "cell_type": "code",
   "execution_count": null,
   "id": "e04f564d",
   "metadata": {},
   "outputs": [],
   "source": [
    "filename_archival = \"./data/doe-wide.csv\"\n",
    "df_archival = pd.read_csv(filename_archival)\n",
    "df_archival.head()"
   ]
  },
  {
   "cell_type": "markdown",
   "id": "79700d67",
   "metadata": {},
   "source": [
    "### Data Dictionary\n",
    "\n",
    "| Column | I/O | Meaning |\n",
    "|---|---|---|\n",
    "| `d` | Input | Displacement ratio (-) |\n",
    "| `n` | Input | Shape factor (-) |\n",
    "| `f_com` | Input | Height of COM from boat bottom (-) |\n",
    "| `H` | Input | Height of boat (in) |\n",
    "| `W` | Input | Width of boat (in) |\n",
    "|---|---|---|\n",
    "| `M_max` | Output | Max righting moment (`lbf*in`) |\n",
    "| `M_min` | Output | Min righting moment (`lbf*in`) |\n",
    "| `mass` | Output | Boat mass (lb) |\n",
    "| `dMdtheta_avs` | Output | Slope of moment curve at AVS (`lbf in/rad`) |\n",
    "| `dMdtheta_0` | Output | Slope of moment curve at upright (`lbf*in/rad`) |\n",
    "| `int_M_stable` | Output | Integral of moment curve, up to the AVS (`lbf*in*rad`) |\n",
    "| `BM` | Output | Metacentric radius (in) |\n",
    "| `GM` | Output | Metacentric height (in) |\n",
    "| `angle` | Output | Angle of vanishing stability (rad) |\n"
   ]
  },
  {
   "cell_type": "code",
   "execution_count": null,
   "id": "ac519f8c",
   "metadata": {},
   "outputs": [],
   "source": [
    "var = [\"d\", \"n\", \"f_com\", \"H\", \"W\"]\n",
    "out = [\n",
    "    \"M_max\", \n",
    "    \"M_min\", \n",
    "    \"mass\", \n",
    "    \"dMdtheta_avs\", \n",
    "    \"dMdtheta_0\", \n",
    "    \"BM\", \n",
    "    \"GM\",\n",
    "    \"angle\",\n",
    "    \"int_M_stable\",\n",
    "]"
   ]
  },
  {
   "cell_type": "markdown",
   "id": "836fb1af",
   "metadata": {},
   "source": [
    "# EDA of Archival Data\n"
   ]
  },
  {
   "cell_type": "markdown",
   "id": "8504801c",
   "metadata": {},
   "source": [
    "### __qX__ First look\n",
    "\n",
    "Use simple EDA techniques to answer the questions under *observations* below.\n"
   ]
  },
  {
   "cell_type": "code",
   "execution_count": null,
   "id": "ce9a40d0",
   "metadata": {},
   "outputs": [],
   "source": [
    "# TASK: Perform simple EDA, answer the questions below\n",
    "(\n",
    "    df_archival\n",
    "\n",
    ")"
   ]
  },
  {
   "cell_type": "markdown",
   "id": "2151a69e",
   "metadata": {},
   "source": [
    "*Observations*\n",
    "\n",
    "- How many observations (distinct boat hulls) are there in-total?\n",
    "  - (Your response here)\n",
    "- What are rough bounds for each of the input variables? (You'll use these in a later task....)\n",
    "  - (Your response here)\n"
   ]
  },
  {
   "cell_type": "markdown",
   "id": "77709ae0",
   "metadata": {},
   "source": [
    "### __qX__ How many designs are upright-stable?\n",
    "\n",
    "Remember that \"upright-stable\" means the slope of the moment curve at an upright position is negative.\n"
   ]
  },
  {
   "cell_type": "code",
   "execution_count": null,
   "id": "3f8c0d20",
   "metadata": {},
   "outputs": [],
   "source": [
    "(\n",
    "    df_archival\n",
    "\n",
    ")"
   ]
  },
  {
   "cell_type": "markdown",
   "id": "0eaf33c0",
   "metadata": {},
   "source": [
    "*Observations*\n",
    "\n",
    "- How many boat designs in the dataset are upright-stable?\n",
    "  - (Your response here)\n",
    "- How *fraction* of boat designs in the dataset are upright-stable?\n",
    "  - (Your response here)\n"
   ]
  },
  {
   "cell_type": "markdown",
   "id": "89fdd013",
   "metadata": {},
   "source": [
    "### __qX__ Correlation tile plot\n"
   ]
  },
  {
   "cell_type": "code",
   "execution_count": null,
   "id": "db4fe62e",
   "metadata": {},
   "outputs": [],
   "source": [
    "(\n",
    "    df_archival\n",
    "    ## Compute the input/output correlation data here\n",
    "\n",
    "    ## NOTE: No need to edit; this will visualize your data\n",
    "    >> gr.pt_auto()\n",
    ")"
   ]
  },
  {
   "cell_type": "markdown",
   "id": "3b18ff54",
   "metadata": {},
   "source": [
    "*Observations*\n",
    "\n",
    "- Which inputs correlate strongly with the slope of the moment curve at upright (`dMdtheta_0`)?\n",
    "  - (Your response here)\n",
    "- For each of the inputs you identified above, what is the sign of the correlation? (Positive or negative?) For each input, what kind of change (increase or decrease) is required to increase upright stability?\n",
    "  - (Your response here)\n"
   ]
  },
  {
   "cell_type": "markdown",
   "id": "16adeae0",
   "metadata": {},
   "source": [
    "### __qX__ Detailed scatterplots\n",
    "\n",
    "Make scatterplots to study relationship between `dMdtheta_0` and the relevant inputs you identified above. Add a smooth trend to each scatterplot with `gr.geom_smooth()`.\n",
    "\n",
    "*Hint*: While it is possible to construct all three plots in a single code cell, you should feel free to create additional cells as-necessary.\n"
   ]
  },
  {
   "cell_type": "code",
   "execution_count": null,
   "id": "45e0af4f",
   "metadata": {},
   "outputs": [],
   "source": [
    "# TODO: Create scatterplots\n"
   ]
  },
  {
   "cell_type": "markdown",
   "id": "71c2d230",
   "metadata": {},
   "source": [
    "*Observations*\n",
    "\n",
    "- Is the observed variability real or erroneous?\n",
    "  - (Your response here)\n",
    "- Describe the effects of each input on the output `dMdtheta_0`.\n",
    "  - (Your response here)\n",
    "- For each input, describe the variability around the `gr.geom_smooth()` trend: Is it small or large at different values of the input?) \n",
    "  - (Your response here)\n",
    "- Do any of the inputs have a more *predictable* effect on `dMdtheta_0`?\n",
    "  - (Your response here)\n"
   ]
  },
  {
   "cell_type": "markdown",
   "id": "4bedbb7a",
   "metadata": {},
   "source": [
    "# Model Setup\n",
    "\n",
    "```python\n",
    "df_res = boat.fun_performance(v)\n",
    "```\n"
   ]
  },
  {
   "cell_type": "markdown",
   "id": "c34f76f2",
   "metadata": {},
   "source": [
    "### __qX__ Time the analysis\n"
   ]
  },
  {
   "cell_type": "code",
   "execution_count": null,
   "id": "c48986f3",
   "metadata": {},
   "outputs": [],
   "source": [
    "n_rep = 5\n",
    "\n",
    "t0 = time.time()\n",
    "for i in range(n_rep):\n",
    "\n",
    "t1 = time.time()\n",
    "\n",
    "t_exec = (t1 - t0) / n_rep\n",
    "\n",
    "print(\"Average execution time: {0:} sec\".format(t_exec))\n"
   ]
  },
  {
   "cell_type": "markdown",
   "id": "0f4d01f9",
   "metadata": {},
   "source": [
    "### __qX__ Define the input order\n"
   ]
  },
  {
   "cell_type": "code",
   "execution_count": null,
   "id": "b245c773",
   "metadata": {},
   "outputs": [],
   "source": [
    "out_performance = [\n",
    "    \"mass\",\n",
    "    \"GM\",\n",
    "    \"angle\",\n",
    "    \"dMdtheta_0\",\n",
    "    \"dMdtheta_avs\",\n",
    "    \"M_max\",\n",
    "    \"M_min\",\n",
    "    \"int_M_stable\",\n",
    "]\n",
    "\n",
    "\n",
    "\n",
    "## NOTE: No need to edit; use this to check your work\n",
    "assert \\\n",
    "    set(var_performance) == set(boat.var_correct), \\\n",
    "    \"Inputs not correct\"\n",
    "assert \\\n",
    "    var_performance == boat.var_correct, \\\n",
    "    \"Inputs are not in the correct order; check \" + \\\n",
    "    \"the documentation for boat.fun_performance().\""
   ]
  },
  {
   "cell_type": "markdown",
   "id": "d47a9f7d",
   "metadata": {},
   "source": [
    "```{admonition} Why does order matter?\n",
    "By default, Python functions interpret their inputs based on **order**. Grama takes care of variables based on **name**, but when working with a \"regular\" Python function, we have to be careful to give grama the correct order information. Imagine giving the value for boat height `H` as the shape factor `n`, or vice versa! If we are careful when defining a grama model, we can prevent these order issues later.\n",
    "```"
   ]
  },
  {
   "cell_type": "markdown",
   "id": "0d7d947c",
   "metadata": {},
   "source": [
    "### __qX__ Assemble the model\n"
   ]
  },
  {
   "cell_type": "code",
   "execution_count": null,
   "id": "caca606c",
   "metadata": {},
   "outputs": [],
   "source": [
    "md_performance = (\n",
    "    gr.Model(\"Boat performance\")\n",
    "    >> gr.cp_function(\n",
    "        fun=boat.fun_performance,\n",
    "        # Add input and output names;\n",
    "        # runtime estimate\n",
    "\n",
    "    )\n",
    "    >> gr.cp_bounds(\n",
    "        # Add input bounds\n",
    "\n",
    "    )\n",
    ")\n",
    "\n",
    "## NOTE: No need to edit; use this to check your work\n",
    "assert \\\n",
    "    md_performance.functions[0].runtime > 0, \\\n",
    "    \"Model has no runtime estimate\"\n",
    "for v in var_performance:\n",
    "    assert \\\n",
    "        md_performance.domain.bounds[v][0] < df_archival[v].min(), \\\n",
    "        \"Archival data for {} exceeds model lower bound\".format(v)\n",
    "    assert \\\n",
    "        df_archival[v].max() < md_performance.domain.bounds[v][1], \\\n",
    "        \"Archival data for {} exceeds model upper bound\".format(v)\n",
    "\n",
    "md_performance"
   ]
  }
 ],
 "metadata": {
  "kernelspec": {
   "display_name": "Python 3 (ipykernel)",
   "language": "python",
   "name": "python3"
  },
  "language_info": {
   "codemirror_mode": {
    "name": "ipython",
    "version": 3
   },
   "file_extension": ".py",
   "mimetype": "text/x-python",
   "name": "python",
   "nbconvert_exporter": "python",
   "pygments_lexer": "ipython3",
   "version": "3.9.7"
  }
 },
 "nbformat": 4,
 "nbformat_minor": 5
}
