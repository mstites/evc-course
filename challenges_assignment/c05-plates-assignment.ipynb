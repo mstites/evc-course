{
 "cells": [
  {
   "cell_type": "markdown",
   "id": "5cda0627",
   "metadata": {},
   "source": [
    "# c05-plates\n",
    "\n",
    "*Purpose*: \n"
   ]
  },
  {
   "cell_type": "markdown",
   "id": "926dc865",
   "metadata": {},
   "source": [
    "## Informed Consent\n",
    "\n",
    "As a reminder, this course is part of a study of engineers' behavior. While not all parts of the course include data collection, we will analyze your responses to this homework as part of the research.\n",
    "\n",
    "We will analyze your answers to this homework, and may quote this work as part of published research.\n",
    "\n",
    "You can ask to have your responses excluded from the study after the interview by sending us an email. Before starting this assignment, do you consent to sharing your work with the study?\n"
   ]
  },
  {
   "cell_type": "markdown",
   "id": "cbbc1459",
   "metadata": {},
   "source": [
    "I agree to share my responses with the study\n",
    "\n",
    "- (Please type your name here)\n"
   ]
  },
  {
   "cell_type": "code",
   "execution_count": null,
   "id": "da0c94ff",
   "metadata": {},
   "outputs": [],
   "source": [
    "import grama as gr\n",
    "import pandas as pd\n",
    "DF = gr.Intention()\n",
    "%matplotlib inline\n",
    "\n",
    "# For assertion\n",
    "from pandas.api.types import is_numeric_dtype\n"
   ]
  },
  {
   "cell_type": "markdown",
   "id": "e7aa4c9c",
   "metadata": {},
   "source": [
    "## Background\n",
    "\n",
    "(This continues the stang challenge.)\n"
   ]
  },
  {
   "cell_type": "markdown",
   "id": "99ac5a24",
   "metadata": {},
   "source": [
    "# Assess Statistical Control\n"
   ]
  },
  {
   "cell_type": "code",
   "execution_count": null,
   "id": "c09f954f",
   "metadata": {},
   "outputs": [],
   "source": [
    "from grama.data import df_stang\n"
   ]
  },
  {
   "cell_type": "markdown",
   "id": "6b436965",
   "metadata": {},
   "source": [
    "### __qX__ Assess statistical control of `E` across thicknesses\n",
    "\n",
    "Construct a control chart with groupings according to plate thickness. Assess the state of statistical control of the elasticity. Answer the questions under *observations* below.\n"
   ]
  },
  {
   "cell_type": "code",
   "execution_count": null,
   "id": "23b2123a",
   "metadata": {},
   "outputs": [],
   "source": [
    "## TODO: Construct a control chart\n",
    "(\n",
    "    df_stang\n",
    "\n",
    ")"
   ]
  },
  {
   "cell_type": "markdown",
   "id": "e12e7721",
   "metadata": {},
   "source": [
    "*Observations*\n",
    "\n",
    "- Is the variability of `E` under statistical control across plate thicknesses? How do you know?\n",
    "  - (Your response here)\n",
    "- Is the mean of `E` under statistical control across plate thicknesses? How do you know?\n",
    "  - (Your response here)\n"
   ]
  },
  {
   "cell_type": "markdown",
   "id": "ca3ad541",
   "metadata": {},
   "source": [
    "## Follow-up experiment\n",
    "\n",
    "*Note*: The following data were simulated; they do not correspond to physical experiments.\n"
   ]
  },
  {
   "cell_type": "code",
   "execution_count": null,
   "id": "92644441",
   "metadata": {},
   "outputs": [],
   "source": [
    "df_data = pd.read_csv(\"./data/c05-data.csv\")\n",
    "df_data"
   ]
  },
  {
   "cell_type": "markdown",
   "id": "e0a279ad",
   "metadata": {},
   "source": [
    "### Data Dictionary\n",
    "\n",
    "| Symbol | Variable | Meaning |\n",
    "|---|---|---|\n",
    "| `E` | Elasticity (ksi) | Mechanical property |\n",
    "| `mu` | Poisson's ratio (-) | Mechanical property |\n",
    "| `t` | Thickness (in) | Geometric property |\n",
    "| `id_machine` | Unique machine identifier | Manufacturing variable |\n",
    "| `id_specimen` | Unique specimen identifier | Manufacturing variable |\n",
    "| `id_measurement` | Unique measurement (operator) identifier | Manufacturing variable |\n"
   ]
  },
  {
   "cell_type": "markdown",
   "id": "1cf4e1a1",
   "metadata": {
    "tags": []
   },
   "source": [
    "### __qX__ Explore the experimental design\n",
    "\n",
    "Answer the following questions to better understand the experimental design. Note that the same questions are posed within each cell and under *observations* below.\n",
    "\n",
    "*Hint*: The verbs `tf_count()` and `tf_distinct()` will be very useful for answering some of these questions!\n"
   ]
  },
  {
   "cell_type": "code",
   "execution_count": null,
   "id": "f9545a52",
   "metadata": {},
   "outputs": [],
   "source": [
    "## Q: What thicknesses were tested?\n"
   ]
  },
  {
   "cell_type": "code",
   "execution_count": null,
   "id": "94c90ec6",
   "metadata": {},
   "outputs": [],
   "source": [
    "## Q: How many unique specimens were manufactured?\n"
   ]
  },
  {
   "cell_type": "code",
   "execution_count": null,
   "id": "f3b1ece5",
   "metadata": {},
   "outputs": [],
   "source": [
    "## Q: How many specimens were made on each machine?\n"
   ]
  },
  {
   "cell_type": "code",
   "execution_count": null,
   "id": "0b867534",
   "metadata": {},
   "outputs": [],
   "source": [
    "## Q: How many times did each operator measure each specimen?\n"
   ]
  },
  {
   "cell_type": "markdown",
   "id": "fbf8e3cd",
   "metadata": {},
   "source": [
    "*Observations*\n",
    "\n",
    "- What thicknesses were tested?\n",
    "  - (Your response here)\n",
    "- How many unique specimens were manufactured?\n",
    "  - (Your response here)\n",
    "- How many specimens were made on each machine?\n",
    "  - (Your response here)\n",
    "- How many times did each operator measure each specimen?\n",
    "  - (Your response here)\n"
   ]
  },
  {
   "cell_type": "markdown",
   "id": "3b610968",
   "metadata": {},
   "source": [
    "### __qX__ Compare across thicknesses\n",
    "\n",
    "Compare the elasticity across plate thicknesses; does elasticity seem to be consistent across thickness?\n"
   ]
  },
  {
   "cell_type": "code",
   "execution_count": null,
   "id": "993a57de",
   "metadata": {},
   "outputs": [],
   "source": [
    "## TODO: Compare elasticity across thicknesses\n",
    "## NOTE: There are many ways to do this!\n",
    "(\n",
    "    df_data\n",
    "\n",
    ")"
   ]
  },
  {
   "cell_type": "markdown",
   "id": "4c05cd3c",
   "metadata": {},
   "source": [
    "*Observations*\n",
    "\n",
    "- Is thickness consistent across plate thickness?\n",
    "  - (Your response here)\n",
    "- Will it be reasonable to group together plates of different thicknesses when assessing statistical control? Why or why not?\n",
    "  - (Your response here)\n"
   ]
  },
  {
   "cell_type": "markdown",
   "id": "a9f9aa7e",
   "metadata": {},
   "source": [
    "### __qX__ Assess statistical control of Poisson's ratio\n",
    "\n",
    "Consider only the `t == 0.250` plates. Assess the state of statistical control of Poisson's ratio. Answer the questions under *observations* below.\n"
   ]
  },
  {
   "cell_type": "code",
   "execution_count": null,
   "id": "90910230",
   "metadata": {},
   "outputs": [],
   "source": [
    "## TODO: Assess the state of statistical control\n"
   ]
  },
  {
   "cell_type": "markdown",
   "id": "49932658",
   "metadata": {},
   "source": [
    "*Observations*\n",
    "\n",
    "- Is `mu` under statistical control? Why or why not?\n",
    "  - (Your response here)\n"
   ]
  },
  {
   "cell_type": "markdown",
   "id": "22b96c16",
   "metadata": {},
   "source": [
    "### __qX__ Assess statistical control of elasticity\n",
    "\n",
    "Consider only the `t == 0.250` plates. Assess the state of statistical control of the elasticity. Answer the questions under *observations* below.\n"
   ]
  },
  {
   "cell_type": "code",
   "execution_count": null,
   "id": "1888c9c0",
   "metadata": {},
   "outputs": [],
   "source": [
    "## TODO: Assess the state of statistical control\n"
   ]
  },
  {
   "cell_type": "code",
   "execution_count": null,
   "id": "cf28b708",
   "metadata": {},
   "outputs": [],
   "source": []
  },
  {
   "cell_type": "markdown",
   "id": "34238be8",
   "metadata": {},
   "source": [
    "*Observations*\n",
    "\n",
    "- Why is it important that we limit this analysis to `t == 0.25` plates?\n",
    "  - (Your response here)\n",
    "- Is `E` under statistical control? Why or why not?\n",
    "  - (Your response here)\n",
    "- Based on the group variable(s) you chose, what follow-up investigations should be done?\n",
    "  - (Your response here)\n"
   ]
  },
  {
   "cell_type": "markdown",
   "id": "470c2113",
   "metadata": {
    "tags": []
   },
   "source": [
    "### __qX__ Assess statistical control of elasticity (Pt. 2)\n",
    "\n",
    "\n"
   ]
  },
  {
   "cell_type": "code",
   "execution_count": null,
   "id": "d8964e82",
   "metadata": {},
   "outputs": [],
   "source": [
    "(\n",
    "    df_data\n",
    "    >> gr.tf_filter(\n",
    "        DF.t == 0.250,\n",
    "        DF.id_machine != \"C\",\n",
    "        DF.id_measurement != \"h\",\n",
    "    )\n",
    "\n",
    ")"
   ]
  },
  {
   "cell_type": "code",
   "execution_count": null,
   "id": "dd9a4bc7",
   "metadata": {},
   "outputs": [],
   "source": []
  },
  {
   "cell_type": "markdown",
   "id": "f17922d6",
   "metadata": {},
   "source": [
    "*Observations*\n",
    "\n",
    "- For the set of machines and operators considered, is `E` under statistical control? Why or why not?\n",
    "  - (Your response here)\n"
   ]
  },
  {
   "cell_type": "markdown",
   "id": "3645fc28",
   "metadata": {},
   "source": [
    "# Consider Sources of Variability\n",
    "\n",
    "(TODO)\n",
    "\n",
    "For the rest of the exercise, we will consider the following subset of the data.\n"
   ]
  },
  {
   "cell_type": "code",
   "execution_count": null,
   "id": "ad7e65f9",
   "metadata": {},
   "outputs": [],
   "source": [
    "## NOTE: No need to edit\n",
    "df_sub = (\n",
    "    df_data\n",
    "    >> gr.tf_filter(\n",
    "        DF.t == 0.250,\n",
    "        DF.id_machine != \"C\",\n",
    "        DF.id_measurement != \"h\",\n",
    "    )\n",
    ")"
   ]
  },
  {
   "cell_type": "markdown",
   "id": "07b17c05",
   "metadata": {},
   "source": [
    "### __qX__ Estimate the real variability\n",
    "\n",
    "Identify the column in `df_sub` that groups together multiple measurements of the same quantity.\n",
    "\n",
    "The code below applies the *mean heuristic* ([e-stat02-source](https://zdelrosario.github.io/evc-course/exercises_solution/d08-e-stat02-source-solution.html#heuristics)) to produce a more stable measurement, then compute the variance across these more stable measurements.\n"
   ]
  },
  {
   "cell_type": "code",
   "execution_count": null,
   "id": "308d01c9",
   "metadata": {},
   "outputs": [],
   "source": [
    "## TASK: Apply the Mean Heuristic to group by the appropriate variable\n",
    "df_var_mfg = (\n",
    "    df_sub\n",
    "    ## TODO: Group by the appropriate variable\n",
    "\n",
    "    >> gr.tf_summarize(E=gr.mean(DF.E))\n",
    "    >> gr.tf_ungroup()\n",
    "    >> gr.tf_summarize(E_var_mfg=gr.var(DF.E))\n",
    ")\n",
    "\n",
    "## NOTE: No need to edit; use this to check your work\n",
    "assert \\\n",
    "    abs(df_var_mfg.E_var_mfg[0] - 109670.635716) < 1e-6, \\\n",
    "    \"Incorrect variance; make sure you grouped by the correct variable\"\n",
    "\n",
    "df_var_mfg"
   ]
  },
  {
   "cell_type": "markdown",
   "id": "f5f46ac0",
   "metadata": {},
   "source": [
    "### __qX__ Estimate the measurement variability\n"
   ]
  },
  {
   "cell_type": "code",
   "execution_count": null,
   "id": "a6271ea2",
   "metadata": {},
   "outputs": [],
   "source": [
    "df_var_meas = (\n",
    "    df_sub\n",
    "\n",
    ")\n",
    "\n",
    "## NOTE: No need to edit; use this to check your work\n",
    "assert \\\n",
    "    abs(df_var_meas.iloc[0, 0] - 168382.91387) < 1e-6, \\\n",
    "    \"Incorrect variance; make sure you grouped by the correct variable\"\n",
    "\n",
    "df_var_meas"
   ]
  },
  {
   "cell_type": "markdown",
   "id": "3adc0921",
   "metadata": {},
   "source": []
  },
  {
   "cell_type": "code",
   "execution_count": null,
   "id": "21774f92",
   "metadata": {},
   "outputs": [],
   "source": [
    "df_real = (\n",
    "    df_sub\n",
    "    >> gr.tf_group_by(DF.id_specimen)\n",
    "    >> gr.tf_summarize(\n",
    "        mu=gr.mean(DF.mu),\n",
    "        E=gr.mean(DF.E),\n",
    "    )\n",
    "    >> gr.tf_ungroup()\n",
    ")"
   ]
  },
  {
   "cell_type": "markdown",
   "id": "4fc4e451",
   "metadata": {},
   "source": [
    "# Model Variability\n"
   ]
  },
  {
   "cell_type": "markdown",
   "id": "65b4d40a",
   "metadata": {},
   "source": [
    "### __qX__ Assess dependency of `E` and `mu`\n"
   ]
  },
  {
   "cell_type": "code",
   "execution_count": null,
   "id": "6f776886",
   "metadata": {},
   "outputs": [],
   "source": [
    "(\n",
    "    df_sub\n",
    "    >> gr.ggplot(gr.aes(\"E\", \"mu\"))\n",
    "    + gr.geom_point()\n",
    ")"
   ]
  },
  {
   "cell_type": "markdown",
   "id": "8f27df6b",
   "metadata": {},
   "source": []
  },
  {
   "cell_type": "code",
   "execution_count": null,
   "id": "fdba79fb",
   "metadata": {},
   "outputs": [],
   "source": [
    "md_plate = (\n",
    "    gr.Model(\"Plate critical buckling stress\")\n",
    "    >> gr.cp_vec_function(\n",
    "        fun=lambda df: gr.df_make(\n",
    "            k_cr=(df.m * df.b / df.a + df.a / df.m / df.b)**2\n",
    "        ),\n",
    "        var=[\"a\", \"b\", \"m\"],\n",
    "        out=[\"k_cr\"],\n",
    "        name=\"Shape factor\",\n",
    "    )\n",
    "    >> gr.cp_vec_function(\n",
    "        fun=lambda df: gr.df_make(\n",
    "            sigma_cr=df.k_cr * (3.14**3/12) * df.E*1e3 / (1 - df.mu**2)\n",
    "                    *(df.t / df.b)**2\n",
    "        ),\n",
    "        var=[\"k_cr\", \"E\", \"mu\", \"t\", \"b\"],\n",
    "        out=[\"sigma_cr\"],\n",
    "        name=\"Buckling stress\",\n",
    "    )\n",
    "    >> gr.cp_vec_function(\n",
    "        fun=lambda df: gr.df_make(\n",
    "            g_buckle=df.sigma_cr - 2e5 / df.b / df.t,\n",
    "        ),\n",
    "        var=[\"sigma_cr\", \"b\", \"t\"],\n",
    "        out=[\"g_buckle\"],\n",
    "        name=\"Limit state: Buckling\",\n",
    "    )\n",
    ")\n",
    "\n",
    "md_plate"
   ]
  },
  {
   "cell_type": "markdown",
   "id": "8694aba3",
   "metadata": {},
   "source": [
    "### __qX__ Fit with all observations\n"
   ]
  },
  {
   "cell_type": "code",
   "execution_count": null,
   "id": "29314134",
   "metadata": {},
   "outputs": [],
   "source": [
    "md_total = (\n",
    "    md_plate\n",
    "\n",
    ")\n",
    "md_total"
   ]
  },
  {
   "cell_type": "markdown",
   "id": "4491d371",
   "metadata": {},
   "source": [
    "### __qX__ Fit with averaged observations\n"
   ]
  },
  {
   "cell_type": "code",
   "execution_count": null,
   "id": "2b07e470",
   "metadata": {},
   "outputs": [],
   "source": [
    "md_real = (\n",
    "    md_plate\n",
    "\n",
    ")\n",
    "md_real"
   ]
  },
  {
   "cell_type": "markdown",
   "id": "39df49fb",
   "metadata": {},
   "source": [
    "# Design Under Uncertainty\n"
   ]
  },
  {
   "cell_type": "code",
   "execution_count": null,
   "id": "f4cb0408",
   "metadata": {},
   "outputs": [],
   "source": [
    "df_baseline = gr.df_make(t=0.25, a=12.0, b=9.0, m=1)\n"
   ]
  },
  {
   "cell_type": "markdown",
   "id": "140bca89",
   "metadata": {
    "tags": []
   },
   "source": [
    "### __qX__ Assess a baseline design\n",
    "\n",
    "\n"
   ]
  },
  {
   "cell_type": "code",
   "execution_count": null,
   "id": "05603128",
   "metadata": {},
   "outputs": [],
   "source": [
    "df_baseline_total = (\n",
    "    md_total\n",
    "\n",
    ")\n",
    "\n",
    "## NOTE: Use this to check your work\n",
    "assert \\\n",
    "    isinstance(df_baseline_total, pd.DataFrame), \\\n",
    "    \"df_baseline_total is not a DataFrame; make sure to evaluate the model\"\n",
    "assert \\\n",
    "    \"pof_lo\" in df_baseline_total.columns, \\\n",
    "    \"df_baseline_total does not have a pof_lo column; make sure to include a lower CI end\"\n",
    "assert \\\n",
    "    \"pof_up\" in df_baseline_total.columns, \\\n",
    "    \"df_baseline_total does not have a pof_up column; make sure to include a lower CI end\"\n"
   ]
  },
  {
   "cell_type": "code",
   "execution_count": null,
   "id": "ce00a16d",
   "metadata": {},
   "outputs": [],
   "source": [
    "df_baseline_real = (\n",
    "    md_real\n",
    "\n",
    ")\n",
    "\n",
    "## NOTE: Use this to check your work\n",
    "assert \\\n",
    "    isinstance(df_baseline_real, pd.DataFrame), \\\n",
    "    \"df_baseline_real is not a DataFrame; make sure to evaluate the model\"\n",
    "assert \\\n",
    "    \"pof_lo\" in df_baseline_real.columns, \\\n",
    "    \"df_baseline_real does not have a pof_lo column; make sure to include a lower CI end\"\n",
    "assert \\\n",
    "    \"pof_up\" in df_baseline_real.columns, \\\n",
    "    \"df_baseline_real does not have a pof_up column; make sure to include a lower CI end\"\n"
   ]
  },
  {
   "cell_type": "code",
   "execution_count": null,
   "id": "10c7f9db",
   "metadata": {},
   "outputs": [],
   "source": [
    "(\n",
    "    df_baseline_total\n",
    "    >> gr.tf_mutate(model=\"Total\")\n",
    "    >> gr.tf_bind_rows(\n",
    "        df_baseline_real\n",
    "        >> gr.tf_mutate(model=\"Real\")\n",
    "    )\n",
    "    \n",
    "    >> gr.ggplot(gr.aes(\"model\", \"pof\"))\n",
    "    + gr.geom_hline(yintercept=0.01, linetype=\"dashed\")\n",
    "    + gr.geom_errorbar(gr.aes(ymin=\"pof_lo\", ymax=\"pof_up\"))\n",
    "    + gr.geom_point()\n",
    ")"
   ]
  },
  {
   "cell_type": "markdown",
   "id": "0eb68800",
   "metadata": {},
   "source": [
    "*Observations*\n",
    "\n",
    "- According to the `Total` model, does the baseline design meet the desired criteria of `pof < 0.01` (dashed line)?\n",
    "  - (Your response here)\n",
    "- According to the `Real` model, does the baseline design meet the desired criteria of `pof < 0.01` (dashed line)?\n",
    "  - (Your response here)\n"
   ]
  },
  {
   "cell_type": "markdown",
   "id": "baf3e701",
   "metadata": {},
   "source": [
    "### __qX__ Adjust the design\n",
    "\n",
    "Adjust the thickness of the plate to *confidently* achieve `pof < 0.01`. Repeat this process for both the `Total` and `Real` models. Answer the questions under *observations* below.\n"
   ]
  },
  {
   "cell_type": "code",
   "execution_count": null,
   "id": "e2573bbe",
   "metadata": {},
   "outputs": [],
   "source": [
    "df_revised_total = gr.df_make(\n",
    "    ## TODO: Adjust the thickness to modify the design\n",
    "    # t=0.25,\n",
    "\n",
    "    ## NOTE: Do not edit the following values\n",
    "    a=12.0, b=9.0, m=1\n",
    ")\n",
    "\n",
    "## NOTE: No need to edit\n",
    "df_revised_total = (\n",
    "    md_total\n",
    "    >> gr.ev_sample(n=1e4, df_det=df_revised_total)\n",
    "    >> gr.tf_summarize(\n",
    "        pof_lo=gr.pr_lo(DF.g_buckle <= 0),\n",
    "        pof=gr.pr(DF.g_buckle <= 0),\n",
    "        pof_up=gr.pr_up(DF.g_buckle <= 0),\n",
    "    )\n",
    ")\n",
    "\n",
    "df_revised_total\n"
   ]
  },
  {
   "cell_type": "code",
   "execution_count": null,
   "id": "7c5cc5e1",
   "metadata": {},
   "outputs": [],
   "source": [
    "df_revised_real = gr.df_make(\n",
    "    ## TODO: Adjust the thickness to modify the design\n",
    "    # t=0.25,\n",
    "\n",
    "    ## NOTE: Do not edit the following values\n",
    "    a=12.0, b=9.0, m=1\n",
    ")\n",
    "\n",
    "## NOTE: No need to edit\n",
    "df_revised_real = (\n",
    "    md_real\n",
    "    >> gr.ev_sample(n=1e4, df_det=df_revised_real)\n",
    "    >> gr.tf_summarize(\n",
    "        pof_lo=gr.pr_lo(DF.g_buckle <= 0),\n",
    "        pof=gr.pr(DF.g_buckle <= 0),\n",
    "        pof_up=gr.pr_up(DF.g_buckle <= 0),\n",
    "    )\n",
    ")\n",
    "\n",
    "df_revised_real\n"
   ]
  },
  {
   "cell_type": "code",
   "execution_count": null,
   "id": "1524cae5",
   "metadata": {},
   "outputs": [],
   "source": [
    "## NOTE: No need to edit; the following visual will help you assess the results\n",
    "(\n",
    "    df_revised_total\n",
    "    >> gr.tf_mutate(model=\"Total\")\n",
    "    >> gr.tf_bind_rows(\n",
    "        df_revised_real\n",
    "        >> gr.tf_mutate(model=\"Real\")\n",
    "    )\n",
    "    \n",
    "    >> gr.ggplot(gr.aes(\"model\", \"pof\"))\n",
    "    + gr.geom_hline(yintercept=0.01, linetype=\"dashed\")\n",
    "    + gr.geom_errorbar(gr.aes(ymin=\"pof_lo\", ymax=\"pof_up\"))\n",
    "    + gr.geom_point()\n",
    ")"
   ]
  },
  {
   "cell_type": "markdown",
   "id": "e2e099d8",
   "metadata": {},
   "source": [
    "*Observations*\n",
    "\n",
    "- What needs to be the case with your results to *confidently* conclude that `pof < 0.01`?\n",
    "  - (Your response here)\n",
    "- What thickness is necessary to confidently achieve `pof < 0.01` with the `Total` model?\n",
    "  - (Your response here)\n",
    "- What thickness is necessary to confidently achieve `pof < 0.01` with the `Real` model?\n",
    "  - (Your response here)\n",
    "- Suppose the plate manufacturing process can only achieve tolerances to within `0.01` in of thickness. Does distinguishing between real and total variability have a large consequence in this case?\n",
    "  - (Your response here)\n",
    "- Now suppose the plate manufacturing process can achieve tolerances to within `0.001` in of thickness, and weight is a major concern. Does distinguishing between real and total variability have a large consequence in this case?\n",
    "  - (Your response here)\n"
   ]
  }
 ],
 "metadata": {
  "kernelspec": {
   "display_name": "Python 3 (ipykernel)",
   "language": "python",
   "name": "python3"
  },
  "language_info": {
   "codemirror_mode": {
    "name": "ipython",
    "version": 3
   },
   "file_extension": ".py",
   "mimetype": "text/x-python",
   "name": "python",
   "nbconvert_exporter": "python",
   "pygments_lexer": "ipython3",
   "version": "3.9.7"
  }
 },
 "nbformat": 4,
 "nbformat_minor": 5
}
