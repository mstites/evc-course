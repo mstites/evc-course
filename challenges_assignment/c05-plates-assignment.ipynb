{
 "cells": [
  {
   "cell_type": "markdown",
   "id": "804fcc82",
   "metadata": {},
   "source": [
    "# c05-plates\n",
    "\n",
    "*Purpose*: \n"
   ]
  },
  {
   "cell_type": "markdown",
   "id": "55a40245",
   "metadata": {},
   "source": [
    "## Informed Consent\n",
    "\n",
    "As a reminder, this course is part of a study of engineers' behavior. While not all parts of the course include data collection, we will analyze your responses to this homework as part of the research.\n",
    "\n",
    "We will analyze your answers to this homework, and may quote this work as part of published research.\n",
    "\n",
    "You can ask to have your responses excluded from the study after the interview by sending us an email. Before starting this assignment, do you consent to sharing your work with the study?\n"
   ]
  },
  {
   "cell_type": "markdown",
   "id": "9749ac47",
   "metadata": {},
   "source": [
    "I agree to share my responses with the study\n",
    "\n",
    "- (Please type your name here)\n"
   ]
  },
  {
   "cell_type": "code",
   "execution_count": null,
   "id": "896ec451",
   "metadata": {},
   "outputs": [],
   "source": [
    "import grama as gr\n",
    "import pandas as pd\n",
    "DF = gr.Intention()\n",
    "%matplotlib inline\n",
    "\n",
    "# For assertion\n",
    "from pandas.api.types import is_numeric_dtype\n"
   ]
  },
  {
   "cell_type": "markdown",
   "id": "b3b136ea",
   "metadata": {},
   "source": [
    "## Background\n",
    "\n",
    "(This continues the stang challenge.)\n"
   ]
  },
  {
   "cell_type": "markdown",
   "id": "96d6a487",
   "metadata": {},
   "source": [
    "# Assess Statistical Control\n"
   ]
  },
  {
   "cell_type": "code",
   "execution_count": null,
   "id": "cff01e91",
   "metadata": {},
   "outputs": [],
   "source": [
    "from grama.data import df_stang\n"
   ]
  },
  {
   "cell_type": "markdown",
   "id": "7f8bfec7",
   "metadata": {},
   "source": [
    "### __qX__ Assess statistical control across thicknesses\n"
   ]
  },
  {
   "cell_type": "code",
   "execution_count": null,
   "id": "86549070",
   "metadata": {},
   "outputs": [],
   "source": [
    "(\n",
    "    df_stang\n",
    "    >> gr.pt_xbs(group=\"thick\", var=\"E\")\n",
    ")"
   ]
  },
  {
   "cell_type": "markdown",
   "id": "734a7ff0",
   "metadata": {},
   "source": [
    "*Observations*\n",
    "\n",
    "- Is the variability of `E` under statistical control across plate thicknesses? How do you know?\n",
    "  - (Your response here)\n",
    "- Is the mean of `E` under statistical control across plate thicknesses? How do you know?\n",
    "  - (Your response here)\n"
   ]
  },
  {
   "cell_type": "markdown",
   "id": "c7cce655",
   "metadata": {},
   "source": [
    "## Follow-up experiment\n",
    "\n",
    "*Note*: The following data were simulated; they do not correspond to physical experiments.\n"
   ]
  },
  {
   "cell_type": "code",
   "execution_count": null,
   "id": "6ddb0cb1",
   "metadata": {},
   "outputs": [],
   "source": [
    "df_data = pd.read_csv(\"./data/c05-data.csv\")\n",
    "df_data"
   ]
  },
  {
   "cell_type": "markdown",
   "id": "08236587",
   "metadata": {},
   "source": [
    "| Symbol | Variable | Meaning |\n",
    "|---|---|---|\n",
    "| `E` | Elasticity (ksi) | Mechanical property |\n",
    "| `mu` | Poisson's ratio (-) | Mechanical property |\n",
    "| `t` | Thickness (in) | Geometric property |\n",
    "| `id_machine` | Unique machine identifier | Manufacturing variable |\n",
    "| `id_specimen` | Unique specimen identifier | Manufacturing variable |\n",
    "| `id_measurement` | Unique measurement (operator) identifier | Manufacturing variable |\n"
   ]
  },
  {
   "cell_type": "markdown",
   "id": "1aa19cbe",
   "metadata": {
    "tags": []
   },
   "source": [
    "### __qX__ Explore the experimental design\n",
    "\n",
    "Answer the following questions to better understand the experimental design. Note that the same questions are posed within each cell and under *observations* below.\n",
    "\n",
    "*Hint*: The verbs `tf_count()` and `tf_distinct()` will be very useful for answering some of these questions!\n"
   ]
  },
  {
   "cell_type": "code",
   "execution_count": null,
   "id": "1be7e5d4",
   "metadata": {},
   "outputs": [],
   "source": [
    "## Q: What thicknesses were tested?\n"
   ]
  },
  {
   "cell_type": "code",
   "execution_count": null,
   "id": "695d4e2d",
   "metadata": {},
   "outputs": [],
   "source": [
    "## Q: How many unique specimens were manufactured?\n"
   ]
  },
  {
   "cell_type": "code",
   "execution_count": null,
   "id": "387fd5cd",
   "metadata": {},
   "outputs": [],
   "source": [
    "## Q: How many specimens were made on each machine?\n"
   ]
  },
  {
   "cell_type": "code",
   "execution_count": null,
   "id": "da47b2d3",
   "metadata": {},
   "outputs": [],
   "source": [
    "## Q: How many times did each operator measure each specimen?\n"
   ]
  },
  {
   "cell_type": "markdown",
   "id": "574cfd30",
   "metadata": {},
   "source": [
    "*Observations*\n",
    "\n",
    "- What thicknesses were tested?\n",
    "  - (Your response here)\n",
    "- How many unique specimens were manufactured?\n",
    "  - (Your response here)\n",
    "- How many specimens were made on each machine?\n",
    "  - (Your response here)\n",
    "- How many times did each operator measure each specimen?\n",
    "  - (Your response here)\n"
   ]
  },
  {
   "cell_type": "markdown",
   "id": "62ed5b6c",
   "metadata": {},
   "source": [
    "### __qX__ Compare across thicknesses\n",
    "\n",
    "Compare the elasticity across plate thicknesses; does elasticity seem to be consistent across thickness?\n"
   ]
  },
  {
   "cell_type": "code",
   "execution_count": null,
   "id": "925190cb",
   "metadata": {},
   "outputs": [],
   "source": [
    "(\n",
    "    df_data\n",
    "    >> gr.ggplot(gr.aes(\"t\", \"E\"))\n",
    "    + gr.geom_boxplot(gr.aes(group=\"t\"), notch=True)\n",
    ")"
   ]
  },
  {
   "cell_type": "markdown",
   "id": "e58c7789",
   "metadata": {},
   "source": [
    "*Observations*\n",
    "\n",
    "- Is thickness consistent across plate thickness?\n",
    "  - (Your response here)\n",
    "- Will it be reasonable to group together plates of different thicknesses when assessing statistical control? Why or why not?\n",
    "  - (Your response here)\n"
   ]
  },
  {
   "cell_type": "markdown",
   "id": "1b88a549",
   "metadata": {},
   "source": [
    "### __qX__ Assess statistical control of Poisson's ratio\n",
    "\n",
    "Consider only the `t == 0.250` plates. Assess the state of statistical control of Poisson's ratio. Answer the questions under *observations* below.\n"
   ]
  },
  {
   "cell_type": "code",
   "execution_count": null,
   "id": "1b61d359",
   "metadata": {},
   "outputs": [],
   "source": [
    "## TODO: Assess the state of statistical control\n"
   ]
  },
  {
   "cell_type": "markdown",
   "id": "edc7f053",
   "metadata": {},
   "source": [
    "*Observations*\n",
    "\n",
    "- Is `mu` under statistical control? Why or why not?\n",
    "  - (Your response here)\n"
   ]
  },
  {
   "cell_type": "markdown",
   "id": "8ae5e8e7",
   "metadata": {},
   "source": [
    "### __qX__ Assess statistical control of elasticity\n",
    "\n",
    "Consider only the `t == 0.250` plates. Assess the state of statistical control of the elasticity. Answer the questions under *observations* below.\n"
   ]
  },
  {
   "cell_type": "code",
   "execution_count": null,
   "id": "0be6ca7a",
   "metadata": {},
   "outputs": [],
   "source": [
    "## TODO: Assess the state of statistical control\n"
   ]
  },
  {
   "cell_type": "code",
   "execution_count": null,
   "id": "c9376078",
   "metadata": {},
   "outputs": [],
   "source": []
  },
  {
   "cell_type": "markdown",
   "id": "827b1a91",
   "metadata": {},
   "source": [
    "*Observations*\n",
    "\n",
    "- Is `E` under statistical control? Why or why not?\n",
    "  - (Your response here)\n",
    "- Based on the group variable(s) you chose, what follow-up investigations should be done?\n",
    "  - (Your response here)\n"
   ]
  },
  {
   "cell_type": "markdown",
   "id": "f3412838",
   "metadata": {
    "tags": []
   },
   "source": [
    "### __qX__ Assess statistical control of elasticity (Pt. 2)\n",
    "\n",
    "\n",
    "\n"
   ]
  },
  {
   "cell_type": "code",
   "execution_count": null,
   "id": "ce802d6e",
   "metadata": {},
   "outputs": [],
   "source": [
    "(\n",
    "    df_data\n",
    "    >> gr.tf_filter(\n",
    "        DF.t == 0.250,\n",
    "        DF.id_machine != \"C\",\n",
    "        DF.id_measurement != \"h\",\n",
    "    )\n",
    "\n",
    ")"
   ]
  },
  {
   "cell_type": "code",
   "execution_count": null,
   "id": "1c34c62e",
   "metadata": {},
   "outputs": [],
   "source": [
    "(\n",
    "    df_data\n",
    "    >> gr.tf_filter(\n",
    "        DF.id_machine != \"C\",\n",
    "        DF.id_measurement != \"h\",\n",
    "    )\n",
    "    \n",
    "    >> gr.pt_xbs(group=\"id_measurement\", var=\"E\")\n",
    ")"
   ]
  },
  {
   "cell_type": "markdown",
   "id": "70609239",
   "metadata": {},
   "source": [
    "*Observations*\n",
    "\n",
    "- Is `E` under statistical control? Why or why not?\n",
    "  - (Your response here)\n",
    "- Based on the group variable(s) you chose, what follow-up investigations should be done?\n",
    "  - (Your response here)\n"
   ]
  },
  {
   "cell_type": "markdown",
   "id": "567fdb83",
   "metadata": {},
   "source": [
    "# Consider Sources of Variability\n"
   ]
  },
  {
   "cell_type": "code",
   "execution_count": null,
   "id": "6cc938af",
   "metadata": {},
   "outputs": [],
   "source": [
    "df_sub = (\n",
    "    df_data\n",
    "    >> gr.tf_filter(\n",
    "        DF.t == 0.250,\n",
    "        DF.id_machine != \"C\",\n",
    "        DF.id_measurement != \"h\",\n",
    "    )\n",
    ")"
   ]
  },
  {
   "cell_type": "code",
   "execution_count": null,
   "id": "c4158675",
   "metadata": {},
   "outputs": [],
   "source": [
    "(\n",
    "    df_sub\n",
    "    >> gr.tf_summarize(E_var_total=gr.var(DF.E))\n",
    ")"
   ]
  },
  {
   "cell_type": "code",
   "execution_count": null,
   "id": "f560048e",
   "metadata": {},
   "outputs": [],
   "source": [
    "(\n",
    "    df_sub\n",
    "    >> gr.tf_group_by(DF.t, DF.id_specimen)\n",
    "    >> gr.tf_summarize(\n",
    "        E_var=gr.var(DF.E),\n",
    "    )\n",
    "    >> gr.tf_ungroup()\n",
    "    >> gr.tf_summarize(E_var_meas=gr.mean(DF.E_var))\n",
    ")"
   ]
  },
  {
   "cell_type": "code",
   "execution_count": null,
   "id": "de69477a",
   "metadata": {},
   "outputs": [],
   "source": [
    "(\n",
    "    df_sub\n",
    "    >> gr.tf_group_by(DF.t, DF.id_specimen)\n",
    "    >> gr.tf_summarize(\n",
    "        mu=gr.mean(DF.mu),\n",
    "        E=gr.mean(DF.E),\n",
    "    )\n",
    "    >> gr.tf_ungroup()\n",
    "    >> gr.tf_summarize(\n",
    "        E_var_mfg=gr.var(DF.E)\n",
    "    )\n",
    ")"
   ]
  },
  {
   "cell_type": "code",
   "execution_count": null,
   "id": "1b6fda09",
   "metadata": {},
   "outputs": [],
   "source": [
    "df_real = (\n",
    "    df_sub\n",
    "    >> gr.tf_group_by(DF.t, DF.id_specimen)\n",
    "    >> gr.tf_summarize(\n",
    "        mu=gr.mean(DF.mu),\n",
    "        E=gr.mean(DF.E),\n",
    "    )\n",
    "    >> gr.tf_ungroup()\n",
    ")"
   ]
  },
  {
   "cell_type": "markdown",
   "id": "5d21cfcd",
   "metadata": {},
   "source": [
    "# Model Variability\n"
   ]
  },
  {
   "cell_type": "markdown",
   "id": "fe35d1ad",
   "metadata": {},
   "source": [
    "### __qX__ Assess dependency of `E` and `mu`\n"
   ]
  },
  {
   "cell_type": "code",
   "execution_count": null,
   "id": "ca4270f9",
   "metadata": {},
   "outputs": [],
   "source": [
    "(\n",
    "    df_sub\n",
    "    >> gr.ggplot(gr.aes(\"E\", \"mu\"))\n",
    "    + gr.geom_point()\n",
    ")"
   ]
  },
  {
   "cell_type": "markdown",
   "id": "396532ed",
   "metadata": {},
   "source": []
  },
  {
   "cell_type": "code",
   "execution_count": null,
   "id": "3e7c3489",
   "metadata": {},
   "outputs": [],
   "source": [
    "md_plate = (\n",
    "    gr.Model(\"Plate critical buckling stress\")\n",
    "    >> gr.cp_vec_function(\n",
    "        fun=lambda df: gr.df_make(\n",
    "            k_cr=(df.m * df.b / df.a + df.a / df.m / df.b)**2\n",
    "        ),\n",
    "        var=[\"a\", \"b\", \"m\"],\n",
    "        out=[\"k_cr\"],\n",
    "        name=\"Shape factor\",\n",
    "    )\n",
    "    >> gr.cp_vec_function(\n",
    "        fun=lambda df: gr.df_make(\n",
    "            sigma_cr=df.k_cr * (3.14**3/12) * df.E*1e3 / (1 - df.mu**2)\n",
    "                    *(df.t / df.b)**2\n",
    "        ),\n",
    "        var=[\"k_cr\", \"E\", \"mu\", \"t\", \"b\"],\n",
    "        out=[\"sigma_cr\"],\n",
    "        name=\"Buckling stress\",\n",
    "    )\n",
    "    >> gr.cp_vec_function(\n",
    "        fun=lambda df: gr.df_make(\n",
    "            g_buckle=df.sigma_cr - 2e5 / df.b / df.t,\n",
    "        ),\n",
    "        var=[\"sigma_cr\", \"b\", \"t\"],\n",
    "        out=[\"g_buckle\"],\n",
    "        name=\"Limit state: Buckling\",\n",
    "    )\n",
    ")\n",
    "\n",
    "md_plate"
   ]
  },
  {
   "cell_type": "markdown",
   "id": "3082f8ee",
   "metadata": {},
   "source": [
    "### __qX__ Fit with all observations\n"
   ]
  },
  {
   "cell_type": "code",
   "execution_count": null,
   "id": "06b88e28",
   "metadata": {},
   "outputs": [],
   "source": [
    "md_total = (\n",
    "    md_plate\n",
    "\n",
    ")\n",
    "md_total"
   ]
  },
  {
   "cell_type": "markdown",
   "id": "ae85ac4d",
   "metadata": {},
   "source": [
    "### __qX__ Fit with stabilized observations\n"
   ]
  },
  {
   "cell_type": "code",
   "execution_count": null,
   "id": "90f5f0f5",
   "metadata": {},
   "outputs": [],
   "source": [
    "md_real = (\n",
    "    md_plate\n",
    "\n",
    ")\n",
    "md_real"
   ]
  },
  {
   "cell_type": "markdown",
   "id": "72957f5c",
   "metadata": {},
   "source": [
    "# Design Under Uncertainty\n"
   ]
  },
  {
   "cell_type": "markdown",
   "id": "e9b329ca",
   "metadata": {},
   "source": [
    "### __qX__ Assess a baseline design\n"
   ]
  },
  {
   "cell_type": "code",
   "execution_count": null,
   "id": "c3e5ac17",
   "metadata": {},
   "outputs": [],
   "source": [
    "df_baseline_total = (\n",
    "    md_total\n",
    "    >> gr.ev_sample(\n",
    "        n=1e3,\n",
    "        df_det=gr.df_make(t=0.25, a=12.0, b=9.0, m=1),\n",
    "    )\n",
    "    >> gr.tf_summarize(\n",
    "        pof_lo=gr.pr_lo(DF.g_buckle <= 0),\n",
    "        pof=gr.pr(DF.g_buckle <= 0),\n",
    "        pof_up=gr.pr_up(DF.g_buckle <= 0),\n",
    "    )\n",
    ")"
   ]
  },
  {
   "cell_type": "code",
   "execution_count": null,
   "id": "1912aa37",
   "metadata": {},
   "outputs": [],
   "source": [
    "df_baseline_real = (\n",
    "    md_real\n",
    "    >> gr.ev_sample(\n",
    "        n=1e3,\n",
    "        df_det=gr.df_make(t=0.25, a=12.0, b=9.0, m=1),\n",
    "    )\n",
    "    >> gr.tf_summarize(\n",
    "        pof_lo=gr.pr_lo(DF.g_buckle <= 0),\n",
    "        pof=gr.pr(DF.g_buckle <= 0),\n",
    "        pof_up=gr.pr_up(DF.g_buckle <= 0),\n",
    "    )\n",
    ")"
   ]
  },
  {
   "cell_type": "code",
   "execution_count": null,
   "id": "a4695a2b",
   "metadata": {},
   "outputs": [],
   "source": [
    "(\n",
    "    df_baseline_total\n",
    ")"
   ]
  }
 ],
 "metadata": {
  "kernelspec": {
   "display_name": "Python 3 (ipykernel)",
   "language": "python",
   "name": "python3"
  },
  "language_info": {
   "codemirror_mode": {
    "name": "ipython",
    "version": 3
   },
   "file_extension": ".py",
   "mimetype": "text/x-python",
   "name": "python",
   "nbconvert_exporter": "python",
   "pygments_lexer": "ipython3",
   "version": "3.9.7"
  }
 },
 "nbformat": 4,
 "nbformat_minor": 5
}
