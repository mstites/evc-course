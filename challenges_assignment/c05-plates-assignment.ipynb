{
 "cells": [
  {
   "cell_type": "markdown",
   "id": "d85a10e4",
   "metadata": {},
   "source": [
    "# c05-plates\n",
    "\n",
    "*Purpose*: \n"
   ]
  },
  {
   "cell_type": "markdown",
   "id": "6d299458",
   "metadata": {},
   "source": [
    "## Informed Consent\n",
    "\n",
    "As a reminder, this course is part of a study of engineers' behavior. While not all parts of the course include data collection, we will analyze your responses to this homework as part of the research.\n",
    "\n",
    "We will analyze your answers to this homework, and may quote this work as part of published research.\n",
    "\n",
    "You can ask to have your responses excluded from the study after the interview by sending us an email. Before starting this assignment, do you consent to sharing your work with the study?\n"
   ]
  },
  {
   "cell_type": "markdown",
   "id": "dbd00322",
   "metadata": {},
   "source": [
    "I agree to share my responses with the study\n",
    "\n",
    "- (Please type your name here)\n"
   ]
  },
  {
   "cell_type": "code",
   "execution_count": null,
   "id": "c8d80372",
   "metadata": {},
   "outputs": [],
   "source": [
    "import grama as gr\n",
    "import pandas as pd\n",
    "DF = gr.Intention()\n",
    "%matplotlib inline\n",
    "\n",
    "# For assertion\n",
    "from pandas.api.types import is_numeric_dtype\n"
   ]
  },
  {
   "cell_type": "markdown",
   "id": "b410d4c7",
   "metadata": {},
   "source": [
    "## Background\n",
    "\n",
    "(This continues the stang challenge.)\n"
   ]
  },
  {
   "cell_type": "markdown",
   "id": "296350aa",
   "metadata": {},
   "source": [
    "# Assess Statistical Control\n"
   ]
  },
  {
   "cell_type": "code",
   "execution_count": null,
   "id": "d86d6fdb",
   "metadata": {},
   "outputs": [],
   "source": [
    "from grama.data import df_stang\n"
   ]
  },
  {
   "cell_type": "markdown",
   "id": "3cefd41a",
   "metadata": {},
   "source": [
    "### __qX__ Assess statistical control across thicknesses\n"
   ]
  },
  {
   "cell_type": "code",
   "execution_count": null,
   "id": "351869dd",
   "metadata": {},
   "outputs": [],
   "source": [
    "(\n",
    "    df_stang\n",
    "    >> gr.pt_xbs(group=\"thick\", var=\"E\")\n",
    ")"
   ]
  },
  {
   "cell_type": "markdown",
   "id": "8213f171",
   "metadata": {},
   "source": [
    "*Observations*\n",
    "\n",
    "- Is the variability of `E` under statistical control across plate thicknesses? How do you know?\n",
    "  - (Your response here)\n",
    "- Is the mean of `E` under statistical control across plate thicknesses? How do you know?\n",
    "  - (Your response here)\n"
   ]
  },
  {
   "cell_type": "markdown",
   "id": "9fdb545b",
   "metadata": {},
   "source": [
    "## Follow-up experiment\n",
    "\n",
    "*Note*: The following data were simulated; they do not correspond to physical experiments.\n"
   ]
  },
  {
   "cell_type": "code",
   "execution_count": null,
   "id": "1cea37b1",
   "metadata": {},
   "outputs": [],
   "source": [
    "df_data = pd.read_csv(\"./data/c05-data.csv\")\n",
    "df_data"
   ]
  },
  {
   "cell_type": "markdown",
   "id": "467d4771",
   "metadata": {},
   "source": [
    "| Symbol | Variable | Meaning |\n",
    "|---|---|---|\n",
    "| `E` | Elasticity (ksi) | Mechanical property |\n",
    "| `mu` | Poisson's ratio (-) | Mechanical property |\n",
    "| `t` | Thickness (in) | Geometric property |\n",
    "| `id_machine` | Unique machine identifier | Manufacturing variable |\n",
    "| `id_specimen` | Unique specimen identifier | Manufacturing variable |\n",
    "| `id_measurement` | Unique measurement (operator) identifier | Manufacturing variable |\n"
   ]
  },
  {
   "cell_type": "markdown",
   "id": "b8ce1813",
   "metadata": {
    "tags": []
   },
   "source": [
    "### __qX__ Explore the experimental design\n",
    "\n",
    "Answer the following questions to better understand the experimental design. Note that the same questions are posed within each cell and under *observations* below.\n",
    "\n",
    "*Hint*: The verbs `tf_count()` and `tf_distinct()` will be very useful for answering some of these questions!\n"
   ]
  },
  {
   "cell_type": "code",
   "execution_count": null,
   "id": "07079b8e",
   "metadata": {},
   "outputs": [],
   "source": [
    "## Q: What thicknesses were tested?\n"
   ]
  },
  {
   "cell_type": "code",
   "execution_count": null,
   "id": "7a597e58",
   "metadata": {},
   "outputs": [],
   "source": [
    "## Q: How many unique specimens were manufactured?\n"
   ]
  },
  {
   "cell_type": "code",
   "execution_count": null,
   "id": "ec775624",
   "metadata": {},
   "outputs": [],
   "source": [
    "## Q: How many specimens were made on each machine?\n"
   ]
  },
  {
   "cell_type": "code",
   "execution_count": null,
   "id": "5374f5c6",
   "metadata": {},
   "outputs": [],
   "source": [
    "## Q: How many times did each operator measure each specimen?\n"
   ]
  },
  {
   "cell_type": "markdown",
   "id": "1a6e58c5",
   "metadata": {},
   "source": [
    "*Observations*\n",
    "\n",
    "- What thicknesses were tested?\n",
    "  - (Your response here)\n",
    "- How many unique specimens were manufactured?\n",
    "  - (Your response here)\n",
    "- How many specimens were made on each machine?\n",
    "  - (Your response here)\n",
    "- How many times did each operator measure each specimen?\n",
    "  - (Your response here)\n"
   ]
  },
  {
   "cell_type": "markdown",
   "id": "d330cc76",
   "metadata": {},
   "source": [
    "### __qX__ Compare across thicknesses\n",
    "\n",
    "Compare the elasticity across plate thicknesses; does elasticity seem to be consistent across thickness?\n"
   ]
  },
  {
   "cell_type": "code",
   "execution_count": null,
   "id": "7b94063e",
   "metadata": {},
   "outputs": [],
   "source": [
    "(\n",
    "    df_data\n",
    "    >> gr.ggplot(gr.aes(\"t\", \"E\"))\n",
    "    + gr.geom_boxplot(gr.aes(group=\"t\"), notch=True)\n",
    ")"
   ]
  },
  {
   "cell_type": "markdown",
   "id": "9e554c07",
   "metadata": {},
   "source": [
    "*Observations*\n",
    "\n",
    "- Is thickness consistent across plate thickness?\n",
    "  - (Your response here)\n",
    "- Will it be reasonable to group together plates of different thicknesses when assessing statistical control? Why or why not?\n",
    "  - (Your response here)\n"
   ]
  },
  {
   "cell_type": "markdown",
   "id": "063c0e0b",
   "metadata": {},
   "source": [
    "### __qX__ Assess statistical control of elasticity\n",
    "\n",
    "Consider only the `t == 0.250` plates. Assess the state of statistical control of the elasticity. Answer the questions under *observations* below.\n"
   ]
  },
  {
   "cell_type": "code",
   "execution_count": null,
   "id": "a6bce72c",
   "metadata": {},
   "outputs": [],
   "source": [
    "## TODO: Assess the state of statistical control\n"
   ]
  },
  {
   "cell_type": "code",
   "execution_count": null,
   "id": "91d16b4b",
   "metadata": {},
   "outputs": [],
   "source": []
  },
  {
   "cell_type": "markdown",
   "id": "5b6e245c",
   "metadata": {},
   "source": [
    "*Observations*\n",
    "\n",
    "- Is `E` under statistical control? Why or why not?\n",
    "  - (Your response here)\n",
    "- Based on the group variable(s) you chose, what follow-up investigations should be done?\n",
    "  - (Your response here)\n"
   ]
  },
  {
   "cell_type": "markdown",
   "id": "b175de78",
   "metadata": {
    "tags": []
   },
   "source": [
    "### __qX__ Assess statistical control of elasticity (Pt. 2)\n",
    "\n",
    "\n",
    "\n"
   ]
  },
  {
   "cell_type": "code",
   "execution_count": null,
   "id": "01728886",
   "metadata": {},
   "outputs": [],
   "source": [
    "(\n",
    "    df_data\n",
    "    >> gr.tf_filter(\n",
    "        DF.t == 0.250,\n",
    "        DF.id_machine != \"C\",\n",
    "        DF.id_measurement != \"h\",\n",
    "    )\n",
    "\n",
    ")"
   ]
  },
  {
   "cell_type": "code",
   "execution_count": null,
   "id": "643b07a9",
   "metadata": {},
   "outputs": [],
   "source": [
    "(\n",
    "    df_data\n",
    "    >> gr.tf_filter(\n",
    "        DF.id_machine != \"C\",\n",
    "        DF.id_measurement != \"h\",\n",
    "    )\n",
    "    \n",
    "    >> gr.pt_xbs(group=\"id_measurement\", var=\"E\")\n",
    ")"
   ]
  }
 ],
 "metadata": {
  "kernelspec": {
   "display_name": "Python 3 (ipykernel)",
   "language": "python",
   "name": "python3"
  },
  "language_info": {
   "codemirror_mode": {
    "name": "ipython",
    "version": 3
   },
   "file_extension": ".py",
   "mimetype": "text/x-python",
   "name": "python",
   "nbconvert_exporter": "python",
   "pygments_lexer": "ipython3",
   "version": "3.9.7"
  }
 },
 "nbformat": 4,
 "nbformat_minor": 5
}
