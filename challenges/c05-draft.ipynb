{
 "cells": [
  {
   "cell_type": "markdown",
   "metadata": {},
   "source": [
    "# c05-???\n",
    "\n",
    "*Purpose*: (Apply control charts, Pr modeling techniques)\n"
   ]
  },
  {
   "cell_type": "code",
   "execution_count": null,
   "metadata": {},
   "outputs": [],
   "source": [
    "import grama as gr\n",
    "import numpy as np\n",
    "import pandas as pd\n",
    "import time\n",
    "DF = gr.Intention()\n",
    "%matplotlib inline\n",
    "\n",
    "filename_data = \"./data/c05-data.csv\""
   ]
  },
  {
   "cell_type": "markdown",
   "metadata": {},
   "source": [
    "# Stang\n"
   ]
  },
  {
   "cell_type": "code",
   "execution_count": null,
   "metadata": {},
   "outputs": [],
   "source": [
    "from grama.data import df_stang\n",
    "df_stang.head()"
   ]
  },
  {
   "cell_type": "markdown",
   "metadata": {},
   "source": []
  },
  {
   "cell_type": "code",
   "execution_count": null,
   "metadata": {},
   "outputs": [],
   "source": [
    "(\n",
    "    df_stang\n",
    "    >> gr.pt_xbs(group=\"thick\", var=\"E\")\n",
    ")"
   ]
  },
  {
   "cell_type": "markdown",
   "metadata": {},
   "source": [
    "- The variability is under control\n",
    "- The mean is not under control; in particular the thickest plates have a much lower elasticity"
   ]
  },
  {
   "cell_type": "markdown",
   "metadata": {},
   "source": [
    "# True Model Setup\n"
   ]
  },
  {
   "cell_type": "code",
   "execution_count": null,
   "metadata": {},
   "outputs": [],
   "source": [
    "from grama.models import make_plate_buckle\n",
    "md_plate = make_plate_buckle()\n",
    "md_plate"
   ]
  },
  {
   "cell_type": "markdown",
   "metadata": {},
   "source": [
    "## Data generation\n",
    "\n",
    "Want a dataset to have students practice using control charts; deliberately introduce some out-of-control observations in the dataset.\n"
   ]
  },
  {
   "cell_type": "code",
   "execution_count": null,
   "metadata": {},
   "outputs": [],
   "source": [
    "np.random.seed(101)\n",
    "\n",
    "n_batch = 10\n",
    "mg_standard = gr.marg_mom(\"norm\", mean=0, sd=1)\n",
    "\n",
    "# Base properties; mean and sd differences across operators and plate thicknesses\n",
    "df_base = (\n",
    "    gr.df_make(\n",
    "        t=[1/4, 1/8],\n",
    "        E_base=[1.0e4, 1.2e4],\n",
    "        COV=[0.03, 0.03],\n",
    "    )\n",
    "    >> gr.tf_outer(gr.df_make(\n",
    "        machine=[\"A\", \"B\", \"C\", \"D\", \"E\", \"F\"],\n",
    "        eff=[0, 0, 0.06, 0, 0, 0],\n",
    "    ))\n",
    "    >> gr.tf_mutate(E_mean=DF.E_base * (1 + DF.eff))\n",
    ")\n",
    "\n",
    "df_noise = gr.df_make(\n",
    "    id_measurement=[\"g\", \"h\", \"i\", \"j\", \"k\", \"l\"],\n",
    "    noise_sd=[4e2, 8e2, 4e2, 4e2, 4e2, 4e2],\n",
    ")\n",
    "\n",
    "df_data = gr.df_grid()\n",
    "for i in range(df_base.shape[0]):\n",
    "    # Initialize model for true material properties\n",
    "    md_tmp = (\n",
    "        gr.Model()\n",
    "        >> gr.cp_marginals(\n",
    "            E = gr.marg_mom(\"lognorm\", floc=0, mean=df_base.E_mean[i], cov=df_base.COV[i]),\n",
    "            mu = gr.marg_mom(\"lognorm\", floc=0, mean=0.32, cov=0.03),\n",
    "        )\n",
    "        >> gr.cp_copula_independence()\n",
    "    )\n",
    "\n",
    "    # \"True\" material properties\n",
    "    df_true = (\n",
    "        md_tmp\n",
    "        >> gr.ev_sample(n=n_batch, df_det=\"nom\", skip=True)\n",
    "        >> gr.tf_mutate(t=df_base.t[i], id_machine=df_base.machine[i])\n",
    "    )\n",
    "\n",
    "    # Record values\n",
    "    df_data = (\n",
    "        df_data\n",
    "        >> gr.tf_bind_rows(df_true)\n",
    "    )\n",
    "\n",
    "\n",
    "# Measured properties\n",
    "n_total = df_data.shape[0] * df_noise.shape[0]\n",
    "df_data = (\n",
    "    df_data\n",
    "    >> gr.tf_mutate(id_specimen=DF.index)\n",
    "    >> gr.tf_outer(df_noise)\n",
    "    >> gr.tf_mutate(z=mg_standard.r(n_total), z2=mg_standard.r(n_total))\n",
    "    >> gr.tf_mutate(\n",
    "        E=DF.E + DF.noise_sd * DF.z,\n",
    "        mu=DF.mu + 0.005 * DF.z2,\n",
    "    )\n",
    "    >> gr.tf_drop(\"z\", \"z2\", \"noise_sd\")\n",
    ")\n",
    "\n",
    "## Write data to disk\n",
    "df_data.to_csv(filename_data, index=False)\n",
    "\n",
    "## Printout\n",
    "df_data"
   ]
  },
  {
   "cell_type": "code",
   "execution_count": null,
   "metadata": {},
   "outputs": [],
   "source": [
    "(\n",
    "    df_data\n",
    "    >> gr.tf_arrange(DF.id_specimen)\n",
    "    >> gr.tf_mutate(id=DF.index)\n",
    "    >> gr.ggplot(gr.aes(\"id\", \"E\"))\n",
    "    + gr.geom_point()\n",
    ")"
   ]
  },
  {
   "cell_type": "code",
   "execution_count": null,
   "metadata": {},
   "outputs": [],
   "source": [
    "(\n",
    "    df_data\n",
    "    >> gr.tf_arrange(DF.id_specimen)\n",
    "    >> gr.tf_mutate(id=DF.index)\n",
    "    >> gr.ggplot(gr.aes(\"id\", \"mu\"))\n",
    "    + gr.geom_point()\n",
    ")"
   ]
  },
  {
   "cell_type": "code",
   "execution_count": null,
   "metadata": {},
   "outputs": [],
   "source": [
    "(\n",
    "    df_data\n",
    "    >> gr.tf_group_by(DF.t)\n",
    "    >> gr.tf_summarize(\n",
    "        E_mean=gr.mean(DF.E),\n",
    "        E_sd=gr.sd(DF.E),\n",
    "    )\n",
    "    >> gr.tf_mutate(E_cov=DF.E_sd/DF.E_mean)\n",
    ")"
   ]
  },
  {
   "cell_type": "markdown",
   "metadata": {},
   "source": [
    "# Data Analysis\n"
   ]
  },
  {
   "cell_type": "markdown",
   "metadata": {},
   "source": [
    "## Real vs Error\n"
   ]
  },
  {
   "cell_type": "code",
   "execution_count": null,
   "metadata": {},
   "outputs": [],
   "source": [
    "df_real = (\n",
    "    df_data\n",
    "    >> gr.tf_group_by(DF.t, DF.id_specimen, DF.id_machine)\n",
    "    >> gr.tf_summarize(\n",
    "        E=gr.mean(DF.E),\n",
    "        mu=gr.mean(DF.mu),\n",
    "    )\n",
    "    >> gr.tf_ungroup()\n",
    "    >> gr.tf_arrange(DF.id_machine)\n",
    ")\n",
    "df_real"
   ]
  },
  {
   "cell_type": "markdown",
   "metadata": {},
   "source": [
    "## Xbar and S charts\n",
    "\n",
    "### 1/4 Plates\n"
   ]
  },
  {
   "cell_type": "code",
   "execution_count": null,
   "metadata": {},
   "outputs": [],
   "source": [
    "(\n",
    "    df_real\n",
    "    >> gr.tf_filter(DF.t == 1/4)\n",
    "    >> gr.pt_xbs(group=\"id_machine\", var=\"E\")\n",
    ")"
   ]
  },
  {
   "cell_type": "code",
   "execution_count": null,
   "metadata": {},
   "outputs": [],
   "source": [
    "(\n",
    "    df_data\n",
    "    >> gr.tf_filter(DF.t == 1/4)\n",
    "    >> gr.pt_xbs(group=\"id_measurement\", var=\"E\")\n",
    ")"
   ]
  },
  {
   "cell_type": "markdown",
   "metadata": {},
   "source": [
    "### 1/8 Plates\n"
   ]
  },
  {
   "cell_type": "code",
   "execution_count": null,
   "metadata": {},
   "outputs": [],
   "source": [
    "(\n",
    "    df_real\n",
    "    >> gr.tf_filter(DF.t == 1/8)\n",
    "    >> gr.pt_xbs(group=\"id_machine\", var=\"E\")\n",
    ")"
   ]
  },
  {
   "cell_type": "code",
   "execution_count": null,
   "metadata": {},
   "outputs": [],
   "source": [
    "(\n",
    "    df_data\n",
    "    >> gr.tf_filter(DF.t == 1/8)\n",
    "    >> gr.pt_xbs(group=\"id_measurement\", var=\"E\")\n",
    ")"
   ]
  },
  {
   "cell_type": "markdown",
   "metadata": {},
   "source": []
  }
 ],
 "metadata": {
  "interpreter": {
   "hash": "f160548cb3b264e2eed9db47aa50f4647ebf92df192c2dd9e124cd644456375c"
  },
  "kernelspec": {
   "display_name": "Python 3 (ipykernel)",
   "language": "python",
   "name": "python3"
  },
  "language_info": {
   "codemirror_mode": {
    "name": "ipython",
    "version": 3
   },
   "file_extension": ".py",
   "mimetype": "text/x-python",
   "name": "python",
   "nbconvert_exporter": "python",
   "pygments_lexer": "ipython3",
   "version": "3.9.7"
  }
 },
 "nbformat": 4,
 "nbformat_minor": 4
}
