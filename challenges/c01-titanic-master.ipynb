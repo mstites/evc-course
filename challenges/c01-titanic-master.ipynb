{
 "cells": [
  {
   "cell_type": "markdown",
   "id": "62e37c8c-352a-4f86-b4c0-3aa7fe48eaf6",
   "metadata": {},
   "source": [
    "# c01-titanic\n",
    "\n",
    "*Purpose*: Most datasets have at least a few variables. Part of our task in analyzing a dataset is to understand trends as they vary across these different variables. Unless we're careful and thorough, we can easily miss these patterns. In this challenge you'll analyze a dataset with a small number of categorical variables and try to find differences among the groups.\n",
    "\n",
    "*Reading*: (Optional) [Wikipedia article](https://en.wikipedia.org/wiki/RMS_Titanic) on the RMS Titanic.\n"
   ]
  },
  {
   "cell_type": "markdown",
   "id": "0f52c250-20d3-4ca1-b115-a5f4a3f48f43",
   "metadata": {},
   "source": [
    "## Setup"
   ]
  },
  {
   "cell_type": "code",
   "execution_count": null,
   "id": "7d7c3c56-7032-494b-9f5a-eddc5f4eb39d",
   "metadata": {},
   "outputs": [],
   "source": [
    "import grama as gr\n",
    "import pandas as pd\n",
    "DF = gr.Intention()\n",
    "%matplotlib inline\n"
   ]
  },
  {
   "cell_type": "markdown",
   "id": "11a47f3f-862a-4a4b-9061-11f5508931bb",
   "metadata": {},
   "source": [
    "## Background\n",
    "\n",
    "*Background*: The RMS Titanic sank on its maiden voyage in 1912; about 67% of its passengers died. We will study a dataset summarizing how many passengers of different groups either survived or perished.\n"
   ]
  },
  {
   "cell_type": "code",
   "execution_count": null,
   "id": "f7e65f87-675c-4633-9930-8d93dde55b71",
   "metadata": {},
   "outputs": [],
   "source": [
    "## NOTE: No need to edit; this loads the data\n",
    "df_titanic = pd.read_csv(\"./data/titanic.csv\")\n",
    "df_titanic\n"
   ]
  },
  {
   "cell_type": "markdown",
   "id": "306218ae-ad4c-4d40-9bdd-35ba7187d56b",
   "metadata": {},
   "source": [
    "# Initial look\n"
   ]
  },
  {
   "cell_type": "markdown",
   "id": "2863764e-166d-4a9a-adbc-c2239c22e94d",
   "metadata": {},
   "source": [
    "### __q1__ Get the basic facts\n",
    "\n",
    "Inspect `df_titanic`. Answer the questions under *observations* below.\n"
   ]
  },
  {
   "cell_type": "code",
   "execution_count": null,
   "id": "5c344da6-bda2-4ed9-a521-5868d3db34a6",
   "metadata": {},
   "outputs": [],
   "source": [
    "## TASK: Inspect df_titanic\n",
    "# task-begin\n",
    "(\n",
    "    df_titanic\n",
    "    >> gr.tf_head()\n",
    ")\n",
    "# task-end"
   ]
  },
  {
   "cell_type": "markdown",
   "id": "dad47e11-045c-48bf-8c95-679a8b6d5366",
   "metadata": {},
   "source": [
    "*Observations*\n",
    "\n",
    "<!-- task-begin -->\n",
    "- What variables are in the dataset?\n",
    "  - (Your response here)\n",
    "<!-- task-end -->\n",
    "<!-- solution-begin -->\n",
    "- What variables are in the dataset?\n",
    "  - `Class`, `Sex`, `Age`, `Survived`, and `n`\n",
    "<!-- solution-end -->\n"
   ]
  },
  {
   "cell_type": "markdown",
   "id": "06dbddee-90b2-4a48-8f1b-acadd890bc8c",
   "metadata": {},
   "source": [
    "### __q2__ Do some background reading\n",
    "\n",
    "Skim the [Wikipedia article](https://en.wikipedia.org/wiki/RMS_Titanic) on the RMS Titanic, and look for a total count of souls aboard. Compare against the total computed below. Are there any differences? Are those differences large or small? What might account for those differences? \n",
    "\n",
    "Answer the questions under *observations* below.\n"
   ]
  },
  {
   "cell_type": "code",
   "execution_count": null,
   "id": "61512e03-b2d1-47dc-a3d8-df606dfc541f",
   "metadata": {},
   "outputs": [],
   "source": [
    "## NOTE: No need to edit; we'll learn how to do this calculation later\n",
    "(\n",
    "    df_titanic\n",
    "    >> gr.tf_summarize(total=gr.sum(DF.n))\n",
    ")"
   ]
  },
  {
   "cell_type": "markdown",
   "id": "d7138b98-02ab-4825-9246-2710bbf18bfb",
   "metadata": {},
   "source": [
    "**Observations**:\n",
    "\n",
    "<!-- task-begin -->\n",
    "- Are there any differences between what you read and the `total` persons computed from our dataset?\n",
    "  - (Your response here)\n",
    "- If yes, what might account for those differences?\n",
    "  - (Your response here)\n",
    "<!-- task-end -->\n",
    "<!-- solution-begin -->\n",
    "- Are there any differences between what you read and the `total` persons computed from our dataset?\n",
    "  - Our computed total is `2201`, whereas Wikipedia gives an estimate of `2224` persons (as of 2020-06-25). Our total is missing about `20` people.\n",
    "- If yes, what might account for those differences?\n",
    "  - It is possible the original data source was missing some individual entries; in this case their count would appear in neither *survived* nor *perished*.\n",
    "  - Our dataset is from the British Board of Trade Inquiry Report (1990); this report is known to be in error. For instance, there is at least one known 1st class Child passenger who died: ALLISON, Miss Helen Loraine (see [*Encyclopedia Titanica*](https://www.encyclopedia-titanica.org/children-that-died-on-titanic/) for more details) [2].\n",
    "<!-- solution-end -->\n"
   ]
  },
  {
   "cell_type": "markdown",
   "id": "608f654f-1c42-451a-abca-03f3250e89bc",
   "metadata": {},
   "source": [
    "### __q3__ Visualize survivor count\n",
    "\n",
    "Create a plot showing the count of persons who *did* survive, along with aesthetics for `Class` and `Sex`. Document your observations below.\n"
   ]
  },
  {
   "cell_type": "code",
   "execution_count": null,
   "id": "e08323e5-8f0e-4463-b2a1-e784a4278cb0",
   "metadata": {},
   "outputs": [],
   "source": [
    "## TASK: Visualize the count of survivors, along with `Class` and `Sex`\n",
    "(\n",
    "    df_titanic\n",
    "# solution-begin\n",
    "    >> gr.tf_filter(DF.Survived == \"Yes\")\n",
    "    \n",
    "    >> gr.ggplot(gr.aes(\"Class\", \"n\", fill=\"Sex\"))\n",
    "    + gr.geom_col(position=\"dodge\")\n",
    "# solution-end\n",
    ")"
   ]
  },
  {
   "cell_type": "markdown",
   "id": "1d3d5634-d5e1-4b22-ae35-a98146b43ab9",
   "metadata": {},
   "source": [
    "**Observations**:\n",
    "\n",
    "<!-- task-begin -->\n",
    "- Write your observations here\n",
    "  - (Your response here)\n",
    "  - (Your response here)\n",
    "  - (Your response here)\n",
    "<!-- task-end -->\n",
    "<!-- solution-begin -->\n",
    "- Write your observations here\n",
    "  - Many more women than men survived among 1st and 2nd class passengers\n",
    "  - About the same number of 3rd class men and women survived\n",
    "  - Many more male crew members survived than female crew. However, this might be misleading; perhaps there were very few female crewmembers to start.\n",
    "<!-- solution-end -->\n"
   ]
  },
  {
   "cell_type": "markdown",
   "id": "a3100282-beb9-4a3d-aa81-a245da2aec74",
   "metadata": {},
   "source": [
    "# Deeper look\n",
    "\n",
    "Raw counts give us a sense of totals, but they are not as useful for understanding differences between groups. This is because the differences we see in counts could be due to either the relative size of the group OR differences in outcomes for those groups. To make comparisons between groups, we should also consider *proportions*.[1]\n",
    "\n",
    "The following code computes proportions within each `Class, Sex, Age` group.\n"
   ]
  },
  {
   "cell_type": "code",
   "execution_count": null,
   "id": "512c2033-dc31-4738-832a-a597469e6e5e",
   "metadata": {},
   "outputs": [],
   "source": [
    "## NOTE: No need to edit\n",
    "df_prop = (\n",
    "    df_titanic\n",
    "    >> gr.tf_group_by(DF.Class, DF.Sex, DF.Age)\n",
    "    >> gr.tf_mutate(\n",
    "        Total=gr.sum(DF.n),\n",
    "        Prop=DF.n/gr.sum(DF.n),\n",
    "    )\n",
    "    >> gr.tf_ungroup()\n",
    ")\n",
    "df_prop"
   ]
  },
  {
   "cell_type": "markdown",
   "id": "fa4d20c9-700f-43f1-91fe-d73776fddfe5",
   "metadata": {},
   "source": [
    "### __q4__ Visualize proportions\n",
    "\n",
    "Replicate your visual from q3, but display `Prop` in place of `n`. Document your observations, and note any new/different observations you make in comparison with q3. Is there anything *fishy* in your plot?\n",
    "\n",
    "Answer the questions under *observations* below.\n"
   ]
  },
  {
   "cell_type": "code",
   "execution_count": null,
   "id": "df5fb4f0-9814-479a-bf84-4e2879d65086",
   "metadata": {},
   "outputs": [],
   "source": [
    "## TASK: Visualize the count of survivors, along with `Class` and `Sex`\n",
    "(\n",
    "    df_prop\n",
    "# solution-begin\n",
    "    >> gr.tf_filter(DF.Survived == \"Yes\", DF.Age == \"Adult\")\n",
    "    \n",
    "    >> gr.ggplot(gr.aes(\"Class\", \"Prop\", fill=\"Sex\"))\n",
    "    + gr.geom_col(position=\"dodge\")\n",
    "    + gr.labs(title=\"Adult Titanic Survivors\")\n",
    "# solution-end\n",
    ")"
   ]
  },
  {
   "cell_type": "markdown",
   "id": "fc5b7c82-0cb0-441c-b9a8-5f25a9e6db05",
   "metadata": {},
   "source": [
    "*Observations*\n",
    "\n",
    "<!-- task-begin -->\n",
    "- Write your observations here.\n",
    "  - (Your response here)\n",
    "  - (Your response here)\n",
    "  - (Your response here)\n",
    "- Is there anything *fishy* going on in your plot?\n",
    "  - (Your response here)\n",
    "<!-- task-end -->\n",
    "<!-- solution-begin -->\n",
    "- Write your observations here.\n",
    "  - Based on this new figure, we can see a very different trend among the Crew, where the vast majority of female adults survived.\n",
    "  - Adult women tended to survive at greater rates than adult men.\n",
    "    - In particular, higher class seemed to benefit adult women.\n",
    "  - Oddly, 2nd Class Men had the lowest survival rate among Adults.\n",
    "- Is there anything *fishy* going on in your plot?\n",
    "  - I avoided the \"trap\" by filtering to `age==\"Adult\"`.\n",
    "  \n",
    "This question is deliberately tricky: A common mistake with this question is a graph like the following.\n",
    "\n",
    "```python\n",
    "(\n",
    "    df_prop\n",
    "    >> gr.tf_filter(DF.Survived == \"Yes\")\n",
    "\n",
    "    >> gr.ggplot(gr.aes(\"Class\", \"Prop\", fill=\"Sex\"))\n",
    "    + gr.geom_col(position=\"dodge\")\n",
    ")\n",
    "```\n",
    "\n",
    "Note that this *falsely* implies that everyone in the 1st and 2nd classes survived! Adding an aesthetic for `Age` helps reveal what went wrong:\n",
    "\n",
    "```python\n",
    "(\n",
    "    df_prop\n",
    "    >> gr.tf_filter(DF.Survived == \"Yes\")\n",
    "\n",
    "    >> gr.ggplot(gr.aes(\"Class\", \"Prop\", fill=\"Sex\", color=\"Age\"))\n",
    "    + gr.geom_col(position=\"dodge\")\n",
    ")\n",
    "```\n",
    "\n",
    "Ggplot essentially hid some of the bars, which contributed to a false impression of the data.\n",
    "<!-- solution-end -->"
   ]
  },
  {
   "cell_type": "markdown",
   "id": "35238fce-6742-40a3-91f3-968069a1d32f",
   "metadata": {},
   "source": [
    "### __q5__ Visualize with more variables\n",
    "\n",
    "Visualize the proportion `Prop` data showing the group-proportion of occupants who *did* survive, along with aesthetics for `Class`, `Sex`, *and* `Age`. Make sure to show the proportions for *all* survivor groups. Document your observations below.\n",
    "\n",
    "*Hint*: You may need to make multiple plots using different filters. Or you can look ahead to `e-vis05-multiples` to learn how to use `gr.facet_grid()`.\n"
   ]
  },
  {
   "cell_type": "code",
   "execution_count": null,
   "id": "78feda25-7907-4614-82ff-ea6481b9bad8",
   "metadata": {},
   "outputs": [],
   "source": [
    "## TASK:\n",
    "(\n",
    "    df_prop\n",
    "# solution-begin\n",
    "    >> gr.tf_filter(DF.Survived == \"Yes\")\n",
    "    \n",
    "    >> gr.ggplot(gr.aes(\"Class\", \"Prop\", fill=\"Sex\"))\n",
    "    + gr.geom_col(position=\"dodge\")\n",
    "    + gr.facet_grid(\"Age~.\")\n",
    "# solution-end\n",
    ")"
   ]
  },
  {
   "cell_type": "markdown",
   "id": "187e1c45-08e7-4ef0-94b9-1fa4e46d869b",
   "metadata": {},
   "source": [
    "*Observations*\n",
    "\n",
    "Document your observations below.\n",
    "\n",
    "<!-- task-begin -->\n",
    "- (Your response here)\n",
    "- (Your response here)\n",
    "- (Your response here)\n",
    "- If you saw something *fishy* in q4 above, use your new plot to explain the fishy-ness.\n",
    "  - (Your response here)\n",
    "<!-- task-end -->\n",
    "<!-- solution-begin -->\n",
    "- 100% of the 1st and 2nd class children survived.\n",
    "- A much smaller fraction of 3rd class children survived, with a slight bias towards girls.\n",
    "- Among adults, women survived in much greater proportions than men.\n",
    "  - Collectively, these observations seem to support the old maritime practice of [\"women and children first\"](https://en.wikipedia.org/wiki/Women_and_children_first).\n",
    "- Surprisingly, the smallest proportion of surviving men were those in 2nd class.\n",
    "- There were no child crewmembers.\n",
    "\n",
    "- If you saw something *fishy* in q4 above, use your new plot to explain the fishy-ness.\n",
    "  - With this new plot, we can understand the *fishy-ness* above: The 1st and 2nd class children survived at 100%. But in the example plot above, we see that the adult and child bars overlapped. This created the false impression that those in 1st and 2nd class all survived at 100% (regardless if adult or child).\n",
    "<!-- solution-end -->\n",
    "\n"
   ]
  },
  {
   "cell_type": "markdown",
   "id": "3af2914b-a599-4316-aebe-9bd0128d9d04",
   "metadata": {},
   "source": [
    "# Notes\n",
    "\n",
    "[1] This is basically the same idea as [Dimensional Analysis](https://en.wikipedia.org/wiki/Dimensional_analysis); computing proportions is akin to non-dimensionalizing a quantity.\n",
    "\n",
    "[2] Further details on this dataset---and its known errors!---are written up in Dawson, \"The 'Unusual Episode' Data Revisited\" (1995) *Journal of Statistics Education*, [link](https://www.tandfonline.com/doi/full/10.1080/10691898.1995.11910499).\n"
   ]
  }
 ],
 "metadata": {
  "kernelspec": {
   "display_name": "Python 3 (ipykernel)",
   "language": "python",
   "name": "python3"
  },
  "language_info": {
   "codemirror_mode": {
    "name": "ipython",
    "version": 3
   },
   "file_extension": ".py",
   "mimetype": "text/x-python",
   "name": "python",
   "nbconvert_exporter": "python",
   "pygments_lexer": "ipython3",
   "version": "3.9.7"
  }
 },
 "nbformat": 4,
 "nbformat_minor": 5
}
