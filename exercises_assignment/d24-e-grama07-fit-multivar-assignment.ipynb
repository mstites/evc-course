{
 "cells": [
  {
   "cell_type": "markdown",
   "id": "5615c6b9",
   "metadata": {},
   "source": [
    "# Fitting Multivariate Distributions\n",
    "\n",
    "*Purpose*: \n"
   ]
  },
  {
   "cell_type": "markdown",
   "id": "80c19abc",
   "metadata": {},
   "source": [
    "## Setup\n"
   ]
  },
  {
   "cell_type": "code",
   "execution_count": null,
   "id": "446bc738",
   "metadata": {},
   "outputs": [],
   "source": [
    "import grama as gr\n",
    "DF = gr.Intention()\n",
    "%matplotlib inline"
   ]
  },
  {
   "cell_type": "markdown",
   "id": "d15bf107",
   "metadata": {},
   "source": [
    "For this exercise, we'll study a dataset of observations on die cast aluminum parts.\n"
   ]
  },
  {
   "cell_type": "code",
   "execution_count": null,
   "id": "29b9da8a",
   "metadata": {},
   "outputs": [],
   "source": [
    "from grama.data import df_shewhart\n"
   ]
  },
  {
   "cell_type": "markdown",
   "id": "637f4b30",
   "metadata": {},
   "source": [
    "# Dependency in the wild\n"
   ]
  },
  {
   "cell_type": "markdown",
   "id": "c0a0bd04",
   "metadata": {},
   "source": [
    "TODO"
   ]
  },
  {
   "cell_type": "code",
   "execution_count": null,
   "id": "d7513792",
   "metadata": {},
   "outputs": [],
   "source": [
    "(\n",
    "    df_shewhart\n",
    "    >> gr.ggplot(gr.aes(\"density\", \"hardness\"))\n",
    "    + gr.geom_point()\n",
    ")"
   ]
  },
  {
   "cell_type": "markdown",
   "id": "9dc1d54b",
   "metadata": {},
   "source": [
    "A normal distribution does a *reasonable* job representing both `density` and `hardness`.\n"
   ]
  },
  {
   "cell_type": "code",
   "execution_count": null,
   "id": "8d18cc18",
   "metadata": {},
   "outputs": [],
   "source": [
    "## NOTE: No need to edit\n",
    "(\n",
    "    df_shewhart\n",
    "    >> gr.tf_mutate(\n",
    "        q_density=gr.qqvals(DF.density, \"norm\"),\n",
    "        q_hardness=gr.qqvals(DF.hardness, \"norm\"),\n",
    "    )\n",
    "    >> gr.tf_rename(\n",
    "        v_density=\"density\",\n",
    "        v_hardness=\"hardness\",\n",
    "    )\n",
    "    >> gr.tf_pivot_longer(\n",
    "        columns=[\"q_density\", \"q_hardness\", \"v_density\", \"v_hardness\"],\n",
    "        names_to=[\".value\", \"var\"],\n",
    "        names_sep=\"_\",\n",
    "    )\n",
    "    \n",
    "    >> gr.ggplot(gr.aes(\"q\", \"v\"))\n",
    "    + gr.geom_abline(intercept=0, slope=1, linetype=\"dashed\")\n",
    "    + gr.geom_point()\n",
    "    + gr.facet_wrap(\"var\", scales=\"free\")\n",
    "    + gr.labs(x=\"Reference Quantile\", y=\"Observed Quantile\")\n",
    ")"
   ]
  },
  {
   "cell_type": "markdown",
   "id": "10d893c4",
   "metadata": {},
   "source": [
    "However,\n"
   ]
  },
  {
   "cell_type": "code",
   "execution_count": null,
   "id": "47a71abb",
   "metadata": {},
   "outputs": [],
   "source": [
    "## NOTE: No need to edit\n",
    "# Build a model \n",
    "md_independence = (\n",
    "    gr.Model(\"Independent Properties\")\n",
    "    >> gr.cp_marginals(\n",
    "        density=gr.marg_fit(\"norm\", df_shewhart.density),\n",
    "        hardness=gr.marg_fit(\"norm\", df_shewhart.hardness),\n",
    "    )\n",
    "    >> gr.cp_copula_independence()\n",
    ")\n",
    "\n",
    "# Draw simulated observations\n",
    "(\n",
    "    md_independence\n",
    "    >> gr.ev_sample(n=1e3, df_det=\"nom\", skip=True)\n",
    "    >> gr.tf_mutate(source=\"Simulated\")\n",
    "    >> gr.tf_bind_rows(\n",
    "        df_shewhart\n",
    "        >> gr.tf_mutate(source=\"Experimental\")\n",
    "    )\n",
    "    \n",
    "    >> gr.ggplot(gr.aes(\"density\", \"hardness\"))\n",
    "    + gr.geom_point(gr.aes(color=\"source\"))\n",
    "    + gr.theme_minimal()\n",
    ")"
   ]
  },
  {
   "cell_type": "markdown",
   "id": "01345810",
   "metadata": {},
   "source": [
    "This model does not respect the correlation we observe in the data.\n"
   ]
  },
  {
   "cell_type": "markdown",
   "id": "b7ace024",
   "metadata": {},
   "source": [
    "# Marginal-Copula Approach\n"
   ]
  },
  {
   "cell_type": "code",
   "execution_count": null,
   "id": "d3ab97a4",
   "metadata": {},
   "outputs": [],
   "source": [
    "## NOTE: No need to edit\n",
    "# Build a model \n",
    "md_copula = (\n",
    "    gr.Model(\"Independent Properties\")\n",
    "    >> gr.cp_marginals(\n",
    "        density=gr.marg_fit(\"norm\", df_shewhart.density),\n",
    "        hardness=gr.marg_fit(\"norm\", df_shewhart.hardness),\n",
    "    )\n",
    "    ## KEY DIFFERENCE: Fit a gaussian copula\n",
    "    >> gr.cp_copula_gaussian(df_data=df_shewhart)\n",
    ")\n",
    "\n",
    "# Draw simulated observations\n",
    "(\n",
    "    md_copula\n",
    "    >> gr.ev_sample(n=1e3, df_det=\"nom\", skip=True)\n",
    "    >> gr.tf_mutate(source=\"Simulated\")\n",
    "    >> gr.tf_bind_rows(\n",
    "        df_shewhart\n",
    "        >> gr.tf_mutate(source=\"Experimental\")\n",
    "    )\n",
    "    \n",
    "    >> gr.ggplot(gr.aes(\"density\", \"hardness\"))\n",
    "    + gr.geom_point(gr.aes(color=\"source\"))\n",
    "    + gr.theme_minimal()\n",
    ")"
   ]
  },
  {
   "cell_type": "markdown",
   "id": "b0fa766f",
   "metadata": {},
   "source": [
    "## Steps\n",
    "\n",
    "1. Fit a marginal for each uncertain quantity\n",
    "    - Follow the process from `e-grama06-fit-univar`; this should include checking for statistical control!\n",
    "2. Fit a copula to relate the uncertain quantities\n",
    "3. Assess the model\n"
   ]
  },
  {
   "cell_type": "markdown",
   "id": "35ea387b",
   "metadata": {},
   "source": [
    "# Case Study: Circuit Performance\n"
   ]
  },
  {
   "cell_type": "code",
   "execution_count": null,
   "id": "59aa62bf",
   "metadata": {},
   "outputs": [],
   "source": [
    "from grama.models import make_prlc_rand\n",
    "md_circuit = make_prlc_rand()\n",
    "md_circuit"
   ]
  },
  {
   "cell_type": "markdown",
   "id": "50af3b84",
   "metadata": {},
   "source": []
  },
  {
   "cell_type": "code",
   "execution_count": null,
   "id": "56198c5c",
   "metadata": {},
   "outputs": [],
   "source": [
    "df_circuit = (\n",
    "    md_circuit\n",
    "    >> gr.ev_sample(n=1e4, df_det=\"nom\", seed=101)\n",
    ")\n",
    "\n",
    "(\n",
    "    df_circuit\n",
    "    >> gr.ggplot(gr.aes(\"Q\", \"omega0\"))\n",
    "    + gr.geom_bin2d()\n",
    ")"
   ]
  },
  {
   "cell_type": "markdown",
   "id": "4b431563",
   "metadata": {},
   "source": [
    "## Marginals\n"
   ]
  },
  {
   "cell_type": "markdown",
   "id": "76a992f2",
   "metadata": {},
   "source": [
    "### __qX__ Check for statistical control\n",
    "\n",
    "Check for statistical control of the output `omega0`. Use a control chart to make this determination.\n",
    "\n",
    "*Hint*: You *do not* need to write all this code from scratch! Try copying code from the previous exercise `e-grama-06-fit-univar`.\n"
   ]
  },
  {
   "cell_type": "code",
   "execution_count": null,
   "id": "d80221b9",
   "metadata": {},
   "outputs": [],
   "source": [
    "## TASK: Make a control chart of batch size n_batch = 10\n"
   ]
  },
  {
   "cell_type": "markdown",
   "id": "fcc27474",
   "metadata": {},
   "source": [
    "*Observations*\n",
    "\n",
    "- How many batches *total* are there?\n",
    "  - (Your response here)\n",
    "- How many batches fall outside the control limits? Is that significantly more than we would expect?\n",
    "  - (Your response here)\n",
    "- Does this process seem to be under statistical control?\n",
    "  - (Your response here)\n"
   ]
  },
  {
   "cell_type": "markdown",
   "id": "9fbc2e45",
   "metadata": {},
   "source": [
    "### __qX__ Fit a marginal for `omega0`\n"
   ]
  },
  {
   "cell_type": "code",
   "execution_count": null,
   "id": "b41f90d8",
   "metadata": {},
   "outputs": [],
   "source": [
    "## TASK: Fit a marginal for `omega0`\n",
    "mg_omega0 = None\n",
    "\n",
    "\n",
    "## NOTE: Use the following to help check your work\n",
    "(\n",
    "    df_circuit\n",
    "    >> gr.tf_mutate(q=gr.qqvals(DF.omega0, marg=mg_omega0))\n",
    "    >> gr.ggplot(gr.aes(\"q\", \"omega0\"))\n",
    "    + gr.geom_abline(intercept=0, slope=1, linetype=\"dashed\")\n",
    "    + gr.geom_point()\n",
    ")"
   ]
  },
  {
   "cell_type": "markdown",
   "id": "ca785152",
   "metadata": {},
   "source": [
    "*Observations*\n",
    "\n",
    "- How well does your distribution fit the data?\n",
    "  - (Your response here)\n"
   ]
  },
  {
   "cell_type": "markdown",
   "id": "10a37410",
   "metadata": {},
   "source": [
    "### __qX__ Fit a marginal for `Q`\n"
   ]
  },
  {
   "cell_type": "code",
   "execution_count": null,
   "id": "17e625b4",
   "metadata": {},
   "outputs": [],
   "source": [
    "## TASK: Fit a marginal for `Q`\n",
    "mg_Q = None\n",
    "\n",
    "\n",
    "## HINT: Use the assessment techniques discussed in \n",
    "# the previous exercise\n"
   ]
  },
  {
   "cell_type": "markdown",
   "id": "ca43d915",
   "metadata": {},
   "source": [
    "*Observations*\n",
    "\n",
    "- How well does your distribution fit the data?\n",
    "  - (Your response here)\n"
   ]
  },
  {
   "cell_type": "markdown",
   "id": "a6eedca3",
   "metadata": {},
   "source": [
    "## Copula\n"
   ]
  },
  {
   "cell_type": "code",
   "execution_count": null,
   "id": "8b31c66c",
   "metadata": {},
   "outputs": [],
   "source": [
    "## NOTE: No need to edit\n",
    "md_out_independence = (\n",
    "    gr.Model(\"Circuit Output: Independence\")\n",
    "    >> gr.cp_marginals(\n",
    "        omega0=mg_omega0,\n",
    "        Q=mg_Q,\n",
    "    )\n",
    "    >> gr.cp_copula_independence()\n",
    ")\n",
    "\n",
    "md_out_independence \n"
   ]
  },
  {
   "cell_type": "markdown",
   "id": "1508dd8e",
   "metadata": {},
   "source": [
    "### __qX__ Fit a gaussian copula\n",
    "\n",
    "*Hint*: The code above demonstrates how to add a gaussian copula to a grama model.\n"
   ]
  },
  {
   "cell_type": "code",
   "execution_count": null,
   "id": "054744d4",
   "metadata": {},
   "outputs": [],
   "source": [
    "## TASK: Fit a gaussian copula model\n",
    "md_out_copula = (\n",
    "    gr.Model(\"Circuit Output: Copula\")\n",
    "    >> gr.cp_marginals(\n",
    "        omega0=mg_omega0,\n",
    "        Q=mg_Q,\n",
    "    )\n",
    "\n",
    ")\n",
    "\n",
    "## NOTE: Do not edit; use this to check your work\n",
    "assert \\\n",
    "    isinstance(md_out_copula.density.copula, gr.CopulaGaussian), \\\n",
    "    \"md_out_copula must have a gaussian copula\"\n",
    "\n",
    "md_out_copula \n"
   ]
  },
  {
   "cell_type": "markdown",
   "id": "c1a19448",
   "metadata": {},
   "source": [
    "### __qX__ Compare the models\n",
    "\n",
    "Use the following code to compare the multivariate models; answer the questions under *observations* below.\n"
   ]
  },
  {
   "cell_type": "code",
   "execution_count": null,
   "id": "fa39a428",
   "metadata": {},
   "outputs": [],
   "source": [
    "## NOTE: No need to edit\n",
    "(\n",
    "    df_circuit\n",
    "    >> gr.tf_mutate(source=\"True\")\n",
    "    >> gr.tf_bind_rows(\n",
    "        md_out_independence\n",
    "        >> gr.ev_sample(n=1e4, df_det=\"nom\", skip=True)\n",
    "        >> gr.tf_mutate(source=\"Independence\")\n",
    "    )\n",
    "    >> gr.tf_bind_rows(\n",
    "        md_out_copula\n",
    "        >> gr.ev_sample(n=1e4, df_det=\"nom\", skip=True)\n",
    "        >> gr.tf_mutate(source=\"Copula\")\n",
    "    )\n",
    "    \n",
    "    >> gr.ggplot(gr.aes(\"Q\", \"omega0\"))\n",
    "    + gr.geom_bin2d()\n",
    "    + gr.facet_wrap(\"source\")\n",
    ")"
   ]
  },
  {
   "cell_type": "markdown",
   "id": "81c56d42",
   "metadata": {},
   "source": [
    "*Observations*\n",
    "\n",
    "- How well does the independence model represent the true data?\n",
    "  - (Your response here)\n",
    "- What aspects does the copula model get *correct*?\n",
    "  - (Your response here)\n",
    "- What aspects does the copula model get *incorrect*?\n",
    "  - (Your response here)\n"
   ]
  }
 ],
 "metadata": {
  "kernelspec": {
   "display_name": "Python 3 (ipykernel)",
   "language": "python",
   "name": "python3"
  },
  "language_info": {
   "codemirror_mode": {
    "name": "ipython",
    "version": 3
   },
   "file_extension": ".py",
   "mimetype": "text/x-python",
   "name": "python",
   "nbconvert_exporter": "python",
   "pygments_lexer": "ipython3",
   "version": "3.9.7"
  }
 },
 "nbformat": 4,
 "nbformat_minor": 5
}
