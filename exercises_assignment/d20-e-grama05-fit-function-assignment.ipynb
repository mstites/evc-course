{
 "cells": [
  {
   "cell_type": "markdown",
   "id": "7ffce9ff",
   "metadata": {},
   "source": [
    "# Fitting Functions\n",
    "\n",
    "*Purpose*: **TODO**.\n"
   ]
  },
  {
   "cell_type": "markdown",
   "id": "9910e55f",
   "metadata": {},
   "source": [
    "## Setup\n"
   ]
  },
  {
   "cell_type": "code",
   "execution_count": null,
   "id": "cca58ec3",
   "metadata": {},
   "outputs": [],
   "source": [
    "import grama as gr\n",
    "DF = gr.Intention()\n",
    "%matplotlib inline"
   ]
  },
  {
   "cell_type": "markdown",
   "id": "966c9917",
   "metadata": {
    "tags": []
   },
   "source": [
    "# Fitting\n",
    "\n",
    "Recall that there are four classes of verb in grama; *fitting* verbs take data as an input and produce a model as an output. There are various ways to fit a model; in this exercise we'll focus on fitting a *parameterized* model using  *nonlinear least squares*.\n"
   ]
  },
  {
   "cell_type": "markdown",
   "id": "9032dfe9",
   "metadata": {},
   "source": [
    "\n",
    "![Grama verb class diagram](./images/verb-classes.png)\n"
   ]
  },
  {
   "cell_type": "markdown",
   "id": "5380dc99",
   "metadata": {},
   "source": [
    "## Trajectory Data\n"
   ]
  },
  {
   "cell_type": "code",
   "execution_count": null,
   "id": "f11ff4cb",
   "metadata": {},
   "outputs": [],
   "source": [
    "from grama.data import df_trajectory_windowed\n",
    "(\n",
    "    df_trajectory_windowed\n",
    "    >> gr.ggplot(gr.aes(\"x\", \"y\"))\n",
    "    + gr.geom_point()\n",
    ")"
   ]
  },
  {
   "cell_type": "markdown",
   "id": "d6d066ce",
   "metadata": {},
   "source": [
    "# EMA of Proposed Model\n"
   ]
  },
  {
   "cell_type": "markdown",
   "id": "9a0527f0",
   "metadata": {},
   "source": [
    "## Trajectory model\n"
   ]
  },
  {
   "cell_type": "code",
   "execution_count": null,
   "id": "2b95c30e",
   "metadata": {},
   "outputs": [],
   "source": [
    "from grama.models import make_trajectory_linear\n",
    "md_trajectory = make_trajectory_linear()\n",
    "md_trajectory"
   ]
  },
  {
   "cell_type": "markdown",
   "id": "f921a6e3",
   "metadata": {},
   "source": [
    "### Linear drag model\n",
    "\n",
    "The drag $\\vec{F}_d$ acting on the projectile in this model has a magnitude equal to\n",
    "\n",
    "$$F_d \\propto - m \\tau s$$\n",
    "\n",
    "where $m$ is the mass of the projectile, $s$ is its speed, and $\\tau$ is the *time constant* associated with the drag law.\n",
    "\n",
    "We can make sense of the model by inspecting the equations in the model. However, a complementary way to gain understanding is to do a little *exploratory model analysis*. You'll use EMA below to understand the model's behavior.\n"
   ]
  },
  {
   "cell_type": "markdown",
   "id": "f749d7f7",
   "metadata": {},
   "source": [
    "## Sinews and bounds\n",
    "\n",
    "One \"gotcha\" with `ev_sinews()` is that it can only sweep inputs with *finite bounds*. For variables with one-sided bounds, such as `[0.1, inf]`, we cannot sweep values all the way to infinity! Instead, grama will set the inputs with one-sided bounds to their lower bound, and sweep the remaining variables. We need to set finite bounds in order to use `gr.ev_sinews()`.\n"
   ]
  },
  {
   "cell_type": "markdown",
   "id": "7b2d12a3",
   "metadata": {},
   "source": [
    "### __qX__ Sweep values of `tau`\n",
    "\n",
    "Update the model to enable a sweep over values of `tau`. How does changing `tau` affect the trajectory? Answer the questions under *observations* below.\n",
    "\n",
    "*Hint*: Remember that `gr.cp_bounds()` allows you to adjust the bounds of a grama model. Note that you may need to adjust the bounds of time `t` as well as `tau` to make an informative plot.\n"
   ]
  },
  {
   "cell_type": "code",
   "execution_count": null,
   "id": "49ebf6aa",
   "metadata": {},
   "outputs": [],
   "source": [
    "(\n",
    "    md_trajectory\n",
    "\n",
    "    >> gr.ev_sinews(df_det=\"swp\", n_sweeps=4)\n",
    "    >> gr.pt_auto()\n",
    ")"
   ]
  },
  {
   "cell_type": "markdown",
   "id": "62c4f38c",
   "metadata": {},
   "source": [
    "*Observations*\n",
    "\n",
    "- Once you get a sweep of `tau` displayed, what do each of the curves in the `tau` column represent?\n",
    "  - (Your response here)\n",
    "- What affect does `tau` have on the trajectory range `x`?\n",
    "  - (Your response here)\n",
    "- What affect does `tau` have on the trajectory height `y`?\n",
    "  - (Your response here)\n"
   ]
  },
  {
   "cell_type": "markdown",
   "id": "8f5bbe20",
   "metadata": {},
   "source": [
    "### __qX__ Plot a few trajectories\n",
    "\n",
    "Complete the code below to sweep over values of `tau` and `t`. Compare these results with what you found above. Answer the questions under *observations* below.\n"
   ]
  },
  {
   "cell_type": "code",
   "execution_count": null,
   "id": "8a96906a",
   "metadata": {},
   "outputs": [],
   "source": [
    "# TASK: Sweep tau and t to create trajectories\n",
    "(\n",
    "    md_trajectory\n",
    "    >> gr.ev_df(\n",
    "        df=gr.df_grid(\n",
    "            u0=0.1,\n",
    "            v0=0.1,\n",
    "            # TASK: Complete the code to sweep tau and t\n",
    "\n",
    "        )\n",
    "    )\n",
    "    >> gr.ggplot(gr.aes(\"x\", \"y\", color=\"factor(tau)\"))\n",
    "    + gr.geom_line()\n",
    ")"
   ]
  },
  {
   "cell_type": "markdown",
   "id": "a6df9d97",
   "metadata": {},
   "source": [
    "*Observations*\n",
    "\n",
    "- What affect does `tau` have on the trajectory?\n",
    "  - (Your response here)\n",
    "- Imagine that `y == 0` represents the ground. Are the endpoints of these trajectories physically reasonable?\n",
    "  - (Your response here)\n"
   ]
  },
  {
   "cell_type": "markdown",
   "id": "5a0fd2b4",
   "metadata": {},
   "source": [
    "# Fitting with Least Squares\n",
    "\n",
    "(Above, we guessed at parameter values. Now let's use fitting to get reasonable values.)\n"
   ]
  },
  {
   "cell_type": "markdown",
   "id": "10ee261f",
   "metadata": {},
   "source": [
    "## The `ft_nls()` routine\n"
   ]
  },
  {
   "cell_type": "markdown",
   "id": "a468cb1c",
   "metadata": {},
   "source": [
    "### __qX__ Run `ft_nls()`\n"
   ]
  },
  {
   "cell_type": "code",
   "execution_count": null,
   "id": "ba3a6bd9",
   "metadata": {},
   "outputs": [],
   "source": [
    "# TASK: \n",
    "md_fit = (\n",
    "    df_trajectory_windowed\n",
    "    >> gr.ft_nls(md=md_trajectory)\n",
    ")\n",
    "\n",
    "md_fit"
   ]
  },
  {
   "cell_type": "markdown",
   "id": "118bd76b",
   "metadata": {},
   "source": [
    "*Observations*\n",
    "\n",
    "- ...\n",
    "  - (Your response here)\n"
   ]
  },
  {
   "cell_type": "markdown",
   "id": "deb14a64",
   "metadata": {},
   "source": [
    "### __qX__ Assess the fit\n"
   ]
  },
  {
   "cell_type": "code",
   "execution_count": null,
   "id": "ed63bc7d",
   "metadata": {},
   "outputs": [],
   "source": [
    "# TASK: Compare the model predictions with\n",
    "# the original data df_trajectory_windowed\n",
    "(\n",
    "    md_fit\n",
    "\n",
    ")"
   ]
  },
  {
   "cell_type": "markdown",
   "id": "aae08fa0",
   "metadata": {},
   "source": [
    "*Observations*\n",
    "\n",
    "- ...\n",
    "  - (Your response here)\n"
   ]
  },
  {
   "cell_type": "markdown",
   "id": "a3d827b5",
   "metadata": {
    "tags": []
   },
   "source": [
    "## Rough estimation\n",
    "\n",
    "Let's do some back-of-the envelope calculations to get a rough sense of reasonable parameter values.\n",
    "\n",
    "### TODO\n",
    "\n",
    "$$u = \\frac{dx}{dt} \\approx \\frac{u(t_2) - u(t_1)}{t_2 - t_1}$$\n",
    "\n",
    "The `gr.lead()` function allows us to access values in the following row; we can use this to implement differences like $u(t_2) - u(t_1)$.\n",
    "\n",
    "$$F_d/m \\propto - \\tau s$$\n",
    "\n",
    "or\n",
    "\n",
    "$$a_d / s \\propto \\tau.$$\n",
    "\n",
    "Note that this is *not* the total acceleration! This is just the acceleration due to drag, which we can't access from the data alone. However, we can use the *total* acceleration to set a reasonable first-guess for the value of `tau`.\n"
   ]
  },
  {
   "cell_type": "code",
   "execution_count": null,
   "id": "6d0ab984",
   "metadata": {},
   "outputs": [],
   "source": [
    "# NOTE: No need to edit\n",
    "(\n",
    "    df_trajectory_windowed\n",
    "    # Estimate velocity components\n",
    "    >> gr.tf_mutate(\n",
    "        u=(gr.lead(DF.x) - DF.x) / (gr.lead(DF.t) - DF.t),\n",
    "        v=(gr.lead(DF.y) - DF.y) / (gr.lead(DF.t) - DF.t),\n",
    "    )\n",
    "    # Compute speed\n",
    "    >> gr.tf_mutate(s=gr.sqrt(DF.u**2 + DF.v**2))\n",
    "    # Estimate acceleration\n",
    "    >> gr.tf_mutate(\n",
    "        a=(gr.lead(DF.s) - DF.s) / (gr.lead(DF.t) - DF.t)\n",
    "    )\n",
    "    # Estimate drag time constant\n",
    "    >> gr.tf_mutate(tau=gr.abs(DF.a / DF.s))\n",
    "    \n",
    "    >> gr.tf_select(\"u\", \"v\", \"tau\")\n",
    "    >> gr.tf_describe()\n",
    ")"
   ]
  },
  {
   "cell_type": "markdown",
   "id": "75cf9a4c",
   "metadata": {},
   "source": [
    "### __qX__ Choose reasonable initial parameters\n",
    "\n",
    "Override the default initial parameter guess of `ft_nls()` by adding a keyword argument. Using the rough estimates above, you should be able to achieve a fit of the data that is quite reasonable. Answer the questions under *observations* below.\n",
    "\n",
    "*Hint*: Remember to consult the documentation for `ft_nls()` to see how to use its arguments!\n"
   ]
  },
  {
   "cell_type": "code",
   "execution_count": null,
   "id": "e075ba97",
   "metadata": {},
   "outputs": [],
   "source": [
    "# TASK: \n",
    "md_fit_init = (\n",
    "    df_trajectory_windowed\n",
    "    >> gr.ft_nls(\n",
    "        md=md_trajectory,\n",
    "\n",
    ")\n",
    "\n",
    "(\n",
    "    md_fit_init\n",
    "    >> gr.ev_df(df_trajectory_windowed)\n",
    "    \n",
    "    >> gr.ggplot(gr.aes(\"x\", \"y\"))\n",
    "    + gr.geom_line()\n",
    "    + gr.geom_point(data=df_trajectory_windowed)\n",
    ")"
   ]
  },
  {
   "cell_type": "markdown",
   "id": "75252e89",
   "metadata": {},
   "source": [
    "*Observations*\n",
    "\n",
    "- How well does the trend fit the data?\n",
    "  - (Your response here)\n",
    "- How does your initial guess for `tau` compare with the fitted value? What might account for this?\n",
    "  - (Your response here)\n",
    "- How does your initial guess for `u0` compare with the fitted value? What might account for this?\n",
    "  - (Your response here)\n"
   ]
  },
  {
   "cell_type": "markdown",
   "id": "b0e352f0",
   "metadata": {},
   "source": [
    "# Model Assessment\n"
   ]
  },
  {
   "cell_type": "markdown",
   "id": "3976c57c",
   "metadata": {},
   "source": [
    "## Quantifying uncertainty\n"
   ]
  },
  {
   "cell_type": "code",
   "execution_count": null,
   "id": "fe1415d7",
   "metadata": {},
   "outputs": [],
   "source": [
    "# NOTE:  \n",
    "md_fit_uq = (\n",
    "    df_trajectory_windowed\n",
    "    >> gr.ft_nls(\n",
    "        md=md_trajectory,\n",
    "        df_init=gr.df_make(\n",
    "            u0=18,\n",
    "            v0=18,\n",
    "            tau=16,\n",
    "        ),\n",
    "        uq_method=\"linpool\",\n",
    "    )\n",
    ")\n",
    "md_fit_uq "
   ]
  },
  {
   "cell_type": "markdown",
   "id": "974cdd79",
   "metadata": {},
   "source": [
    "### __qX__ Inspect plausible parameter values\n"
   ]
  },
  {
   "cell_type": "code",
   "execution_count": null,
   "id": "a42c1dbb",
   "metadata": {},
   "outputs": [],
   "source": [
    "# TASK:\n",
    "(\n",
    "    md_fit_uq\n",
    "    >> gr.ev_sample(n=1e3, df_det=\"nom\", skip=True)\n",
    "    >> gr.pt_auto()\n",
    ")"
   ]
  },
  {
   "cell_type": "markdown",
   "id": "60d5de9e",
   "metadata": {},
   "source": [
    "*Observations*\n",
    "\n",
    "- ...\n",
    "  - (Your response here)\n"
   ]
  },
  {
   "cell_type": "markdown",
   "id": "22996a10",
   "metadata": {
    "tags": []
   },
   "source": [
    "### __qX__ Inspect plausible trajectories\n"
   ]
  },
  {
   "cell_type": "code",
   "execution_count": null,
   "id": "0796e6f2",
   "metadata": {},
   "outputs": [],
   "source": [
    "# TASK:\n",
    "(\n",
    "    md_fit_uq\n",
    "\n",
    "    \n",
    "    >> gr.ggplot(gr.aes(\"x\", \"y\"))\n",
    "    # NOTE: The `group` aesthetic allows us to draw\n",
    "    # individual lines for each value of u0; otherwise\n",
    "    # the lines would all be connected\n",
    "    + gr.geom_line(gr.aes(group=\"u0\"), alpha=1/5, color=\"grey\")\n",
    "    # Add the data\n",
    "    + gr.geom_point(data=df_trajectory_windowed)\n",
    ")"
   ]
  },
  {
   "cell_type": "markdown",
   "id": "1627c7bc",
   "metadata": {},
   "source": [
    "*Observations*\n",
    "\n",
    "- According to the fitted model, what is a plausible final range for the projectile? (In what band of `x` values does it hit the ground at `y == 0`?)\n",
    "  - (Your response here)\n"
   ]
  },
  {
   "cell_type": "markdown",
   "id": "51aafd1f",
   "metadata": {},
   "source": [
    "# Model Validation"
   ]
  },
  {
   "cell_type": "markdown",
   "id": "4b1edc46",
   "metadata": {},
   "source": [
    "## Validation data\n"
   ]
  },
  {
   "cell_type": "code",
   "execution_count": null,
   "id": "cb296e8b",
   "metadata": {},
   "outputs": [],
   "source": [
    "from grama.data import df_trajectory_full\n",
    "(\n",
    "    df_trajectory_full\n",
    "    >> gr.ggplot(gr.aes(\"x\", \"y\"))\n",
    "    + gr.geom_point()\n",
    ")"
   ]
  },
  {
   "cell_type": "markdown",
   "id": "d8350dac",
   "metadata": {},
   "source": [
    "### __qX__ Compare the fit to validation data\n",
    "\n",
    "\n"
   ]
  },
  {
   "cell_type": "code",
   "execution_count": null,
   "id": "a264c790",
   "metadata": {},
   "outputs": [],
   "source": [
    "# TASK: Compare the fitted model to the validation data;\n",
    "# make sure to quantify the parameter uncertainty\n",
    "(\n",
    "    md_fit_uq\n",
    " \n",
    ")"
   ]
  },
  {
   "cell_type": "markdown",
   "id": "dc1e30e1",
   "metadata": {},
   "source": [
    "*Observations*\n",
    "\n",
    "- ...\n",
    "  - (Your response here)\n"
   ]
  }
 ],
 "metadata": {
  "kernelspec": {
   "display_name": "Python 3 (ipykernel)",
   "language": "python",
   "name": "python3"
  },
  "language_info": {
   "codemirror_mode": {
    "name": "ipython",
    "version": 3
   },
   "file_extension": ".py",
   "mimetype": "text/x-python",
   "name": "python",
   "nbconvert_exporter": "python",
   "pygments_lexer": "ipython3",
   "version": "3.9.7"
  }
 },
 "nbformat": 4,
 "nbformat_minor": 5
}
