{
 "cells": [
  {
   "cell_type": "markdown",
   "id": "3abfc8e4",
   "metadata": {},
   "source": [
    "# Distributions\n",
    "\n",
    "*Purpose*: We will use distributions to model uncertain quantities. Distributions (and densities, random variables) are useful mathematical objects, but we will need to understand their properties to use them as effective models. This exercise is about distributions and their fundamental properties: In a future exercise (`e-grama06-fit-univar`) we will discuss how to model real quantities with distributions.\n"
   ]
  },
  {
   "cell_type": "markdown",
   "id": "b1b5a6d2",
   "metadata": {},
   "source": [
    "## Setup\n"
   ]
  },
  {
   "cell_type": "code",
   "execution_count": null,
   "id": "b15a25ca",
   "metadata": {},
   "outputs": [],
   "source": [
    "import grama as gr\n",
    "import numpy as np\n",
    "DF = gr.Intention()\n",
    "%matplotlib inline"
   ]
  },
  {
   "cell_type": "markdown",
   "id": "e0e98570",
   "metadata": {},
   "source": [
    "# Motivation: Modeling Uncertainty\n",
    "\n",
    "Before we discuss distributions, let's first talk about *why* distributions are necessary and useful.\n",
    "\n",
    "## To Summarize Data\n",
    "\n",
    "A distribution is one way to *summarize* a dataset. Rather than using a (potentially large) dataset to describe a variable quantity, we can use a distribution.\n",
    "\n",
    "Let's look at a specific dataset of die cast aluminum material properties.\n"
   ]
  },
  {
   "cell_type": "code",
   "execution_count": null,
   "id": "3a7421fa",
   "metadata": {},
   "outputs": [],
   "source": [
    "from grama.data import df_shewhart\n"
   ]
  },
  {
   "cell_type": "markdown",
   "id": "395f6276",
   "metadata": {},
   "source": [
    "If we inspect the `tensile_strength` values, we can see that they are quite variable.\n"
   ]
  },
  {
   "cell_type": "code",
   "execution_count": null,
   "id": "fbd5ca46",
   "metadata": {},
   "outputs": [],
   "source": [
    "(\n",
    "    df_shewhart\n",
    "    >> gr.ggplot(gr.aes(\"tensile_strength\"))\n",
    "    + gr.geom_histogram()\n",
    ")"
   ]
  },
  {
   "cell_type": "markdown",
   "id": "5029a1cf",
   "metadata": {},
   "source": [
    "Fitting a lognormal distribution allows us to summarize this variability. The following code fits a lognormal distribution to the `tensile_strength` data.\n"
   ]
  },
  {
   "cell_type": "code",
   "execution_count": null,
   "id": "c5b7850b",
   "metadata": {},
   "outputs": [],
   "source": [
    "# Fit a lognormal distribution\n",
    "mg_tensile_strength = gr.marg_fit(\n",
    "    \"lognorm\",\n",
    "    df_shewhart.tensile_strength,\n",
    "    floc=0,\n",
    ")\n",
    "# Show a summary\n",
    "mg_tensile_strength"
   ]
  },
  {
   "cell_type": "markdown",
   "id": "82e534a9",
   "metadata": {},
   "source": [
    "The distribution is defined in terms of a handful of *parameters*---scalar values that affect the quantitative properties of the distribution.\n",
    "\n",
    "When we compare the fitted distribution against the data, we can see that the fitted distribution is in the same location and has the same width as the data.\n"
   ]
  },
  {
   "cell_type": "code",
   "execution_count": null,
   "id": "a2f3eeff",
   "metadata": {},
   "outputs": [],
   "source": [
    "# Visualize the density against the data\n",
    "(\n",
    "    df_shewhart\n",
    "    >> gr.ggplot(gr.aes(\"tensile_strength\"))\n",
    "    + gr.geom_histogram(gr.aes(y=gr.after_stat(\"density\")))\n",
    "    + gr.geom_line(\n",
    "        data=gr.df_make(tensile_strength=gr.linspace(20e3, 45e3, 100))\n",
    "        >> gr.tf_mutate(d=mg_tensile_strength.d(DF.tensile_strength)),\n",
    "        mapping=gr.aes(y=\"d\")\n",
    "    )\n",
    ")"
   ]
  },
  {
   "cell_type": "markdown",
   "id": "f6e1f9a2",
   "metadata": {},
   "source": [
    "## To Make Assumptions Explicit\n",
    "\n",
    "Selecting a distribtion helps us make assumptions about an uncertain quantity explicit. For instance, are we assuming that values are strictly bounded between low and high values? Or are there no bounds? \n",
    "\n",
    "For example, a normal distribution can take all values between $-\\infty$ and $+\\infty$, while a beta distribution has a finite width. The following visual compares the two distribution shapes.\n"
   ]
  },
  {
   "cell_type": "code",
   "execution_count": null,
   "id": "84acdde1",
   "metadata": {
    "jupyter": {
     "source_hidden": true
    },
    "tags": []
   },
   "outputs": [],
   "source": [
    "# Normal is unbounded\n",
    "mg_norm = gr.marg_mom(\"norm\", mean=0, sd=1)\n",
    "# Beta is strictly bounded\n",
    "mg_beta = gr.marg_mom(\"beta\", mean=0, sd=1, skew=0, kurt=2)\n",
    "\n",
    "(\n",
    "    gr.df_make(x=gr.linspace(-3, +3, 20))\n",
    "    >> gr.tf_mutate(\n",
    "        d_norm=mg_norm.d(DF.x),\n",
    "        d_beta=mg_beta.d(DF.x),\n",
    "    )\n",
    "    >> gr.tf_pivot_longer(\n",
    "        columns=[\"d_norm\", \"d_beta\"],\n",
    "        names_to=[\".value\", \"distribution\"],\n",
    "        names_sep=\"_\",\n",
    "    )\n",
    "    \n",
    "    >> gr.ggplot(gr.aes(\"x\", \"d\", color=\"distribution\"))\n",
    "    + gr.geom_line()\n",
    "    + gr.theme_minimal()\n",
    "    + gr.labs(\n",
    "        x=\"Value\",\n",
    "        y=\"Density\",\n",
    "    )\n",
    ")"
   ]
  },
  {
   "cell_type": "markdown",
   "id": "29d1e52b",
   "metadata": {},
   "source": [
    "# Distribution Fundamentals\n",
    "\n",
    "*Note*: In this exercise, to keep things simple, we will focus on distributions for *continuous* variable.\n"
   ]
  },
  {
   "cell_type": "markdown",
   "id": "4e42c525",
   "metadata": {},
   "source": [
    "## What a distribution represents\n",
    "\n",
    "*Fundamentally*, a distribution describes an uncertain value *in a quantitative fashion*. Rather than simply saying \"I don't know what value this is,\" with a distribution we can express the fact that some values are more *likely* than others.\n",
    "\n",
    "Distributions are particularly useful because they free us from \"just\" picking a single number. With a distribution we can get a lot more nuanced in our description of uncertain quantities. This exercise is all about using concepts about distributions to represent uncertain quantities, *and to do useful work*.\n"
   ]
  },
  {
   "cell_type": "markdown",
   "id": "b4d80c2d",
   "metadata": {},
   "source": [
    "## Random variables\n",
    "\n",
    "Clearly `tensile_strength` does not take a single value; therefore, we should think of `tensile_strength` as a *random variable*. A random variable is a mathematical object that we can use to model an uncertain quantity. Unlike a *deterministic variable* that has one fixed value (say $x = 1$), a random variable can take a different value each time we *observe* it. For instance, if $X$ were a random variable, and we used $X_i$ to denote the value that occurs on the $i$-th observation, then we might see a sequence like\n",
    "\n",
    "$$X_1 = 1, X_2 = -3, X_3 = 1, X_4 = 5, \\dots$$\n",
    "\n",
    "What counts as an *observation* depends on what we are using the random variable to model. Essentially, an observation is an occurrence that gives us the potential to \"see\" a new value. \n",
    "\n",
    "Let's take a look at the `tensile_strength` example to get a better sense of these ideas.\n"
   ]
  },
  {
   "cell_type": "markdown",
   "id": "c1df3ff9",
   "metadata": {},
   "source": [
    "For the `tensile_strength`, we saw a sequence of different values:"
   ]
  },
  {
   "cell_type": "code",
   "execution_count": null,
   "id": "45f504c5",
   "metadata": {},
   "outputs": [],
   "source": [
    "(\n",
    "    df_shewhart\n",
    "    >> gr.tf_head(4)\n",
    ")"
   ]
  },
  {
   "cell_type": "markdown",
   "id": "d599d973",
   "metadata": {},
   "source": [
    "Every time we manufacture a new part, we perform a sequence of manufacturing steps that work together to \"lock in\" a particular value of `tensile_strength`. Those individual steps tend to go slightly differently each time we make a part (e.g. an operator calls in sick one day, we get a slightly more dense batch of raw material, it's a particularly hot summer day, etc.), so we end up with different properties in each part.\n",
    "\n",
    "Given the complicated realities of manfacturing, it makes sense to think of an *observation* as being one complete run of the manufacturing process that generates a particular part with its own `tensile_strength`. This is what the `specimen` column in `df_shewhart` refers to; a unique identifier tracking individual runs of the complete manufacturing process, resulting in a unique part.\n"
   ]
  },
  {
   "cell_type": "markdown",
   "id": "7b352069",
   "metadata": {},
   "source": [
    "```{admonition} Nomenclature: A *realization* is like a single roll of a die\n",
    "Some nomenclature: When we talk about random quantities, we use the term *realization* (or *observation*) to refer to a single event that yields a random value, according to a particular distribution. For instance, a single manufactured part will have a realized strength value. If we take multiple realizations, we will tend to see different values. For instance, we saw a large amount of variability among the realized `tensile_strength` values above.\n",
    "\n",
    "A single realization tells us very little about how the distribution tends to behave, but a set of realizations (a *sample*) will give us a sense of how the random values tend to behave *collectively*. A distribution is a way to model that collective behavior.\n",
    "```"
   ]
  },
  {
   "cell_type": "markdown",
   "id": "d5bf1b19",
   "metadata": {},
   "source": [
    "## A distribution defines a random variable\n",
    "\n",
    "**A distribution defines a random variable**. We say that a random variable $X$ is *distributed according to* a particular density $\\rho$, and we express the same statement mathematically as\n",
    "\n",
    "$$X \\sim \\rho.$$\n",
    "\n",
    "One way to represent a distribution is with a *density function*. The following plot displays the density for a normal distribution:\n"
   ]
  },
  {
   "cell_type": "code",
   "execution_count": null,
   "id": "81cc6d95",
   "metadata": {
    "jupyter": {
     "source_hidden": true
    },
    "tags": []
   },
   "outputs": [],
   "source": [
    "## NOTE: No need to edit\n",
    "# This visualizes a density function\n",
    "(\n",
    "    gr.df_make(x=gr.linspace(-3, +3, 200))\n",
    "    >> gr.tf_mutate(d=mg_norm.d(DF.x))\n",
    "    \n",
    "    >> gr.ggplot(gr.aes(\"x\", \"d\"))\n",
    "    + gr.geom_line()\n",
    "    + gr.theme_minimal()\n",
    "    + gr.labs(\n",
    "        x=\"Value\",\n",
    "        y=\"Density\",\n",
    "    )\n",
    ")\n"
   ]
  },
  {
   "cell_type": "markdown",
   "id": "5d5014e7",
   "metadata": {},
   "source": [
    "The `Value` pictured here corresponds to all of the potential values that the random variable can take, while the `Density` quantitatively describes how likely (or unlikely) each of those values are. Density functions tend to \"fall off\" towards zero as we move towards more extreme values; these lower regions of the density are called \"tails\" of the distribution. The smallest values are associated with the \"lower\" or \"left\" tail, while the largest values are associated with the \"upper\" or \"right\" tail.\n"
   ]
  },
  {
   "cell_type": "markdown",
   "id": "faefb61e",
   "metadata": {
    "tags": []
   },
   "source": [
    "### __q1__ Define a distribution\n",
    "\n",
    "Use the grama helper function `gr.marg_mom()` to define a distribution in terms of its *moments*. Fit a normal `\"norm\"` distribution with a mean of `1` and a standard deviation of `0.3`.\n"
   ]
  },
  {
   "cell_type": "code",
   "execution_count": null,
   "id": "5eaf29de",
   "metadata": {},
   "outputs": [],
   "source": [
    "## TASK: Define a normal distribution\n",
    "mg_norm = None # Define the distribution here\n",
    "\n",
    "\n",
    "## NOTE: No need to edit; this will plot your distribution\n",
    "(\n",
    "    gr.df_make(x=gr.linspace(0, 3, 100))\n",
    "    >> gr.tf_mutate(d=mg_norm.d(DF.x))\n",
    "    >> gr.ggplot(gr.aes(\"x\", \"d\"))\n",
    "    + gr.geom_line()\n",
    ")"
   ]
  },
  {
   "cell_type": "markdown",
   "id": "de346642",
   "metadata": {},
   "source": [
    "### __q2__ Check your distribution's summary\n",
    "\n",
    "Print the distribution's summary by simply \"executing\" the distribution (like you would with a DataFrame or grama model).\n"
   ]
  },
  {
   "cell_type": "code",
   "execution_count": null,
   "id": "d3705904",
   "metadata": {},
   "outputs": [],
   "source": [
    "## TASK: Print the summary of mg_norm\n"
   ]
  },
  {
   "cell_type": "markdown",
   "id": "a094b391",
   "metadata": {},
   "source": [
    "*Observations*\n",
    "\n",
    "- What mean does your distribution have?\n",
    "  - (Your response here)\n",
    "- What value of *skewness* does your distribution have?\n",
    "  - (Your response here)\n",
    "- What value of *kurtosis* does your distribution have?\n",
    "  - (Your response here)\n"
   ]
  },
  {
   "cell_type": "markdown",
   "id": "ac685b9a",
   "metadata": {},
   "source": [
    "## Moments\n",
    "\n",
    "The summary of a distribution reports a few of its *moments*. These moments tell us different \"facts\" about the distribution:\n",
    "\n",
    "| Moment | Meaning |\n",
    "|--------|---------|\n",
    "| Mean   | Location |\n",
    "| Standard deviation | Width |\n",
    "| Skewness | Left- or right-lopsidedness |\n",
    "| Kurtosis | Tendency to produce extreme (large) values |\n",
    "\n",
    "Note that the distribution summary also reports the *coefficient of variation* (COV), which is a normalized version of the standard deviation (`COV = sd / mean`).\n"
   ]
  },
  {
   "cell_type": "markdown",
   "id": "24d6f901",
   "metadata": {},
   "source": [
    "### __q3__ Compare two distributions\n",
    "\n",
    "Inspect the following distribution summaries and the plot. Answer the questions under *obervations* below.\n"
   ]
  },
  {
   "cell_type": "code",
   "execution_count": null,
   "id": "65817d15",
   "metadata": {},
   "outputs": [],
   "source": [
    "## NOTE: No need to edit; this will plot your distribution\n",
    "mg_lognorm = gr.marg_mom(\"lognorm\", mean=1, sd=0.3, floc=0)\n",
    "\n",
    "## Print the summaries\n",
    "print(mg_norm)\n",
    "print(mg_lognorm)\n",
    "\n",
    "## Visualize the distributions\n",
    "(\n",
    "    gr.df_make(x=gr.linspace(0, 3, 100))\n",
    "    >> gr.tf_mutate(\n",
    "        d_norm=mg_norm.d(DF.x),\n",
    "        d_lognorm=mg_lognorm.d(DF.x),\n",
    "    )\n",
    "    >> gr.tf_pivot_longer(\n",
    "        columns=[\"d_norm\", \"d_lognorm\"],\n",
    "        names_to=[\".value\", \"distribution\"],\n",
    "        names_sep=\"_\",\n",
    "    )\n",
    "    \n",
    "    >> gr.ggplot(gr.aes(\"x\", \"d\", color=\"distribution\"))\n",
    "    + gr.geom_line()\n",
    ")"
   ]
  },
  {
   "cell_type": "markdown",
   "id": "9d958213",
   "metadata": {},
   "source": [
    "*Observations*\n",
    "\n",
    "- What is the `skew.` of the `norm` distribution? How does that compare with the `skew` of the `lognorm` distribution?\n",
    "  - (Your response here)\n",
    "- Skewness is related to asymmetry of a distribution: In your own words, how is the lognormal distribution above asymmetric?\n",
    "  - (Your response here)\n"
   ]
  },
  {
   "cell_type": "markdown",
   "id": "2d9128b9",
   "metadata": {},
   "source": [
    "### __q4__ *Draw* random values from your distribution\n",
    "\n",
    "Use the `Marginal.r(n)` method to *draw* `1000` random values from your distribution. Play with the sample size `n`, and answer the questions under *observations* below.\n",
    "\n",
    "*Hint*: A *method* is a function that you invoke using dot notation. If the marginal were named `mg`, then you could call the random value method via `mg.r(1000)`.\n"
   ]
  },
  {
   "cell_type": "code",
   "execution_count": null,
   "id": "fd32b714",
   "metadata": {},
   "outputs": [],
   "source": [
    "## TASK: Draw 1000 random values from mg_norm\n",
    "X = None # TODO: Replace with 1000 random values\n",
    "\n",
    "\n",
    "## NOTE: No need to edit; use this to check your answer\n",
    "(\n",
    "    gr.df_make(x=X)\n",
    "    >> gr.ggplot(gr.aes(\"x\"))\n",
    "    + gr.geom_histogram(bins=30, mapping=gr.aes(y=\"stat(density)\"))\n",
    "    + gr.geom_line(\n",
    "        data=gr.df_make(x=gr.linspace(0, 2, 100))\n",
    "        >> gr.tf_mutate(d=mg_norm.d(DF.x)),\n",
    "        mapping=gr.aes(y=\"d\")\n",
    "    )\n",
    ")"
   ]
  },
  {
   "cell_type": "markdown",
   "id": "d240178e",
   "metadata": {},
   "source": [
    "*Observations*\n",
    "\n",
    "- Set `n` to a small value (say `n=100`). How well does the histogram match the density?\n",
    "  - (Your response here)\n",
    "- What value of `n` is necessary for the histogram to resemble the density?\n",
    "  - (Your response here)\n",
    "- Set `n` to a small value (say `n=100`). How well does the histogram match the density (soid curve)?\n",
    "  - The histogram really does not resemble the density at all....\n",
    "- What value of `n` is necessary for the histogram to resemble the density?\n",
    "  - I find that a modestly-large value (around `n=1000`) is necessary for the histogram to resemble the density.\n",
    "<!-- task-end -->"
   ]
  },
  {
   "cell_type": "markdown",
   "id": "48d4c2ba",
   "metadata": {},
   "source": [
    "## Mean (aka Expectation)\n",
    "\n",
    "The mean\n",
    "\n",
    "$$\\overline{X} = \\frac{1}{n} \\sum_{i=1}^n X_i$$\n",
    "\n",
    "$$\\mathbb{E}[X] = \\lim_{n\\to\\infty} \\frac{1}{n} \\sum_{i=1}^n X_i$$\n"
   ]
  },
  {
   "cell_type": "markdown",
   "id": "d884bf89",
   "metadata": {},
   "source": [
    "### __qX__ Estimate a (sample) mean\n"
   ]
  },
  {
   "cell_type": "code",
   "execution_count": null,
   "id": "930fc40f",
   "metadata": {},
   "outputs": [],
   "source": [
    "(\n",
    "    gr.df_make(x=mg_norm.r(100))\n",
    "\n",
    ")"
   ]
  },
  {
   "cell_type": "markdown",
   "id": "f497c39a",
   "metadata": {},
   "source": [
    "*Observations*\n",
    "\n",
    "- How does the sample mean compare with the true mean of your distribution `mg_norm`?\n",
    "  - (Your response here)\n",
    "- What might account for this difference?\n",
    "  - (Your response here)\n",
    "- Re-run the cell; do you get an identical value?\n",
    "  - (Your response here)\n"
   ]
  },
  {
   "cell_type": "markdown",
   "id": "555ffac4",
   "metadata": {},
   "source": [
    "## Probability\n",
    "\n",
    "Probability is the area under the curve, within a set of interest. For instance, if we were interested in the probability that $0.5 <= X <= 0.7$, the following area would be the probability:\n"
   ]
  },
  {
   "cell_type": "code",
   "execution_count": null,
   "id": "f41d4de0",
   "metadata": {},
   "outputs": [],
   "source": [
    "df_tmp = (\n",
    "    gr.df_make(x=gr.linspace(0, 2, 100))\n",
    "    >> gr.tf_mutate(d=mg_norm.d(DF.x))\n",
    ")\n",
    "\n",
    "(\n",
    "    df_tmp\n",
    "    >> gr.ggplot(gr.aes(\"x\", \"d\"))\n",
    "    + gr.geom_line()\n",
    "    + gr.geom_ribbon(\n",
    "        data=df_tmp\n",
    "        >> gr.tf_filter(0.5 <= DF.x, DF.x <= 0.7),\n",
    "        mapping=gr.aes(ymin=0, ymax=\"d\"),\n",
    "        fill=\"salmon\",\n",
    "        color=None,\n",
    "    )\n",
    ")"
   ]
  },
  {
   "cell_type": "markdown",
   "id": "d631b48b",
   "metadata": {},
   "source": [
    "Note that probability is associated with a *set*---a range of values---not just a single value. Note that the area under the curve for a single value would have zero width, hence zero probability!\n"
   ]
  },
  {
   "cell_type": "code",
   "execution_count": null,
   "id": "6ea84979",
   "metadata": {},
   "outputs": [],
   "source": [
    "df_tmp = (\n",
    "    gr.df_make(x=gr.linspace(0, 2, 101))\n",
    "    >> gr.tf_mutate(d=mg_norm.d(DF.x))\n",
    ")\n",
    "\n",
    "(\n",
    "    df_tmp\n",
    "    >> gr.ggplot(gr.aes(\"x\", \"d\"))\n",
    "    + gr.geom_line()\n",
    "    + gr.geom_segment(\n",
    "        data=df_tmp\n",
    "        >> gr.tf_filter(DF.x == gr.median(DF.x)),\n",
    "        mapping=gr.aes(xend=\"x\", yend=0),\n",
    "        color=\"salmon\",\n",
    "    )\n",
    ")"
   ]
  },
  {
   "cell_type": "markdown",
   "id": "4b69ea04",
   "metadata": {},
   "source": [
    "A more mathematical definition for probability is in terms of the expectation\n",
    "\n",
    "$$\\mathbb{P}[X \\in A] = \\mathbb{E}[1(X \\in A)]$$\n",
    "\n",
    "where $1(X \\in A)$ is the *indicator function*, which is just a fancy way of tracking whether or not a point lands in the set $A$. The function takes values $1,0$ depending on whether or not a value $X$ lands inside the set $A$.\n",
    "\n",
    "$$1(X \\in A) = \\left\\{\\begin{array}{cc} 1 & \\text{ if }X \\in A \\\\ 0 & \\text{ otherwise}\\end{array}\\right.$$\n",
    "\n",
    "This expectation definition is not just math for its own sake; this expectation of the indicator definition is **easy to translate into computer code**.\n"
   ]
  },
  {
   "cell_type": "markdown",
   "id": "1a75e664",
   "metadata": {},
   "source": [
    "### __qX__ Compute an indicator\n"
   ]
  },
  {
   "cell_type": "code",
   "execution_count": null,
   "id": "e13316fe",
   "metadata": {},
   "outputs": [],
   "source": [
    "\n",
    "\n",
    "df_ind = (\n",
    "    gr.df_make(x=mg_norm.r(100))\n",
    "    ## Compute the indicator function, call it \"ind\"\n",
    "\n",
    ")\n",
    "\n",
    "# NOTE: No need to edit; use this to check your work\n",
    "assert \\\n",
    "    \"ind\" in df_ind.columns, \\\n",
    "    \"The result df_ind does not have an indicator column `ind`\"\n",
    "\n",
    "assert \\\n",
    "    (all(df_ind.ind == (df_ind.x <= 1))), \\\n",
    "    \"Your indicator column `ind` is incorrect.\""
   ]
  },
  {
   "cell_type": "markdown",
   "id": "09cf306c",
   "metadata": {},
   "source": [
    "### __qX__ Estimate a probability\n"
   ]
  },
  {
   "cell_type": "code",
   "execution_count": null,
   "id": "7ac9434b",
   "metadata": {},
   "outputs": [],
   "source": [
    "(\n",
    "    df_ind\n",
    "\n",
    ")"
   ]
  },
  {
   "cell_type": "markdown",
   "id": "f6093f1a",
   "metadata": {},
   "source": [
    "### __qX__ Estimate a probability of failure\n"
   ]
  },
  {
   "cell_type": "markdown",
   "id": "81e180eb",
   "metadata": {},
   "source": [
    "## Quantiles\n",
    "\n",
    "Quantiles \"turn around\" the idea of probability. With probability we start with a set $A$ and arrive at a probability value $p$. With a *quantile* we start with a probability value $p$ and arrive at a single value $q$.\n"
   ]
  },
  {
   "cell_type": "markdown",
   "id": "417639e0",
   "metadata": {},
   "source": [
    "### __qX__ Compute a quantile\n"
   ]
  },
  {
   "cell_type": "code",
   "execution_count": null,
   "id": "45d90a94",
   "metadata": {},
   "outputs": [],
   "source": [
    "q_10 = None\n",
    "q_50 = None\n",
    "\n",
    "\n",
    "# NOTE: No need to edit; use this to check your work\n",
    "(\n",
    "    gr.df_make(x=mg_norm.r(1000))\n",
    "    >> gr.tf_summarize(\n",
    "        pr_10=gr.mean(DF.x <= q_10), # Should be around 0.10\n",
    "        pr_50=gr.mean(DF.x <= q_50), # Should be around 0.50\n",
    "    )\n",
    ")"
   ]
  },
  {
   "cell_type": "markdown",
   "id": "10dc3197",
   "metadata": {},
   "source": [
    "### __qX__ Estimate a conservative strength\n"
   ]
  },
  {
   "cell_type": "code",
   "execution_count": null,
   "id": "a911c770",
   "metadata": {},
   "outputs": [],
   "source": [
    "(\n",
    "    df_shewhart \n",
    "\n",
    ")"
   ]
  },
  {
   "cell_type": "markdown",
   "id": "b8070c04",
   "metadata": {},
   "source": [
    "*Observations*\n",
    "\n",
    "- Suppose the observed variability in the `tensile_strength` is real. Which of `mean` or `lower` is safer to use for design purposes? Why?\n",
    "  - (Your response here)\n"
   ]
  }
 ],
 "metadata": {
  "kernelspec": {
   "display_name": "Python 3 (ipykernel)",
   "language": "python",
   "name": "python3"
  },
  "language_info": {
   "codemirror_mode": {
    "name": "ipython",
    "version": 3
   },
   "file_extension": ".py",
   "mimetype": "text/x-python",
   "name": "python",
   "nbconvert_exporter": "python",
   "pygments_lexer": "ipython3",
   "version": "3.9.7"
  }
 },
 "nbformat": 4,
 "nbformat_minor": 5
}
