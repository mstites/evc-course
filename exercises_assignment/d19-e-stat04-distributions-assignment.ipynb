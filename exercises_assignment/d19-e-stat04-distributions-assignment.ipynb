{
 "cells": [
  {
   "cell_type": "markdown",
   "id": "a4346120",
   "metadata": {},
   "source": [
    "# Distributions\n",
    "\n",
    "*Purpose*: (We will use distributions to model uncertain quantities. Thus, this exercise covers fundamental concepts related to distributions.)\n"
   ]
  },
  {
   "cell_type": "markdown",
   "id": "c8d0652b",
   "metadata": {},
   "source": [
    "## Setup\n"
   ]
  },
  {
   "cell_type": "code",
   "execution_count": null,
   "id": "13c666ae",
   "metadata": {},
   "outputs": [],
   "source": [
    "import grama as gr\n",
    "import numpy as np\n",
    "DF = gr.Intention()\n",
    "%matplotlib inline"
   ]
  },
  {
   "cell_type": "markdown",
   "id": "5611d1be",
   "metadata": {},
   "source": [
    "# Motivation: Modeling Uncertainty\n",
    "\n",
    "## To Summarize Data\n"
   ]
  },
  {
   "cell_type": "code",
   "execution_count": null,
   "id": "297d3d17",
   "metadata": {},
   "outputs": [],
   "source": [
    "from grama.data import df_shewhart\n"
   ]
  },
  {
   "cell_type": "code",
   "execution_count": null,
   "id": "1140e836",
   "metadata": {},
   "outputs": [],
   "source": [
    "(\n",
    "    df_shewhart\n",
    "    >> gr.ggplot(gr.aes(\"tensile_strength\"))\n",
    "    + gr.geom_histogram()\n",
    ")"
   ]
  },
  {
   "cell_type": "markdown",
   "id": "2aa3be6c",
   "metadata": {},
   "source": []
  },
  {
   "cell_type": "code",
   "execution_count": null,
   "id": "c1a46834",
   "metadata": {},
   "outputs": [],
   "source": [
    "# Fit a lognormal distribution\n",
    "mg_tensile_strength = gr.marg_fit(\n",
    "    \"lognorm\",\n",
    "    df_shewhart.tensile_strength,\n",
    "    floc=0,\n",
    ")\n",
    "# Show a summary\n",
    "mg_tensile_strength"
   ]
  },
  {
   "cell_type": "markdown",
   "id": "861e9074",
   "metadata": {},
   "source": [
    "Rather than using the entire dataset to describe the observed variability, we can now summarize it as a lognormal distribution with the parameters listed above.\n"
   ]
  },
  {
   "cell_type": "markdown",
   "id": "158d605e",
   "metadata": {},
   "source": [
    "## To Make Assumptions Explicit\n",
    "\n",
    "For instance, are we assuming that values are strictly bounded between low and high values? Or are there no bounds? \n"
   ]
  },
  {
   "cell_type": "code",
   "execution_count": null,
   "id": "926f0e15",
   "metadata": {},
   "outputs": [],
   "source": [
    "# Normal is unbounded\n",
    "mg_norm = gr.marg_mom(\"norm\", mean=0, sd=1)\n",
    "# Beta is strictly bounded\n",
    "mg_beta = gr.marg_mom(\"beta\", mean=0, sd=1, skew=0, kurt=2)\n",
    "\n",
    "(\n",
    "    gr.df_make(x=gr.linspace(-3, +3, 20))\n",
    "    >> gr.tf_mutate(\n",
    "        d_norm=mg_norm.d(DF.x),\n",
    "        d_beta=mg_beta.d(DF.x),\n",
    "    )\n",
    "    >> gr.tf_pivot_longer(\n",
    "        columns=[\"d_norm\", \"d_beta\"],\n",
    "        names_to=[\".value\", \"distribution\"],\n",
    "        names_sep=\"_\",\n",
    "    )\n",
    "    \n",
    "    >> gr.ggplot(gr.aes(\"x\", \"d\", color=\"distribution\"))\n",
    "    + gr.geom_line()\n",
    ")"
   ]
  },
  {
   "cell_type": "markdown",
   "id": "87274c90",
   "metadata": {},
   "source": [
    "# Distribution Fundamentals\n",
    "\n",
    "*Note*: In this exercise, to keep things simple, we will focus on distributions for *continuous* variable.\n"
   ]
  },
  {
   "cell_type": "markdown",
   "id": "e4f8bdac",
   "metadata": {},
   "source": [
    "## What a distribution represents\n",
    "\n",
    "*Fundamentally*, a distribution describes an uncertain value *in a quantitative fashion*. Rather than simply saying \"I don't know what value this is,\" with a distribution we can express the fact that some values are more *likely* than others.\n",
    "\n",
    "Distributions are particularly useful because they free us from \"just\" picking a single number. With a distribution we can get a lot more nuanced in our description of uncertain quantities. This exercise is all about using concepts about distributions to represent uncertain quantities, *and to do useful work*.\n"
   ]
  },
  {
   "cell_type": "markdown",
   "id": "a1310d9d",
   "metadata": {},
   "source": [
    "### __qX__ Define a distribution\n"
   ]
  },
  {
   "cell_type": "code",
   "execution_count": null,
   "id": "769bcb5b",
   "metadata": {},
   "outputs": [],
   "source": [
    "mg_lognorm = None\n",
    "\n",
    "\n",
    "## NOTE: No need to edit; this will plot your distribution\n",
    "(\n",
    "    gr.df_make(x=gr.linspace(0, 3, 100))\n",
    "    >> gr.tf_mutate(d=mg_lognorm.d(DF.x))\n",
    "    >> gr.ggplot(gr.aes(\"x\", \"d\"))\n",
    "    + gr.geom_line()\n",
    ")"
   ]
  },
  {
   "cell_type": "markdown",
   "id": "4390d526",
   "metadata": {},
   "source": [
    "### __qX__ Check your distribution's summary\n"
   ]
  },
  {
   "cell_type": "code",
   "execution_count": null,
   "id": "430c6e39",
   "metadata": {},
   "outputs": [],
   "source": []
  },
  {
   "cell_type": "markdown",
   "id": "2dba283a",
   "metadata": {},
   "source": [
    "*Observations*\n",
    "\n",
    "- What mean does your distribution have?\n",
    "  - (Your response here)\n",
    "- What value of *skewness* does your distribution have?\n",
    "  - (Your response here)\n",
    "- What value of *kurtosis* does your distribution have?\n",
    "  - (Your response here)\n"
   ]
  },
  {
   "cell_type": "markdown",
   "id": "d4bdd96d",
   "metadata": {},
   "source": [
    "### __qX__ *Draw* random values from your distribution\n",
    "\n",
    "Use the `mg.r(n)` method to *draw* random values from your distribution. Play with the sample size `n`, and answer the questions under *observations* below.\n"
   ]
  },
  {
   "cell_type": "code",
   "execution_count": null,
   "id": "f8cbd6c1",
   "metadata": {},
   "outputs": [],
   "source": [
    "\n",
    "X = None\n",
    "\n",
    "\n",
    "## NOTE: No need to edit; use this to check your answer\n",
    "(\n",
    "    gr.df_make(x=X)\n",
    "    >> gr.ggplot(gr.aes(\"x\"))\n",
    "    + gr.geom_histogram(bins=30, mapping=gr.aes(y=\"stat(density)\"))\n",
    "    + gr.geom_line(\n",
    "        data=gr.df_make(x=gr.linspace(0, 2, 100))\n",
    "        >> gr.tf_mutate(d=mg_lognorm.d(DF.x)),\n",
    "        mapping=gr.aes(y=\"d\")\n",
    "    )\n",
    ")"
   ]
  },
  {
   "cell_type": "markdown",
   "id": "8437d0d5",
   "metadata": {},
   "source": [
    "*Observations*\n",
    "\n",
    "- Set `n` to a small value (say `n=100`). How well does the histogram match the density?\n",
    "  - (Your response here)\n",
    "- What value of `n` is necessary for the histogram to resemble the density?\n",
    "  - (Your response here)\n",
    "- Set `n` to a small value (say `n=100`). How well does the histogram match the density (soid curve)?\n",
    "  - The histogram really does not resemble the density at all....\n",
    "- What value of `n` is necessary for the histogram to resemble the density?\n",
    "  - I find that a modestly-large value (around `n=1000`) is necessary for the histogram to resemble the density.\n",
    "<!-- task-end -->"
   ]
  },
  {
   "cell_type": "markdown",
   "id": "a54a49d5",
   "metadata": {},
   "source": [
    "## Mean (aka Expectation)\n",
    "\n",
    "$$\\overline{X} = \\frac{1}{n} \\sum_{i=1}^n X_i$$\n",
    "\n",
    "$$\\mathbb{E}[X] = \\lim_{n\\to\\infty} \\frac{1}{n} \\sum_{i=1}^n X_i$$\n"
   ]
  },
  {
   "cell_type": "markdown",
   "id": "00d4ac88",
   "metadata": {},
   "source": [
    "### __qX__ Estimate a (sample) mean\n"
   ]
  },
  {
   "cell_type": "code",
   "execution_count": null,
   "id": "031a2770",
   "metadata": {},
   "outputs": [],
   "source": [
    "(\n",
    "    gr.df_make(x=mg_lognorm.r(100))\n",
    "\n",
    ")"
   ]
  },
  {
   "cell_type": "markdown",
   "id": "677eee2b",
   "metadata": {},
   "source": [
    "*Observations*\n",
    "\n",
    "- How does the sample mean compare with the true mean of your distribution `mg_lognorm`?\n",
    "  - (Your response here)\n",
    "- What might account for this difference?\n",
    "  - (Your response here)\n",
    "- Re-run the cell; do you get an identical value?\n",
    "  - (Your response here)\n"
   ]
  },
  {
   "cell_type": "markdown",
   "id": "898053b6",
   "metadata": {},
   "source": [
    "## Probability\n",
    "\n",
    "Probability is the area under the curve, within a set of interest. For instance, if we were interested in the probability that $0.5 <= X <= 0.7$, the following area would be the probability:\n"
   ]
  },
  {
   "cell_type": "code",
   "execution_count": null,
   "id": "d6fb5bca",
   "metadata": {},
   "outputs": [],
   "source": [
    "df_tmp = (\n",
    "    gr.df_make(x=gr.linspace(0, 2, 100))\n",
    "    >> gr.tf_mutate(d=mg_lognorm.d(DF.x))\n",
    ")\n",
    "\n",
    "(\n",
    "    df_tmp\n",
    "    >> gr.ggplot(gr.aes(\"x\", \"d\"))\n",
    "    + gr.geom_line()\n",
    "    + gr.geom_ribbon(\n",
    "        data=df_tmp\n",
    "        >> gr.tf_filter(0.5 <= DF.x, DF.x <= 0.7),\n",
    "        mapping=gr.aes(ymin=0, ymax=\"d\"),\n",
    "        fill=\"salmon\",\n",
    "        color=None,\n",
    "    )\n",
    ")"
   ]
  },
  {
   "cell_type": "markdown",
   "id": "02a28c8b",
   "metadata": {},
   "source": [
    "Note that probability is associated with a *set*---a range of values---not just a single value. Note that the area under the curve for a single value would have zero width, hence zero probability!\n"
   ]
  },
  {
   "cell_type": "code",
   "execution_count": null,
   "id": "97e3b835",
   "metadata": {},
   "outputs": [],
   "source": [
    "df_tmp = (\n",
    "    gr.df_make(x=gr.linspace(0, 2, 101))\n",
    "    >> gr.tf_mutate(d=mg_lognorm.d(DF.x))\n",
    ")\n",
    "\n",
    "(\n",
    "    df_tmp\n",
    "    >> gr.ggplot(gr.aes(\"x\", \"d\"))\n",
    "    + gr.geom_line()\n",
    "    + gr.geom_segment(\n",
    "        data=df_tmp\n",
    "        >> gr.tf_filter(DF.x == gr.median(DF.x)),\n",
    "        mapping=gr.aes(xend=\"x\", yend=0),\n",
    "        color=\"salmon\",\n",
    "    )\n",
    ")"
   ]
  },
  {
   "cell_type": "markdown",
   "id": "c56734f2",
   "metadata": {},
   "source": [
    "A more mathematical definition for probability is in terms of the expectation\n",
    "\n",
    "$$\\mathbb{P}[X \\in A] = \\mathbb{E}[1(X \\in A)]$$\n",
    "\n",
    "where $1(X \\in A)$ is the *indicator function*, which is just a fancy way of tracking whether or not a point lands in the set $A$. The function takes values $1,0$ depending on whether or not a value $X$ lands inside the set $A$.\n",
    "\n",
    "$$1(X \\in A) = \\left\\{\\begin{array}{cc} 1 & \\text{ if }X \\in A \\\\ 0 & \\text{ otherwise}\\end{array}\\right.$$\n",
    "\n",
    "This expectation definition is not just math for its own sake; this expectation of the indicator definition is **easy to translate into computer code**.\n"
   ]
  },
  {
   "cell_type": "markdown",
   "id": "25879110",
   "metadata": {},
   "source": [
    "### __qX__ Compute an indicator\n"
   ]
  },
  {
   "cell_type": "code",
   "execution_count": null,
   "id": "99885508",
   "metadata": {},
   "outputs": [],
   "source": [
    "\n",
    "\n",
    "df_ind = (\n",
    "    gr.df_make(x=mg_lognorm.r(100))\n",
    "    ## Compute the indicator function, call it \"ind\"\n",
    "\n",
    ")\n",
    "\n",
    "# NOTE: No need to edit; use this to check your work\n",
    "assert \\\n",
    "    \"ind\" in df_ind.columns, \\\n",
    "    \"The result df_ind does not have an indicator column `ind`\"\n",
    "\n",
    "assert \\\n",
    "    (all(df_ind.ind == (df_ind.x <= 1))), \\\n",
    "    \"Your indicator column `ind` is incorrect.\""
   ]
  },
  {
   "cell_type": "markdown",
   "id": "10dfd88d",
   "metadata": {},
   "source": [
    "### __qX__ Estimate a probability\n"
   ]
  },
  {
   "cell_type": "code",
   "execution_count": null,
   "id": "5a70d4d7",
   "metadata": {},
   "outputs": [],
   "source": [
    "(\n",
    "    df_ind\n",
    "\n",
    ")"
   ]
  },
  {
   "cell_type": "markdown",
   "id": "660ddd09",
   "metadata": {},
   "source": [
    "### __qX__ Estimate a probability of failure\n"
   ]
  },
  {
   "cell_type": "markdown",
   "id": "3adff4ed",
   "metadata": {},
   "source": [
    "## Quantiles\n",
    "\n",
    "Quantiles \"turn around\" the idea of probability. With probability we start with a set $A$ and arrive at a probability value $p$. With a *quantile* we start with a probability value $p$ and arrive at a single value $q$.\n"
   ]
  },
  {
   "cell_type": "markdown",
   "id": "cee4c2c3",
   "metadata": {},
   "source": [
    "### __qX__ Compute a quantile\n"
   ]
  },
  {
   "cell_type": "code",
   "execution_count": null,
   "id": "2bda0bd6",
   "metadata": {},
   "outputs": [],
   "source": [
    "q_10 = None\n",
    "q_50 = None\n",
    "\n",
    "\n",
    "# NOTE: No need to edit; use this to check your work\n",
    "(\n",
    "    gr.df_make(x=mg_lognorm.r(1000))\n",
    "    >> gr.tf_summarize(\n",
    "        pr_10=gr.mean(DF.x <= q_10), # Should be around 0.10\n",
    "        pr_50=gr.mean(DF.x <= q_50), # Should be around 0.50\n",
    "    )\n",
    ")"
   ]
  },
  {
   "cell_type": "markdown",
   "id": "39a0c5b5",
   "metadata": {},
   "source": [
    "### __qX__ Estimate a conservative strength\n"
   ]
  },
  {
   "cell_type": "code",
   "execution_count": null,
   "id": "1dc129d3",
   "metadata": {},
   "outputs": [],
   "source": [
    "(\n",
    "    df_shewhart \n",
    "\n",
    ")"
   ]
  },
  {
   "cell_type": "markdown",
   "id": "35f96005",
   "metadata": {},
   "source": [
    "*Observations*\n",
    "\n",
    "- Suppose the observed variability in the `tensile_strength` is real. Which of `mean` or `lower` is safer to use for design purposes? Why?\n",
    "  - (Your response here)\n"
   ]
  }
 ],
 "metadata": {
  "kernelspec": {
   "display_name": "Python 3 (ipykernel)",
   "language": "python",
   "name": "python3"
  },
  "language_info": {
   "codemirror_mode": {
    "name": "ipython",
    "version": 3
   },
   "file_extension": ".py",
   "mimetype": "text/x-python",
   "name": "python",
   "nbconvert_exporter": "python",
   "pygments_lexer": "ipython3",
   "version": "3.9.7"
  }
 },
 "nbformat": 4,
 "nbformat_minor": 5
}
