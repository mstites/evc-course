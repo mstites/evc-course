{
 "cells": [
  {
   "cell_type": "markdown",
   "id": "faa9e1fb",
   "metadata": {},
   "source": [
    "# Grama Model Evaluation\n",
    "\n",
    "*Purpose*: Once we've done the hard work of building a grama model, we can use a variety of tools to use the model. Evaluations are core to using grama.\n",
    "\n",
    "### TODO \n"
   ]
  },
  {
   "cell_type": "markdown",
   "id": "4e53170c",
   "metadata": {},
   "source": [
    "## Setup\n"
   ]
  },
  {
   "cell_type": "code",
   "execution_count": null,
   "id": "55b812e9",
   "metadata": {},
   "outputs": [],
   "source": [
    "import grama as gr\n",
    "DF = gr.Intention()\n",
    "%matplotlib inline"
   ]
  },
  {
   "cell_type": "markdown",
   "id": "303bcba1",
   "metadata": {},
   "source": [
    "To focus this exercise on using models, let's load up a model to play with:\n"
   ]
  },
  {
   "cell_type": "code",
   "execution_count": null,
   "id": "4a73a74d",
   "metadata": {},
   "outputs": [],
   "source": [
    "from grama.models import make_plate_buckle\n",
    "md_plate = make_plate_buckle()"
   ]
  },
  {
   "cell_type": "markdown",
   "id": "8927e3bd",
   "metadata": {},
   "source": [
    "# Evaluation\n",
    "\n",
    "Recall that there are four classes of verb in grama; *evaluation* verbs take a model as an input and produce data as an output. Once we've generated that data, we can use visualization and other data tools to learn something about the model.\n"
   ]
  },
  {
   "cell_type": "markdown",
   "id": "7df9c1df",
   "metadata": {},
   "source": [
    "\n",
    "![Grama verb class diagram](./images/verb-classes.png)\n"
   ]
  },
  {
   "cell_type": "markdown",
   "id": "fc4406cc",
   "metadata": {},
   "source": [
    "# Manual Input Values\n",
    "\n",
    "There are two core evaluations---`ev_df()` and `tf_md()`---that require us to specify all the input values. These are manual but fundamental tools for working with a model.\n",
    "\n",
    "## DataFrame evaluation `ev_df()`\n",
    "\n",
    "As the prefix implies, `ev_df()` takes a model as an input and returns data as an output. Since we need to specify all model input values, it is most convenient to pair `ev_df()` with the DataFrame constructor `df_make()`. Let's talk about some practical considerations when putting these tools together.\n"
   ]
  },
  {
   "cell_type": "markdown",
   "id": "c4591d68",
   "metadata": {},
   "source": [
    "### __qX__ Set the input values\n"
   ]
  },
  {
   "cell_type": "code",
   "execution_count": null,
   "id": "f075e1d1",
   "metadata": {},
   "outputs": [],
   "source": [
    "# TASK: Complete the following code\n",
    "(\n",
    "    md_plate\n",
    "\n",
    ")"
   ]
  },
  {
   "cell_type": "markdown",
   "id": "e06c2a7e",
   "metadata": {},
   "source": [
    "## Evaluation as transformation `tf_md()`\n",
    "\n",
    "### TODO\n"
   ]
  },
  {
   "cell_type": "code",
   "execution_count": null,
   "id": "1cd980a3",
   "metadata": {},
   "outputs": [],
   "source": [
    "from grama.data import df_stang\n",
    "df_stang.head(6)"
   ]
  },
  {
   "cell_type": "markdown",
   "id": "0a8eaa64",
   "metadata": {
    "tags": []
   },
   "source": [
    "### __qX__ Use a model as a transform\n"
   ]
  },
  {
   "cell_type": "code",
   "execution_count": null,
   "id": "886779b0",
   "metadata": {},
   "outputs": [],
   "source": [
    "(\n",
    "    df_stang\n",
    "    >> gr.tf_mutate(\n",
    "        m=1,\n",
    "        L=0.001,\n",
    "        t=0.06,\n",
    "        h=12,\n",
    "        w=12,\n",
    "    )\n",
    "\n",
    ")"
   ]
  },
  {
   "cell_type": "markdown",
   "id": "f965ff92",
   "metadata": {},
   "source": [
    "# Mixed Manual & Automatic\n",
    "\n",
    "## Nominal Evaluation\n"
   ]
  },
  {
   "cell_type": "markdown",
   "id": "32259dcc",
   "metadata": {},
   "source": [
    "### __qX__ Evaluate at nominal values\n"
   ]
  },
  {
   "cell_type": "code",
   "execution_count": null,
   "id": "9a148e78",
   "metadata": {},
   "outputs": [],
   "source": [
    "(\n",
    "    md_plate\n",
    "\n",
    ")"
   ]
  },
  {
   "cell_type": "markdown",
   "id": "87c7086b",
   "metadata": {},
   "source": [
    "*Observations*\n",
    "\n",
    "- ...\n",
    "  - (Your response here)\n"
   ]
  },
  {
   "cell_type": "markdown",
   "id": "397765af",
   "metadata": {},
   "source": [
    "### __qX__ Sweep key variables\n"
   ]
  },
  {
   "cell_type": "code",
   "execution_count": null,
   "id": "a77c06b3",
   "metadata": {},
   "outputs": [],
   "source": [
    "(\n",
    "    md_plate\n",
    "    >> gr.ev_nominal(\n",
    "        df_det=gr.df_grid(\n",
    "            w=12,\n",
    "            t=1/32,\n",
    "            L=0.0016,\n",
    "\n",
    "        )\n",
    "    )\n",
    "    \n",
    "    >> gr.ggplot(gr.aes(\"h\", \"g_buckle\"))\n",
    "    + gr.geom_line(gr.aes(color=\"factor(m)\"))\n",
    ")"
   ]
  },
  {
   "cell_type": "markdown",
   "id": "dc619d0f",
   "metadata": {},
   "source": [
    "*Observations*\n",
    "\n",
    "- ...\n",
    "  - (Your response here)\n"
   ]
  },
  {
   "cell_type": "markdown",
   "id": "4df6ab05",
   "metadata": {},
   "source": [
    "## Random Sampling\n"
   ]
  },
  {
   "cell_type": "markdown",
   "id": "13505ec6",
   "metadata": {},
   "source": [
    "### __qX__ Evaluate a simple random sample\n",
    "\n",
    "\n"
   ]
  },
  {
   "cell_type": "code",
   "execution_count": null,
   "id": "fd3e23e0",
   "metadata": {},
   "outputs": [],
   "source": [
    "(\n",
    "    md_plate\n",
    "\n",
    ")"
   ]
  },
  {
   "cell_type": "markdown",
   "id": "53531e5c",
   "metadata": {},
   "source": [
    "*Observations*\n",
    "\n",
    "- ...\n",
    "  - (Your response here)\n"
   ]
  },
  {
   "cell_type": "markdown",
   "id": "32d8ef27",
   "metadata": {},
   "source": [
    "### __qX__ Skip evaluation\n"
   ]
  },
  {
   "cell_type": "code",
   "execution_count": null,
   "id": "9bc71cbd",
   "metadata": {},
   "outputs": [],
   "source": [
    "(\n",
    "    md_plate\n",
    "    >> gr.ev_sample(\n",
    "        n=1e2, \n",
    "        df_det=\"nom\",\n",
    "\n",
    "    )\n",
    "    \n",
    "    # NOTE: No need to edit\n",
    "    >> gr.pt_auto()\n",
    ")"
   ]
  },
  {
   "cell_type": "markdown",
   "id": "1acecf71",
   "metadata": {},
   "source": [
    "*Observations*\n",
    "\n",
    "- ...\n",
    "  - (Your response here)\n"
   ]
  },
  {
   "cell_type": "markdown",
   "id": "ab8a8443",
   "metadata": {},
   "source": [
    "### __qX__ Sweeps with sampling\n"
   ]
  },
  {
   "cell_type": "code",
   "execution_count": null,
   "id": "1616b849",
   "metadata": {},
   "outputs": [],
   "source": [
    "(\n",
    "    md_plate\n",
    "    # Uncomment, replace ev_nominal() with ev_sample(),\n",
    "    # adjust the arguments to ev_sample()\n",
    "    # >> gr.ev_nominal(\n",
    "    #     df_det=gr.df_grid(\n",
    "    #         w=12,\n",
    "    #         t=1/32,\n",
    "    #         L=0.0016,\n",
    "    #         m=[1, 2, 3],\n",
    "    #         h=gr.linspace(6, 12, 10)\n",
    "    #     )\n",
    "    # )\n",
    "\n",
    "    \n",
    "    ## NOTE: No need to edit below; use to inspect results\n",
    "    # Compute low, middle, high values at each m, h\n",
    "    >> gr.tf_group_by(DF.m, DF.h)\n",
    "    >> gr.tf_summarize(\n",
    "        g_lo=gr.quant(DF.g_buckle, p=0.25),\n",
    "        g_mu=gr.median(DF.g_buckle),\n",
    "        g_hi=gr.quant(DF.g_buckle, p=0.75),\n",
    "    )\n",
    "    # Visualize\n",
    "    >> gr.ggplot(gr.aes(\"h\", \"g_mu\", color=\"factor(m)\"))\n",
    "    + gr.geom_ribbon(gr.aes(ymin=\"g_lo\", ymax=\"g_hi\"), fill=None)\n",
    "    + gr.geom_line()\n",
    ")"
   ]
  },
  {
   "cell_type": "markdown",
   "id": "ba4516a2",
   "metadata": {},
   "source": [
    "*Observations*\n",
    "\n",
    "- ...\n",
    "  - (Your response here)\n"
   ]
  },
  {
   "cell_type": "markdown",
   "id": "99a83ed8",
   "metadata": {},
   "source": [
    "# Automatic Input Values\n",
    "\n",
    "## Contour Evaluation\n"
   ]
  },
  {
   "cell_type": "markdown",
   "id": "f3947aea",
   "metadata": {},
   "source": [
    "### __qX__ Visualize function contours\n"
   ]
  },
  {
   "cell_type": "code",
   "execution_count": null,
   "id": "efc91557",
   "metadata": {},
   "outputs": [],
   "source": [
    "# TASK: Complete the contour evaluation arguments\n",
    "(\n",
    "    # NOTE: No need to edit this model\n",
    "    gr.Model(\"Contour Demo\")\n",
    "    >> gr.cp_vec_function(\n",
    "        fun=lambda df: gr.df_make(\n",
    "            f=df.x**2 + df.y**2,\n",
    "            g=df.x + df.y,\n",
    "        ),\n",
    "        var=[\"x\", \"y\"],\n",
    "        out=[\"f\", \"g\"],\n",
    "    )\n",
    "    >> gr.cp_bounds(\n",
    "        x=(-1, +1),\n",
    "        y=(-1, +1),\n",
    "    )\n",
    "    \n",
    "    # TASK: Complete the arguments for ev_contour()\n",
    "    >> gr.ev_contour(\n",
    "        # HINT: Use Shift+Tab to consult the documentation\n",
    "\n",
    "    )\n",
    "    \n",
    "    # NOTE: No need to edit; use to visualize\n",
    "    >> gr.pt_auto()\n",
    ")"
   ]
  },
  {
   "cell_type": "markdown",
   "id": "253799e6",
   "metadata": {},
   "source": [
    "*Observations*\n",
    "\n",
    "- ...\n",
    "  - (Your response here)\n"
   ]
  },
  {
   "cell_type": "markdown",
   "id": "3ce7f41b",
   "metadata": {},
   "source": [
    "### __qX__ Find specific contour levels\n",
    "\n",
    "Use `gr.ev_contour()` to find the contour of `g` that is tangent to the contour where `f == 1`.\n"
   ]
  },
  {
   "cell_type": "code",
   "execution_count": null,
   "id": "1c0b73ab",
   "metadata": {},
   "outputs": [],
   "source": [
    "# TASK: Find the tangent contour of `g`\n",
    "df_contour = (\n",
    "    # NOTE: No need to edit this model\n",
    "    gr.Model(\"Contour Demo\")\n",
    "    >> gr.cp_vec_function(\n",
    "        fun=lambda df: gr.df_make(\n",
    "            f=df.x**2 + df.y**2,\n",
    "            g=df.x + df.y,\n",
    "        ),\n",
    "        var=[\"x\", \"y\"],\n",
    "        out=[\"f\", \"g\"],\n",
    "    )\n",
    "    >> gr.cp_bounds(\n",
    "        x=(0, +1),\n",
    "        y=(0, +1),\n",
    "    )\n",
    "    \n",
    "    # TASK: Use specific levels to find the tangent\n",
    "    >> gr.ev_contour(\n",
    "        var=[\"x\", \"y\"],\n",
    "        out=[\"f\", \"g\"],\n",
    "        # HINT: Use Shift+Tab to consult the documentation\n",
    "\n",
    "    )\n",
    ")\n",
    "\n",
    "# NOTE: No need to edit; use to visualize\n",
    "gr.plot_auto(df_contour)"
   ]
  },
  {
   "cell_type": "markdown",
   "id": "0d6026af",
   "metadata": {},
   "source": [
    "## Constrained Minimization\n"
   ]
  },
  {
   "cell_type": "code",
   "execution_count": null,
   "id": "6819f587",
   "metadata": {},
   "outputs": [],
   "source": [
    "# NOTE: No need to edit\n",
    "df_opt = (\n",
    "    # Set up a model\n",
    "    gr.Model(\"Contour Demo\")\n",
    "    >> gr.cp_vec_function(\n",
    "        fun=lambda df: gr.df_make(\n",
    "            f=df.x**2 + df.y**2,\n",
    "            g=df.x + df.y - 1.42,\n",
    "        ),\n",
    "        var=[\"x\", \"y\"],\n",
    "        out=[\"f\", \"g\"],\n",
    "    )\n",
    "    >> gr.cp_bounds(\n",
    "        x=(0, +1),\n",
    "        y=(0, +1),\n",
    "    )\n",
    "    \n",
    "    # Minimize the objective with a constraint\n",
    "    >> gr.ev_min(\n",
    "        out_min=\"f\",\n",
    "        out_geq=[\"g\"],\n",
    "    )\n",
    ")\n",
    "\n",
    "df_opt"
   ]
  },
  {
   "cell_type": "markdown",
   "id": "ae8d5ce5",
   "metadata": {},
   "source": []
  },
  {
   "cell_type": "code",
   "execution_count": null,
   "id": "83e27c52",
   "metadata": {},
   "outputs": [],
   "source": [
    "# NOTE: No need to edit; this visualizes the optimization results\n",
    "# in the context of the contour data\n",
    "(\n",
    "    df_contour\n",
    "    >> gr.ggplot(gr.aes(\"x\", \"y\"))\n",
    "    + gr.geom_segment(\n",
    "        gr.aes(\n",
    "            xend=\"x_end\", \n",
    "            yend=\"y_end\",\n",
    "            color=\"level\",\n",
    "            linetype=\"out\",\n",
    "          )\n",
    "    )\n",
    "    + gr.geom_point(data=df_opt, size=4)\n",
    ")"
   ]
  },
  {
   "cell_type": "markdown",
   "id": "c351091b",
   "metadata": {
    "jp-MarkdownHeadingCollapsed": true,
    "tags": []
   },
   "source": [
    "# List of evaluation routines\n",
    "\n",
    "| Verb | Input values | Description |\n",
    "|------|-------|-------------|\n",
    "| `ev_df()` | Manual | DataFrame evaluation |\n",
    "| `tf_md()` | Manual | Model as transformation |\n",
    "| `ev_nominal()` | Mixed | Nominal values for random inputs |\n",
    "| `ev_sample()` | Mixed | Random values for random inputs |\n",
    "| `ev_conservative()` | Mixed | Conservative values for random inputs |\n",
    "| `ev_contour()` | Auto | Generate contour plot data |\n",
    "| `ev_sinews()` | Auto | Generate sinew plot data |\n",
    "| `ev_min()` | Auto | Constrained minimization |\n"
   ]
  }
 ],
 "metadata": {
  "kernelspec": {
   "display_name": "Python 3 (ipykernel)",
   "language": "python",
   "name": "python3"
  },
  "language_info": {
   "codemirror_mode": {
    "name": "ipython",
    "version": 3
   },
   "file_extension": ".py",
   "mimetype": "text/x-python",
   "name": "python",
   "nbconvert_exporter": "python",
   "pygments_lexer": "ipython3",
   "version": "3.9.7"
  }
 },
 "nbformat": 4,
 "nbformat_minor": 5
}
