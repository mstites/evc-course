{
 "cells": [
  {
   "cell_type": "markdown",
   "id": "b03c9884",
   "metadata": {},
   "source": [
    "# Grama Basics\n",
    "\n",
    "*Purpose*: We will make use of the grama package to work with *models*, which will give us a powerful toolkit to explore and make sense of physical scenarios. To that end, in this exercise we'll go through a brief introduction to the grama package.\n"
   ]
  },
  {
   "cell_type": "markdown",
   "id": "aa6f30f5",
   "metadata": {},
   "source": [
    "## Setup\n"
   ]
  },
  {
   "cell_type": "code",
   "execution_count": null,
   "id": "fc3895a0",
   "metadata": {},
   "outputs": [],
   "source": [
    "import grama as gr\n",
    "DF = gr.Intention()\n",
    "%matplotlib inline"
   ]
  },
  {
   "cell_type": "markdown",
   "id": "ddc5d5a3",
   "metadata": {},
   "source": [
    "# Grama Verbs\n",
    "\n",
    "Grama is organized around two object classes and four verb classes: The objects are\n",
    "\n",
    "- Data (`df`), as represented by a `pd.DataFrame`: Represents observations from physical experiments, simulations from models, and so on.\n",
    "- Models (`md`), as represented by a `gr.Model`: Represents a model, including inputs, functions providing outputs, and uncertainties.\n",
    "\n",
    "The four verb classes allow us to move between the two object types, as summarized in the image below:\n"
   ]
  },
  {
   "cell_type": "markdown",
   "id": "f015422f",
   "metadata": {},
   "source": [
    "\n",
    "![Grama verb class diagram](./images/verb-classes.png)\n"
   ]
  },
  {
   "cell_type": "markdown",
   "id": "9389df75",
   "metadata": {},
   "source": [
    "## Verb Classes\n",
    "\n",
    "Functions in grama are best thought of as \"verbs\": functions that perform a specified action. The verb classes map between data and models. Every grama verb starts with a two-letter prefix, which gives us a hint as to how the verbs should be used. We've already seen a variety of transformation `tf_*` verbs for working with data. There are four primary verb classes, with an additional class for plotting.\n",
    "\n",
    "| Class | Prefix | In | Out |\n",
    "|-------|--------|----|-----|\n",
    "| Transform | `tf_*` | `df` | `df` |\n",
    "| Composition | `cp_*` | `md` | `md` |\n",
    "| Fitting | `ft_*` | `df` | `md` |\n",
    "| Evaluation | `ev_*` | `md` | `df` |\n",
    "| Plotting | `pt_*` | `df` | (Plot) |\n"
   ]
  },
  {
   "cell_type": "markdown",
   "id": "5a9612c9",
   "metadata": {},
   "source": [
    "# Working with (Grama) models\n",
    "\n",
    "Grama is best-explained by way of a simple example. The following code initializes a grama model for a [cantilever beam](https://en.wikipedia.org/wiki/Cantilever). There is a large amount of mathematical theory about cantilever beams, but we will ignore most of that theory for the moment.\n"
   ]
  },
  {
   "cell_type": "code",
   "execution_count": null,
   "id": "24ab0429",
   "metadata": {},
   "outputs": [],
   "source": [
    "from grama.models import make_cantilever_beam\n",
    "md_beam = make_cantilever_beam()"
   ]
  },
  {
   "cell_type": "markdown",
   "id": "780b147e",
   "metadata": {},
   "source": [
    "## Model summary\n",
    "\n",
    "Grama models contain a large amount of mathematical structure. Evaluation `ev_*` verbs help us make use of that structure to generate data that we can mine for insights. However, before we can start evaluating a model, we need to know some basic facts about it. To that end, let's take a look at a *summary* of the example beam model.\n"
   ]
  },
  {
   "cell_type": "markdown",
   "id": "801ddd1d",
   "metadata": {},
   "source": [
    "### __q1__ Inspect a model summary\n",
    "\n",
    "Printing the model gives a high-level summary of the model. Run the code below, and answer the questions under *observations* below.\n"
   ]
  },
  {
   "cell_type": "code",
   "execution_count": null,
   "id": "dabeb513",
   "metadata": {},
   "outputs": [],
   "source": [
    "# TASK: No need to edit; run and inspect\n",
    "md_beam"
   ]
  },
  {
   "cell_type": "markdown",
   "id": "b04097cc",
   "metadata": {},
   "source": [
    "*Observations*\n",
    "\n",
    "- What input variables `inputs` does the model have?\n",
    "  - (Your response here)\n",
    "- Which variables are deterministic `det`?\n",
    "  - (Your response here)\n",
    "- Which variables are random `rand`?\n",
    "  - (Your response here)\n",
    "- What functions does the model have?\n",
    "  - (Your response here)\n",
    "- What outputs do those functions provide?\n",
    "  - (Your response here)\n"
   ]
  },
  {
   "cell_type": "markdown",
   "id": "829f6daa",
   "metadata": {},
   "source": [
    "## Importance of context\n",
    "\n",
    "Models are much more than *just* mathematical statements; they are used in a particular context. Grama has no way to store the infinite complexities of context in something as rigid as computer code. Thus, when interpreting the results from a model, it is important for the analyst to keep track of this context.\n",
    "\n",
    "One basic way to record context is to tabulate facts about the inputs and outputs of a model. While this is a small *subset* of the full model context, it is an important subset.\n",
    "\n",
    "| Symb. | I/O | Meaning | Units | Meaning |\n",
    "|-------|-----|---------|-------|---------|\n",
    "| `t`   | Input | Beam cross-section height | in | A taller beam resists more vertical load |\n",
    "| `w`   | Input | Beam cross-section width  | in | A wider beam resists more horizontal load |\n",
    "| `H`   | Input | Tip horizontal force      | lbf | A greater forces leads to higher stress and displacement |\n",
    "| `V`   | Input | Tip vertical force        | lbf | A greater forces leads to higher stress and displacement |\n",
    "| `E`   | Input | Elasticity                | psi | A stiffer beam (greater `E`) better resists displacement |\n",
    "| `Y`   | Input | Yield strength            | psi | A higher strength better resists stress |\n",
    "|-------|------|---------------------------|-----|------------------------------------------|\n",
    "| `c_area` | Output | Beam cross-section area | in^2 | A larger beam weights more |\n",
    "| `g_stress` | Output | Maximum stress failure criterion | (-) | Stress failure can lead to structure collapse |\n",
    "| `g_disp` | Output | Tip displacement failure criterion | in | Excessive deformation leads to misalignment |\n",
    "\n",
    "It is also important to note that the failure criteria are formulated such that `g > 0` corresponds to success, and `g <= 0` corresponds to failure.\n",
    "\n",
    "With this bit of context, we can make more sense of results from the model.\n"
   ]
  },
  {
   "cell_type": "markdown",
   "id": "42de1d4c",
   "metadata": {},
   "source": [
    "## Generate data from a model\n",
    "\n",
    "The philosophy behind grama is to generate data from a model and study that data to gain insights about the model. We'll practice this data generation in the next few tasks. First, let's print the model summary again to help with the next task:\n"
   ]
  },
  {
   "cell_type": "code",
   "execution_count": null,
   "id": "c378042d",
   "metadata": {},
   "outputs": [],
   "source": [
    "# NOTE: No need to edit; us this for reference for the next task\n",
    "md_beam"
   ]
  },
  {
   "cell_type": "markdown",
   "id": "00e9b1f1",
   "metadata": {},
   "source": [
    "### __q2__ DataFrame evaluation\n",
    "\n",
    "The following code attempts to evaluate the model at specified input values. However, the code has errors. Fix the code below by specifying values for the missing inputs.\n"
   ]
  },
  {
   "cell_type": "code",
   "execution_count": null,
   "id": "5dfd6e0f",
   "metadata": {},
   "outputs": [],
   "source": [
    "# TASK: Add values for the missing variables\n",
    "(\n",
    "    md_beam\n",
    "    >> gr.ev_df(\n",
    "        df=gr.df_make(\n",
    "            Y=4e4,\n",
    "            V=1e3,\n",
    "            E=29e7,\n",
    "            H=5e2,\n",
    "            # Add values for the missing variables\n",
    "            # See the summary above for reasonable values\n",
    "\n",
    "        )\n",
    "    )\n",
    ")"
   ]
  },
  {
   "cell_type": "markdown",
   "id": "68167cda",
   "metadata": {},
   "source": [
    "The verb `gr.ev_df()` is a very basic evaluation where we have to specify values for every input. However, there are other evaluation verbs that make intelligent choices for us.\n"
   ]
  },
  {
   "cell_type": "markdown",
   "id": "aa2ab570",
   "metadata": {},
   "source": [
    "### __q3__ Sinew evaluation\n",
    "\n",
    "Use the verb `gr.ev_sinews()` to generate \"sweep\" data from the beam model at **nominal** levels for the deterministic inputs. You will need to specify one short keyword argument to complete this task.\n",
    "\n",
    "*Hint*: Remember that you can put your cursor inside a function's arguments in a code cell and press `Shift + Tab` to bring up the documentation. Use this to determine how to set nominal levels for the deterministic variables.\n"
   ]
  },
  {
   "cell_type": "code",
   "execution_count": null,
   "id": "967b3889",
   "metadata": {},
   "outputs": [],
   "source": [
    "# TASK: Successfully call gr.ev_sinews() with nominal levels for the deterministic variables\n",
    "(\n",
    "    md_beam\n",
    "\n",
    ")"
   ]
  },
  {
   "cell_type": "markdown",
   "id": "f77f408e",
   "metadata": {},
   "source": [
    "A \"sinew\" evaluation sweeps across input variables while holding the other variables constant. This process is repeated for multiple starting points and for each input variable. We can get a sense for the input values that `gr.ev_sinews()` selects by visualizing part of the input space. The following shows a scatterplot for two of the variables:\n"
   ]
  },
  {
   "cell_type": "code",
   "execution_count": null,
   "id": "242d809f",
   "metadata": {},
   "outputs": [],
   "source": [
    "# NOTE: No need to edit; run and inspect\n",
    "(\n",
    "    md_beam\n",
    "    >> gr.ev_sinews(df_det=\"nom\")\n",
    "    \n",
    "    >> gr.ggplot(gr.aes(\"V\", \"H\", color=\"factor(sweep_ind)\"))\n",
    "    + gr.geom_point()\n",
    ")"
   ]
  },
  {
   "cell_type": "markdown",
   "id": "e907cec6",
   "metadata": {},
   "source": [
    "Note that for each sweep (identified by `sweep_ind`) we see a \"cross\" emanating from a single point outwards, parallel to both coordinate axes. This process is repeated for every input variable in order to generate the data.\n"
   ]
  },
  {
   "cell_type": "markdown",
   "id": "2523a460",
   "metadata": {},
   "source": [
    "## Visualize data from a model\n",
    "\n",
    "Generating data is only part of working with a model; we must also *study* the data to make sense of it. One of the best ways to study data is to visualize it. We can make manual plots with `ggplot()`, but grama provides a much quicker way: Many evaluation verbs work with the special verb `gr.pt_auto()` to generate a sensible default visualization.\n"
   ]
  },
  {
   "cell_type": "markdown",
   "id": "4eb8bbc6",
   "metadata": {},
   "source": [
    "### __q4__ Visualize sinew evaluation data\n",
    "\n",
    "Use the `gr.pt_auto()` routine to visualize the outputs from the sinew evaluation. Answer the questions under *observations* below.\n"
   ]
  },
  {
   "cell_type": "code",
   "execution_count": null,
   "id": "92e7724d",
   "metadata": {},
   "outputs": [],
   "source": [
    "# TASK: Use gr.pt_auto() to visualize the sinew data\n",
    "(\n",
    "    md_beam\n",
    "    >> gr.ev_sinews(df_det=\"nom\")\n",
    "\n",
    ")"
   ]
  },
  {
   "cell_type": "markdown",
   "id": "6672a71a",
   "metadata": {},
   "source": [
    "*Observations*\n",
    "\n",
    "- Do any inputs affect the output `c_area`? What about `w` or `t`? How do you know? (Or *not* know?)\n",
    "  - (Your response here)\n",
    "- Does the input `Y` affect the output `g_disp`? How do you know?\n",
    "  - (Your response here)\n",
    "- Does the input `E` increase or decrease `g_disp`?\n",
    "  - (Your response here)\n"
   ]
  },
  {
   "cell_type": "markdown",
   "id": "acd7c318",
   "metadata": {},
   "source": [
    "# Where this course is going\n",
    "\n",
    "This was just a *brief* introduction to how grama works and what it can do. The rest of this course is about learning tools to make full use of the grama toolkit. The exercises in this course are organized into four different categories (`grama`, `data`, `vis`, and `stat`) that represent four broad areas of working with grama:\n"
   ]
  },
  {
   "cell_type": "markdown",
   "id": "55e86a7a",
   "metadata": {},
   "source": [
    "## Build, evaluate, and understand a model with grama (`grama`)\n",
    "\n",
    "We will learn tools to build and sanity-check models using grama. This will involve more evaluation and visualization tools to make sense of models, but also probabilistic tools to build models that encode our uncertainties about a scenario.\n"
   ]
  },
  {
   "cell_type": "markdown",
   "id": "759e1e12",
   "metadata": {},
   "source": [
    "## Wrangle data (`data`)\n",
    "\n",
    "To manage the data outputs from grama models, we will learn a variety of general-purpose wrangling tools. These will help us work with grama models, but the same tools are useful for **any** dataset.\n"
   ]
  },
  {
   "cell_type": "markdown",
   "id": "f7bfb2a6",
   "metadata": {},
   "source": [
    "## Visualize data to gain insights (`vis`)\n",
    "\n",
    "To make sense of data, we will learn a variety of visualization techniques. These will help us gain insights into grama models, but the same techniques are useful for **any** dataset.\n"
   ]
  },
  {
   "cell_type": "markdown",
   "id": "498613ad",
   "metadata": {},
   "source": [
    "## Use statistics to quantify uncertainty (`stat`)\n",
    "\n",
    "Datasets are always limited and models inherently include uncertainties. Statistics will allow us to *quantify* these uncertainties and make informed decisions using data and models.\n"
   ]
  }
 ],
 "metadata": {
  "kernelspec": {
   "display_name": "Python 3 (ipykernel)",
   "language": "python",
   "name": "python3"
  },
  "language_info": {
   "codemirror_mode": {
    "name": "ipython",
    "version": 3
   },
   "file_extension": ".py",
   "mimetype": "text/x-python",
   "name": "python",
   "nbconvert_exporter": "python",
   "pygments_lexer": "ipython3",
   "version": "3.9.7"
  }
 },
 "nbformat": 4,
 "nbformat_minor": 5
}
