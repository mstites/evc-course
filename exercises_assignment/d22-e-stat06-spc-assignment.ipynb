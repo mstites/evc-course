{
 "cells": [
  {
   "cell_type": "markdown",
   "id": "f33e0f0c",
   "metadata": {},
   "source": [
    "# Statistical Process Control (SPC) Basics\n",
    "\n",
    "*Purpose*: \n"
   ]
  },
  {
   "cell_type": "markdown",
   "id": "0247bbda",
   "metadata": {},
   "source": [
    "## Setup\n"
   ]
  },
  {
   "cell_type": "code",
   "execution_count": null,
   "id": "8b96c240",
   "metadata": {},
   "outputs": [],
   "source": [
    "import grama as gr\n",
    "import numpy as np\n",
    "DF = gr.Intention()\n",
    "%matplotlib inline"
   ]
  },
  {
   "cell_type": "markdown",
   "id": "034d5019",
   "metadata": {},
   "source": [
    "# Theory\n"
   ]
  },
  {
   "cell_type": "markdown",
   "id": "2b82e1e0",
   "metadata": {},
   "source": [
    "(It's difficult to tell by-inspection if data are random)\n"
   ]
  },
  {
   "cell_type": "code",
   "execution_count": null,
   "id": "4e7466ea",
   "metadata": {},
   "outputs": [],
   "source": [
    "np.random.seed(102)\n",
    "\n",
    "mg_normal = gr.marg_mom(\"norm\", mean=0, sd=1)\n",
    "df_random = (\n",
    "    gr.df_make(X=mg_normal.r(1000))\n",
    "    >> gr.tf_mutate(idx=DF.index)\n",
    ")\n",
    "\n",
    "(\n",
    "    df_random\n",
    "    >> gr.ggplot(gr.aes(\"idx\", \"X\"))\n",
    "    + gr.geom_point()\n",
    ")"
   ]
  },
  {
   "cell_type": "markdown",
   "id": "57d10cea",
   "metadata": {},
   "source": [
    "- Without some sense of *reasonable limits*, we can't distinguish outliers from the normal highs and lows of randomness.\n",
    "- Without some knowledge of the underlying random process, we cannot define reasonable limits.\n"
   ]
  },
  {
   "cell_type": "markdown",
   "id": "e6541833",
   "metadata": {},
   "source": [
    "Rather than do concentrated staring at random patterns, we can make some *intelligent choices* about grouping observations, and use *batch averages* to set meaningful *control limits*. These ideas combine in a *control chart*; the following plot is our first example of a control chart."
   ]
  },
  {
   "cell_type": "code",
   "execution_count": null,
   "id": "b9a101fd",
   "metadata": {},
   "outputs": [],
   "source": [
    "%%capture --no-display\n",
    "## NOTE: No need to edit\n",
    "\n",
    "(\n",
    "    df_random \n",
    "    ## Group observations into consecutive batches of 10\n",
    "    >> gr.tf_mutate(id_batch=DF.index // 10)\n",
    "    ## Construct an Xbar and S (xbs) chart\n",
    "    >> gr.pt_xbs(group=\"id_batch\", var=\"X\")\n",
    ")"
   ]
  },
  {
   "cell_type": "markdown",
   "id": "f372239c",
   "metadata": {},
   "source": [
    "From this chart, we see no outliers outside the lower control limit (LCL) or upper control limit (UCL). We also don't see any special patterns in the data. Therefore, based on this control chart, we can declare that the process is likely under *statistical control*---that it can be modeled as random.\n"
   ]
  },
  {
   "cell_type": "markdown",
   "id": "739f6baf",
   "metadata": {},
   "source": [
    "## Batch Averages\n",
    "\n",
    "We saw before that the *sample mean* follows the central limit theorem, which tells us about the distribution of the sample mean. Thus taking the average of multiple observations *from the same process* gives us a way to make the underlying distribution more predictable.\n",
    "\n",
    "However, taking the average of *all* observations prevents us from determining *where* an outlier occurred: If the mean of all the data is high, was it the first observation that was large? The last one? Something in the middle?\n",
    "\n",
    "Taking *batch averages* gives us better resolution, while still giving the advantages of the central limit theorem.\n"
   ]
  },
  {
   "cell_type": "markdown",
   "id": "b1cf1893",
   "metadata": {},
   "source": [
    "## Control limits: Confidence Intervals\n"
   ]
  },
  {
   "cell_type": "markdown",
   "id": "400f56bc",
   "metadata": {},
   "source": [
    "## Grouping observations\n",
    "\n",
    "(Should ideally be paired with data collection.)\n"
   ]
  },
  {
   "cell_type": "markdown",
   "id": "cb1a9465",
   "metadata": {},
   "source": [
    "### Natural batches\n"
   ]
  },
  {
   "cell_type": "code",
   "execution_count": null,
   "id": "7e14ee70",
   "metadata": {},
   "outputs": [],
   "source": [
    "## NOTE: No need to edit\n",
    "np.random.seed(101)\n",
    "\n",
    "df_base = gr.df_make(\n",
    "    sd=[0.01, 0.04, 0.01, 0.01, 0.01, 0.01],\n",
    "    ma=[ \"A\",  \"B\",  \"C\",  \"D\",  \"E\",  \"F\"],\n",
    ")\n",
    "mg = gr.marg_mom(\"norm\", mean=0, sd=1)\n",
    "\n",
    "df_machines = gr.df_grid()\n",
    "for i in range(df_base.shape[0]):\n",
    "    df_machines = (\n",
    "        df_machines\n",
    "        >> gr.tf_bind_rows(\n",
    "            gr.df_make(\n",
    "                X=mg.r(15) * df_base.sd[i],\n",
    "                id_machine=df_base.ma[i],\n",
    "            )\n",
    "        )\n",
    "    )\n",
    "# Randomly sort\n",
    "df_machines = (\n",
    "    df_machines\n",
    "    >> gr.tf_sample(frac=1)\n",
    ")\n"
   ]
  },
  {
   "cell_type": "markdown",
   "id": "33474952",
   "metadata": {
    "tags": []
   },
   "source": [
    "### __qX__ Naive consecutive rows\n",
    "\n",
    "Batch the observations in `df_machines` into groups of consecutive observations, and use that grouping to construct a control chart with `gr.pt_xbs()`. Answer the questions under *observations* below.\n",
    "\n",
    "*Hint*: The data above are in a *random* order. Keep that in mind when answering the questions below.\n"
   ]
  },
  {
   "cell_type": "code",
   "execution_count": null,
   "id": "ac077acc",
   "metadata": {},
   "outputs": [],
   "source": [
    "%%capture --no-display\n",
    "(\n",
    "    df_machines\n",
    "    \n",
    ")"
   ]
  },
  {
   "cell_type": "markdown",
   "id": "a7d27173",
   "metadata": {},
   "source": [
    "*Observations*\n",
    "\n",
    "- Based on the batch size you chose, did you find any out-of-control patterns? Did it occur in the `Variability` or batch `Mean`?\n",
    "  - (Your response here)\n",
    "- If you answered \"yes\" to the previous question, does your group variable give you a meaningful way to determine what may have cause the out-of-control pattern?\n",
    "  - (Your response here)\n"
   ]
  },
  {
   "cell_type": "markdown",
   "id": "bc05663c",
   "metadata": {},
   "source": [
    "### __qX__ Batch by machine\n",
    "\n",
    "Construct a control chart using the machine identifier as the `group` variable. Answer the questions under *observations* below.\n"
   ]
  },
  {
   "cell_type": "code",
   "execution_count": null,
   "id": "90579ecc",
   "metadata": {},
   "outputs": [],
   "source": [
    "%%capture --no-display\n",
    "## TODO: Create a control chart grouped by machine\n",
    "(\n",
    "    df_machines\n",
    "    \n",
    ")"
   ]
  },
  {
   "cell_type": "markdown",
   "id": "cc780b22",
   "metadata": {},
   "source": [
    "*Observations*\n",
    "\n",
    "- Based on batching by machine, did you find any out-of-control patterns? Did it occur in the `Variability` or batch `Mean`?\n",
    "  - (Your response here)\n",
    "- If you answered \"yes\" to the previous question, does your group variable give you a meaningful way to determine what may have cause the out-of-control pattern?\n",
    "  - (Your response here)\n"
   ]
  },
  {
   "cell_type": "markdown",
   "id": "7f299499",
   "metadata": {},
   "source": [
    "### Batches in time\n",
    "\n",
    "> A rule of thumb is to use three time periods with 20 to 25 samples of size 50 to 100 units each.\n",
    "\n",
    "The following code simulates 45 samples, where each sample contains 50 observations. This results in `45 * 50 = 2250` observations total.\n"
   ]
  },
  {
   "cell_type": "code",
   "execution_count": null,
   "id": "cee39f30",
   "metadata": {},
   "outputs": [],
   "source": [
    "## NOTE: No need to edit\n",
    "np.random.seed(101)\n",
    "\n",
    "df_base = gr.df_make(\n",
    "    mu=[0]*30 + list(gr.linspace(0, 0.8, 15)),\n",
    ")\n",
    "mg = gr.marg_mom(\"norm\", mean=0, sd=1)\n",
    "\n",
    "df_time = gr.df_grid()\n",
    "for i in range(df_base.shape[0]):\n",
    "    df_time = (\n",
    "        df_time\n",
    "        >> gr.tf_bind_rows(\n",
    "            gr.df_make(X=mg.r(50) + df_base.mu[i])\n",
    "        )\n",
    "    )\n",
    "# Randomly sort\n",
    "df_time = (\n",
    "    df_time\n",
    "    >> gr.tf_mutate(t=DF.index/gr.n(DF.index))\n",
    "    >> gr.tf_sample(frac=1)\n",
    ")\n"
   ]
  },
  {
   "cell_type": "markdown",
   "id": "4ea92519",
   "metadata": {},
   "source": [
    "### __qX__ Naive consecutive rows\n",
    "\n",
    "Batch the observations in `df_time` into groups of consecutive observations, and use that grouping to construct a control chart with `gr.pt_xbs()`. **Do not** sort the data by time yet---you'll do that in the next task. \n",
    "\n",
    "Make sure to *match* the group size used in data collection.\n",
    "\n",
    "Answer the questions under *observations* below.\n",
    "\n",
    "*Hint*: The data above are in a *random* order. Keep that in mind when answering the questions below."
   ]
  },
  {
   "cell_type": "code",
   "execution_count": null,
   "id": "2527485e",
   "metadata": {},
   "outputs": [],
   "source": [
    "%%capture --no-display\n",
    "## TODO: Batch by consecutive rows, create a control chart\n",
    "(\n",
    "    df_time\n",
    "    \n",
    ")"
   ]
  },
  {
   "cell_type": "markdown",
   "id": "ab052706",
   "metadata": {},
   "source": [
    "*Observations*\n",
    "\n",
    "- What is the correct batch size, based on how the data were generated?\n",
    "  - (Your response here)\n",
    "- Based on the batch size you chose, did you find any out-of-control patterns? Did it occur in the `Variability` or batch `Mean`?\n",
    "  - (Your response here)\n",
    "- If you answered \"yes\" to the previous question, does your group variable give you a meaningful way to determine what may have cause the out-of-control pattern?\n",
    "  - (Your response here)\n"
   ]
  },
  {
   "cell_type": "markdown",
   "id": "eadea807",
   "metadata": {},
   "source": [
    "### __qX__ Batch by slices of time\n",
    "\n",
    "Sort the data by time `t`, then batch the observations into consecutive groups and construct a control chart. \n",
    "\n",
    "Make sure to *match* the group size used in data collection.\n",
    "\n",
    "Answer the questions under *observations* below.\n"
   ]
  },
  {
   "cell_type": "code",
   "execution_count": null,
   "id": "15355dfc",
   "metadata": {},
   "outputs": [],
   "source": [
    "%%capture --no-display\n",
    "## TODO: Arrange the dataset by time `t`, then batch and plot\n",
    "# a control chart\n",
    "(\n",
    "    df_time\n",
    "    \n",
    ")"
   ]
  },
  {
   "cell_type": "markdown",
   "id": "f776b580",
   "metadata": {},
   "source": [
    "*Observations*\n",
    "\n",
    "- Based on the batch size you chose, did you find any out-of-control patterns? Did it occur in the `Variability` or batch `Mean`?\n",
    "  - (Your response here)\n",
    "- If you answered \"yes\" to the previous question, does your group variable give you a meaningful way to determine what may have cause the out-of-control pattern?\n",
    "  - (Your response here)\n"
   ]
  },
  {
   "cell_type": "markdown",
   "id": "ca035582",
   "metadata": {},
   "source": [
    "# Patterns to seek\n",
    "\n",
    "Kenett and Zacks (2014) highlight several patterns that can signal an out-of-control manufacturing process:\n",
    "\n",
    "> 1. A single point outside the control limits.\n",
    "> 2. A run of nine or more points in a row above (or below) the centerline.\n",
    "> 3. Six consecutive points increasing (trend up) or decreasing (trend down).\n",
    "\n",
    "The following cells simulate data to illustrate each of these patterns.\n"
   ]
  },
  {
   "cell_type": "markdown",
   "id": "c6ca825e",
   "metadata": {},
   "source": [
    "## Outside control limits"
   ]
  },
  {
   "cell_type": "code",
   "execution_count": null,
   "id": "1d3f2a92",
   "metadata": {
    "tags": []
   },
   "outputs": [],
   "source": [
    "%%capture --no-display\n",
    "## NOTE: No need to edit\n",
    "np.random.seed(101)\n",
    "\n",
    "n = 20\n",
    "mu = [0]*15 + [1]*1 + [0]*15 \n",
    "mg_standard = gr.marg_mom(\"norm\", mean=0, sd=0.5)\n",
    "\n",
    "df_outlier = gr.df_grid()\n",
    "for i, m in enumerate(mu):\n",
    "    df_outlier = (\n",
    "        df_outlier\n",
    "        >> gr.tf_bind_rows(gr.df_make(\n",
    "            X=mg_standard.r(n) + m\n",
    "        ))\n",
    "    )\n",
    "    \n",
    "(\n",
    "    df_outlier\n",
    "    >> gr.tf_mutate(idx=DF.index // n)\n",
    "    >> gr.pt_xbs(group=\"idx\", var=\"X\")\n",
    ")"
   ]
  },
  {
   "cell_type": "markdown",
   "id": "b67b1065",
   "metadata": {},
   "source": [
    "## Variability out-of-control\n"
   ]
  },
  {
   "cell_type": "code",
   "execution_count": null,
   "id": "2c5a5f14",
   "metadata": {},
   "outputs": [],
   "source": [
    "%%capture --no-display\n",
    "## NOTE: No need to edit\n",
    "np.random.seed(101)\n",
    "\n",
    "n = 20\n",
    "mu = [0]*30\n",
    "mg_standard = gr.marg_mom(\"norm\", mean=0, sd=0.5)\n",
    "\n",
    "df_outlier = gr.df_grid()\n",
    "for i, m in enumerate(mu):\n",
    "    df_outlier = (\n",
    "        df_outlier\n",
    "        >> gr.tf_bind_rows(gr.df_make(\n",
    "            X=mg_standard.r(n) * (1 + (i == 20)) + m\n",
    "        ))\n",
    "    )\n",
    "    \n",
    "(\n",
    "    df_outlier\n",
    "    >> gr.tf_mutate(idx=DF.index // n)\n",
    "    >> gr.pt_xbs(group=\"idx\", var=\"X\")\n",
    ")"
   ]
  },
  {
   "cell_type": "markdown",
   "id": "30f0ccf2",
   "metadata": {},
   "source": [
    "## Runs above center"
   ]
  },
  {
   "cell_type": "code",
   "execution_count": null,
   "id": "b17731a2",
   "metadata": {},
   "outputs": [],
   "source": [
    "%%capture --no-display\n",
    "## NOTE: No need to edit\n",
    "np.random.seed(101)\n",
    "\n",
    "n = 20\n",
    "mu = [0]*15 + [1]*10 + [0]*15 \n",
    "mg_standard = gr.marg_mom(\"norm\", mean=0, sd=2.0)\n",
    "\n",
    "df_above = gr.df_grid()\n",
    "for i, m in enumerate(mu):\n",
    "    df_above = (\n",
    "        df_above\n",
    "        >> gr.tf_bind_rows(gr.df_make(\n",
    "            X=mg_standard.r(n) + m\n",
    "        ))\n",
    "    )\n",
    "    \n",
    "(\n",
    "    df_above\n",
    "    >> gr.tf_mutate(idx=DF.index // n)\n",
    "    >> gr.pt_xbs(group=\"idx\", var=\"X\")\n",
    ")"
   ]
  },
  {
   "cell_type": "markdown",
   "id": "40392900",
   "metadata": {},
   "source": [
    "Note that none of the observations exceed the upper control limit (UCL), but a \"run\" of many (9 or more) observations above the centerline is highly unlikely to be due to chance alone. \n"
   ]
  },
  {
   "cell_type": "markdown",
   "id": "29bc525a",
   "metadata": {},
   "source": [
    "## Runs below center\n"
   ]
  },
  {
   "cell_type": "code",
   "execution_count": null,
   "id": "e8342903",
   "metadata": {},
   "outputs": [],
   "source": [
    "%%capture --no-display\n",
    "## NOTE: No need to edit\n",
    "np.random.seed(101)\n",
    "\n",
    "n = 20\n",
    "mu = [0]*15 + [-1]*10 + [0]*15 \n",
    "mg_standard = gr.marg_mom(\"norm\", mean=0, sd=2.0)\n",
    "\n",
    "df_below = gr.df_grid()\n",
    "for i, m in enumerate(mu):\n",
    "    df_below = (\n",
    "        df_below\n",
    "        >> gr.tf_bind_rows(gr.df_make(\n",
    "            X=mg_standard.r(n) + m\n",
    "        ))\n",
    "    )\n",
    "    \n",
    "(\n",
    "    df_below\n",
    "    >> gr.tf_mutate(idx=DF.index // n)\n",
    "    >> gr.pt_xbs(group=\"idx\", var=\"X\")\n",
    ")"
   ]
  },
  {
   "cell_type": "markdown",
   "id": "09763580",
   "metadata": {},
   "source": [
    "## Runs increasing\n"
   ]
  },
  {
   "cell_type": "code",
   "execution_count": null,
   "id": "b76b2d96",
   "metadata": {},
   "outputs": [],
   "source": [
    "%%capture --no-display\n",
    "## NOTE: No need to edit\n",
    "np.random.seed(101)\n",
    "\n",
    "n = 20\n",
    "mu = [0.5]*10 + list(gr.linspace(0, 1, 6)) + [0.5]*10\n",
    "mg_standard = gr.marg_mom(\"norm\", mean=0, sd=0.8)\n",
    "\n",
    "df_increase = gr.df_grid()\n",
    "for i, m in enumerate(mu):\n",
    "    df_increase = (\n",
    "        df_increase\n",
    "        >> gr.tf_bind_rows(gr.df_make(\n",
    "            X=mg_standard.r(n) + m\n",
    "        ))\n",
    "    )\n",
    "    \n",
    "(\n",
    "    df_increase\n",
    "    >> gr.tf_mutate(idx=DF.index // n)\n",
    "    >> gr.pt_xbs(group=\"idx\", var=\"X\")\n",
    ")"
   ]
  },
  {
   "cell_type": "markdown",
   "id": "adc09729",
   "metadata": {},
   "source": [
    "## Runs decreasing\n"
   ]
  },
  {
   "cell_type": "code",
   "execution_count": null,
   "id": "1eac9616",
   "metadata": {},
   "outputs": [],
   "source": [
    "%%capture --no-display\n",
    "## NOTE: No need to edit\n",
    "np.random.seed(101)\n",
    "\n",
    "n = 20\n",
    "mu = [0.5]*10 + list(1 - gr.linspace(0, 1, 6)) + [0.5]*10\n",
    "mg_standard = gr.marg_mom(\"norm\", mean=0, sd=0.8)\n",
    "\n",
    "df_decrease = gr.df_grid()\n",
    "for i, m in enumerate(mu):\n",
    "    df_decrease = (\n",
    "        df_decrease\n",
    "        >> gr.tf_bind_rows(gr.df_make(\n",
    "            X=mg_standard.r(n) + m\n",
    "        ))\n",
    "    )\n",
    "    \n",
    "(\n",
    "    df_decrease\n",
    "    >> gr.tf_mutate(idx=DF.index // n)\n",
    "    >> gr.pt_xbs(group=\"idx\", var=\"X\")\n",
    ")"
   ]
  },
  {
   "cell_type": "markdown",
   "id": "5aa7a6ca",
   "metadata": {},
   "source": [
    "# Warnings\n"
   ]
  },
  {
   "cell_type": "markdown",
   "id": "3147124f",
   "metadata": {},
   "source": [
    "## Beware spurious patterns!\n",
    "\n",
    "Note that *false patterns* can still occur based on random events. These false patterns become more likely with smaller batch sizes. For instance, let's take a look at the completely random dataset from above, batched into tiny subgroups:\n"
   ]
  },
  {
   "cell_type": "code",
   "execution_count": null,
   "id": "6ce1dfe3",
   "metadata": {},
   "outputs": [],
   "source": [
    "%%capture --no-display\n",
    "## NOTE: No need to edit\n",
    "\n",
    "(\n",
    "    df_random \n",
    "    >> gr.tf_mutate(id_batch=DF.index // 2)\n",
    "    >> gr.pt_xbs(group=\"id_batch\", var=\"X\")\n",
    ")"
   ]
  },
  {
   "cell_type": "markdown",
   "id": "254ca366",
   "metadata": {},
   "source": [
    "Note that a variety of \"patterns\" are detected, but these cannot possibly be due to any assignable causes: The data are completely random by construction. Using a larger batch size helps to protect us against being mislead by random patterns, but keep in mind that false detections are always possible!\n"
   ]
  },
  {
   "cell_type": "markdown",
   "id": "82369225",
   "metadata": {},
   "source": [
    "## Beware meaningless order\n",
    "\n",
    "Patterns based on order (such as high/low or increasing/decreasing runs) are meaningless when order of the group variable has no meaning. For instance, we can reorder the machine identifiers in `df_machines` to artificially create an increasing run:\n"
   ]
  },
  {
   "cell_type": "code",
   "execution_count": null,
   "id": "c461317d",
   "metadata": {},
   "outputs": [],
   "source": [
    "(\n",
    "    df_machines\n",
    "    >> gr.tf_mutate(id_machine=gr.fct_reorder(DF.id_machine, DF.X, fun=gr.mean))\n",
    "    >> gr.pt_xbs(group=\"id_machine\", var=\"X\")\n",
    ")"
   ]
  },
  {
   "cell_type": "markdown",
   "id": "532766aa",
   "metadata": {},
   "source": [
    "# Example: Cast Aluminum Dataset\n"
   ]
  },
  {
   "cell_type": "code",
   "execution_count": null,
   "id": "cbe01773",
   "metadata": {},
   "outputs": [],
   "source": [
    "from grama.data import df_shewhart\n",
    "df_shewhart.head()"
   ]
  },
  {
   "cell_type": "markdown",
   "id": "aa2784a7",
   "metadata": {},
   "source": [
    "### __qX__ Assess the `density`\n",
    "\n",
    "Assess the state of statistical control for the variable `density` using a control chart.\n",
    "\n",
    "Answer the questions under *observations* below.\n"
   ]
  },
  {
   "cell_type": "code",
   "execution_count": null,
   "id": "76954540",
   "metadata": {},
   "outputs": [],
   "source": [
    "%%capture --no-display\n",
    "## TODO: Construct batches and make a control chart\n",
    "(\n",
    "    df_shewhart\n",
    "\n",
    ")\n"
   ]
  },
  {
   "cell_type": "markdown",
   "id": "024e00fe",
   "metadata": {},
   "source": [
    "*Observations*\n",
    "\n",
    "- What *assumptions* did you have to make in order to construct rational batches?\n",
    "  - (Your response here)\n",
    "- Based on the batch size you chose, did you find any out-of-control patterns? Did it occur in the `Variability` or batch `Mean`?\n",
    "  - (Your response here)\n",
    "- If you answered \"yes\" to the previous question: Based on the batch size you chose, are those patterns likely to be spurious?\n",
    "  - (Your response here)\n",
    "- Is the `tensile_strength` likely to be under statistical control?\n",
    "  - (Your response here)\n"
   ]
  },
  {
   "cell_type": "markdown",
   "id": "9def8805",
   "metadata": {},
   "source": [
    "### __qX__ Assess the `tensile_strength`\n",
    "\n",
    "Assess the state of statistical control for the variable `tensile_strength` using a control chart.\n",
    "\n",
    "Answer the questions under *observations* below.\n"
   ]
  },
  {
   "cell_type": "code",
   "execution_count": null,
   "id": "fd2ca74f",
   "metadata": {},
   "outputs": [],
   "source": [
    "%%capture --no-display\n",
    "## TODO: Construct batches and make a control chart\n",
    "(\n",
    "    df_shewhart\n",
    "\n",
    ")\n"
   ]
  },
  {
   "cell_type": "markdown",
   "id": "43629fc1",
   "metadata": {},
   "source": [
    "*Observations*\n",
    "\n",
    "- What *assumptions* did you have to make in order to construct rational batches?\n",
    "  - (Your response here)\n",
    "- Based on the batch size you chose, did you find any out-of-control patterns? Did it occur in the `Variability` or batch `Mean`?\n",
    "  - (Your response here)\n",
    "- If you answered \"yes\" to the previous question: Based on the batch size you chose, are those patterns likely to be spurious?\n",
    "  - (Your response here)\n",
    "- Is the `tensile_strength` likely to be under statistical control?\n",
    "  - (Your response here)\n"
   ]
  },
  {
   "cell_type": "markdown",
   "id": "0ed94312",
   "metadata": {},
   "source": [
    "# References\n",
    "\n",
    "- Kenett and Zacks, *Modern Industrial Statistics*, 2nd Edition (2014)\n"
   ]
  }
 ],
 "metadata": {
  "kernelspec": {
   "display_name": "Python 3 (ipykernel)",
   "language": "python",
   "name": "python3"
  },
  "language_info": {
   "codemirror_mode": {
    "name": "ipython",
    "version": 3
   },
   "file_extension": ".py",
   "mimetype": "text/x-python",
   "name": "python",
   "nbconvert_exporter": "python",
   "pygments_lexer": "ipython3",
   "version": "3.8.8"
  }
 },
 "nbformat": 4,
 "nbformat_minor": 5
}
