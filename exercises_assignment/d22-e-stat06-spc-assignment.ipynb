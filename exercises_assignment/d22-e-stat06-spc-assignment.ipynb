{
 "cells": [
  {
   "cell_type": "markdown",
   "id": "7a0dc90c",
   "metadata": {},
   "source": [
    "# Statistical Process Control (SPC) Basics\n",
    "\n",
    "*Purpose*: \n"
   ]
  },
  {
   "cell_type": "markdown",
   "id": "a60ec708",
   "metadata": {},
   "source": [
    "## Setup\n"
   ]
  },
  {
   "cell_type": "code",
   "execution_count": null,
   "id": "4be627b2",
   "metadata": {},
   "outputs": [],
   "source": [
    "import grama as gr\n",
    "import numpy as np\n",
    "DF = gr.Intention()\n",
    "%matplotlib inline"
   ]
  },
  {
   "cell_type": "markdown",
   "id": "d98dd68d",
   "metadata": {},
   "source": [
    "# Theory\n"
   ]
  },
  {
   "cell_type": "markdown",
   "id": "739de318",
   "metadata": {},
   "source": [
    "(It's difficult to tell by-inspection if data are random)\n"
   ]
  },
  {
   "cell_type": "code",
   "execution_count": null,
   "id": "6833709a",
   "metadata": {},
   "outputs": [],
   "source": [
    "np.random.seed(102)\n",
    "\n",
    "mg_normal = gr.marg_mom(\"norm\", mean=0, sd=1)\n",
    "df_random = (\n",
    "    gr.df_make(X=mg_normal.r(1000))\n",
    "    >> gr.tf_mutate(idx=DF.index)\n",
    ")\n",
    "\n",
    "(\n",
    "    df_random\n",
    "    >> gr.ggplot(gr.aes(\"idx\", \"X\"))\n",
    "    + gr.geom_point()\n",
    ")"
   ]
  },
  {
   "cell_type": "markdown",
   "id": "af24c7e1",
   "metadata": {},
   "source": [
    "- Without some sense of *reasonable limits*, we can't distinguish outliers from the normal highs and lows of randomness.\n",
    "- Without some knowledge of the underlying random process, we cannot define reasonable limits.\n"
   ]
  },
  {
   "cell_type": "markdown",
   "id": "ccab0955",
   "metadata": {},
   "source": [
    "Rather than do concentrated staring at random patterns, we can make some *intelligent choices* about grouping observations, and use *batch averages* to set meaningful *control limits*. These ideas combine in a *control chart*; the following plot is our first example of a control chart."
   ]
  },
  {
   "cell_type": "code",
   "execution_count": null,
   "id": "31b4530e",
   "metadata": {},
   "outputs": [],
   "source": [
    "%%capture --no-display\n",
    "## NOTE: No need to edit\n",
    "\n",
    "(\n",
    "    df_random \n",
    "    ## Group observations into consecutive batches of 10\n",
    "    >> gr.tf_mutate(id_batch=DF.index // 10)\n",
    "    ## Construct an Xbar and S (xbs) chart\n",
    "    >> gr.pt_xbs(group=\"id_batch\", var=\"X\")\n",
    ")"
   ]
  },
  {
   "cell_type": "markdown",
   "id": "95668303",
   "metadata": {},
   "source": [
    "From this chart, we see no outliers outside the lower control limit (LCL) or upper control limit (UCL). We also don't see any special patterns in the data. Therefore, based on this control chart, we can declare that the process is likely under *statistical control*---that it can be modeled as random.\n"
   ]
  },
  {
   "cell_type": "markdown",
   "id": "fb33440c",
   "metadata": {},
   "source": [
    "## Batch Averages\n",
    "\n",
    "We saw before that the *sample mean* follows the central limit theorem, which tells us about the distribution of the sample mean. Thus taking the average of multiple observations *from the same process* gives us a way to make the underlying distribution more predictable.\n",
    "\n",
    "However, taking the average of *all* observations prevents us from determining *where* an outlier occurred: If the mean of all the data is high, was it the first observation that was large? The last one? Something in the middle?\n",
    "\n",
    "Taking *batch averages* gives us better resolution, while still giving the advantages of the central limit theorem.\n"
   ]
  },
  {
   "cell_type": "markdown",
   "id": "3a2fd61e",
   "metadata": {},
   "source": [
    "## Control limits: Confidence Intervals\n"
   ]
  },
  {
   "cell_type": "markdown",
   "id": "fae75b93",
   "metadata": {},
   "source": [
    "## Grouping observations\n",
    "\n",
    "(Should ideally be paired with data collection.)\n"
   ]
  },
  {
   "cell_type": "markdown",
   "id": "6a74f00b",
   "metadata": {},
   "source": [
    "### Natural batches\n"
   ]
  },
  {
   "cell_type": "code",
   "execution_count": null,
   "id": "19e3bd09",
   "metadata": {},
   "outputs": [],
   "source": [
    "## NOTE: No need to edit\n",
    "np.random.seed(101)\n",
    "\n",
    "df_base = gr.df_make(\n",
    "    sd=[0.01, 0.04, 0.01, 0.01, 0.01, 0.01],\n",
    "    ma=[ \"A\",  \"B\",  \"C\",  \"D\",  \"E\",  \"F\"],\n",
    ")\n",
    "mg = gr.marg_mom(\"norm\", mean=0, sd=1)\n",
    "\n",
    "df_machines = gr.df_grid()\n",
    "for i in range(df_base.shape[0]):\n",
    "    df_machines = (\n",
    "        df_machines\n",
    "        >> gr.tf_bind_rows(\n",
    "            gr.df_make(\n",
    "                X=mg.r(15) * df_base.sd[i],\n",
    "                id_machine=df_base.ma[i],\n",
    "            )\n",
    "        )\n",
    "    )\n",
    "# Randomly sort\n",
    "df_machines = (\n",
    "    df_machines\n",
    "    >> gr.tf_sample(frac=1)\n",
    ")\n"
   ]
  },
  {
   "cell_type": "markdown",
   "id": "d2e31e35",
   "metadata": {
    "tags": []
   },
   "source": [
    "### __qX__ Naive consecutive rows\n",
    "\n",
    "Batch the observations in `df_machines` into groups of consecutive observations, and use that grouping to construct a control chart with `gr.pt_xbs()`. Answer the questions under *observations* below.\n",
    "\n",
    "*Hint*: The data above are in a *random* order. Keep that in mind when answering the questions below.\n"
   ]
  },
  {
   "cell_type": "code",
   "execution_count": null,
   "id": "f6e6d319",
   "metadata": {},
   "outputs": [],
   "source": [
    "%%capture --no-display\n",
    "(\n",
    "    df_machines\n",
    "    \n",
    ")"
   ]
  },
  {
   "cell_type": "markdown",
   "id": "d7828c9a",
   "metadata": {},
   "source": [
    "*Observations*\n",
    "\n",
    "- Based on the batch size you chose, did you find any out-of-control patterns? Did it occur in the `Variability` or batch `Mean`?\n",
    "  - (Your response here)\n",
    "- If you answered \"yes\" to the previous question, does your group variable give you a meaningful way to determine what may have cause the out-of-control pattern?\n",
    "  - (Your response here)\n"
   ]
  },
  {
   "cell_type": "markdown",
   "id": "49572fe2",
   "metadata": {},
   "source": [
    "### __qX__ Batch by machine\n",
    "\n",
    "Construct a control chart using the machine identifier as the `group` variable. Answer the questions under *observations* below.\n"
   ]
  },
  {
   "cell_type": "code",
   "execution_count": null,
   "id": "e313b2e4",
   "metadata": {},
   "outputs": [],
   "source": [
    "%%capture --no-display\n",
    "## TODO: Create a control chart grouped by machine\n",
    "(\n",
    "    df_machines\n",
    "    \n",
    ")"
   ]
  },
  {
   "cell_type": "markdown",
   "id": "6fa9c867",
   "metadata": {},
   "source": [
    "*Observations*\n",
    "\n",
    "- Based on batching by machine, did you find any out-of-control patterns? Did it occur in the `Variability` or batch `Mean`?\n",
    "  - (Your response here)\n",
    "- If you answered \"yes\" to the previous question, does your group variable give you a meaningful way to determine what may have cause the out-of-control pattern?\n",
    "  - (Your response here)\n"
   ]
  },
  {
   "cell_type": "markdown",
   "id": "922f6d74",
   "metadata": {},
   "source": [
    "### Batches in time\n",
    "\n",
    "> A rule of thumb is to use three time periods with 20 to 25 samples of size 50 to 100 units each.\n",
    "\n",
    "The following code simulates 45 samples, where each sample contains 50 observations. This results in `45 * 50 = 2250` observations total.\n"
   ]
  },
  {
   "cell_type": "code",
   "execution_count": null,
   "id": "271f2c8e",
   "metadata": {},
   "outputs": [],
   "source": [
    "## NOTE: No need to edit\n",
    "np.random.seed(101)\n",
    "\n",
    "df_base = gr.df_make(\n",
    "    mu=[0]*30 + list(gr.linspace(0, 0.8, 15)),\n",
    ")\n",
    "mg = gr.marg_mom(\"norm\", mean=0, sd=1)\n",
    "\n",
    "df_time = gr.df_grid()\n",
    "for i in range(df_base.shape[0]):\n",
    "    df_time = (\n",
    "        df_time\n",
    "        >> gr.tf_bind_rows(\n",
    "            gr.df_make(X=mg.r(50) + df_base.mu[i])\n",
    "        )\n",
    "    )\n",
    "# Randomly sort\n",
    "df_time = (\n",
    "    df_time\n",
    "    >> gr.tf_mutate(t=DF.index/gr.n(DF.index))\n",
    "    >> gr.tf_sample(frac=1)\n",
    ")\n"
   ]
  },
  {
   "cell_type": "markdown",
   "id": "03873840",
   "metadata": {},
   "source": [
    "### __qX__ Naive consecutive rows\n",
    "\n",
    "Batch the observations in `df_time` into groups of consecutive observations, and use that grouping to construct a control chart with `gr.pt_xbs()`. **Do not** sort the data by time yet---you'll do that in the next task. \n",
    "\n",
    "Make sure to *match* the group size used in data collection.\n",
    "\n",
    "Answer the questions under *observations* below.\n",
    "\n",
    "*Hint*: The data above are in a *random* order. Keep that in mind when answering the questions below."
   ]
  },
  {
   "cell_type": "code",
   "execution_count": null,
   "id": "b7996799",
   "metadata": {},
   "outputs": [],
   "source": [
    "%%capture --no-display\n",
    "## TODO: Batch by consecutive rows, create a control chart\n",
    "(\n",
    "    df_time\n",
    "    \n",
    ")"
   ]
  },
  {
   "cell_type": "markdown",
   "id": "07a919af",
   "metadata": {},
   "source": [
    "*Observations*\n",
    "\n",
    "- What is the correct batch size, based on how the data were generated?\n",
    "  - (Your response here)\n",
    "- Based on the batch size you chose, did you find any out-of-control patterns? Did it occur in the `Variability` or batch `Mean`?\n",
    "  - (Your response here)\n",
    "- If you answered \"yes\" to the previous question, does your group variable give you a meaningful way to determine what may have cause the out-of-control pattern?\n",
    "  - (Your response here)\n"
   ]
  },
  {
   "cell_type": "markdown",
   "id": "0e621d92",
   "metadata": {},
   "source": [
    "### __qX__ Batch by slices of time\n",
    "\n",
    "Sort the data by time `t`, then batch the observations into consecutive groups and construct a control chart. \n",
    "\n",
    "Make sure to *match* the group size used in data collection.\n",
    "\n",
    "Answer the questions under *observations* below.\n"
   ]
  },
  {
   "cell_type": "code",
   "execution_count": null,
   "id": "a3fd054b",
   "metadata": {},
   "outputs": [],
   "source": [
    "%%capture --no-display\n",
    "## TODO: Arrange the dataset by time `t`, then batch and plot\n",
    "# a control chart\n",
    "(\n",
    "    df_time\n",
    "    \n",
    ")"
   ]
  },
  {
   "cell_type": "markdown",
   "id": "09e9cc9a",
   "metadata": {},
   "source": [
    "*Observations*\n",
    "\n",
    "- Based on the batch size you chose, did you find any out-of-control patterns? Did it occur in the `Variability` or batch `Mean`?\n",
    "  - (Your response here)\n",
    "- If you answered \"yes\" to the previous question, does your group variable give you a meaningful way to determine what may have cause the out-of-control pattern?\n",
    "  - (Your response here)\n"
   ]
  },
  {
   "cell_type": "markdown",
   "id": "23bb7ad9",
   "metadata": {},
   "source": [
    "# Patterns to seek\n",
    "\n",
    "Kenett and Zacks (2014) highlight several patterns that can signal an out-of-control manufacturing process:\n",
    "\n",
    "> 1. A single point outside the control limits.\n",
    "> 2. A run of nine or more points in a row above (or below) the centerline.\n",
    "> 3. Six consecutive points increasing (trend up) or decreasing (trend down).\n",
    "\n",
    "The following cells simulate data to illustrate each of these patterns.\n"
   ]
  },
  {
   "cell_type": "markdown",
   "id": "ebe98a82",
   "metadata": {},
   "source": [
    "## Outside control limits"
   ]
  },
  {
   "cell_type": "code",
   "execution_count": null,
   "id": "f3a60d40",
   "metadata": {
    "tags": []
   },
   "outputs": [],
   "source": [
    "%%capture --no-display\n",
    "## NOTE: No need to edit\n",
    "np.random.seed(101)\n",
    "\n",
    "n = 20\n",
    "mu = [0]*15 + [1]*1 + [0]*15 \n",
    "mg_standard = gr.marg_mom(\"norm\", mean=0, sd=0.5)\n",
    "\n",
    "df_outlier = gr.df_grid()\n",
    "for i, m in enumerate(mu):\n",
    "    df_outlier = (\n",
    "        df_outlier\n",
    "        >> gr.tf_bind_rows(gr.df_make(\n",
    "            X=mg_standard.r(n) + m\n",
    "        ))\n",
    "    )\n",
    "    \n",
    "(\n",
    "    df_outlier\n",
    "    >> gr.tf_mutate(idx=DF.index // n)\n",
    "    >> gr.pt_xbs(group=\"idx\", var=\"X\")\n",
    ")"
   ]
  },
  {
   "cell_type": "markdown",
   "id": "43ab32a6",
   "metadata": {},
   "source": [
    "## Variability out-of-control\n"
   ]
  },
  {
   "cell_type": "code",
   "execution_count": null,
   "id": "70d09d1e",
   "metadata": {},
   "outputs": [],
   "source": [
    "%%capture --no-display\n",
    "## NOTE: No need to edit\n",
    "np.random.seed(101)\n",
    "\n",
    "n = 20\n",
    "mu = [0]*30\n",
    "mg_standard = gr.marg_mom(\"norm\", mean=0, sd=0.5)\n",
    "\n",
    "df_outlier = gr.df_grid()\n",
    "for i, m in enumerate(mu):\n",
    "    df_outlier = (\n",
    "        df_outlier\n",
    "        >> gr.tf_bind_rows(gr.df_make(\n",
    "            X=mg_standard.r(n) * (1 + (i == 20)) + m\n",
    "        ))\n",
    "    )\n",
    "    \n",
    "(\n",
    "    df_outlier\n",
    "    >> gr.tf_mutate(idx=DF.index // n)\n",
    "    >> gr.pt_xbs(group=\"idx\", var=\"X\")\n",
    ")"
   ]
  },
  {
   "cell_type": "markdown",
   "id": "d68e2e50",
   "metadata": {},
   "source": [
    "## Runs above center"
   ]
  },
  {
   "cell_type": "code",
   "execution_count": null,
   "id": "ef7b2446",
   "metadata": {},
   "outputs": [],
   "source": [
    "%%capture --no-display\n",
    "## NOTE: No need to edit\n",
    "np.random.seed(101)\n",
    "\n",
    "n = 20\n",
    "mu = [0]*15 + [1]*10 + [0]*15 \n",
    "mg_standard = gr.marg_mom(\"norm\", mean=0, sd=2.0)\n",
    "\n",
    "df_above = gr.df_grid()\n",
    "for i, m in enumerate(mu):\n",
    "    df_above = (\n",
    "        df_above\n",
    "        >> gr.tf_bind_rows(gr.df_make(\n",
    "            X=mg_standard.r(n) + m\n",
    "        ))\n",
    "    )\n",
    "    \n",
    "(\n",
    "    df_above\n",
    "    >> gr.tf_mutate(idx=DF.index // n)\n",
    "    >> gr.pt_xbs(group=\"idx\", var=\"X\")\n",
    ")"
   ]
  },
  {
   "cell_type": "markdown",
   "id": "fa30a867",
   "metadata": {},
   "source": [
    "Note that none of the observations exceed the upper control limit (UCL), but a \"run\" of many (9 or more) observations above the centerline is highly unlikely to be due to chance alone. \n"
   ]
  },
  {
   "cell_type": "markdown",
   "id": "ecd6bbfe",
   "metadata": {},
   "source": [
    "## Runs below center\n"
   ]
  },
  {
   "cell_type": "code",
   "execution_count": null,
   "id": "7f6ca4f1",
   "metadata": {},
   "outputs": [],
   "source": [
    "%%capture --no-display\n",
    "## NOTE: No need to edit\n",
    "np.random.seed(101)\n",
    "\n",
    "n = 20\n",
    "mu = [0]*15 + [-1]*10 + [0]*15 \n",
    "mg_standard = gr.marg_mom(\"norm\", mean=0, sd=2.0)\n",
    "\n",
    "df_below = gr.df_grid()\n",
    "for i, m in enumerate(mu):\n",
    "    df_below = (\n",
    "        df_below\n",
    "        >> gr.tf_bind_rows(gr.df_make(\n",
    "            X=mg_standard.r(n) + m\n",
    "        ))\n",
    "    )\n",
    "    \n",
    "(\n",
    "    df_below\n",
    "    >> gr.tf_mutate(idx=DF.index // n)\n",
    "    >> gr.pt_xbs(group=\"idx\", var=\"X\")\n",
    ")"
   ]
  },
  {
   "cell_type": "markdown",
   "id": "f4aba51a",
   "metadata": {},
   "source": [
    "## Runs increasing\n"
   ]
  },
  {
   "cell_type": "code",
   "execution_count": null,
   "id": "10abd61b",
   "metadata": {},
   "outputs": [],
   "source": [
    "%%capture --no-display\n",
    "## NOTE: No need to edit\n",
    "np.random.seed(101)\n",
    "\n",
    "n = 20\n",
    "mu = [0.5]*10 + list(gr.linspace(0, 1, 6)) + [0.5]*10\n",
    "mg_standard = gr.marg_mom(\"norm\", mean=0, sd=0.8)\n",
    "\n",
    "df_increase = gr.df_grid()\n",
    "for i, m in enumerate(mu):\n",
    "    df_increase = (\n",
    "        df_increase\n",
    "        >> gr.tf_bind_rows(gr.df_make(\n",
    "            X=mg_standard.r(n) + m\n",
    "        ))\n",
    "    )\n",
    "    \n",
    "(\n",
    "    df_increase\n",
    "    >> gr.tf_mutate(idx=DF.index // n)\n",
    "    >> gr.pt_xbs(group=\"idx\", var=\"X\")\n",
    ")"
   ]
  },
  {
   "cell_type": "markdown",
   "id": "e5b2c21a",
   "metadata": {},
   "source": [
    "## Runs decreasing\n"
   ]
  },
  {
   "cell_type": "code",
   "execution_count": null,
   "id": "e4af4206",
   "metadata": {},
   "outputs": [],
   "source": [
    "%%capture --no-display\n",
    "## NOTE: No need to edit\n",
    "np.random.seed(101)\n",
    "\n",
    "n = 20\n",
    "mu = [0.5]*10 + list(1 - gr.linspace(0, 1, 6)) + [0.5]*10\n",
    "mg_standard = gr.marg_mom(\"norm\", mean=0, sd=0.8)\n",
    "\n",
    "df_decrease = gr.df_grid()\n",
    "for i, m in enumerate(mu):\n",
    "    df_decrease = (\n",
    "        df_decrease\n",
    "        >> gr.tf_bind_rows(gr.df_make(\n",
    "            X=mg_standard.r(n) + m\n",
    "        ))\n",
    "    )\n",
    "    \n",
    "(\n",
    "    df_decrease\n",
    "    >> gr.tf_mutate(idx=DF.index // n)\n",
    "    >> gr.pt_xbs(group=\"idx\", var=\"X\")\n",
    ")"
   ]
  },
  {
   "cell_type": "markdown",
   "id": "d0d5ddae",
   "metadata": {},
   "source": [
    "# Warnings\n"
   ]
  },
  {
   "cell_type": "markdown",
   "id": "cde6fccf",
   "metadata": {},
   "source": [
    "## Beware spurious patterns!\n",
    "\n",
    "Note that *false patterns* can still occur based on random events. These false patterns become more likely with smaller batch sizes. For instance, let's take a look at the completely random dataset from above, batched into tiny subgroups:\n"
   ]
  },
  {
   "cell_type": "code",
   "execution_count": null,
   "id": "fa7c91c6",
   "metadata": {},
   "outputs": [],
   "source": [
    "%%capture --no-display\n",
    "## NOTE: No need to edit\n",
    "\n",
    "(\n",
    "    df_random \n",
    "    >> gr.tf_mutate(id_batch=DF.index // 2)\n",
    "    >> gr.pt_xbs(group=\"id_batch\", var=\"X\")\n",
    ")"
   ]
  },
  {
   "cell_type": "markdown",
   "id": "af07d531",
   "metadata": {},
   "source": [
    "Note that a variety of \"patterns\" are detected, but these cannot possibly be due to any assignable causes: The data are completely random by construction. Using a larger batch size helps to protect us against being mislead by random patterns, but keep in mind that false detections are always possible!\n"
   ]
  },
  {
   "cell_type": "markdown",
   "id": "4814efc0",
   "metadata": {},
   "source": [
    "## Beware meaningless order\n",
    "\n",
    "Patterns based on order (such as high/low or increasing/decreasing runs) are meaningless when order of the group variable has no meaning. For instance, we can reorder the machine identifiers in `df_machines` to artificially create an increasing run:\n"
   ]
  },
  {
   "cell_type": "code",
   "execution_count": null,
   "id": "d9d676c7",
   "metadata": {},
   "outputs": [],
   "source": [
    "(\n",
    "    df_machines\n",
    "    >> gr.tf_mutate(id_machine=gr.fct_reorder(DF.id_machine, DF.X, fun=gr.mean))\n",
    "    >> gr.pt_xbs(group=\"id_machine\", var=\"X\")\n",
    ")"
   ]
  },
  {
   "cell_type": "markdown",
   "id": "27737c14",
   "metadata": {},
   "source": [
    "# Example: Cast Aluminum Dataset\n"
   ]
  },
  {
   "cell_type": "code",
   "execution_count": null,
   "id": "bb6ab6b3",
   "metadata": {},
   "outputs": [],
   "source": [
    "from grama.data import df_shewhart\n",
    "df_shewhart.head()"
   ]
  },
  {
   "cell_type": "markdown",
   "id": "de5ea94b",
   "metadata": {},
   "source": [
    "### __qX__ Assess the `density`\n",
    "\n",
    "Assess the state of statistical control for the variable `density` using a control chart.\n",
    "\n",
    "Answer the questions under *observations* below.\n"
   ]
  },
  {
   "cell_type": "code",
   "execution_count": null,
   "id": "800bf5c2",
   "metadata": {},
   "outputs": [],
   "source": [
    "%%capture --no-display\n",
    "## TODO: Construct batches and make a control chart\n",
    "(\n",
    "    df_shewhart\n",
    "\n",
    ")\n"
   ]
  },
  {
   "cell_type": "markdown",
   "id": "fb51f6cf",
   "metadata": {},
   "source": [
    "*Observations*\n",
    "\n",
    "- What *assumptions* did you have to make in order to construct rational batches?\n",
    "  - (Your response here)\n",
    "- Based on the batch size you chose, did you find any out-of-control patterns? Did it occur in the `Variability` or batch `Mean`?\n",
    "  - (Your response here)\n",
    "- If you answered \"yes\" to the previous question: Based on the batch size you chose, are those patterns likely to be spurious?\n",
    "  - (Your response here)\n",
    "- Is the `tensile_strength` likely to be under statistical control?\n",
    "  - (Your response here)\n"
   ]
  },
  {
   "cell_type": "markdown",
   "id": "692997e6",
   "metadata": {},
   "source": [
    "### __qX__ Assess the `tensile_strength`\n",
    "\n",
    "Assess the state of statistical control for the variable `tensile_strength` using a control chart.\n",
    "\n",
    "Answer the questions under *observations* below.\n"
   ]
  },
  {
   "cell_type": "code",
   "execution_count": null,
   "id": "15fe4cfc",
   "metadata": {},
   "outputs": [],
   "source": [
    "%%capture --no-display\n",
    "## TODO: Construct batches and make a control chart\n",
    "(\n",
    "    df_shewhart\n",
    "\n",
    ")\n"
   ]
  },
  {
   "cell_type": "markdown",
   "id": "624a86d5",
   "metadata": {},
   "source": [
    "*Observations*\n",
    "\n",
    "- What *assumptions* did you have to make in order to construct rational batches?\n",
    "  - (Your response here)\n",
    "- Based on the batch size you chose, did you find any out-of-control patterns? Did it occur in the `Variability` or batch `Mean`?\n",
    "  - (Your response here)\n",
    "- If you answered \"yes\" to the previous question: Based on the batch size you chose, are those patterns likely to be spurious?\n",
    "  - (Your response here)\n",
    "- Is the `tensile_strength` likely to be under statistical control?\n",
    "  - (Your response here)\n"
   ]
  },
  {
   "cell_type": "markdown",
   "id": "84630dde",
   "metadata": {},
   "source": [
    "# References\n",
    "\n",
    "- Kenett and Zacks, *Modern Industrial Statistics*, 2nd Edition (2014)\n"
   ]
  }
 ],
 "metadata": {
  "kernelspec": {
   "display_name": "Python 3 (ipykernel)",
   "language": "python",
   "name": "python3"
  },
  "language_info": {
   "codemirror_mode": {
    "name": "ipython",
    "version": 3
   },
   "file_extension": ".py",
   "mimetype": "text/x-python",
   "name": "python",
   "nbconvert_exporter": "python",
   "pygments_lexer": "ipython3",
   "version": "3.8.8"
  }
 },
 "nbformat": 4,
 "nbformat_minor": 5
}
