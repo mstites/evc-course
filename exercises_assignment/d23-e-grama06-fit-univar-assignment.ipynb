{
 "cells": [
  {
   "cell_type": "markdown",
   "id": "5695cf0d",
   "metadata": {},
   "source": [
    "# Fitting Univariate Distributions\n",
    "\n",
    "*Purpose*: \n"
   ]
  },
  {
   "cell_type": "markdown",
   "id": "97aa3aa8",
   "metadata": {},
   "source": [
    "## Setup\n"
   ]
  },
  {
   "cell_type": "code",
   "execution_count": null,
   "id": "5c0e8995",
   "metadata": {},
   "outputs": [],
   "source": [
    "import grama as gr\n",
    "DF = gr.Intention()\n",
    "%matplotlib inline"
   ]
  },
  {
   "cell_type": "markdown",
   "id": "39831441",
   "metadata": {},
   "source": [
    "For this exercise, we'll study a dataset of observations on die cast aluminum parts.\n"
   ]
  },
  {
   "cell_type": "code",
   "execution_count": null,
   "id": "9b4459a6",
   "metadata": {},
   "outputs": [],
   "source": [
    "from grama.data import df_shewhart\n"
   ]
  },
  {
   "cell_type": "markdown",
   "id": "6e67d27f",
   "metadata": {},
   "source": [
    "# The steps to fitting\n",
    "\n",
    "1. Check for *statistical control*\n",
    "2. Select candidate distributions\n",
    "3. Fit and assess\n"
   ]
  },
  {
   "cell_type": "markdown",
   "id": "654e0663",
   "metadata": {},
   "source": [
    "# Check for *statistical control*\n",
    "\n"
   ]
  },
  {
   "cell_type": "markdown",
   "id": "2a774048",
   "metadata": {},
   "source": [
    "### __qX__ Make a histogram of the `tensile_strength`\n"
   ]
  },
  {
   "cell_type": "code",
   "execution_count": null,
   "id": "614bce8b",
   "metadata": {},
   "outputs": [],
   "source": [
    "## TASK:\n"
   ]
  },
  {
   "cell_type": "markdown",
   "id": "26958533",
   "metadata": {},
   "source": [
    "*Observations*\n",
    "\n",
    "- What observations can you make\n",
    "  - (Your response here)\n",
    "- How does your distribution (`user`) compare with the generalized gamma distribution (`base`)?\n",
    "  - (Your response here)\n"
   ]
  },
  {
   "cell_type": "markdown",
   "id": "3e1326c2",
   "metadata": {},
   "source": [
    "*Note*: To help with the next task, it will be helpful to know about the *integer division* operator `//`. This divides by a desired value, but rounds down to the nearest integer.\n"
   ]
  },
  {
   "cell_type": "code",
   "execution_count": null,
   "id": "cf181055",
   "metadata": {},
   "outputs": [],
   "source": [
    "print(\"1 // 4 = {}\".format(1 // 4))\n",
    "print(\"2 // 4 = {}\".format(2 // 4))\n",
    "print(\"3 // 4 = {}\".format(3 // 4))\n",
    "print(\"4 // 4 = {}\".format(4 // 4))\n",
    "print(\"5 // 4 = {}\".format(5 // 4))"
   ]
  },
  {
   "cell_type": "markdown",
   "id": "28edfa68",
   "metadata": {},
   "source": [
    "## Control charts\n",
    "\n",
    "TODO\n",
    "\n",
    "- By taking *batch means*, we can use the central limit theorem to make quantitative, statistical statements about the observations.\n",
    "- By taking *small* batches, we can attribute strange patterns to a small number of observations. This gives us somewhere to look if we detect strange behavior.\n",
    "\n",
    "The following is an example of a control chart: The points are batch means, the solid horizontal line is the mean of all observations, and the dashed lines are the *control limits* (discussed below). With this chart, we can look for various kinds of patterns:\n"
   ]
  },
  {
   "cell_type": "markdown",
   "id": "bdeff3d1",
   "metadata": {},
   "source": [
    "![Example control chart demonstrating two kinds of patters: a batch mean that exceeds the control limits, and a \"run\" of batch means that lies to one side of the grand mean.](images/control-chart.png)\n"
   ]
  },
  {
   "cell_type": "markdown",
   "id": "32c32e38",
   "metadata": {},
   "source": [
    "Some patterns illustrated above:\n",
    "\n",
    "- Outliers: The control limits (dashed lines) are constructed such that about one batch mean in a thousand should lie outside the limits. Batch means that exceed the limits are therefore suspicious, and worth investigating further.\n",
    "- Off-center runs: Batch means should be distributed roughly equally above and below the grand mean (solid line). A sequence (a \"run\") of batch means that lie all above (or all below) the grand mean are therefore suspicious, and worth investigating further.\n"
   ]
  },
  {
   "cell_type": "markdown",
   "id": "770e1a99",
   "metadata": {},
   "source": [
    "If you detect suspicious patterns using a control chart, then there is evidence that the process being studied is *not* under statistical control. The batches associated with suspicious behavior should then be investigated in further detail, in order to hunt down and eliminate any assignable cause(s) of variability.\n",
    "\n",
    "If you *do not* detect suspicious patterns, then you can *provisionally* state that the process is under statistical control. A quantity under statistical control can be treated as random, which will endorse modeling that quantity with a distribution.\n"
   ]
  },
  {
   "cell_type": "markdown",
   "id": "284f2768",
   "metadata": {},
   "source": [
    "### __qX__ Add a group identifier\n",
    "\n",
    "Create a group identifier column `id_group` that assigns observations to consecutive groups of four. Make sure the first group identifier is `0`, and use sequential integers.\n"
   ]
  },
  {
   "cell_type": "code",
   "execution_count": null,
   "id": "4f9a8b58",
   "metadata": {},
   "outputs": [],
   "source": [
    "## TODO: Create a group identifier column to make\n",
    "# batches of 4 consecutive values\n",
    "n_grp = 4\n",
    "\n",
    "df_rolling = (\n",
    "    df_shewhart\n",
    "    ## TASK: Create a group identifier called id_group\n",
    "\n",
    ")\n",
    "\n",
    "## NOTE: Don't edit the following; use this to check your work\n",
    "assert \\\n",
    "    \"id_group\" in df_rolling.columns, \\\n",
    "    \"df_rolling missing the id_group column\"\n",
    "\n",
    "assert \\\n",
    "    all(df_rolling.id_group[:8] == [0]*4 + [1]*4), \\\n",
    "    \"The id_group column is incorrect; \" + \\\n",
    "    \"the first 8 values should be 0, 0, 0, 0, 1, 1, 1, 1\"\n"
   ]
  },
  {
   "cell_type": "markdown",
   "id": "b37a9924",
   "metadata": {},
   "source": [
    "### __qX__ Compute the batch means\n",
    "\n",
    "Compute the mean within each consecutive \"batch\" of observations.\n"
   ]
  },
  {
   "cell_type": "code",
   "execution_count": null,
   "id": "361a800c",
   "metadata": {},
   "outputs": [],
   "source": [
    "## TASK: Compute the `batch_mean` within \n",
    "# each group of observations\n",
    "df_batches = (\n",
    "    df_rolling\n",
    "    # TODO: Compute the `batch_mean`\n",
    "\n",
    ")\n",
    "\n",
    "## NOTE: Don't edit the following; use this to check your work\n",
    "assert \\\n",
    "    df_batches.shape[0] == (df_shewhart.shape[0] / n_grp), \\\n",
    "    \"Size of df_batches is incorrect; \" + \\\n",
    "    \"make sure you grouped properly.\"\n",
    "\n",
    "(\n",
    "    df_batches\n",
    "    >> gr.ggplot(gr.aes(\"id_group\", \"batch_mean\"))\n",
    "    + gr.geom_point()\n",
    ")"
   ]
  },
  {
   "cell_type": "markdown",
   "id": "f84d5531",
   "metadata": {},
   "source": [
    "## Control limits\n",
    "\n",
    "Remember from the Monte Carlo exercise that a confidence interval for the mean can be approximated using the central limit theorem via\n",
    "\n",
    "$$[\\hat{\\mu} - q \\hat{\\sigma} / \\sqrt{n}, \\hat{\\mu} + q \\hat{\\sigma} / \\sqrt{n}],$$\n",
    "\n",
    "where $\\hat{\\mu}$ is the sample mean, $\\hat{\\sigma}$ is the sample standard deviation, and $n$ is the number of samples used to compute $\\hat{\\mu}$.\n"
   ]
  },
  {
   "cell_type": "code",
   "execution_count": null,
   "id": "94ad928a",
   "metadata": {},
   "outputs": [],
   "source": [
    "# NOTE: No need to edit; this computes the probability of\n",
    "# finding a batch mean outside the control limits\n",
    "mg_norm = gr.marg_mom(\"norm\", mean=0, sd=1)\n",
    "mg_norm.p(-3) * 2\n"
   ]
  },
  {
   "cell_type": "code",
   "execution_count": null,
   "id": "fef45d9f",
   "metadata": {},
   "outputs": [],
   "source": [
    "# NOTE: No need to edit\n",
    "df_stats = (\n",
    "    df_shewhart\n",
    "    >> gr.tf_summarize(\n",
    "        tys_mean=gr.mean(DF.tensile_strength),\n",
    "        tys_sd=gr.sd(DF.tensile_strength),\n",
    "        n=gr.n(DF.tensile_strength),\n",
    "    )\n",
    ")\n",
    "df_stats\n"
   ]
  },
  {
   "cell_type": "markdown",
   "id": "92ec1003",
   "metadata": {},
   "source": [
    "### __qX__ Compute the control limits\n",
    "\n",
    "Compute the control limits for the batch means. Use a multiplier of $q = 3$. Answer the questions under *observations* below.\n"
   ]
  },
  {
   "cell_type": "code",
   "execution_count": null,
   "id": "69d2d4c6",
   "metadata": {},
   "outputs": [],
   "source": [
    "df_limits = (\n",
    "    df_stats\n",
    "\n",
    ")\n",
    "\n",
    "## NOTE: Don't edit the following; use this to check your work\n",
    "print(df_limits.tys_hi)\n",
    "assert \\\n",
    "    all(abs(df_limits.tys_lo - 25874.795475) < 1e-2), \\\n",
    "    \"Lower control limit is incorrect; \" + \\\n",
    "    \"did you use the same sample size used to compute \" + \\\n",
    "    \"the batch means?\"\n",
    "assert \\\n",
    "    all(abs(df_limits.tys_hi - 37863.937859) < 1e-2), \\\n",
    "    \"Upper control limit is incorrect; \" + \\\n",
    "    \"did you use the same sample size used to compute \" + \\\n",
    "    \"the batch means?\"\n",
    "\n",
    "(\n",
    "    df_batches\n",
    "    >> gr.ggplot(gr.aes(\"id_group\", \"batch_mean\"))\n",
    "    + gr.geom_hline(\n",
    "        data=df_limits,\n",
    "        mapping=gr.aes(yintercept=\"tys_lo\"),\n",
    "        linetype=\"dashed\",\n",
    "    )\n",
    "    + gr.geom_hline(\n",
    "        data=df_limits,\n",
    "        mapping=gr.aes(yintercept=\"tys_hi\"),\n",
    "        linetype=\"dashed\",\n",
    "    )\n",
    "    + gr.geom_hline(\n",
    "        data=df_limits,\n",
    "        mapping=gr.aes(yintercept=\"tys_mean\"),\n",
    "    )\n",
    "    + gr.geom_point()\n",
    ")"
   ]
  },
  {
   "cell_type": "markdown",
   "id": "19d07001",
   "metadata": {},
   "source": [
    "*Observations*\n",
    "\n",
    "- Do any batch means fall outside the control limits?\n",
    "  - (Your response here)\n",
    "- \n",
    "<!-- task-end -->"
   ]
  },
  {
   "cell_type": "markdown",
   "id": "22a584eb",
   "metadata": {},
   "source": [
    "## Vary the batch size\n",
    "\n",
    "As with adjusting the bin size of a histogram, it is also important to test different batch sizes with a control chart. The following re-constructs the control chart, but with a slightly smaller batch size:\n"
   ]
  },
  {
   "cell_type": "code",
   "execution_count": null,
   "id": "4eed3e87",
   "metadata": {},
   "outputs": [],
   "source": [
    "# NOTE: No need to edit this\n",
    "n_temp = 3\n",
    "\n",
    "(\n",
    "    df_shewhart\n",
    "    >> gr.tf_mutate(id_group=DF.index // n_temp)\n",
    "    >> gr.tf_group_by(DF.id_group)\n",
    "    >> gr.tf_summarize(batch_mean=gr.mean(DF.tensile_strength))\n",
    "    \n",
    "    >> gr.ggplot(gr.aes(\"id_group\", \"batch_mean\"))\n",
    "    + gr.geom_hline(\n",
    "        df_stats\n",
    "        >> gr.tf_mutate(\n",
    "            y=DF.tys_mean - 3 * DF.tys_sd / gr.sqrt(n_temp)\n",
    "        ),\n",
    "        gr.aes(yintercept=\"y\"),\n",
    "        linetype=\"dashed\",\n",
    "    )\n",
    "    + gr.geom_hline(\n",
    "        df_stats\n",
    "        >> gr.tf_mutate(\n",
    "            y=DF.tys_mean + 3 * DF.tys_sd / gr.sqrt(n_temp)\n",
    "        ),\n",
    "        gr.aes(yintercept=\"y\"),\n",
    "        linetype=\"dashed\",\n",
    "    )\n",
    "    + gr.geom_hline(\n",
    "        data=df_stats,\n",
    "        mapping=gr.aes(yintercept=\"tys_mean\"),\n",
    "    )\n",
    "    + gr.geom_point()\n",
    ")"
   ]
  },
  {
   "cell_type": "markdown",
   "id": "ad0db8ae",
   "metadata": {},
   "source": [
    "Here we see reasonably similar behavior with no violations of the control limits and no suspicious patterns. The data from this process appear to be under statistical control. Thus, we can proceed with modeling the `tensile_strengh` as a random quantity.\n"
   ]
  },
  {
   "cell_type": "markdown",
   "id": "bdbee1f9",
   "metadata": {},
   "source": [
    "# Select candidate distributions\n"
   ]
  },
  {
   "cell_type": "markdown",
   "id": "12f38c50",
   "metadata": {},
   "source": [
    "## (Short) list of distributions\n",
    "\n",
    "| Distribution | Name | Description |\n",
    "|---|---|---|\n",
    "| Normal (Gaussian) | `\"norm\"` | Symmetric; infinite extent |\n",
    "| Lognormal | `\"lognormal\"` | Asymmetric; positive |\n",
    "| Uniform | `\"uniform\"` | Bounded, flat |\n",
    "| Beta | `\"beta\"` | Bounded, flexible shape |\n",
    "| Weibull | `\"weibull_min\"` | Asymmetric; positive |\n"
   ]
  },
  {
   "cell_type": "markdown",
   "id": "7d22ad74",
   "metadata": {},
   "source": [
    "### __qX__ Select reasonable distributions\n"
   ]
  },
  {
   "cell_type": "markdown",
   "id": "9348687f",
   "metadata": {},
   "source": [
    "# Fit and assess\n"
   ]
  },
  {
   "cell_type": "markdown",
   "id": "fd0165cf",
   "metadata": {},
   "source": [
    "## QQ plots\n"
   ]
  },
  {
   "cell_type": "markdown",
   "id": "2a7ce217",
   "metadata": {},
   "source": [
    "### __qX__ Inspect this QQ plot\n",
    "\n",
    "TODO\n"
   ]
  },
  {
   "cell_type": "code",
   "execution_count": null,
   "id": "78caa533",
   "metadata": {},
   "outputs": [],
   "source": [
    "## NOTE: No need to edit; run and inspect\n",
    "# Define a standard normal distribution\n",
    "mg_norm = gr.marg_mom(\"norm\", mean=0, sd=1)\n",
    "\n",
    "(\n",
    "    # Draw some random values\n",
    "    gr.df_make(z=mg_norm.r(100))\n",
    "    # Compute theoretical quantiles based on fitted normal\n",
    "    >> gr.tf_mutate(q=gr.qqvals(DF.z, \"norm\"))\n",
    "    \n",
    "    # Visualize\n",
    "    >> gr.ggplot(gr.aes(\"q\", \"z\"))\n",
    "    # Add a guideline\n",
    "    + gr.geom_abline(intercept=0, slope=1, linetype=\"dashed\")\n",
    "    \n",
    "    + gr.geom_point()\n",
    "    + gr.labs(x=\"Reference Quantiles\", y=\"Observed Quantiles\")\n",
    ")"
   ]
  },
  {
   "cell_type": "markdown",
   "id": "5679daa3",
   "metadata": {},
   "source": [
    "*Observations*\n",
    "\n",
    "- \n",
    "<!-- task-end -->"
   ]
  },
  {
   "cell_type": "markdown",
   "id": "4077dc06",
   "metadata": {},
   "source": [
    "### __qX__ Fit a distribution for the `tensile_strength`\n",
    "\n",
    "TODO\n"
   ]
  },
  {
   "cell_type": "code",
   "execution_count": null,
   "id": "9ae6b759",
   "metadata": {},
   "outputs": [],
   "source": [
    "# TASK: Fit a distribution for the tensile_strength;\n",
    "# assign it to mg_user below\n",
    "mg_user = None\n",
    "\n",
    "\n",
    "# NOTE: Don't edit this; use to check your results\n",
    "mg_base = gr.marg_fit(\n",
    "    \"gengamma\",\n",
    "    df_shewhart.tensile_strength,\n",
    "    floc=0,\n",
    ")\n",
    "\n",
    "(\n",
    "    df_shewhart\n",
    "    >> gr.tf_mutate(\n",
    "        q_base=gr.qqvals(DF.tensile_strength, marg=mg_base),\n",
    "        q_user=gr.qqvals(DF.tensile_strength, marg=mg_user),\n",
    "    )\n",
    "    >> gr.tf_pivot_longer(\n",
    "        columns=[\"q_base\", \"q_user\"],\n",
    "        names_to=[\".value\", \"dist\"],\n",
    "        names_sep=\"_\",\n",
    "    )\n",
    "    \n",
    "    >> gr.ggplot(gr.aes(\"q\", \"tensile_strength\", color=\"dist\"))\n",
    "    + gr.geom_abline(intercept=0, slope=1, linetype=\"dashed\")\n",
    "    + gr.geom_point()\n",
    "    + gr.labs(x=\"Reference Quantiles\", y=\"Observed Quantiles\")\n",
    ")"
   ]
  },
  {
   "cell_type": "markdown",
   "id": "9f30f0bb",
   "metadata": {},
   "source": [
    "*Observations*\n",
    "\n",
    "- What distribution did you choose to fit?\n",
    "  - (Your response here)\n",
    "- How does your distribution (`user`) compare with the generalized gamma distribution (`base`)?\n",
    "  - (Your response here)\n"
   ]
  },
  {
   "cell_type": "markdown",
   "id": "92cd736b",
   "metadata": {},
   "source": [
    "# Use the model\n",
    "\n",
    "TODO\n",
    "\n",
    "$$g_{\\text{tension}} = S - F/A$$\n"
   ]
  },
  {
   "cell_type": "code",
   "execution_count": null,
   "id": "20cec2f8",
   "metadata": {},
   "outputs": [],
   "source": [
    "## NOTE: No need to edit\n",
    "md_structure = (\n",
    "    gr.Model(\"Uniaxial tension member\")\n",
    "    >> gr.cp_vec_function(\n",
    "        fun=lambda df: gr.df_make(\n",
    "            g_tension=df.S - df.F / df.A,\n",
    "        ),\n",
    "        var=[\"S\", \"F\", \"A\"],\n",
    "        out=[\"g_tension\"],\n",
    "    )\n",
    "    >> gr.cp_bounds(A=(1.0, 5.0))\n",
    "    >> gr.cp_marginals(\n",
    "        S=mg_user,\n",
    "        F=gr.marg_mom(\"lognorm\", mean=8e4, cov=0.1, floc=0),\n",
    "    )\n",
    "    >> gr.cp_copula_independence()\n",
    ")\n",
    "md_structure"
   ]
  },
  {
   "cell_type": "markdown",
   "id": "cd9988d0",
   "metadata": {},
   "source": []
  },
  {
   "cell_type": "code",
   "execution_count": null,
   "id": "2b492721",
   "metadata": {},
   "outputs": [],
   "source": [
    "(\n",
    "    md_structure\n",
    "    >> gr.ev_sample(n=1e3, df_det=gr.df_make(A=[2, 3, 4]))\n",
    "    >> gr.tf_group_by(DF.A)\n",
    "    >> gr.tf_summarize(\n",
    "        pof_lo=gr.binomial_ci(DF.g_tension <= 0, alpha=0.95, side=\"lo\"),\n",
    "        pof_mu=gr.mean(DF.g_tension <= 0),\n",
    "        pof_up=gr.binomial_ci(DF.g_tension <= 0, alpha=0.95, side=\"up\"),\n",
    "    )\n",
    ")"
   ]
  }
 ],
 "metadata": {
  "kernelspec": {
   "display_name": "Python 3 (ipykernel)",
   "language": "python",
   "name": "python3"
  },
  "language_info": {
   "codemirror_mode": {
    "name": "ipython",
    "version": 3
   },
   "file_extension": ".py",
   "mimetype": "text/x-python",
   "name": "python",
   "nbconvert_exporter": "python",
   "pygments_lexer": "ipython3",
   "version": "3.9.7"
  }
 },
 "nbformat": 4,
 "nbformat_minor": 5
}
