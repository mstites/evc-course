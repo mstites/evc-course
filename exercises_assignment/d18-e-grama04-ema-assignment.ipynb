{
 "cells": [
  {
   "cell_type": "markdown",
   "id": "7ec4930f",
   "metadata": {},
   "source": [
    "# Exploratory Model Analysis\n",
    "\n",
    "*Purpose*: **TODO**.\n"
   ]
  },
  {
   "cell_type": "markdown",
   "id": "e8a9c8f6",
   "metadata": {
    "jp-MarkdownHeadingCollapsed": true,
    "tags": []
   },
   "source": [
    "## Core Idea: Curiosity and Skepticism\n",
    "\n",
    "Remember the core principles of EDA:\n",
    "\n",
    "1. Curiosity: Generate lots of ideas and hypotheses about your data.\n",
    "2. Skepticism: Remain unconvinced of those ideas, unless you can find credible patterns to support them.\n",
    "\n",
    "We can apply these same principles when studying a model; a process called *exploratory model analysis*. However, when studying a model, we have the means to more immediately test our hypotheses: We can *evaluate* the model to generate new data as we're carrying out our exploration!\n",
    "\n",
    "These ideas can be a little abstract, so let's illustrate them with a concrete example.\n"
   ]
  },
  {
   "cell_type": "markdown",
   "id": "a723e004",
   "metadata": {},
   "source": [
    "## Setup\n"
   ]
  },
  {
   "cell_type": "code",
   "execution_count": null,
   "id": "6d822851",
   "metadata": {},
   "outputs": [],
   "source": [
    "import grama as gr\n",
    "import pandas as pd\n",
    "DF = gr.Intention()\n",
    "%matplotlib inline"
   ]
  },
  {
   "cell_type": "markdown",
   "id": "62193f8c",
   "metadata": {},
   "source": [
    "## Running Example: Circuit model\n"
   ]
  },
  {
   "cell_type": "code",
   "execution_count": null,
   "id": "f8db177c",
   "metadata": {},
   "outputs": [],
   "source": [
    "from grama.models import make_prlc_rand\n",
    "md_circuit = make_prlc_rand()"
   ]
  },
  {
   "cell_type": "markdown",
   "id": "3f52a8a8",
   "metadata": {},
   "source": [
    "# Basic Facts\n"
   ]
  },
  {
   "cell_type": "markdown",
   "id": "7bc22a15",
   "metadata": {},
   "source": [
    "### __qX__ Model summary\n"
   ]
  },
  {
   "cell_type": "code",
   "execution_count": null,
   "id": "9224d584",
   "metadata": {},
   "outputs": [],
   "source": []
  },
  {
   "cell_type": "markdown",
   "id": "bfb24b82",
   "metadata": {},
   "source": [
    "*Observations*\n",
    "\n",
    "- Compare the variability (measured by standard deviation) of the three random variables. Which is most variable?\n",
    "  - (Your response here)\n"
   ]
  },
  {
   "cell_type": "markdown",
   "id": "b3d17f57",
   "metadata": {},
   "source": [
    "## Model context\n",
    "\n",
    "The deterministic variables `L, R, C` are the *designed* component values.\n",
    "\n",
    "The random variables `dL, dR, dC` are *perturbations* to the designed component values.\n"
   ]
  },
  {
   "cell_type": "markdown",
   "id": "0aef552c",
   "metadata": {},
   "source": [
    "# Inputs\n",
    "\n",
    "## Assess input variability\n"
   ]
  },
  {
   "cell_type": "markdown",
   "id": "32d7adf1",
   "metadata": {},
   "source": [
    "### __qX__ Overview of inputs\n"
   ]
  },
  {
   "cell_type": "code",
   "execution_count": null,
   "id": "89268391",
   "metadata": {},
   "outputs": [],
   "source": [
    "(\n",
    "    md_circuit\n",
    "\n",
    ")"
   ]
  },
  {
   "cell_type": "markdown",
   "id": "632e2be9",
   "metadata": {},
   "source": [
    "*Observations*\n",
    "\n",
    "- ...\n",
    "  - (Your response here)\n"
   ]
  },
  {
   "cell_type": "markdown",
   "id": "211e8faa",
   "metadata": {},
   "source": [
    "## Hypothesis: Same Variability\n",
    "\n",
    "> Since the random perturbations `dL, dR, dC` are mutually independent, we should see the same variability regardless of the circuit component values.\n",
    "\n",
    "You'll assess this hypothesis in the next task.\n"
   ]
  },
  {
   "cell_type": "markdown",
   "id": "d32405be",
   "metadata": {},
   "source": [
    "### __qX__ Compare designed and realized values\n",
    "\n",
    "The following plot shows the designed and realized capacitance values. Answer the questions under *observations* below.\n",
    "\n",
    "*Hint*: Remember that you can add `gr.scale_x_log10()` and `gr.scale_y_log10()` to a ggplot to change to a log-log scale.\n"
   ]
  },
  {
   "cell_type": "code",
   "execution_count": null,
   "id": "b8506193",
   "metadata": {},
   "outputs": [],
   "source": [
    "# TASK: Inspect the following plot\n",
    "(\n",
    "    # NOTE: No need to edit this part of the code\n",
    "    md_circuit\n",
    "    >> gr.ev_sample(\n",
    "        n=20,\n",
    "        df_det=gr.df_make(\n",
    "            R=1e-1,\n",
    "            L=1e-5,\n",
    "            C=gr.logspace(-3, 2, 20)\n",
    "        )\n",
    "    )\n",
    "    # Visualize\n",
    "    >> gr.ggplot(gr.aes(\"C\", \"Cr\"))\n",
    "    + gr.geom_point()\n",
    "\n",
    ")"
   ]
  },
  {
   "cell_type": "markdown",
   "id": "7fb170b7",
   "metadata": {},
   "source": [
    "*Observations*\n",
    "\n",
    "- Consider the hypothesis `we should see the same variability regardless of the circuit component values`. Is this hypothesis true?\n",
    "  - (Your response here)\n"
   ]
  },
  {
   "cell_type": "markdown",
   "id": "b06faa64",
   "metadata": {},
   "source": [
    "# Outputs\n"
   ]
  },
  {
   "cell_type": "markdown",
   "id": "d348d24b",
   "metadata": {},
   "source": [
    "### __qX__ Nominal outputs\n",
    "\n",
    "Evaluate the model at its nominal input values.\n"
   ]
  },
  {
   "cell_type": "code",
   "execution_count": null,
   "id": "4b828e90",
   "metadata": {},
   "outputs": [],
   "source": [
    "## TODO: Evaluate the model at its nominal input values\n",
    "df_nominal = (\n",
    "    md_circuit\n",
    "\n",
    ")\n",
    "\n",
    "# NOTE: Use this to check your work\n",
    "assert \\\n",
    "    isinstance(df_nominal, pd.DataFrame), \\\n",
    "    \"df_nominal is not a DataFrame; did you evaluate the model?\"\n",
    "\n",
    "df_nominal"
   ]
  },
  {
   "cell_type": "markdown",
   "id": "b227b5a5",
   "metadata": {},
   "source": [
    "### __qX__ Overview of outputs\n"
   ]
  },
  {
   "cell_type": "code",
   "execution_count": null,
   "id": "2d11b3ba",
   "metadata": {},
   "outputs": [],
   "source": [
    "(\n",
    "    md_circuit\n",
    "    >> gr.ev_sample(n=1e4, df_det=\"nom\")\n",
    "\n",
    ")"
   ]
  },
  {
   "cell_type": "markdown",
   "id": "9cedc554",
   "metadata": {},
   "source": [
    "*Observations*\n",
    "\n",
    "*Note*: If you can't reliably make out the shapes of the distributions, try increasing `n`.\n",
    "\n",
    "- What distribution shapes do the realized component values `Lr, Rr, Cr` have?\n",
    "  - (Your response here)\n",
    "- What distribution shape does the output `Q` have?\n",
    "  - (Your response here)\n",
    "- What distribution shape does the output `omega0` have?\n",
    "  - (Your response here)\n"
   ]
  },
  {
   "cell_type": "markdown",
   "id": "0c63ae52",
   "metadata": {},
   "source": [
    "## Hypothesis: Nominal Outputs are Likely Outputs\n",
    "\n",
    "> The nominal model outputs should be more likely output values.\n"
   ]
  },
  {
   "cell_type": "markdown",
   "id": "7634838e",
   "metadata": {},
   "source": [
    "### __qX__ Compare distribution and nominal values for `omega0`\n",
    "\n",
    "Create a plot that visualizes both a distribution of `omega0` and the nominal output value of `omega0`.\n"
   ]
  },
  {
   "cell_type": "code",
   "execution_count": null,
   "id": "9b57057e",
   "metadata": {},
   "outputs": [],
   "source": [
    "(\n",
    "    md_circuit\n",
    "    >> gr.ev_sample(n=1e4, df_det=\"nom\")\n",
    "\n",
    ")"
   ]
  },
  {
   "cell_type": "markdown",
   "id": "a4c32bb0",
   "metadata": {},
   "source": [
    "*Observations*\n",
    "\n",
    "- How does the hypothesis `The nominal model outputs should be more likely output values` hold up for `omega0`?\n",
    "  - (Your response here)\n"
   ]
  },
  {
   "cell_type": "markdown",
   "id": "4dbc6f19",
   "metadata": {},
   "source": [
    "### __qX__ Density of outputs\n",
    "\n",
    "Visualize `Q` and `omega0` with a 2d bin plot. Increase the sample size `n` to get a \"full\" plot.\n"
   ]
  },
  {
   "cell_type": "code",
   "execution_count": null,
   "id": "8f407624",
   "metadata": {},
   "outputs": [],
   "source": [
    "(\n",
    "    md_circuit\n",
    "#     >> gr.ev_sample(n=???, df_det=\"nom\")\n",
    "\n",
    ")"
   ]
  },
  {
   "cell_type": "markdown",
   "id": "5e7a206e",
   "metadata": {},
   "source": [
    "*Observations*\n",
    "\n",
    "- Briefly describe the distribution of realized performance (values of `Q` and `omega0`).\n",
    "  - (Your response here)\n"
   ]
  },
  {
   "cell_type": "markdown",
   "id": "5bb54b8a",
   "metadata": {},
   "source": [
    "### __qX__ Compare nominal with distribution\n"
   ]
  },
  {
   "cell_type": "code",
   "execution_count": null,
   "id": "e0de23e4",
   "metadata": {},
   "outputs": [],
   "source": [
    "(\n",
    "    md_circuit\n",
    "    >> gr.ev_sample(n=1e4, df_det=\"nom\")\n",
    "    \n",
    "    >> gr.ggplot(gr.aes(\"Q\", \"omega0\"))\n",
    "    + gr.geom_bin2d()\n",
    "    + gr.geom_point(\n",
    "        # Use the `data` argument to add a geometry for\n",
    "        # the output value associated with nominal input values\n",
    "\n",
    "        color=\"salmon\",\n",
    "        size=4,\n",
    "    )\n",
    ")"
   ]
  },
  {
   "cell_type": "markdown",
   "id": "d15434ff",
   "metadata": {},
   "source": [
    "*Observations*\n",
    "\n",
    "The nominal design (red point) represents the predicted performance if we assume the nominal circuit component values. \n",
    "\n",
    "- How does the distribution of real circuit performance (values of `Q`, `omega0`) compare with the nominal performance?\n",
    "  - (Your response here)\n",
    "- Is the most likely performance (values of `Q`, `omega0`) the same as the nominal performance? (\"Most likely\" is where `count` is the largest.)\n",
    "  - (Your response here)\n",
    "- Assume that another system depends on the particular values of `Q` and `omega0` provided by this system. Would it be safe to assume the performance is within 1% of the nominal performance?\n",
    "  - (Your response here)\n"
   ]
  },
  {
   "cell_type": "markdown",
   "id": "5803ee6b",
   "metadata": {},
   "source": [
    "# Input-to-output Relationships\n",
    "\n",
    "TODO\n"
   ]
  },
  {
   "cell_type": "markdown",
   "id": "0145b1fa",
   "metadata": {},
   "source": [
    "### __qX__ Correlation tile plot\n",
    "\n",
    "Use the routine `tf_iocorr()` to transform the data from `ev_sample()` into input-to-output correlations. The `pt_auto()` routine will automatically plot those correlations as colors on a tile plot. Study the correlation tile plot, and answer the questions under *observations* below.\n",
    "\n",
    "*Note*: You're going to see a *ton* of warnings when you run `tf_iocorr()` on the data; you'll think about what those mean in the questions below.\n"
   ]
  },
  {
   "cell_type": "code",
   "execution_count": null,
   "id": "a2f06a70",
   "metadata": {},
   "outputs": [],
   "source": [
    "(\n",
    "    ## NOTE: No need to edit the call to ev_sample()\n",
    "    md_circuit\n",
    "    >> gr.ev_sample(\n",
    "        n=1e3, \n",
    "        df_det=\"nom\",\n",
    "    )\n",
    "    ## TODO: Use gr.tf_iocorr() to compute \n",
    "    ## input-to-output correlations\n",
    "\n",
    "    ## NOTE: No need to edit; pt_auto will automatically\n",
    "    ## adjust the plot to use the correlation data\n",
    "    >> gr.pt_auto()\n",
    ")"
   ]
  },
  {
   "cell_type": "markdown",
   "id": "c823dbb6",
   "metadata": {},
   "source": [
    "*Observations*\n",
    "\n",
    "- The verb `tf_iocorr()` should throw a ton of warnings. What are these messages warning you about? Based on the colors in the plot, which correlations are not defined?\n",
    "  - (Your response here)\n",
    "- Do we have any information on how the outputs `omega0` and `Q` depend on the deterministic inputs `L, R, C`? Why do you think that is?\n",
    "  - (Your response here)\n",
    "- Based on the available information: Which inputs does `omega0` depend on? How do those inputs affect `omega0`?\n",
    "  - (Your response here)\n",
    "- Based on the available information: Which inputs does `Q` depend on? How do those inputs affect `Q`?\n",
    "  - (Your response here)\n"
   ]
  },
  {
   "cell_type": "markdown",
   "id": "5824b804",
   "metadata": {},
   "source": [
    "### __qX__ Sweeps\n",
    "\n",
    "(Use this to get more detailed view)\n"
   ]
  },
  {
   "cell_type": "code",
   "execution_count": null,
   "id": "63fe8794",
   "metadata": {},
   "outputs": [],
   "source": [
    "(\n",
    "    md_circuit\n",
    "    >> gr.ev_sinews(df_det=\"swp\")\n",
    "    >> gr.pt_auto()\n",
    ")"
   ]
  },
  {
   "cell_type": "markdown",
   "id": "df8e55e3",
   "metadata": {},
   "source": [
    "### __qX__ Targeted sweeps\n"
   ]
  },
  {
   "cell_type": "code",
   "execution_count": null,
   "id": "e8175c63",
   "metadata": {},
   "outputs": [],
   "source": [
    "(\n",
    "    md_circuit\n",
    "    >> gr.ev_sinews(df_det=\"swp\", n_density=50)\n",
    "    >> gr.pt_sinew_outputs(\n",
    "        var=[\"L\", \"R\", \"C\"],\n",
    "        out=[\"omega0\"],\n",
    "    )\n",
    ")"
   ]
  }
 ],
 "metadata": {
  "kernelspec": {
   "display_name": "Python 3 (ipykernel)",
   "language": "python",
   "name": "python3"
  },
  "language_info": {
   "codemirror_mode": {
    "name": "ipython",
    "version": 3
   },
   "file_extension": ".py",
   "mimetype": "text/x-python",
   "name": "python",
   "nbconvert_exporter": "python",
   "pygments_lexer": "ipython3",
   "version": "3.8.8"
  }
 },
 "nbformat": 4,
 "nbformat_minor": 5
}
