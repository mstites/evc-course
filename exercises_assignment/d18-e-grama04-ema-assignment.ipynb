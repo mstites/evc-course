{
 "cells": [
  {
   "cell_type": "markdown",
   "id": "2a9b618d",
   "metadata": {},
   "source": [
    "# Exploratory Model Analysis\n",
    "\n",
    "*Purpose*: **TODO**.\n"
   ]
  },
  {
   "cell_type": "markdown",
   "id": "7f29a0f8",
   "metadata": {},
   "source": [
    "## Setup\n"
   ]
  },
  {
   "cell_type": "code",
   "execution_count": null,
   "id": "85283796",
   "metadata": {},
   "outputs": [],
   "source": [
    "import grama as gr\n",
    "DF = gr.Intention()\n",
    "%matplotlib inline"
   ]
  },
  {
   "cell_type": "markdown",
   "id": "82d26f7e",
   "metadata": {},
   "source": []
  },
  {
   "cell_type": "code",
   "execution_count": null,
   "id": "180850a4",
   "metadata": {},
   "outputs": [],
   "source": [
    "from grama.models import make_prlc_rand\n",
    "md_circuit = make_prlc_rand()"
   ]
  },
  {
   "cell_type": "markdown",
   "id": "2dbf9326",
   "metadata": {},
   "source": [
    "# Basic Facts\n"
   ]
  },
  {
   "cell_type": "markdown",
   "id": "a2efd0ea",
   "metadata": {},
   "source": [
    "### __qX__ Model summary\n"
   ]
  },
  {
   "cell_type": "code",
   "execution_count": null,
   "id": "4afc88df",
   "metadata": {},
   "outputs": [],
   "source": []
  },
  {
   "cell_type": "markdown",
   "id": "ca1a0a5a",
   "metadata": {},
   "source": [
    "*Observations*\n",
    "\n",
    "- ...\n",
    "  - (Your response here)\n"
   ]
  },
  {
   "cell_type": "markdown",
   "id": "20d5f0c0",
   "metadata": {},
   "source": [
    "## Model context\n",
    "\n",
    "The deterministic variables `L, R, C` are the *designed* component values.\n",
    "\n",
    "The random variables `dL, dR, dC` are *perturbations* to the designed component values.\n"
   ]
  },
  {
   "cell_type": "markdown",
   "id": "e8c9800b",
   "metadata": {},
   "source": [
    "# Inputs\n",
    "\n",
    "## Assess input variability\n"
   ]
  },
  {
   "cell_type": "markdown",
   "id": "d0481379",
   "metadata": {},
   "source": [
    "### __qX__ Overview of inputs\n"
   ]
  },
  {
   "cell_type": "code",
   "execution_count": null,
   "id": "d094c8ef",
   "metadata": {},
   "outputs": [],
   "source": [
    "(\n",
    "    md_circuit\n",
    "\n",
    ")"
   ]
  },
  {
   "cell_type": "markdown",
   "id": "a01a4787",
   "metadata": {},
   "source": [
    "*Observations*\n",
    "\n",
    "- ...\n",
    "  - (Your response here)\n"
   ]
  },
  {
   "cell_type": "markdown",
   "id": "29be5a21",
   "metadata": {},
   "source": [
    "### __qX__ Compare designed and realized values\n",
    "\n",
    "The following plot shows the designed and realized capacitance values. Inspect the plot, then change to log scales for both the x and y axes. Answer the questions under *observations* below.\n"
   ]
  },
  {
   "cell_type": "code",
   "execution_count": null,
   "id": "04c13e57",
   "metadata": {},
   "outputs": [],
   "source": [
    "# TASK: Inspect the following plot, change to a log scale\n",
    "# for both x and y\n",
    "(\n",
    "    # NOTE: No need to edit this part of the code\n",
    "    md_circuit\n",
    "    >> gr.ev_sample(\n",
    "        n=20,\n",
    "        df_det=gr.df_make(\n",
    "            R=1e-1,\n",
    "            L=1e-5,\n",
    "            C=gr.logspace(-3, 2, 20)\n",
    "        )\n",
    "    )\n",
    "    # Visualize\n",
    "    >> gr.ggplot(gr.aes(\"C\", \"Cr\"))\n",
    "    + gr.geom_point()\n",
    "    # TASK: Add a log scale for x and y\n",
    "\n",
    ")"
   ]
  },
  {
   "cell_type": "markdown",
   "id": "3114b696",
   "metadata": {},
   "source": [
    "*Observations*\n",
    "\n",
    "- ...\n",
    "  - (Your response here)\n"
   ]
  },
  {
   "cell_type": "markdown",
   "id": "3e2a44a1",
   "metadata": {},
   "source": [
    "# Outputs\n"
   ]
  },
  {
   "cell_type": "markdown",
   "id": "9cc1749e",
   "metadata": {},
   "source": [
    "### __qX__ Overview of outputs\n"
   ]
  },
  {
   "cell_type": "code",
   "execution_count": null,
   "id": "f95998e5",
   "metadata": {},
   "outputs": [],
   "source": [
    "(\n",
    "    md_circuit\n",
    "\n",
    ")"
   ]
  },
  {
   "cell_type": "markdown",
   "id": "66c6b9fd",
   "metadata": {},
   "source": [
    "*Observations*\n",
    "\n",
    "*Note*: If you can't reliably make out the shapes of the distributions, try increasing `n`.\n",
    "\n",
    "- What distribution shapes do the realized component values `Lr, Rr, Cr` have?\n",
    "  - (Your response here)\n",
    "- What distribution shape does the output `Q` have?\n",
    "  - (Your response here)\n",
    "- What distribution shape does the output `omega0` have?\n",
    "  - (Your response here)\n"
   ]
  },
  {
   "cell_type": "markdown",
   "id": "71685c88",
   "metadata": {},
   "source": [
    "### __qX__ Scatter of outputs\n"
   ]
  },
  {
   "cell_type": "code",
   "execution_count": null,
   "id": "1e15e4d8",
   "metadata": {},
   "outputs": [],
   "source": [
    "(\n",
    "    md_circuit\n",
    "    >> gr.ev_sample(n=1e3, df_det=\"nom\")\n",
    "\n",
    ")\n"
   ]
  },
  {
   "cell_type": "markdown",
   "id": "55124152",
   "metadata": {},
   "source": [
    "*Observations*\n",
    "\n",
    "- ...\n",
    "  - (Your response here)\n"
   ]
  },
  {
   "cell_type": "markdown",
   "id": "131a45ac",
   "metadata": {},
   "source": [
    "### __qX__ Density of outputs\n",
    "\n",
    "Visualize `Q` and `omega0` with a 2d bin plot. Increase the sample size `n` to get a \"full\" plot.\n"
   ]
  },
  {
   "cell_type": "code",
   "execution_count": null,
   "id": "be89ec94",
   "metadata": {},
   "outputs": [],
   "source": [
    "(\n",
    "    md_circuit\n",
    "\n",
    ")"
   ]
  },
  {
   "cell_type": "markdown",
   "id": "8aac9f55",
   "metadata": {},
   "source": [
    "*Observations*\n",
    "\n",
    "- Briefly describe the distribution of realized performance (values of `Q` and `omega0`).\n",
    "  - (Your response here)\n"
   ]
  },
  {
   "cell_type": "markdown",
   "id": "643550c9",
   "metadata": {},
   "source": [
    "### __qX__ Compare nominal with distribution\n"
   ]
  },
  {
   "cell_type": "code",
   "execution_count": null,
   "id": "817fc790",
   "metadata": {},
   "outputs": [],
   "source": [
    "(\n",
    "    md_circuit\n",
    "    >> gr.ev_sample(n=1e4, df_det=\"nom\")\n",
    "    \n",
    "    >> gr.ggplot(gr.aes(\"Q\", \"omega0\"))\n",
    "    + gr.geom_bin2d()\n",
    "    + gr.geom_point(\n",
    "        # Use the `data` argument to add a geometry for\n",
    "        # the output value associated with nominal input values\n",
    "\n",
    "        color=\"salmon\",\n",
    "        size=4,\n",
    "    )\n",
    ")"
   ]
  },
  {
   "cell_type": "markdown",
   "id": "efdb1abc",
   "metadata": {},
   "source": [
    "*Observations*\n",
    "\n",
    "The nominal design (red point) represents the predicted performance if we assume the nominal circuit component values. \n",
    "\n",
    "- How does the distribution of real circuit performance (values of `Q`, `omega0`) compare with the nominal performance?\n",
    "  - (Your response here)\n",
    "- Is the most likely performance (values of `Q`, `omega0`) the same as the nominal performance? (\"Most likely\" is where `count` is the largest.)\n",
    "  - (Your response here)\n",
    "- Assume that another system depends on the particular values of `Q` and `omega0` provided by this system. Would it be safe to assume the performance is within 1% of the nominal performance?\n",
    "  - (Your response here)\n"
   ]
  },
  {
   "cell_type": "markdown",
   "id": "7b51b589",
   "metadata": {},
   "source": [
    "# Input-to-output Relationships\n"
   ]
  },
  {
   "cell_type": "markdown",
   "id": "168b2d6d",
   "metadata": {},
   "source": [
    "### __qX__ Correlation tile plot\n",
    "\n"
   ]
  },
  {
   "cell_type": "code",
   "execution_count": null,
   "id": "b5dbc153",
   "metadata": {},
   "outputs": [],
   "source": [
    "(\n",
    "    md_circuit\n",
    "    >> gr.ev_sample(\n",
    "        n=1e3, \n",
    "        df_det=\"nom\",\n",
    "    )\n",
    "\n",
    "    >> gr.pt_auto()\n",
    ")"
   ]
  },
  {
   "cell_type": "markdown",
   "id": "47ddbc74",
   "metadata": {},
   "source": [
    "*Observations*\n",
    "\n",
    "- ...\n",
    "  - (Your response here)\n"
   ]
  },
  {
   "cell_type": "markdown",
   "id": "15a56baa",
   "metadata": {},
   "source": [
    "### __qX__ Targeted scatterplots\n"
   ]
  },
  {
   "cell_type": "markdown",
   "id": "f98a31dc",
   "metadata": {
    "tags": []
   },
   "source": [
    "### __qX__ Sinew plot\n"
   ]
  },
  {
   "cell_type": "code",
   "execution_count": null,
   "id": "74e7e51b",
   "metadata": {},
   "outputs": [],
   "source": [
    "(\n",
    "    md_circuit\n",
    "\n",
    ")"
   ]
  },
  {
   "cell_type": "markdown",
   "id": "23cd857e",
   "metadata": {},
   "source": [
    "*Observations*\n",
    "\n",
    "- ...\n",
    "  - (Your response here)\n"
   ]
  }
 ],
 "metadata": {
  "kernelspec": {
   "display_name": "Python 3 (ipykernel)",
   "language": "python",
   "name": "python3"
  },
  "language_info": {
   "codemirror_mode": {
    "name": "ipython",
    "version": 3
   },
   "file_extension": ".py",
   "mimetype": "text/x-python",
   "name": "python",
   "nbconvert_exporter": "python",
   "pygments_lexer": "ipython3",
   "version": "3.9.7"
  }
 },
 "nbformat": 4,
 "nbformat_minor": 5
}
