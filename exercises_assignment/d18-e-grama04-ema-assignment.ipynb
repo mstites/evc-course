{
 "cells": [
  {
   "cell_type": "markdown",
   "id": "bea9bc45",
   "metadata": {},
   "source": [
    "# Exploratory Model Analysis\n",
    "\n",
    "*Purpose*: **TODO**.\n"
   ]
  },
  {
   "cell_type": "markdown",
   "id": "662c21f9",
   "metadata": {},
   "source": [
    "## Setup\n"
   ]
  },
  {
   "cell_type": "code",
   "execution_count": null,
   "id": "892bbc24",
   "metadata": {},
   "outputs": [],
   "source": [
    "import grama as gr\n",
    "DF = gr.Intention()\n",
    "%matplotlib inline"
   ]
  },
  {
   "cell_type": "markdown",
   "id": "67ef86ef",
   "metadata": {},
   "source": []
  },
  {
   "cell_type": "code",
   "execution_count": null,
   "id": "f3d1033e",
   "metadata": {},
   "outputs": [],
   "source": [
    "from grama.models import make_prlc_rand\n",
    "md_circuit = make_prlc_rand()"
   ]
  },
  {
   "cell_type": "markdown",
   "id": "294b47ac",
   "metadata": {},
   "source": [
    "# Basic Facts\n"
   ]
  },
  {
   "cell_type": "markdown",
   "id": "a6c95870",
   "metadata": {},
   "source": [
    "### __qX__ Model summary\n"
   ]
  },
  {
   "cell_type": "code",
   "execution_count": null,
   "id": "8024c994",
   "metadata": {},
   "outputs": [],
   "source": []
  },
  {
   "cell_type": "markdown",
   "id": "dd961ea9",
   "metadata": {},
   "source": [
    "*Observations*\n",
    "\n",
    "- ...\n",
    "  - (Your response here)\n"
   ]
  },
  {
   "cell_type": "markdown",
   "id": "f9ec06a4",
   "metadata": {},
   "source": [
    "## Model context\n",
    "\n",
    "The deterministic variables `L, R, C` are the *designed* component values.\n",
    "\n",
    "The random variables `dL, dR, dC` are *perturbations* to the designed component values.\n"
   ]
  },
  {
   "cell_type": "markdown",
   "id": "74eed600",
   "metadata": {},
   "source": [
    "# Inputs\n",
    "\n",
    "## Assess input variability\n"
   ]
  },
  {
   "cell_type": "markdown",
   "id": "e4b337bb",
   "metadata": {},
   "source": [
    "### __qX__ Overview of inputs\n"
   ]
  },
  {
   "cell_type": "code",
   "execution_count": null,
   "id": "a8ed4fe9",
   "metadata": {},
   "outputs": [],
   "source": [
    "(\n",
    "    md_circuit\n",
    "\n",
    ")"
   ]
  },
  {
   "cell_type": "markdown",
   "id": "8f04cd3b",
   "metadata": {},
   "source": [
    "*Observations*\n",
    "\n",
    "- ...\n",
    "  - (Your response here)\n"
   ]
  },
  {
   "cell_type": "markdown",
   "id": "a54b6626",
   "metadata": {},
   "source": [
    "### __qX__ Compare designed and realized values\n",
    "\n",
    "The following plot shows the designed and realized capacitance values. Inspect the plot, then change to log scales for both the x and y axes. Answer the questions under *observations* below.\n"
   ]
  },
  {
   "cell_type": "code",
   "execution_count": null,
   "id": "6eb7030b",
   "metadata": {},
   "outputs": [],
   "source": [
    "# TASK: Inspect the following plot, change to a log scale\n",
    "# for both x and y\n",
    "(\n",
    "    # NOTE: No need to edit this part of the code\n",
    "    md_circuit\n",
    "    >> gr.ev_sample(\n",
    "        n=20,\n",
    "        df_det=gr.df_make(\n",
    "            R=1e-1,\n",
    "            L=1e-5,\n",
    "            C=gr.logspace(-3, 2, 20)\n",
    "        )\n",
    "    )\n",
    "    # Visualize\n",
    "    >> gr.ggplot(gr.aes(\"C\", \"Cr\"))\n",
    "    + gr.geom_point()\n",
    "    # TASK: Add a log scale for x and y\n",
    "\n",
    ")"
   ]
  },
  {
   "cell_type": "markdown",
   "id": "56c7afd7",
   "metadata": {},
   "source": [
    "*Observations*\n",
    "\n",
    "- ...\n",
    "  - (Your response here)\n"
   ]
  },
  {
   "cell_type": "markdown",
   "id": "221a9cd7",
   "metadata": {},
   "source": [
    "# Outputs\n"
   ]
  },
  {
   "cell_type": "markdown",
   "id": "1f2e4521",
   "metadata": {},
   "source": [
    "### __qX__ Overview of outputs\n"
   ]
  },
  {
   "cell_type": "code",
   "execution_count": null,
   "id": "ab0aa97d",
   "metadata": {},
   "outputs": [],
   "source": [
    "(\n",
    "    md_circuit\n",
    "\n",
    ")"
   ]
  },
  {
   "cell_type": "markdown",
   "id": "a61c971a",
   "metadata": {},
   "source": [
    "*Observations*\n",
    "\n",
    "*Note*: If you can't reliably make out the shapes of the distributions, try increasing `n`.\n",
    "\n",
    "- What distribution shapes do the realized component values `Lr, Rr, Cr` have?\n",
    "  - (Your response here)\n",
    "- What distribution shape does the output `Q` have?\n",
    "  - (Your response here)\n",
    "- What distribution shape does the output `omega0` have?\n",
    "  - (Your response here)\n"
   ]
  },
  {
   "cell_type": "markdown",
   "id": "9594ba74",
   "metadata": {},
   "source": [
    "### __qX__ Scatter of outputs\n"
   ]
  },
  {
   "cell_type": "code",
   "execution_count": null,
   "id": "6e5259fe",
   "metadata": {},
   "outputs": [],
   "source": [
    "(\n",
    "    md_circuit\n",
    "    >> gr.ev_sample(n=1e3, df_det=\"nom\")\n",
    "\n",
    ")\n"
   ]
  },
  {
   "cell_type": "markdown",
   "id": "d8af09f3",
   "metadata": {},
   "source": [
    "*Observations*\n",
    "\n",
    "- ...\n",
    "  - (Your response here)\n"
   ]
  },
  {
   "cell_type": "markdown",
   "id": "21e8cd51",
   "metadata": {},
   "source": [
    "### __qX__ Density of outputs\n",
    "\n",
    "Visualize `Q` and `omega0` with a 2d bin plot. Increase the sample size `n` to get a \"full\" plot.\n"
   ]
  },
  {
   "cell_type": "code",
   "execution_count": null,
   "id": "3ff2128f",
   "metadata": {},
   "outputs": [],
   "source": [
    "(\n",
    "    md_circuit\n",
    "\n",
    ")"
   ]
  },
  {
   "cell_type": "markdown",
   "id": "c9ee6d65",
   "metadata": {},
   "source": [
    "*Observations*\n",
    "\n",
    "- Briefly describe the distribution of realized performance (values of `Q` and `omega0`).\n",
    "  - (Your response here)\n"
   ]
  },
  {
   "cell_type": "markdown",
   "id": "9f89a50f",
   "metadata": {},
   "source": [
    "### __qX__ Compare nominal with distribution\n"
   ]
  },
  {
   "cell_type": "code",
   "execution_count": null,
   "id": "95c9e5ad",
   "metadata": {},
   "outputs": [],
   "source": [
    "(\n",
    "    md_circuit\n",
    "    >> gr.ev_sample(n=1e4, df_det=\"nom\")\n",
    "    \n",
    "    >> gr.ggplot(gr.aes(\"Q\", \"omega0\"))\n",
    "    + gr.geom_bin2d()\n",
    "    + gr.geom_point(\n",
    "        # Use the `data` argument to add a geometry for\n",
    "        # the output value associated with nominal input values\n",
    "\n",
    "        color=\"salmon\",\n",
    "        size=4,\n",
    "    )\n",
    ")"
   ]
  },
  {
   "cell_type": "markdown",
   "id": "5aebc07b",
   "metadata": {},
   "source": [
    "*Observations*\n",
    "\n",
    "The nominal design (red point) represents the predicted performance if we assume the nominal circuit component values. \n",
    "\n",
    "- How does the distribution of real circuit performance (values of `Q`, `omega0`) compare with the nominal performance?\n",
    "  - (Your response here)\n",
    "- Is the most likely performance (values of `Q`, `omega0`) the same as the nominal performance? (\"Most likely\" is where `count` is the largest.)\n",
    "  - (Your response here)\n",
    "- Assume that another system depends on the particular values of `Q` and `omega0` provided by this system. Would it be safe to assume the performance is within 1% of the nominal performance?\n",
    "  - (Your response here)\n"
   ]
  },
  {
   "cell_type": "markdown",
   "id": "df220566",
   "metadata": {},
   "source": [
    "# Input-to-output Relationships\n"
   ]
  },
  {
   "cell_type": "markdown",
   "id": "58ea9908",
   "metadata": {},
   "source": [
    "### __qX__ Correlation tile plot\n",
    "\n"
   ]
  },
  {
   "cell_type": "code",
   "execution_count": null,
   "id": "d8a8f3cd",
   "metadata": {},
   "outputs": [],
   "source": [
    "(\n",
    "    md_circuit\n",
    "    >> gr.ev_sample(\n",
    "        n=1e3, \n",
    "        df_det=\"nom\",\n",
    "    )\n",
    "\n",
    "    >> gr.pt_auto()\n",
    ")"
   ]
  },
  {
   "cell_type": "markdown",
   "id": "50e5a095",
   "metadata": {},
   "source": [
    "*Observations*\n",
    "\n",
    "- ...\n",
    "  - (Your response here)\n"
   ]
  },
  {
   "cell_type": "markdown",
   "id": "d616ab79",
   "metadata": {},
   "source": [
    "### __qX__ Targeted scatterplots\n"
   ]
  },
  {
   "cell_type": "markdown",
   "id": "80d00098",
   "metadata": {
    "tags": []
   },
   "source": [
    "### __qX__ Sinew plot\n"
   ]
  },
  {
   "cell_type": "code",
   "execution_count": null,
   "id": "a1d20db5",
   "metadata": {},
   "outputs": [],
   "source": [
    "(\n",
    "    md_circuit\n",
    "\n",
    ")"
   ]
  },
  {
   "cell_type": "markdown",
   "id": "7c3e3cca",
   "metadata": {},
   "source": [
    "*Observations*\n",
    "\n",
    "- ...\n",
    "  - (Your response here)\n"
   ]
  }
 ],
 "metadata": {
  "kernelspec": {
   "display_name": "Python 3 (ipykernel)",
   "language": "python",
   "name": "python3"
  },
  "language_info": {
   "codemirror_mode": {
    "name": "ipython",
    "version": 3
   },
   "file_extension": ".py",
   "mimetype": "text/x-python",
   "name": "python",
   "nbconvert_exporter": "python",
   "pygments_lexer": "ipython3",
   "version": "3.9.7"
  }
 },
 "nbformat": 4,
 "nbformat_minor": 5
}
