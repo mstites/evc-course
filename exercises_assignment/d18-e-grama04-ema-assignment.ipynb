{
 "cells": [
  {
   "cell_type": "markdown",
   "id": "5089bd4c",
   "metadata": {},
   "source": [
    "# Exploratory Model Analysis\n",
    "\n",
    "*Purpose*: **TODO**.\n"
   ]
  },
  {
   "cell_type": "markdown",
   "id": "1cb1a979",
   "metadata": {
    "jp-MarkdownHeadingCollapsed": true,
    "tags": []
   },
   "source": [
    "## Core Idea: Curiosity and Skepticism\n",
    "\n",
    "Remember the core principles of EDA:\n",
    "\n",
    "1. Curiosity: Generate lots of ideas and hypotheses about your data.\n",
    "2. Skepticism: Remain unconvinced of those ideas, unless you can find credible patterns to support them.\n",
    "\n",
    "We can apply these same principles when studying a model; a process called *exploratory model analysis*. However, when studying a model, we have the means to more immediately test our hypotheses: We can *evaluate* the model to generate new data as we're carrying out our exploration!\n",
    "\n",
    "These ideas can be a little abstract, so let's illustrate them with a concrete example.\n"
   ]
  },
  {
   "cell_type": "markdown",
   "id": "fc6b1f35",
   "metadata": {},
   "source": [
    "## Setup\n"
   ]
  },
  {
   "cell_type": "code",
   "execution_count": null,
   "id": "cbf442a1",
   "metadata": {},
   "outputs": [],
   "source": [
    "import grama as gr\n",
    "import pandas as pd\n",
    "DF = gr.Intention()\n",
    "%matplotlib inline"
   ]
  },
  {
   "cell_type": "markdown",
   "id": "ceffb692",
   "metadata": {},
   "source": [
    "## Running Example: Circuit model\n",
    "\n",
    "The following code initializes a model for a [parallel RLC circuit](https://en.wikipedia.org/wiki/RLC_circuit#Parallel_circuit). I'm not expecting you to know any circuit theory; in fact, I chose this model because you're unlikely to know much about this system. We will use exploratory model analysis techniques to learn something about this model.\n"
   ]
  },
  {
   "cell_type": "code",
   "execution_count": null,
   "id": "29734dfd",
   "metadata": {},
   "outputs": [],
   "source": [
    "from grama.models import make_prlc_rand\n",
    "md_circuit = make_prlc_rand()"
   ]
  },
  {
   "cell_type": "markdown",
   "id": "ae271e90",
   "metadata": {},
   "source": [
    "# Basic Facts\n",
    "\n",
    "Before we start exploring a model, we should first understand the basic facts about that model. This is most easily done in grama by printing the model's summary:\n"
   ]
  },
  {
   "cell_type": "markdown",
   "id": "8df1c6ee",
   "metadata": {},
   "source": [
    "### __qX__ Model summary\n",
    "\n",
    "Print the model summary for `md_circuit`. Answer the questions under *observations* below.\n"
   ]
  },
  {
   "cell_type": "code",
   "execution_count": null,
   "id": "574239ad",
   "metadata": {},
   "outputs": [],
   "source": []
  },
  {
   "cell_type": "markdown",
   "id": "f4a408f2",
   "metadata": {},
   "source": [
    "*Observations*\n",
    "\n",
    "- Compare the variability (measured by standard deviation) of the three random variables. Which is most variable?\n",
    "  - (Your response here)\n"
   ]
  },
  {
   "cell_type": "markdown",
   "id": "1b805d6c",
   "metadata": {},
   "source": [
    "## Model context\n",
    "\n",
    "The symbols above don't tell us anything about what the model quantities *mean*. Here are some basic facts on the quantities in the model\n",
    "\n",
    "| Variable | I/O | Description |\n",
    "|---|---|---|\n",
    "| `L` | Input | Nominal inductance |\n",
    "| `R` | Input | Nominal resistance |\n",
    "| `C` | Input | Nominal capacitance |\n",
    "| `dL` | Input | Percent error on inductance |\n",
    "| `dR` | Input | Percent error on resistance |\n",
    "| `dC` | Input | Percent error on capacitance |\n",
    "| `omega0` | Output | Natural frequency |\n",
    "| `Q` | Output | Quality factor |\n",
    "\n",
    "The deterministic variables `L, R, C` are the *designed* component values; these are selected by a circuit designer to achieve a desired performance. \n",
    "\n",
    "The random variables `dL, dR, dC` are *perturbations* to the designed component values. These random perturbations model the variability we would see in production, as manufactured components exhibit real variability.\n",
    "\n",
    "The output `omega0` is the natural frequency; depending on the use-case, a designer would want to achieve a particular `omega0`. Thus having `omega0` lie close to some target value is desirable.\n",
    "\n",
    "The output `Q` is the quality factor; a larger `Q` corresponds to a more \"selective\" circuit. Put differently, a higher `Q` helps the circuit reject unwanted signals.\n"
   ]
  },
  {
   "cell_type": "markdown",
   "id": "4d11ee06",
   "metadata": {},
   "source": [
    "# Inputs\n",
    "\n",
    "\n",
    "\n",
    "## Assess input variability\n"
   ]
  },
  {
   "cell_type": "markdown",
   "id": "1951c7c6",
   "metadata": {},
   "source": [
    "### __qX__ Overview of inputs\n"
   ]
  },
  {
   "cell_type": "code",
   "execution_count": null,
   "id": "d3949ed4",
   "metadata": {},
   "outputs": [],
   "source": [
    "(\n",
    "    md_circuit\n",
    "\n",
    ")"
   ]
  },
  {
   "cell_type": "markdown",
   "id": "3a5b006c",
   "metadata": {},
   "source": [
    "*Observations*\n",
    "\n",
    "- ...\n",
    "  - (Your response here)\n"
   ]
  },
  {
   "cell_type": "markdown",
   "id": "30a219c9",
   "metadata": {},
   "source": [
    "## Hypothesis: Same Variability\n",
    "\n",
    "> Since the random perturbations `dL, dR, dC` are mutually independent, we should see the same variability regardless of the circuit component values.\n",
    "\n",
    "You'll assess this hypothesis in the next task.\n"
   ]
  },
  {
   "cell_type": "markdown",
   "id": "15093cd7",
   "metadata": {},
   "source": [
    "### __qX__ Compare designed and realized values\n",
    "\n",
    "The following plot shows the designed and realized capacitance values. Answer the questions under *observations* below.\n",
    "\n",
    "*Hint*: Remember that you can add `gr.scale_x_log10()` and `gr.scale_y_log10()` to a ggplot to change to a log-log scale.\n"
   ]
  },
  {
   "cell_type": "code",
   "execution_count": null,
   "id": "d319faba",
   "metadata": {},
   "outputs": [],
   "source": [
    "# TASK: Inspect the following plot\n",
    "(\n",
    "    # NOTE: No need to edit this part of the code\n",
    "    md_circuit\n",
    "    >> gr.ev_sample(\n",
    "        n=20,\n",
    "        df_det=gr.df_make(\n",
    "            R=1e-1,\n",
    "            L=1e-5,\n",
    "            C=gr.logspace(-3, 2, 20)\n",
    "        )\n",
    "    )\n",
    "    # Visualize\n",
    "    >> gr.ggplot(gr.aes(\"C\", \"Cr\"))\n",
    "    + gr.geom_point()\n",
    "\n",
    ")"
   ]
  },
  {
   "cell_type": "markdown",
   "id": "b41fcd02",
   "metadata": {},
   "source": [
    "*Observations*\n",
    "\n",
    "- Consider the hypothesis `we should see the same variability regardless of the circuit component values`. Is this hypothesis true?\n",
    "  - (Your response here)\n"
   ]
  },
  {
   "cell_type": "markdown",
   "id": "6051e6a2",
   "metadata": {},
   "source": [
    "# Outputs\n"
   ]
  },
  {
   "cell_type": "markdown",
   "id": "9f4da158",
   "metadata": {},
   "source": [
    "### __qX__ Nominal outputs\n",
    "\n",
    "Evaluate the model at its nominal input values.\n"
   ]
  },
  {
   "cell_type": "code",
   "execution_count": null,
   "id": "460761fa",
   "metadata": {},
   "outputs": [],
   "source": [
    "## TODO: Evaluate the model at its nominal input values\n",
    "df_nominal = (\n",
    "    md_circuit\n",
    "\n",
    ")\n",
    "\n",
    "# NOTE: Use this to check your work\n",
    "assert \\\n",
    "    isinstance(df_nominal, pd.DataFrame), \\\n",
    "    \"df_nominal is not a DataFrame; did you evaluate the model?\"\n",
    "\n",
    "df_nominal"
   ]
  },
  {
   "cell_type": "markdown",
   "id": "5f265c3e",
   "metadata": {},
   "source": [
    "### __qX__ Overview of outputs\n"
   ]
  },
  {
   "cell_type": "code",
   "execution_count": null,
   "id": "0720e750",
   "metadata": {},
   "outputs": [],
   "source": [
    "(\n",
    "    md_circuit\n",
    "    >> gr.ev_sample(n=1e4, df_det=\"nom\")\n",
    "\n",
    ")"
   ]
  },
  {
   "cell_type": "markdown",
   "id": "85b65882",
   "metadata": {},
   "source": [
    "*Observations*\n",
    "\n",
    "*Note*: If you can't reliably make out the shapes of the distributions, try increasing `n`.\n",
    "\n",
    "- What distribution shapes do the realized component values `Lr, Rr, Cr` have?\n",
    "  - (Your response here)\n",
    "- What distribution shape does the output `Q` have?\n",
    "  - (Your response here)\n",
    "- What distribution shape does the output `omega0` have?\n",
    "  - (Your response here)\n"
   ]
  },
  {
   "cell_type": "markdown",
   "id": "577712cc",
   "metadata": {},
   "source": [
    "## Hypothesis: Nominal Outputs are Likely Outputs\n",
    "\n",
    "> The nominal model outputs should be more likely output values.\n"
   ]
  },
  {
   "cell_type": "markdown",
   "id": "2f8c0a02",
   "metadata": {},
   "source": [
    "### __qX__ Compare distribution and nominal values for `omega0`\n",
    "\n",
    "Create a plot that visualizes both a distribution of `omega0` and the nominal output value of `omega0`.\n"
   ]
  },
  {
   "cell_type": "code",
   "execution_count": null,
   "id": "320f2944",
   "metadata": {},
   "outputs": [],
   "source": [
    "(\n",
    "    md_circuit\n",
    "    >> gr.ev_sample(n=1e4, df_det=\"nom\")\n",
    "\n",
    ")"
   ]
  },
  {
   "cell_type": "markdown",
   "id": "9a9c2fd8",
   "metadata": {},
   "source": [
    "*Observations*\n",
    "\n",
    "- How does the hypothesis `The nominal model outputs should be more likely output values` hold up for `omega0`?\n",
    "  - (Your response here)\n"
   ]
  },
  {
   "cell_type": "markdown",
   "id": "5f59535a",
   "metadata": {},
   "source": [
    "### __qX__ Density of outputs\n",
    "\n",
    "Visualize `Q` and `omega0` with a 2d bin plot. Increase the sample size `n` to get a \"full\" plot.\n"
   ]
  },
  {
   "cell_type": "code",
   "execution_count": null,
   "id": "b5512434",
   "metadata": {},
   "outputs": [],
   "source": [
    "(\n",
    "    md_circuit\n",
    "#     >> gr.ev_sample(n=???, df_det=\"nom\")\n",
    "\n",
    ")"
   ]
  },
  {
   "cell_type": "markdown",
   "id": "ba093272",
   "metadata": {},
   "source": [
    "*Observations*\n",
    "\n",
    "- Briefly describe the distribution of realized performance (values of `Q` and `omega0`).\n",
    "  - (Your response here)\n"
   ]
  },
  {
   "cell_type": "markdown",
   "id": "ef31ad6b",
   "metadata": {},
   "source": [
    "### __qX__ Compare nominal with distribution\n"
   ]
  },
  {
   "cell_type": "code",
   "execution_count": null,
   "id": "4409147f",
   "metadata": {},
   "outputs": [],
   "source": [
    "(\n",
    "    md_circuit\n",
    "    >> gr.ev_sample(n=1e4, df_det=\"nom\")\n",
    "    \n",
    "    >> gr.ggplot(gr.aes(\"Q\", \"omega0\"))\n",
    "    + gr.geom_bin2d()\n",
    "    + gr.geom_point(\n",
    "        # Use the `data` argument to add a geometry for\n",
    "        # the output value associated with nominal input values\n",
    "\n",
    "        color=\"salmon\",\n",
    "        size=4,\n",
    "    )\n",
    ")"
   ]
  },
  {
   "cell_type": "markdown",
   "id": "1e1db13f",
   "metadata": {},
   "source": [
    "*Observations*\n",
    "\n",
    "The nominal design (red point) represents the predicted performance if we assume the nominal circuit component values. \n",
    "\n",
    "- How does the distribution of real circuit performance (values of `Q`, `omega0`) compare with the nominal performance?\n",
    "  - (Your response here)\n",
    "- Is the most likely performance (values of `Q`, `omega0`) the same as the nominal performance? (\"Most likely\" is where `count` is the largest.)\n",
    "  - (Your response here)\n",
    "- Assume that another system depends on the particular values of `Q` and `omega0` provided by this system. Would it be safe to assume the performance is within 1% of the nominal performance?\n",
    "  - (Your response here)\n"
   ]
  },
  {
   "cell_type": "markdown",
   "id": "8f8d84eb",
   "metadata": {},
   "source": [
    "# Input-to-output Relationships\n",
    "\n",
    "TODO\n"
   ]
  },
  {
   "cell_type": "markdown",
   "id": "ec676580",
   "metadata": {},
   "source": [
    "### __qX__ Correlation tile plot\n",
    "\n",
    "Use the routine `tf_iocorr()` to transform the data from `ev_sample()` into input-to-output correlations. The `pt_auto()` routine will automatically plot those correlations as colors on a tile plot. Study the correlation tile plot, and answer the questions under *observations* below.\n",
    "\n",
    "*Note*: You're going to see a *ton* of warnings when you run `tf_iocorr()` on the data; you'll think about what those mean in the questions below.\n"
   ]
  },
  {
   "cell_type": "code",
   "execution_count": null,
   "id": "f3e51f66",
   "metadata": {},
   "outputs": [],
   "source": [
    "(\n",
    "    ## NOTE: No need to edit the call to ev_sample()\n",
    "    md_circuit\n",
    "    >> gr.ev_sample(\n",
    "        n=1e3, \n",
    "        df_det=\"nom\",\n",
    "    )\n",
    "    ## TODO: Use gr.tf_iocorr() to compute \n",
    "    ## input-to-output correlations\n",
    "\n",
    "    ## NOTE: No need to edit; pt_auto will automatically\n",
    "    ## adjust the plot to use the correlation data\n",
    "    >> gr.pt_auto()\n",
    ")"
   ]
  },
  {
   "cell_type": "markdown",
   "id": "408e4bdb",
   "metadata": {},
   "source": [
    "*Observations*\n",
    "\n",
    "- The verb `tf_iocorr()` should throw a ton of warnings. What are these messages warning you about? Based on the colors in the plot, which correlations are not defined?\n",
    "  - (Your response here)\n",
    "- Do we have any information on how the outputs `omega0` and `Q` depend on the deterministic inputs `L, R, C`? Why do you think that is?\n",
    "  - (Your response here)\n",
    "- Based on the available information: Which inputs does `omega0` depend on? How do those inputs affect `omega0`?\n",
    "  - (Your response here)\n",
    "- Based on the available information: Which inputs does `Q` depend on? How do those inputs affect `Q`?\n",
    "  - (Your response here)\n"
   ]
  },
  {
   "cell_type": "markdown",
   "id": "4dc9218b",
   "metadata": {},
   "source": [
    "### __qX__ Sweeps\n",
    "\n",
    "(Use this to get more detailed view)\n"
   ]
  },
  {
   "cell_type": "code",
   "execution_count": null,
   "id": "c73f6ee6",
   "metadata": {},
   "outputs": [],
   "source": [
    "(\n",
    "    md_circuit\n",
    "    >> gr.ev_sinews(df_det=\"nom\")\n",
    "    >> gr.pt_auto()\n",
    ")"
   ]
  },
  {
   "cell_type": "markdown",
   "id": "0a0fdcf4",
   "metadata": {},
   "source": [
    "### __qX__ Targeted sweeps\n"
   ]
  },
  {
   "cell_type": "code",
   "execution_count": null,
   "id": "595e0acb",
   "metadata": {},
   "outputs": [],
   "source": [
    "(\n",
    "    md_circuit\n",
    "    >> gr.ev_sinews(df_det=\"nom\")\n",
    "    >> gr.pt_sinew_outputs(\n",
    "        var=[\"dL\", \"dR\", \"dC\"],\n",
    "        out=[\"omega0\"],\n",
    "    )\n",
    ")"
   ]
  }
 ],
 "metadata": {
  "kernelspec": {
   "display_name": "Python 3 (ipykernel)",
   "language": "python",
   "name": "python3"
  },
  "language_info": {
   "codemirror_mode": {
    "name": "ipython",
    "version": 3
   },
   "file_extension": ".py",
   "mimetype": "text/x-python",
   "name": "python",
   "nbconvert_exporter": "python",
   "pygments_lexer": "ipython3",
   "version": "3.8.8"
  },
  "toc-showtags": false
 },
 "nbformat": 4,
 "nbformat_minor": 5
}
