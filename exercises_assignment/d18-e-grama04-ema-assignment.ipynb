{
 "cells": [
  {
   "cell_type": "markdown",
   "id": "78a61a34",
   "metadata": {},
   "source": [
    "# Exploratory Model Analysis\n",
    "\n",
    "*Purpose*: **TODO**.\n"
   ]
  },
  {
   "cell_type": "markdown",
   "id": "dda516db",
   "metadata": {},
   "source": [
    "## Setup\n"
   ]
  },
  {
   "cell_type": "code",
   "execution_count": null,
   "id": "7088911c",
   "metadata": {},
   "outputs": [],
   "source": [
    "import grama as gr\n",
    "DF = gr.Intention()\n",
    "%matplotlib inline"
   ]
  },
  {
   "cell_type": "markdown",
   "id": "abe72da9",
   "metadata": {},
   "source": []
  },
  {
   "cell_type": "code",
   "execution_count": null,
   "id": "8dd626d9",
   "metadata": {},
   "outputs": [],
   "source": [
    "from grama.models import make_prlc_rand\n",
    "md_circuit = make_prlc_rand()"
   ]
  },
  {
   "cell_type": "markdown",
   "id": "cb139968",
   "metadata": {},
   "source": [
    "# Basic Facts\n"
   ]
  },
  {
   "cell_type": "markdown",
   "id": "1386f494",
   "metadata": {},
   "source": [
    "### __qX__ Model summary\n"
   ]
  },
  {
   "cell_type": "code",
   "execution_count": null,
   "id": "74efc9c6",
   "metadata": {},
   "outputs": [],
   "source": []
  },
  {
   "cell_type": "markdown",
   "id": "83e64750",
   "metadata": {},
   "source": [
    "*Observations*\n",
    "\n",
    "- ...\n",
    "  - (Your response here)\n"
   ]
  },
  {
   "cell_type": "markdown",
   "id": "ad72bd14",
   "metadata": {},
   "source": [
    "## Model context\n",
    "\n",
    "The deterministic variables `L, R, C` are the *designed* component values.\n",
    "\n",
    "The random variables `dL, dR, dC` are *perturbations* to the designed component values.\n"
   ]
  },
  {
   "cell_type": "markdown",
   "id": "0e0cd247",
   "metadata": {},
   "source": [
    "# Inputs\n",
    "\n",
    "## Assess input variability\n"
   ]
  },
  {
   "cell_type": "markdown",
   "id": "370488aa",
   "metadata": {},
   "source": [
    "### __qX__ Overview of inputs\n"
   ]
  },
  {
   "cell_type": "code",
   "execution_count": null,
   "id": "42a32c82",
   "metadata": {},
   "outputs": [],
   "source": [
    "(\n",
    "    md_circuit\n",
    "\n",
    ")"
   ]
  },
  {
   "cell_type": "markdown",
   "id": "7e8d43c2",
   "metadata": {},
   "source": [
    "*Observations*\n",
    "\n",
    "- ...\n",
    "  - (Your response here)\n"
   ]
  },
  {
   "cell_type": "markdown",
   "id": "ef6f3d41",
   "metadata": {},
   "source": [
    "### __qX__ Compare designed and realized values\n",
    "\n",
    "The following plot shows the designed and realized capacitance values. Inspect the plot, then change to log scales for both the x and y axes. Answer the questions under *observations* below.\n"
   ]
  },
  {
   "cell_type": "code",
   "execution_count": null,
   "id": "95e3dcd0",
   "metadata": {},
   "outputs": [],
   "source": [
    "# TASK: Inspect the following plot, change to a log scale\n",
    "# for both x and y\n",
    "(\n",
    "    # NOTE: No need to edit this part of the code\n",
    "    md_circuit\n",
    "    >> gr.ev_sample(\n",
    "        n=20,\n",
    "        df_det=gr.df_make(\n",
    "            R=1e-1,\n",
    "            L=1e-5,\n",
    "            C=gr.logspace(-3, 2, 20)\n",
    "        )\n",
    "    )\n",
    "    # Visualize\n",
    "    >> gr.ggplot(gr.aes(\"C\", \"Cr\"))\n",
    "    + gr.geom_point()\n",
    "    # TASK: Add a log scale for x and y\n",
    "\n",
    ")"
   ]
  },
  {
   "cell_type": "markdown",
   "id": "1bd20abd",
   "metadata": {},
   "source": [
    "*Observations*\n",
    "\n",
    "- ...\n",
    "  - (Your response here)\n"
   ]
  },
  {
   "cell_type": "markdown",
   "id": "a6a26980",
   "metadata": {},
   "source": [
    "# Outputs\n"
   ]
  },
  {
   "cell_type": "markdown",
   "id": "328abaa8",
   "metadata": {},
   "source": [
    "### __qX__ Overview of outputs\n"
   ]
  },
  {
   "cell_type": "code",
   "execution_count": null,
   "id": "8ab128ea",
   "metadata": {},
   "outputs": [],
   "source": [
    "(\n",
    "    md_circuit\n",
    "\n",
    ")"
   ]
  },
  {
   "cell_type": "markdown",
   "id": "fde1a200",
   "metadata": {},
   "source": [
    "*Observations*\n",
    "\n",
    "*Note*: If you can't reliably make out the shapes of the distributions, try increasing `n`.\n",
    "\n",
    "- What distribution shapes do the realized component values `Lr, Rr, Cr` have?\n",
    "  - (Your response here)\n",
    "- What distribution shape does the output `Q` have?\n",
    "  - (Your response here)\n",
    "- What distribution shape does the output `omega0` have?\n",
    "  - (Your response here)\n"
   ]
  },
  {
   "cell_type": "markdown",
   "id": "72e3c477",
   "metadata": {},
   "source": [
    "### __qX__ Scatter of outputs\n"
   ]
  },
  {
   "cell_type": "code",
   "execution_count": null,
   "id": "be8baf63",
   "metadata": {},
   "outputs": [],
   "source": [
    "(\n",
    "    md_circuit\n",
    "    >> gr.ev_sample(n=1e3, df_det=\"nom\")\n",
    "\n",
    ")\n"
   ]
  },
  {
   "cell_type": "markdown",
   "id": "59843ddc",
   "metadata": {},
   "source": [
    "*Observations*\n",
    "\n",
    "- ...\n",
    "  - (Your response here)\n"
   ]
  },
  {
   "cell_type": "markdown",
   "id": "1c6d80c8",
   "metadata": {},
   "source": [
    "### __qX__ Density of outputs\n",
    "\n",
    "Visualize `Q` and `omega0` with a 2d bin plot. Increase the sample size `n` to get a \"full\" plot.\n"
   ]
  },
  {
   "cell_type": "code",
   "execution_count": null,
   "id": "54d56717",
   "metadata": {},
   "outputs": [],
   "source": [
    "(\n",
    "    md_circuit\n",
    "\n",
    ")"
   ]
  },
  {
   "cell_type": "markdown",
   "id": "dba86ce6",
   "metadata": {},
   "source": [
    "*Observations*\n",
    "\n",
    "- Briefly describe the distribution of realized performance (values of `Q` and `omega0`).\n",
    "  - (Your response here)\n"
   ]
  },
  {
   "cell_type": "markdown",
   "id": "d36bb762",
   "metadata": {},
   "source": [
    "### __qX__ Compare nominal with distribution\n"
   ]
  },
  {
   "cell_type": "code",
   "execution_count": null,
   "id": "a0c41d58",
   "metadata": {},
   "outputs": [],
   "source": [
    "(\n",
    "    md_circuit\n",
    "    >> gr.ev_sample(n=1e4, df_det=\"nom\")\n",
    "    \n",
    "    >> gr.ggplot(gr.aes(\"Q\", \"omega0\"))\n",
    "    + gr.geom_bin2d()\n",
    "    + gr.geom_point(\n",
    "        # Use the `data` argument to add a geometry for\n",
    "        # the output value associated with nominal input values\n",
    "\n",
    "        color=\"salmon\",\n",
    "        size=4,\n",
    "    )\n",
    ")"
   ]
  },
  {
   "cell_type": "markdown",
   "id": "985e315b",
   "metadata": {},
   "source": [
    "*Observations*\n",
    "\n",
    "The nominal design (red point) represents the predicted performance if we assume the nominal circuit component values. \n",
    "\n",
    "- How does the distribution of real circuit performance (values of `Q`, `omega0`) compare with the nominal performance?\n",
    "  - (Your response here)\n",
    "- Is the most likely performance (values of `Q`, `omega0`) the same as the nominal performance? (\"Most likely\" is where `count` is the largest.)\n",
    "  - (Your response here)\n",
    "- Assume that another system depends on the particular values of `Q` and `omega0` provided by this system. Would it be safe to assume the performance is within 1% of the nominal performance?\n",
    "  - (Your response here)\n"
   ]
  },
  {
   "cell_type": "markdown",
   "id": "4f220308",
   "metadata": {},
   "source": [
    "# Input-to-output Relationships\n"
   ]
  },
  {
   "cell_type": "markdown",
   "id": "0480f87b",
   "metadata": {},
   "source": [
    "### __qX__ Correlation tile plot\n",
    "\n"
   ]
  },
  {
   "cell_type": "code",
   "execution_count": null,
   "id": "2c04c72f",
   "metadata": {},
   "outputs": [],
   "source": [
    "(\n",
    "    md_circuit\n",
    "    >> gr.ev_sample(\n",
    "        n=1e3, \n",
    "        df_det=\"nom\",\n",
    "    )\n",
    "\n",
    "    >> gr.pt_auto()\n",
    ")"
   ]
  },
  {
   "cell_type": "markdown",
   "id": "13f77c1d",
   "metadata": {},
   "source": [
    "*Observations*\n",
    "\n",
    "- ...\n",
    "  - (Your response here)\n"
   ]
  },
  {
   "cell_type": "markdown",
   "id": "5189a453",
   "metadata": {},
   "source": [
    "### __qX__ Targeted scatterplots\n"
   ]
  },
  {
   "cell_type": "markdown",
   "id": "22a3322e",
   "metadata": {
    "tags": []
   },
   "source": [
    "### __qX__ Sinew plot\n"
   ]
  },
  {
   "cell_type": "code",
   "execution_count": null,
   "id": "87de79ed",
   "metadata": {},
   "outputs": [],
   "source": [
    "(\n",
    "    md_circuit\n",
    "\n",
    ")"
   ]
  },
  {
   "cell_type": "markdown",
   "id": "f8b78f2c",
   "metadata": {},
   "source": [
    "*Observations*\n",
    "\n",
    "- ...\n",
    "  - (Your response here)\n"
   ]
  }
 ],
 "metadata": {
  "kernelspec": {
   "display_name": "Python 3 (ipykernel)",
   "language": "python",
   "name": "python3"
  },
  "language_info": {
   "codemirror_mode": {
    "name": "ipython",
    "version": 3
   },
   "file_extension": ".py",
   "mimetype": "text/x-python",
   "name": "python",
   "nbconvert_exporter": "python",
   "pygments_lexer": "ipython3",
   "version": "3.9.7"
  }
 },
 "nbformat": 4,
 "nbformat_minor": 5
}
