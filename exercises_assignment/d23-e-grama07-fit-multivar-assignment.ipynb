{
 "cells": [
  {
   "cell_type": "markdown",
   "id": "9a563503",
   "metadata": {},
   "source": [
    "# Fitting Multivariate Distributions\n",
    "\n",
    "*Purpose*: \n"
   ]
  },
  {
   "cell_type": "markdown",
   "id": "98e53b94",
   "metadata": {},
   "source": [
    "## Setup\n"
   ]
  },
  {
   "cell_type": "code",
   "execution_count": null,
   "id": "2f0d9ecb",
   "metadata": {},
   "outputs": [],
   "source": [
    "import grama as gr\n",
    "DF = gr.Intention()\n",
    "%matplotlib inline"
   ]
  },
  {
   "cell_type": "markdown",
   "id": "5afbb6a5",
   "metadata": {},
   "source": [
    "For this exercise, we'll study a dataset of observations on die cast aluminum parts.\n"
   ]
  },
  {
   "cell_type": "code",
   "execution_count": null,
   "id": "61a1b28b",
   "metadata": {},
   "outputs": [],
   "source": [
    "from grama.data import df_shewhart\n"
   ]
  },
  {
   "cell_type": "markdown",
   "id": "d361662f",
   "metadata": {},
   "source": [
    "# Dependency in the wild\n"
   ]
  },
  {
   "cell_type": "markdown",
   "id": "a1696b40",
   "metadata": {},
   "source": [
    "TODO"
   ]
  },
  {
   "cell_type": "code",
   "execution_count": null,
   "id": "025b3763",
   "metadata": {},
   "outputs": [],
   "source": [
    "(\n",
    "    df_shewhart\n",
    "    >> gr.ggplot(gr.aes(\"density\", \"hardness\"))\n",
    "    + gr.geom_point()\n",
    ")"
   ]
  },
  {
   "cell_type": "markdown",
   "id": "06bd4466",
   "metadata": {},
   "source": [
    "A normal distribution does a *reasonable* job representing both `density` and `hardness`.\n"
   ]
  },
  {
   "cell_type": "code",
   "execution_count": null,
   "id": "ceed5db0",
   "metadata": {},
   "outputs": [],
   "source": [
    "## NOTE: No need to edit\n",
    "(\n",
    "    df_shewhart\n",
    "    >> gr.tf_mutate(\n",
    "        q_density=gr.qqvals(DF.density, \"norm\"),\n",
    "        q_hardness=gr.qqvals(DF.hardness, \"norm\"),\n",
    "    )\n",
    "    >> gr.tf_rename(\n",
    "        v_density=\"density\",\n",
    "        v_hardness=\"hardness\",\n",
    "    )\n",
    "    >> gr.tf_pivot_longer(\n",
    "        columns=[\"q_density\", \"q_hardness\", \"v_density\", \"v_hardness\"],\n",
    "        names_to=[\".value\", \"var\"],\n",
    "        names_sep=\"_\",\n",
    "    )\n",
    "    \n",
    "    >> gr.ggplot(gr.aes(\"q\", \"v\"))\n",
    "    + gr.geom_abline(intercept=0, slope=1, linetype=\"dashed\")\n",
    "    + gr.geom_point()\n",
    "    + gr.facet_wrap(\"var\", scales=\"free\")\n",
    "    + gr.labs(x=\"Reference Quantile\", y=\"Observed Quantile\")\n",
    ")"
   ]
  },
  {
   "cell_type": "markdown",
   "id": "93d5a3e1",
   "metadata": {},
   "source": [
    "However,\n"
   ]
  },
  {
   "cell_type": "code",
   "execution_count": null,
   "id": "349a9de0",
   "metadata": {},
   "outputs": [],
   "source": [
    "## NOTE: No need to edit\n",
    "# Build a model \n",
    "md_independence = (\n",
    "    gr.Model(\"Independent Properties\")\n",
    "    >> gr.cp_marginals(\n",
    "        density=gr.marg_fit(\"norm\", df_shewhart.density),\n",
    "        hardness=gr.marg_fit(\"norm\", df_shewhart.hardness),\n",
    "    )\n",
    "    >> gr.cp_copula_independence()\n",
    ")\n",
    "\n",
    "# Draw simulated observations\n",
    "(\n",
    "    md_independence\n",
    "    >> gr.ev_sample(n=1e3, df_det=\"nom\", skip=True)\n",
    "    >> gr.tf_mutate(source=\"Simulated\")\n",
    "    >> gr.tf_bind_rows(\n",
    "        df_shewhart\n",
    "        >> gr.tf_mutate(source=\"Experimental\")\n",
    "    )\n",
    "    \n",
    "    >> gr.ggplot(gr.aes(\"density\", \"hardness\"))\n",
    "    + gr.geom_point(gr.aes(color=\"source\"))\n",
    "    + gr.theme_minimal()\n",
    ")"
   ]
  },
  {
   "cell_type": "markdown",
   "id": "e04e434e",
   "metadata": {},
   "source": [
    "This model does not respect the correlation we observe in the data.\n"
   ]
  },
  {
   "cell_type": "markdown",
   "id": "e3190672",
   "metadata": {},
   "source": [
    "# Marginal-Copula Approach\n"
   ]
  },
  {
   "cell_type": "code",
   "execution_count": null,
   "id": "860c09c1",
   "metadata": {},
   "outputs": [],
   "source": [
    "## NOTE: No need to edit\n",
    "# Build a model \n",
    "md_copula = (\n",
    "    gr.Model(\"Independent Properties\")\n",
    "    >> gr.cp_marginals(\n",
    "        density=gr.marg_fit(\"norm\", df_shewhart.density),\n",
    "        hardness=gr.marg_fit(\"norm\", df_shewhart.hardness),\n",
    "    )\n",
    "    ## KEY DIFFERENCE: Fit a gaussian copula\n",
    "    >> gr.cp_copula_gaussian(df_data=df_shewhart)\n",
    ")\n",
    "\n",
    "# Draw simulated observations\n",
    "(\n",
    "    md_copula\n",
    "    >> gr.ev_sample(n=1e3, df_det=\"nom\", skip=True)\n",
    "    >> gr.tf_mutate(source=\"Simulated\")\n",
    "    >> gr.tf_bind_rows(\n",
    "        df_shewhart\n",
    "        >> gr.tf_mutate(source=\"Experimental\")\n",
    "    )\n",
    "    \n",
    "    >> gr.ggplot(gr.aes(\"density\", \"hardness\"))\n",
    "    + gr.geom_point(gr.aes(color=\"source\"))\n",
    "    + gr.theme_minimal()\n",
    ")"
   ]
  },
  {
   "cell_type": "markdown",
   "id": "102e5b97",
   "metadata": {},
   "source": [
    "## Steps\n",
    "\n",
    "1. Fit a marginal for each uncertain quantity\n",
    "    - Follow the process from `e-grama06-fit-univar`; this should include checking for statistical control!\n",
    "2. Fit a copula to relate the uncertain quantities\n",
    "3. Assess the model\n"
   ]
  },
  {
   "cell_type": "markdown",
   "id": "e1895c69",
   "metadata": {},
   "source": [
    "# Case Study: Circuit Performance\n"
   ]
  },
  {
   "cell_type": "code",
   "execution_count": null,
   "id": "a07eca0e",
   "metadata": {},
   "outputs": [],
   "source": [
    "from grama.models import make_prlc_rand\n",
    "md_circuit = make_prlc_rand()\n",
    "md_circuit"
   ]
  },
  {
   "cell_type": "markdown",
   "id": "5dd2f9e4",
   "metadata": {},
   "source": []
  },
  {
   "cell_type": "code",
   "execution_count": null,
   "id": "b06e2eef",
   "metadata": {},
   "outputs": [],
   "source": [
    "df_circuit = (\n",
    "    md_circuit\n",
    "    >> gr.ev_sample(n=1e4, df_det=\"nom\", seed=101)\n",
    ")\n",
    "\n",
    "(\n",
    "    df_circuit\n",
    "    >> gr.ggplot(gr.aes(\"Q\", \"omega0\"))\n",
    "    + gr.geom_bin2d()\n",
    ")"
   ]
  },
  {
   "cell_type": "markdown",
   "id": "51ab4a61",
   "metadata": {},
   "source": [
    "## Marginals\n"
   ]
  },
  {
   "cell_type": "markdown",
   "id": "b521014f",
   "metadata": {},
   "source": [
    "### __qX__ Check for statistical control\n",
    "\n",
    "Check for statistical control of the output `omega0`. Use a control chart to make this determination.\n",
    "\n",
    "*Hint*: You *do not* need to write all this code from scratch! Try copying code from the previous exercise `e-grama-06-fit-univar`.\n"
   ]
  },
  {
   "cell_type": "code",
   "execution_count": null,
   "id": "9eb6fcb0",
   "metadata": {},
   "outputs": [],
   "source": [
    "## TASK: Make a control chart of batch size n_batch = 10\n"
   ]
  },
  {
   "cell_type": "markdown",
   "id": "82c21c27",
   "metadata": {},
   "source": [
    "*Observations*\n",
    "\n",
    "- How many batches *total* are there?\n",
    "  - (Your response here)\n",
    "- How many batches fall outside the control limits? Is that significantly more than we would expect?\n",
    "  - (Your response here)\n",
    "- Does this process seem to be under statistical control?\n",
    "  - (Your response here)\n"
   ]
  },
  {
   "cell_type": "markdown",
   "id": "361cf18b",
   "metadata": {},
   "source": [
    "### __qX__ Fit a marginal for `omega0`\n"
   ]
  },
  {
   "cell_type": "code",
   "execution_count": null,
   "id": "bf9c1a9b",
   "metadata": {},
   "outputs": [],
   "source": [
    "## TASK: Fit a marginal for `omega0`\n",
    "mg_omega0 = None\n",
    "\n",
    "\n",
    "## NOTE: Use the following to help check your work\n",
    "(\n",
    "    df_circuit\n",
    "    >> gr.tf_mutate(q=gr.qqvals(DF.omega0, marg=mg_omega0))\n",
    "    >> gr.ggplot(gr.aes(\"q\", \"omega0\"))\n",
    "    + gr.geom_abline(intercept=0, slope=1, linetype=\"dashed\")\n",
    "    + gr.geom_point()\n",
    ")"
   ]
  },
  {
   "cell_type": "markdown",
   "id": "8330202b",
   "metadata": {},
   "source": [
    "*Observations*\n",
    "\n",
    "- How well does your distribution fit the data?\n",
    "  - (Your response here)\n"
   ]
  },
  {
   "cell_type": "markdown",
   "id": "1af5cd13",
   "metadata": {},
   "source": [
    "### __qX__ Fit a marginal for `Q`\n"
   ]
  },
  {
   "cell_type": "code",
   "execution_count": null,
   "id": "f7144bf3",
   "metadata": {},
   "outputs": [],
   "source": [
    "## TASK: Fit a marginal for `Q`\n",
    "mg_Q = None\n",
    "\n",
    "\n",
    "## HINT: Use the assessment techniques discussed in \n",
    "# the previous exercise\n"
   ]
  },
  {
   "cell_type": "markdown",
   "id": "5235a3ff",
   "metadata": {},
   "source": [
    "*Observations*\n",
    "\n",
    "- How well does your distribution fit the data?\n",
    "  - (Your response here)\n"
   ]
  },
  {
   "cell_type": "markdown",
   "id": "e2e573a1",
   "metadata": {},
   "source": [
    "## Copula\n"
   ]
  },
  {
   "cell_type": "code",
   "execution_count": null,
   "id": "77d75694",
   "metadata": {},
   "outputs": [],
   "source": [
    "## NOTE: No need to edit\n",
    "md_out_independence = (\n",
    "    gr.Model(\"Circuit Output: Independence\")\n",
    "    >> gr.cp_marginals(\n",
    "        omega0=mg_omega0,\n",
    "        Q=mg_Q,\n",
    "    )\n",
    "    >> gr.cp_copula_independence()\n",
    ")\n",
    "\n",
    "md_out_independence \n"
   ]
  },
  {
   "cell_type": "markdown",
   "id": "f8fc93ea",
   "metadata": {},
   "source": [
    "### __qX__ Fit a gaussian copula\n",
    "\n",
    "*Hint*: The code above demonstrates how to add a gaussian copula to a grama model.\n"
   ]
  },
  {
   "cell_type": "code",
   "execution_count": null,
   "id": "beaef591",
   "metadata": {},
   "outputs": [],
   "source": [
    "## TASK: Fit a gaussian copula model\n",
    "md_out_copula = (\n",
    "    gr.Model(\"Circuit Output: Copula\")\n",
    "    >> gr.cp_marginals(\n",
    "        omega0=mg_omega0,\n",
    "        Q=mg_Q,\n",
    "    )\n",
    "\n",
    ")\n",
    "\n",
    "## NOTE: Do not edit; use this to check your work\n",
    "assert \\\n",
    "    isinstance(md_out_copula.density.copula, gr.CopulaGaussian), \\\n",
    "    \"md_out_copula must have a gaussian copula\"\n",
    "\n",
    "md_out_copula \n"
   ]
  },
  {
   "cell_type": "markdown",
   "id": "454d4de8",
   "metadata": {},
   "source": [
    "### __qX__ Compare the models\n",
    "\n",
    "Use the following code to compare the multivariate models; answer the questions under *observations* below.\n"
   ]
  },
  {
   "cell_type": "code",
   "execution_count": null,
   "id": "7826f0e6",
   "metadata": {},
   "outputs": [],
   "source": [
    "## NOTE: No need to edit\n",
    "(\n",
    "    df_circuit\n",
    "    >> gr.tf_mutate(source=\"True\")\n",
    "    >> gr.tf_bind_rows(\n",
    "        md_out_independence\n",
    "        >> gr.ev_sample(n=1e4, df_det=\"nom\", skip=True)\n",
    "        >> gr.tf_mutate(source=\"Independence\")\n",
    "    )\n",
    "    >> gr.tf_bind_rows(\n",
    "        md_out_copula\n",
    "        >> gr.ev_sample(n=1e4, df_det=\"nom\", skip=True)\n",
    "        >> gr.tf_mutate(source=\"Copula\")\n",
    "    )\n",
    "    \n",
    "    >> gr.ggplot(gr.aes(\"Q\", \"omega0\"))\n",
    "    + gr.geom_bin2d()\n",
    "    + gr.facet_wrap(\"source\")\n",
    ")"
   ]
  },
  {
   "cell_type": "markdown",
   "id": "6c053f10",
   "metadata": {},
   "source": [
    "*Observations*\n",
    "\n",
    "- How well does the independence model represent the true data?\n",
    "  - (Your response here)\n",
    "- What aspects does the copula model get *correct*?\n",
    "  - (Your response here)\n",
    "- What aspects does the copula model get *incorrect*?\n",
    "  - (Your response here)\n"
   ]
  }
 ],
 "metadata": {
  "kernelspec": {
   "display_name": "Python 3 (ipykernel)",
   "language": "python",
   "name": "python3"
  },
  "language_info": {
   "codemirror_mode": {
    "name": "ipython",
    "version": 3
   },
   "file_extension": ".py",
   "mimetype": "text/x-python",
   "name": "python",
   "nbconvert_exporter": "python",
   "pygments_lexer": "ipython3",
   "version": "3.9.7"
  }
 },
 "nbformat": 4,
 "nbformat_minor": 5
}
