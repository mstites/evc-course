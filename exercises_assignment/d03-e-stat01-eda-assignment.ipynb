{
 "cells": [
  {
   "cell_type": "markdown",
   "id": "2ca3c5ec",
   "metadata": {},
   "source": [
    "# Introduction to Exploratory Data Analysis\n",
    "\n",
    "*Purpose*: *Exploratory Data Analysis* (EDA) is a __crucial__ skill for a practicing data scientist. Unfortunately, much like human-centered design EDA is hard to teach. This is because EDA is **not** a strict procedure, so much as it is a **mindset**. Also, much like human-centered design, EDA is an *iterative, nonlinear process*. There are two key principles to keep in mind when doing EDA:\n",
    "\n",
    "1. Curiosity: Generate lots of ideas and hypotheses about your data.\n",
    "2. Skepticism: Remain unconvinced of those ideas, unless you can find credible\n",
    "  patterns to support them.\n",
    "\n",
    "Since EDA is both *crucial* and *difficult*, we will practice doing EDA *a lot* in this course!\n"
   ]
  },
  {
   "cell_type": "markdown",
   "id": "431e5f2c",
   "metadata": {},
   "source": [
    "## Reading\n",
    "\n",
    "*Reading*: [Exploratory Data Analysis](https://rstudio.cloud/learn/primers/3.1)\n",
    "\n",
    "*Topics*: (All topics)\n",
    "\n",
    "*Reading Time*: ~45 minutes\n"
   ]
  },
  {
   "cell_type": "markdown",
   "id": "2c591682",
   "metadata": {},
   "source": [
    "## Setup\n"
   ]
  },
  {
   "cell_type": "code",
   "execution_count": null,
   "id": "add57dab",
   "metadata": {},
   "outputs": [],
   "source": [
    "import grama as gr\n",
    "DF = gr.Intention()\n",
    "%matplotlib inline"
   ]
  },
  {
   "cell_type": "markdown",
   "id": "e8ac91a8",
   "metadata": {},
   "source": [
    "We'll study the diamonds dataset for this exercise.\n"
   ]
  },
  {
   "cell_type": "code",
   "execution_count": null,
   "id": "08ef69dd",
   "metadata": {},
   "outputs": [],
   "source": [
    "from grama.data import df_diamonds\n",
    "df_diamonds = (\n",
    "    df_diamonds\n",
    "    >> gr.tf_mutate(\n",
    "        # Order the cut to aid in plotting\n",
    "        cut=gr.as_factor(\n",
    "            DF.cut,\n",
    "            categories=[\n",
    "                \"Fair\",\n",
    "                \"Good\",\n",
    "                \"Very Good\",\n",
    "                \"Premium\",\n",
    "                \"Ideal\"\n",
    "            ]\n",
    "        )\n",
    "    )\n",
    ")\n"
   ]
  },
  {
   "cell_type": "markdown",
   "id": "d5882f62",
   "metadata": {},
   "source": [
    "# Basic EDA Tools\n",
    "\n",
    "There are a few simple tools we can use to investigate a dataset. We should use these tools even before making visuals of the data.\n"
   ]
  },
  {
   "cell_type": "markdown",
   "id": "31ca3f1f",
   "metadata": {},
   "source": [
    "### __q1__ Take the head\n",
    "\n",
    "Use the appropriate function to get the first 5 observations in `df_diamonds`. Answer the questions under *observations* below.\n"
   ]
  },
  {
   "cell_type": "code",
   "execution_count": null,
   "id": "e58efc23",
   "metadata": {},
   "outputs": [],
   "source": [
    "# TASK: Get the first 10 observations\n",
    "(\n",
    "    df_diamonds\n",
    "\n",
    ")"
   ]
  },
  {
   "cell_type": "markdown",
   "id": "c31eead6",
   "metadata": {},
   "source": [
    "*Observations*\n",
    "\n",
    "- What variables does this dataset have?\n",
    "  - (Your response here)\n"
   ]
  },
  {
   "cell_type": "markdown",
   "id": "f93a3ca4",
   "metadata": {},
   "source": [
    "### __q2__ Use descriptive statistics\n",
    "\n",
    "The `gr.tf_describe()` function gives useful descriptive statistics on a dataset. Use these values to answer the questions under *observations* below.\n"
   ]
  },
  {
   "cell_type": "code",
   "execution_count": null,
   "id": "7e698860",
   "metadata": {},
   "outputs": [],
   "source": [
    "# NOTE: No need to edit; run and inspect\n",
    "(\n",
    "    df_diamonds\n",
    "    >> gr.tf_describe()\n",
    ")"
   ]
  },
  {
   "cell_type": "markdown",
   "id": "2f222b96",
   "metadata": {},
   "source": [
    "*Observations*\n",
    "\n",
    "- How many observations are in the dataset?\n",
    "  - (Your response here)\n",
    "- What is a typical value for the `price` of a diamond, according to this dataset?\n",
    "  - (Your response here)\n",
    "- What is the largest diamond in the dataset? (According to `carat`.) What is the smallest?\n",
    "  - (Your response here)\n",
    "- You identified all the variables in the dataset in __q1__ above. Do the results from `gr.tf_describe()` provide information on **all** of these variables?\n",
    "  - (Your response here)\n"
   ]
  },
  {
   "cell_type": "markdown",
   "id": "72a56278",
   "metadata": {},
   "source": [
    "## Distinct Values (levels)\n",
    "\n",
    "Variables that do not take numerical values are sometimes called *categorical variables*; there are other tools that are useful for investigating categorical variables.\n",
    "\n",
    "The verb `gr.tf_distinct()` is like `gr.tf_filter()`, but it filters for rows that are *distinct* according to the given variables. For instance, if we wanted to know what distinct values of `x` exist in `df_data`, we would call:\n",
    "\n",
    "```python\n",
    "(\n",
    "    df_data\n",
    "    >> gr.tf_distinct(DF.variable)\n",
    ")\n",
    "```\n",
    "\n",
    "*Aside*: A categorical variable is sometimes called a *factor*. The unique values of a categorical variable are called *levels*.\n",
    "\n",
    "We can use `gr.tf_distinct()` to figure out what values show up for a categorical variable.\n"
   ]
  },
  {
   "cell_type": "markdown",
   "id": "12e0973e",
   "metadata": {},
   "source": [
    "### __q3__ Find the distinct `cut` values\n",
    "\n",
    "Use `gr.tf_distinct()` to find the unique values of `cut` in `df_diamonds`.\n"
   ]
  },
  {
   "cell_type": "code",
   "execution_count": null,
   "id": "68975884",
   "metadata": {},
   "outputs": [],
   "source": [
    "# TASK: Find the distinct `cut` values in the dataset\n",
    "(\n",
    "    df_diamonds\n",
    "\n",
    ")"
   ]
  },
  {
   "cell_type": "markdown",
   "id": "302a2569",
   "metadata": {},
   "source": [
    "## Counts\n",
    "\n",
    "Another approach to assessing a categorical is to simply count the number of rows that correspond to each distinct value. We can do this with the `gr.tf_count()` verb. For instance, if we wanted to know how may rows there are for each value of `x` in `df_data`, we would call:\n",
    "\n",
    "```python\n",
    "(\n",
    "    df_data\n",
    "    >> gr.tf_count(DF.x)\n",
    ")\n",
    "```\n"
   ]
  },
  {
   "cell_type": "markdown",
   "id": "fb275c73",
   "metadata": {},
   "source": [
    "### __q4__ Find the count of cut values\n",
    "\n",
    "Use `gr.tf_count()` to find the number of rows for each distinct `cut` value in `df_diamonds`.\n"
   ]
  },
  {
   "cell_type": "code",
   "execution_count": null,
   "id": "fbd0e6a9",
   "metadata": {},
   "outputs": [],
   "source": [
    "# TASK: Find the distinct `cut` values in the dataset\n",
    "(\n",
    "    df_diamonds\n",
    "\n",
    ")\n"
   ]
  },
  {
   "cell_type": "markdown",
   "id": "385b8312",
   "metadata": {},
   "source": [
    "# Guided EDA\n",
    "\n",
    "I'm going to walk you through a train of thought I had when studying the diamonds dataset.\n",
    "\n",
    "There are four standard \"C's\" of [judging](https://en.wikipedia.org/wiki/Diamond_(gemstone)) a diamond. These are `carat, cut, color` and `clarity`, all of which are in the `df_diamonds` dataset."
   ]
  },
  {
   "cell_type": "markdown",
   "id": "4392ae18",
   "metadata": {},
   "source": [
    "*Note*: This remainder of this exercise will consist of interpreting pre-made graphs. You can run the whole notebook to generate all the figures at once. Just make sure to do all the exercises and write your observations!\n"
   ]
  },
  {
   "cell_type": "markdown",
   "id": "f17105c5",
   "metadata": {},
   "source": [
    "## Hypothesis 1\n",
    "\n",
    "Here's a hypothesis:\n",
    "\n",
    ">  `Ideal` is the \"best\" value of `cut` for a diamond. Since an `Ideal` cut seems more labor-intensive, I hypothesize that `Ideal` cut diamonds are less numerous than other cuts."
   ]
  },
  {
   "cell_type": "markdown",
   "id": "8edac05b",
   "metadata": {},
   "source": [
    "### __q5__ Assess hypothesis 1\n",
    "\n",
    "Run the chunk below, and study the plot. Was hypothesis 1 correct? Why\n",
    "or why not?\n"
   ]
  },
  {
   "cell_type": "code",
   "execution_count": null,
   "id": "cdb4097c",
   "metadata": {},
   "outputs": [],
   "source": [
    "# NOTE: No need to edit; run and inspect\n",
    "(\n",
    "    df_diamonds\n",
    "    >> gr.ggplot(gr.aes(\"cut\"))\n",
    "    + gr.geom_bar()\n",
    ")\n"
   ]
  },
  {
   "cell_type": "markdown",
   "id": "a2e04bcc",
   "metadata": {},
   "source": [
    "*Observations*\n",
    "\n",
    "- Is hypothesis 1 true or not?\n",
    "  - (Your response here)\n"
   ]
  },
  {
   "cell_type": "markdown",
   "id": "1b945dee",
   "metadata": {},
   "source": [
    "## Hypothesis 2\n",
    "\n",
    "Another hypothesis: \n",
    "\n",
    "> The `Ideal` cut diamonds should be the most pricey.\n"
   ]
  },
  {
   "cell_type": "markdown",
   "id": "bdd075b5",
   "metadata": {},
   "source": [
    "### __q6__ Assess hypothesis 2\n",
    "\n",
    "Study the following graph; does it support, contradict, or not relate to hypothesis 2?\n"
   ]
  },
  {
   "cell_type": "code",
   "execution_count": null,
   "id": "38691e9c",
   "metadata": {},
   "outputs": [],
   "source": [
    "# NOTE: No need to edit; run and inspect\n",
    "(\n",
    "    df_diamonds\n",
    "    >> gr.ggplot(gr.aes(\"cut\", \"price\"))\n",
    "    + gr.geom_point()\n",
    ")"
   ]
  },
  {
   "cell_type": "markdown",
   "id": "5db9ba40",
   "metadata": {},
   "source": [
    "*Observations*\n",
    "\n",
    "- Does this plot support, contradict, or not relate to hypothesis 2?\n",
    "  - (Your response here)\n"
   ]
  },
  {
   "cell_type": "markdown",
   "id": "b0dd48dc",
   "metadata": {},
   "source": [
    "The following is a set of *boxplots*; the middle bar denotes the median, the boxes denote the *quartiles* (upper and lower \"quarters\" of the data), and the lines and dots denote large values and outliers.\n"
   ]
  },
  {
   "cell_type": "markdown",
   "id": "a520167c",
   "metadata": {},
   "source": [
    "### __q7__ Assess hypothesis 2, take 2\n",
    "\n",
    "Study the following graph; does it support or contradict hypothesis 2?\n"
   ]
  },
  {
   "cell_type": "code",
   "execution_count": null,
   "id": "3085e9f8",
   "metadata": {},
   "outputs": [],
   "source": [
    "# NOTE: No need to edit; run and inspect\n",
    "(\n",
    "    df_diamonds\n",
    "    >> gr.ggplot(gr.aes(\"cut\", \"price\"))\n",
    "    + gr.geom_boxplot()\n",
    ")\n"
   ]
  },
  {
   "cell_type": "markdown",
   "id": "13b1b644",
   "metadata": {},
   "source": [
    "*Observations*\n",
    "\n",
    "- Does this plot support or contradict hypothesis 2?\n",
    "  - (Your response here)\n"
   ]
  },
  {
   "cell_type": "markdown",
   "id": "585da5b5",
   "metadata": {},
   "source": [
    "Upon making the graph in __q3__, I was *very* surprised, so I did some reading on diamond cuts. It turns out that some gemcutters [sacrifice cut for carat](https://en.wikipedia.org/wiki/Diamond_(gemstone)#Cut). Could this effect explain the surprising pattern above?\n"
   ]
  },
  {
   "cell_type": "markdown",
   "id": "4d5f8574",
   "metadata": {},
   "source": [
    "### __q8__ Unravel hypothesis 2\n",
    "\n",
    "Study the following graph; does it support a \"sacrifice cut for carat\" hypothesis? How might this relate to price?\n",
    "\n",
    "*Hint*: The article linked above will help you answer these questions!\n"
   ]
  },
  {
   "cell_type": "code",
   "execution_count": null,
   "id": "68ba9ebd",
   "metadata": {},
   "outputs": [],
   "source": [
    "# NOTE: No need to edit; run and inspect\n",
    "(\n",
    "    df_diamonds\n",
    "    >> gr.ggplot(gr.aes(\"cut\", \"carat\"))\n",
    "    + gr.geom_boxplot()\n",
    ")"
   ]
  },
  {
   "cell_type": "markdown",
   "id": "57c9ba87",
   "metadata": {},
   "source": [
    "*Observations*\n",
    "\n",
    "- (Your response here)\n"
   ]
  }
 ],
 "metadata": {
  "kernelspec": {
   "display_name": "Python 3 (ipykernel)",
   "language": "python",
   "name": "python3"
  },
  "language_info": {
   "codemirror_mode": {
    "name": "ipython",
    "version": 3
   },
   "file_extension": ".py",
   "mimetype": "text/x-python",
   "name": "python",
   "nbconvert_exporter": "python",
   "pygments_lexer": "ipython3",
   "version": "3.9.7"
  }
 },
 "nbformat": 4,
 "nbformat_minor": 5
}
