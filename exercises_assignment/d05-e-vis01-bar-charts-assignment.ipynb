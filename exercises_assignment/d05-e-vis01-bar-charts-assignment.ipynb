{
 "cells": [
  {
   "cell_type": "markdown",
   "id": "31faf621",
   "metadata": {},
   "source": [
    "# Bar Charts\n",
    "\n",
    "*Purpose*: *Bar charts* are a key tool for EDA. In this exercise, we'll learn how to construct a variety of different bar charts, as well as when---and when *not*---to use various charts.\n"
   ]
  },
  {
   "cell_type": "markdown",
   "id": "0e932163",
   "metadata": {},
   "source": [
    "## Setup\n"
   ]
  },
  {
   "cell_type": "code",
   "execution_count": null,
   "id": "b817deb0",
   "metadata": {},
   "outputs": [],
   "source": [
    "import grama as gr\n",
    "DF = gr.Intention()\n",
    "%matplotlib inline"
   ]
  },
  {
   "cell_type": "markdown",
   "id": "56d5d385",
   "metadata": {},
   "source": [
    "We'll use the `mpg` dataset from `plotnine`: This is a dataset describing different automobiles, including their mileage (hence mpg).\n"
   ]
  },
  {
   "cell_type": "code",
   "execution_count": null,
   "id": "c259d106",
   "metadata": {},
   "outputs": [],
   "source": [
    "from plotnine.data import mpg as df_mpg"
   ]
  },
  {
   "cell_type": "markdown",
   "id": "0769effb",
   "metadata": {},
   "source": [
    "# Bars and Cols\n",
    "\n",
    "A bar chart visualizes data using bars. A bar chart is most effective at showing a continuous variable against a discrete one.\n",
    "\n",
    "With ggplot we have two ways to make a bar chart: The first is `geom_bar()`, which takes just one aesthetic `x`. The geometry `geom_bar()` visualizes the number of observations (count) in the dataset associated with each unique value of the given variable. For instance, the following plot shows the number of vehicles according to each `class`.\n"
   ]
  },
  {
   "cell_type": "code",
   "execution_count": null,
   "id": "fe0eb670",
   "metadata": {},
   "outputs": [],
   "source": [
    "# NOTE: No need to edit\n",
    "(\n",
    "    df_mpg\n",
    "    >> gr.ggplot(gr.aes(x=\"class\"))\n",
    "    + gr.geom_bar()\n",
    ")"
   ]
  },
  {
   "cell_type": "markdown",
   "id": "cd49dfe8",
   "metadata": {},
   "source": [
    "Clearly, there are far more SUVs, compacts, and midsize vehicles in the dataset than other classes."
   ]
  },
  {
   "cell_type": "markdown",
   "id": "04599123",
   "metadata": {},
   "source": [
    "The other bar geometry is `geom_col()`, which takes two aesthetics. The geometry `geom_col()` extends from zero to a desired value `y`, within each `x` value. The following gives a simple demo with made-up data.\n"
   ]
  },
  {
   "cell_type": "code",
   "execution_count": null,
   "id": "a34d5746",
   "metadata": {},
   "outputs": [],
   "source": [
    "# NOTE: No need to edit\n",
    "(\n",
    "    gr.df_make(\n",
    "        category=[\"A\", \"B\"],\n",
    "        value=[3, 5],\n",
    "    )\n",
    "    >> gr.ggplot(gr.aes(x=\"category\", y=\"value\"))\n",
    "    + gr.geom_col()\n",
    ")\n"
   ]
  },
  {
   "cell_type": "markdown",
   "id": "8613bae6",
   "metadata": {},
   "source": [
    "We can actually recreate a `geom_bar()` plot by using `tf_count()` and `geom_col()`, which you'll do in the next task.\n"
   ]
  },
  {
   "cell_type": "markdown",
   "id": "a6ebff36",
   "metadata": {},
   "source": [
    "### __q1__ Convert bars to cols\n",
    "\n",
    "Recreate the following plot using `geom_col()`.\n"
   ]
  },
  {
   "cell_type": "code",
   "execution_count": null,
   "id": "e3ecea41",
   "metadata": {},
   "outputs": [],
   "source": [
    "# TASK: Convert this plot to use geom_cols()\n",
    "(\n",
    "    df_mpg\n",
    "    >> gr.ggplot(gr.aes(\"trans\"))\n",
    "    + gr.geom_bar()\n",
    ")\n"
   ]
  },
  {
   "cell_type": "markdown",
   "id": "fa1c2b9f",
   "metadata": {},
   "source": [
    "Note that the labels for `trans` overlap; we'll fix that in the next section."
   ]
  },
  {
   "cell_type": "markdown",
   "id": "8d157822",
   "metadata": {},
   "source": [
    "# Challenges with bar charts\n",
    "\n",
    "There are a few \"gotchas\" when visualizing with bar charts; we'll go over two:\n"
   ]
  },
  {
   "cell_type": "markdown",
   "id": "859dfd6e",
   "metadata": {},
   "source": [
    "## Overlapping Labels\n",
    "\n",
    "We saw in the previous plot that when our `x` variable has a lot of levels, the labels can overlap. One simple way to fix this is to flip the coordinates. We can't simply swap the aesthetics `x` and `y`, as this will not give us what we want:\n"
   ]
  },
  {
   "cell_type": "code",
   "execution_count": null,
   "id": "48d11b09",
   "metadata": {},
   "outputs": [],
   "source": [
    "# NOTE: No need to edit; run and inspet\n",
    "(\n",
    "    df_mpg\n",
    "    >> gr.tf_count(DF.trans)\n",
    "    >> gr.ggplot(gr.aes(y=\"trans\", x=\"n\"))\n",
    "    + gr.geom_col()\n",
    ")\n"
   ]
  },
  {
   "cell_type": "markdown",
   "id": "de66545b",
   "metadata": {},
   "source": [
    "Instead, we can *flip* the entire plot using `coord_flip()`. We use this by adding it to the `ggplot` object:\n",
    "\n",
    "```python\n",
    "(\n",
    "    df_data\n",
    "    >> gr.ggplot(gr.aes(\"x\", \"y\"))\n",
    "    + gr.geom_col()\n",
    "    + gr.coord_flip()\n",
    ")\n",
    "```"
   ]
  },
  {
   "cell_type": "markdown",
   "id": "01c9691b",
   "metadata": {},
   "source": [
    "### __q2__ Flip coordinates to fix overlap\n",
    "\n",
    "Flip the coordinates to fix the overlapping labels in the following plot.\n"
   ]
  },
  {
   "cell_type": "code",
   "execution_count": null,
   "id": "f93a6fdb",
   "metadata": {},
   "outputs": [],
   "source": [
    "# TASK: Flip the coordinates to fix the overlapping labels\n",
    "(\n",
    "    df_mpg\n",
    "    >> gr.ggplot(gr.aes(\"trans\"))\n",
    "    + gr.geom_bar()\n",
    "\n",
    ")"
   ]
  },
  {
   "cell_type": "markdown",
   "id": "c4e495c7",
   "metadata": {},
   "source": [
    "## 1-to-1 Data\n",
    "\n",
    "A bar chart draws a bar for every observation, this means that the data need to be \"1-to-1\". This is an important limitation of bar charts, which is best understood through an example:\n"
   ]
  },
  {
   "cell_type": "markdown",
   "id": "bc55eb17",
   "metadata": {},
   "source": [
    "### __q3__ Inspect the plot\n",
    "\n",
    "Inspect the following plot, and answer the questions under *observations* below.\n"
   ]
  },
  {
   "cell_type": "code",
   "execution_count": null,
   "id": "2f5e5684",
   "metadata": {},
   "outputs": [],
   "source": [
    "# TASK: No need to edit; run and inspect\n",
    "(\n",
    "    df_mpg\n",
    "    >> gr.ggplot(gr.aes(\"cty\", \"hwy\"))\n",
    "    + gr.geom_col()\n",
    ")\n"
   ]
  },
  {
   "cell_type": "markdown",
   "id": "209ce4a3",
   "metadata": {},
   "source": [
    "*Observations*\n",
    "\n",
    "- What is the largest `hwy` value shown in the plot above? Does this seem like a realistic value for the highway mileage?\n",
    "  - (Your response here)\n"
   ]
  },
  {
   "cell_type": "markdown",
   "id": "8cb4d163",
   "metadata": {},
   "source": [
    "The following plot helps us understand the issue: With outlines around each bar, we can see that there are *multiple stacked bars* at each `x` level.\n"
   ]
  },
  {
   "cell_type": "code",
   "execution_count": null,
   "id": "ae0f7269",
   "metadata": {},
   "outputs": [],
   "source": [
    "# TASK: No need to edit; run and inspect\n",
    "(\n",
    "    df_mpg\n",
    "    >> gr.ggplot(gr.aes(\"cty\", \"hwy\"))\n",
    "    + gr.geom_col(color=\"black\")\n",
    ")\n"
   ]
  },
  {
   "cell_type": "markdown",
   "id": "e8cd2303",
   "metadata": {},
   "source": [
    "In order to avoid overlap, the data need to have just one observation for each level of the horizontal factor. Put differently, the data must be [1-to-1](https://en.wikipedia.org/wiki/Injective_function). We can check this with some simple counting.\n"
   ]
  },
  {
   "cell_type": "markdown",
   "id": "522d22f0",
   "metadata": {},
   "source": [
    "### __q4__ Check if data are 1-to-1\n",
    "\n",
    "If the data were 1-to-1 in the `cty` to `hwy` values, then there would be only one `hwy` value for each unique `cty` value. Check whether this is the case in `df_mpg`.\n"
   ]
  },
  {
   "cell_type": "code",
   "execution_count": null,
   "id": "2bd846e9",
   "metadata": {},
   "outputs": [],
   "source": [
    "# TASK: Check if the data are 1-to-1 (in cty and hwy)\n",
    "(\n",
    "    df_mpg\n",
    "\n",
    ")"
   ]
  },
  {
   "cell_type": "markdown",
   "id": "9836afe4",
   "metadata": {},
   "source": [
    "*Observations*\n",
    "\n",
    "- Is the data 1-to-1? Why or why not?\n",
    "  - (Your response here)\n"
   ]
  },
  {
   "cell_type": "markdown",
   "id": "17da3fbe",
   "metadata": {},
   "source": [
    "# Design Considerations\n",
    "\n",
    "To close this exercise, we'll cover some design considerations when making (bar) charts.\n"
   ]
  },
  {
   "cell_type": "markdown",
   "id": "034d2813",
   "metadata": {},
   "source": [
    "## Picking aesthetics\n",
    "\n",
    "A major part of designing any plot is making choices about assigning variables to aesthetics.\n",
    "\n",
    "One option we have is to \"double-assign\" a variable to multiple aesthetics. In the next task you'll compare the efficacy of double-assigning aesthetics.\n"
   ]
  },
  {
   "cell_type": "markdown",
   "id": "4f64c1a9",
   "metadata": {},
   "source": [
    "### __q5__ Compare two plots\n",
    "\n",
    "Compare the following two plots, and answer the questions under *observations* below.\n"
   ]
  },
  {
   "cell_type": "code",
   "execution_count": null,
   "id": "b8216de6",
   "metadata": {},
   "outputs": [],
   "source": [
    "# TASK: No need to edit; run and inspect\n",
    "(\n",
    "    df_mpg\n",
    "    >> gr.ggplot(gr.aes(\"class\", fill=\"class\"))\n",
    "    + gr.geom_bar()\n",
    ")"
   ]
  },
  {
   "cell_type": "markdown",
   "id": "50f678a5",
   "metadata": {},
   "source": [
    "*Observations*\n",
    "\n",
    "- What observations can you make?\n",
    "  - (Your response here)\n"
   ]
  },
  {
   "cell_type": "code",
   "execution_count": null,
   "id": "76348ed9",
   "metadata": {},
   "outputs": [],
   "source": [
    "# TASK: No need to edit; run and inspect\n",
    "(\n",
    "    df_mpg\n",
    "    >> gr.ggplot(gr.aes(\"class\", fill=\"drv\"))\n",
    "    + gr.geom_bar()\n",
    ")"
   ]
  },
  {
   "cell_type": "markdown",
   "id": "761b1aba",
   "metadata": {},
   "source": [
    "*Observations*\n",
    "\n",
    "- What **additional** observations can you make on this version of the plot?\n",
    "  - (Your response here)\n",
    "- What is different in the design of this graph, as compared with the previous one?\n",
    "  - (Your response here)\n"
   ]
  },
  {
   "cell_type": "markdown",
   "id": "31763763",
   "metadata": {},
   "source": [
    "### __q6__ Pros and cons of double-assignment\n",
    "\n",
    "Answer the questions below:\n",
    "\n",
    "- What are some pros of double-assigning a single variable to multiple aesthetics?\n",
    "  - (Your response here)\n",
    "- What are some pros of single-assigning aesthetics, in order to show more variables?\n",
    "  - (Your response here)\n"
   ]
  }
 ],
 "metadata": {
  "kernelspec": {
   "display_name": "Python 3 (ipykernel)",
   "language": "python",
   "name": "python3"
  },
  "language_info": {
   "codemirror_mode": {
    "name": "ipython",
    "version": 3
   },
   "file_extension": ".py",
   "mimetype": "text/x-python",
   "name": "python",
   "nbconvert_exporter": "python",
   "pygments_lexer": "ipython3",
   "version": "3.9.7"
  }
 },
 "nbformat": 4,
 "nbformat_minor": 5
}
