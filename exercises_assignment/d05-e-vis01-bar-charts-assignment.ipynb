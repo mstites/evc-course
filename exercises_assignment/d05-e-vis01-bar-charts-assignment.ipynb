{
 "cells": [
  {
   "cell_type": "markdown",
   "id": "a4ba9aab",
   "metadata": {},
   "source": [
    "# Bar Charts\n",
    "\n",
    "*Purpose*: *Bar charts* are a key tool for EDA. In this exercise, we'll learn how to construct a variety of different bar charts, as well as when---and when *not*---to use various charts.\n"
   ]
  },
  {
   "cell_type": "markdown",
   "id": "dc2c545c",
   "metadata": {},
   "source": [
    "## Setup\n"
   ]
  },
  {
   "cell_type": "code",
   "execution_count": null,
   "id": "8822e140",
   "metadata": {},
   "outputs": [],
   "source": [
    "import grama as gr\n",
    "DF = gr.Intention()\n",
    "%matplotlib inline"
   ]
  },
  {
   "cell_type": "markdown",
   "id": "08e156d5",
   "metadata": {},
   "source": [
    "We'll use the `mpg` dataset from `plotnine`: This is a dataset describing different automobiles, including their mileage (hence mpg).\n"
   ]
  },
  {
   "cell_type": "code",
   "execution_count": null,
   "id": "8a654515",
   "metadata": {},
   "outputs": [],
   "source": [
    "from plotnine.data import mpg as df_mpg"
   ]
  },
  {
   "cell_type": "markdown",
   "id": "3e9c2939",
   "metadata": {},
   "source": [
    "# Bars and Cols\n",
    "\n",
    "A bar chart visualizes data using bars. A bar chart is most effective at showing a continuous variable against a discrete one.\n",
    "\n",
    "With ggplot we have two ways to make a bar chart: The first is `geom_bar()`, which takes just one aesthetic `x`. The geometry `geom_bar()` visualizes the number of observations (count) in the dataset associated with each unique value of the given variable. For instance, the following plot shows the number of vehicles according to each `class`.\n"
   ]
  },
  {
   "cell_type": "code",
   "execution_count": null,
   "id": "c0feebe9",
   "metadata": {},
   "outputs": [],
   "source": [
    "# NOTE: No need to edit\n",
    "(\n",
    "    df_mpg\n",
    "    >> gr.ggplot(mapping=gr.aes(x=\"class\"))\n",
    "    + gr.geom_bar()\n",
    ")"
   ]
  },
  {
   "cell_type": "markdown",
   "id": "05c2a09f",
   "metadata": {},
   "source": [
    "Clearly, there are far more SUVs, compacts, and midsize vehicles in the dataset than other classes."
   ]
  },
  {
   "cell_type": "markdown",
   "id": "52558ee6",
   "metadata": {},
   "source": [
    "The other bar geometry is `geom_col()`, which takes two aesthetics. The geometry `geom_col()` extends from zero to a desired value `y`, within each `x` value. The following gives a simple demo with made-up data.\n"
   ]
  },
  {
   "cell_type": "code",
   "execution_count": null,
   "id": "7ce5634a",
   "metadata": {},
   "outputs": [],
   "source": [
    "# NOTE: No need to edit\n",
    "(\n",
    "    gr.df_make(\n",
    "        category=[\"A\", \"B\"],\n",
    "        value=[3, 5],\n",
    "    )\n",
    "    >> gr.ggplot(gr.aes(x=\"category\", y=\"value\"))\n",
    "    + gr.geom_col()\n",
    ")\n"
   ]
  },
  {
   "cell_type": "markdown",
   "id": "4d4f5420",
   "metadata": {},
   "source": [
    "We can actually recreate a `geom_bar()` plot by using `tf_count()` and `geom_col()`, which you'll do in the next task.\n"
   ]
  },
  {
   "cell_type": "markdown",
   "id": "b1f9ce36",
   "metadata": {},
   "source": [
    "### __q1__ Convert bars to cols\n",
    "\n",
    "Recreate the following plot using `geom_col()`.\n"
   ]
  },
  {
   "cell_type": "code",
   "execution_count": null,
   "id": "8eac2e35",
   "metadata": {},
   "outputs": [],
   "source": [
    "# TASK: Convert this plot to use geom_cols()\n",
    "(\n",
    "    df_mpg\n",
    "    >> gr.ggplot(gr.aes(x=\"trans\"))\n",
    "    + gr.geom_bar()\n",
    ")\n"
   ]
  },
  {
   "cell_type": "markdown",
   "id": "a0107057",
   "metadata": {},
   "source": [
    "Note that the labels for `trans` overlap; we'll fix that in the next section."
   ]
  },
  {
   "cell_type": "markdown",
   "id": "c1ea16ee",
   "metadata": {},
   "source": [
    "# Challenges with bar charts\n",
    "\n",
    "There are a few \"gotchas\" when visualizing with bar charts; we'll go over two:\n"
   ]
  },
  {
   "cell_type": "markdown",
   "id": "5704b2e3",
   "metadata": {},
   "source": [
    "## Overlapping Labels\n",
    "\n",
    "We saw in the previous plot that when our `x` variable has a lot of levels, the labels can overlap. One simple way to fix this is to flip the coordinates. We can't simply swap the aesthetics `x` and `y`, as this will not give us what we want:\n"
   ]
  },
  {
   "cell_type": "code",
   "execution_count": null,
   "id": "476110b0",
   "metadata": {},
   "outputs": [],
   "source": [
    "# NOTE: No need to edit; run and inspet\n",
    "(\n",
    "    df_mpg\n",
    "    >> gr.tf_count(DF.trans)\n",
    "    >> gr.ggplot(gr.aes(y=\"trans\", x=\"n\"))\n",
    "    + gr.geom_col()\n",
    ")\n"
   ]
  },
  {
   "cell_type": "markdown",
   "id": "c457dacc",
   "metadata": {},
   "source": [
    "Instead, we can *flip* the entire plot using `coord_flip()`. We use this by adding it to the `ggplot` object:\n",
    "\n",
    "```python\n",
    "(\n",
    "    df_data\n",
    "    >> gr.ggplot(gr.aes(x=\"x\", y=\"y\"))\n",
    "    + gr.geom_col()\n",
    "    + gr.coord_flip()\n",
    ")\n",
    "```"
   ]
  },
  {
   "cell_type": "markdown",
   "id": "60a2ac8e",
   "metadata": {},
   "source": [
    "### __q2__ Flip coordinates to fix overlap\n",
    "\n",
    "Flip the coordinates to fix the overlapping labels in the following plot.\n"
   ]
  },
  {
   "cell_type": "code",
   "execution_count": null,
   "id": "6e0472e9",
   "metadata": {},
   "outputs": [],
   "source": [
    "# TASK: Flip the coordinates to fix the overlapping labels\n",
    "(\n",
    "    df_mpg\n",
    "    >> gr.ggplot(gr.aes(x=\"trans\"))\n",
    "    + gr.geom_bar()\n",
    "\n",
    ")"
   ]
  },
  {
   "cell_type": "markdown",
   "id": "023431fc",
   "metadata": {},
   "source": [
    "## 1-to-1 Data\n",
    "\n",
    "A bar chart draws a bar for every observation, this means that the data need to be \"1-to-1\". This is an important limitation of bar charts, which is best understood through an example:\n"
   ]
  },
  {
   "cell_type": "markdown",
   "id": "6a30d0cc",
   "metadata": {},
   "source": [
    "### __q3__ Inspect the plot\n",
    "\n",
    "Inspect the following plot, and answer the questions under *observations* below.\n"
   ]
  },
  {
   "cell_type": "code",
   "execution_count": null,
   "id": "dffebdd5",
   "metadata": {},
   "outputs": [],
   "source": [
    "# TASK: No need to edit; run and inspect\n",
    "(\n",
    "    df_mpg\n",
    "    >> gr.ggplot(gr.aes(x=\"cty\", y=\"hwy\"))\n",
    "    + gr.geom_col()\n",
    ")\n"
   ]
  },
  {
   "cell_type": "markdown",
   "id": "e8c723ae",
   "metadata": {},
   "source": [
    "*Observations*\n",
    "\n",
    "- What is the largest `hwy` value shown in the plot above? Does this seem like a realistic value for the highway mileage?\n",
    "  - (Your response here)\n"
   ]
  },
  {
   "cell_type": "markdown",
   "id": "879904ae",
   "metadata": {},
   "source": [
    "The following plot helps us understand the issue: With outlines around each bar, we can see that there are *multiple stacked bars* at each `x` level.\n"
   ]
  },
  {
   "cell_type": "code",
   "execution_count": null,
   "id": "d7dc3ed6",
   "metadata": {},
   "outputs": [],
   "source": [
    "# TASK: No need to edit; run and inspect\n",
    "(\n",
    "    df_mpg\n",
    "    >> gr.ggplot(gr.aes(x=\"cty\", y=\"hwy\"))\n",
    "    + gr.geom_col(color=\"black\")\n",
    ")\n"
   ]
  },
  {
   "cell_type": "markdown",
   "id": "1b9e693e",
   "metadata": {},
   "source": [
    "In order to avoid overlap, the data need to have just one observation for each level of the horizontal factor. Put differently, the data must be [1-to-1](https://en.wikipedia.org/wiki/Injective_function). We can check this with some simple counting.\n"
   ]
  },
  {
   "cell_type": "markdown",
   "id": "1410d611",
   "metadata": {},
   "source": [
    "### __q4__ Check if data are 1-to-1\n",
    "\n",
    "If the data were 1-to-1 in the `cty` to `hwy` values, then there would be only one `hwy` value for each unique `cty` value. Check whether this is the case in `df_mpg`.\n"
   ]
  },
  {
   "cell_type": "code",
   "execution_count": null,
   "id": "524f4611",
   "metadata": {},
   "outputs": [],
   "source": [
    "# TASK: Check if the data are 1-to-1 (in cty and hwy)\n",
    "(\n",
    "    df_mpg\n",
    "\n",
    ")"
   ]
  },
  {
   "cell_type": "markdown",
   "id": "6348029e",
   "metadata": {},
   "source": [
    "*Observations*\n",
    "\n",
    "- Is the data 1-to-1? Why or why not?\n",
    "  - (Your response here)\n"
   ]
  },
  {
   "cell_type": "markdown",
   "id": "b9e6747c",
   "metadata": {},
   "source": [
    "# Design Considerations\n",
    "\n",
    "To close this exercise, we'll cover some design considerations when making (bar) charts.\n"
   ]
  },
  {
   "cell_type": "markdown",
   "id": "91d21396",
   "metadata": {},
   "source": [
    "## Picking aesthetics\n",
    "\n",
    "A major part of designing any plot is making choices about assigning variables to aesthetics.\n",
    "\n",
    "One option we have is to \"double-assign\" a variable to multiple aesthetics. In the next task you'll compare the efficacy of double-assigning aesthetics.\n"
   ]
  },
  {
   "cell_type": "markdown",
   "id": "3e340cba",
   "metadata": {},
   "source": [
    "### __q5__ Compare two plots\n",
    "\n",
    "Compare the following two plots, and answer the questions under *observations* below.\n"
   ]
  },
  {
   "cell_type": "code",
   "execution_count": null,
   "id": "2746a4f1",
   "metadata": {},
   "outputs": [],
   "source": [
    "# TASK: No need to edit; run and inspect\n",
    "(\n",
    "    df_mpg\n",
    "    >> gr.ggplot(gr.aes(x=\"class\", fill=\"class\"))\n",
    "    + gr.geom_bar()\n",
    ")"
   ]
  },
  {
   "cell_type": "markdown",
   "id": "bc25418e",
   "metadata": {},
   "source": [
    "*Observations*\n",
    "\n",
    "- What observations can you make?\n",
    "  - (Your response here)\n"
   ]
  },
  {
   "cell_type": "code",
   "execution_count": null,
   "id": "22ccde1f",
   "metadata": {},
   "outputs": [],
   "source": [
    "# TASK: No need to edit; run and inspect\n",
    "(\n",
    "    df_mpg\n",
    "    >> gr.ggplot(gr.aes(x=\"class\", fill=\"drv\"))\n",
    "    + gr.geom_bar()\n",
    ")"
   ]
  },
  {
   "cell_type": "markdown",
   "id": "5aca26b3",
   "metadata": {},
   "source": [
    "*Observations*\n",
    "\n",
    "- What **additional** observations can you make on this version of the plot?\n",
    "  - (Your response here)\n",
    "- What is different in the design of this graph, as compared with the previous one?\n",
    "  - (Your response here)\n"
   ]
  },
  {
   "cell_type": "markdown",
   "id": "7e535b59",
   "metadata": {},
   "source": [
    "### __q6__ Pros and cons of double-assignment\n",
    "\n",
    "Answer the questions below:\n",
    "\n",
    "- What are some pros of double-assigning a single variable to multiple aesthetics?\n",
    "  - (Your response here)\n",
    "- What are some pros of single-assigning aesthetics, in order to show more variables?\n",
    "  - (Your response here)\n"
   ]
  }
 ],
 "metadata": {
  "kernelspec": {
   "display_name": "Python 3 (ipykernel)",
   "language": "python",
   "name": "python3"
  },
  "language_info": {
   "codemirror_mode": {
    "name": "ipython",
    "version": 3
   },
   "file_extension": ".py",
   "mimetype": "text/x-python",
   "name": "python",
   "nbconvert_exporter": "python",
   "pygments_lexer": "ipython3",
   "version": "3.9.7"
  }
 },
 "nbformat": 4,
 "nbformat_minor": 5
}
